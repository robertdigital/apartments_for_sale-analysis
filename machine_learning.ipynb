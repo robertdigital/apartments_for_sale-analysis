{
 "cells": [
  {
   "cell_type": "code",
   "execution_count": 1419,
   "metadata": {},
   "outputs": [],
   "source": [
    "import matplotlib.pyplot as plt\n",
    "import numpy as np\n",
    "import pandas as pd\n",
    "from sklearn.model_selection import train_test_split"
   ]
  },
  {
   "cell_type": "markdown",
   "metadata": {},
   "source": [
    "# Chcemy przewidzieć cenę za m2\n",
    "## Interesują nas mieszkania:\n",
    "### - pokoje: maksymalnie 4\n",
    "### - metraż: poniżej 80m2\n",
    "### - cena: poniżej 850 tys."
   ]
  },
  {
   "cell_type": "code",
   "execution_count": 1420,
   "metadata": {},
   "outputs": [],
   "source": [
    "df = pd.read_csv('data/results.csv', usecols=['meters', 'price', 'rooms', 'dealer', 'district'], na_values=['Zapytajocenę'])"
   ]
  },
  {
   "cell_type": "code",
   "execution_count": 1421,
   "metadata": {},
   "outputs": [],
   "source": [
    "df['price_m2'] = round(df['price'] / df['meters'])"
   ]
  },
  {
   "cell_type": "code",
   "execution_count": 1422,
   "metadata": {},
   "outputs": [
    {
     "name": "stderr",
     "output_type": "stream",
     "text": [
      "/home/adsum/.local/lib/python3.6/site-packages/ipykernel_launcher.py:1: UserWarning: Boolean Series key will be reindexed to match DataFrame index.\n",
      "  \"\"\"Entry point for launching an IPython kernel.\n"
     ]
    }
   ],
   "source": [
    "df = df[df['meters'] < 80][df['rooms'] < 5][df['price'] < 850000]"
   ]
  },
  {
   "cell_type": "code",
   "execution_count": 1423,
   "metadata": {},
   "outputs": [],
   "source": [
    "df.drop('price', axis=1, inplace=True)"
   ]
  },
  {
   "cell_type": "markdown",
   "metadata": {},
   "source": [
    "# Struktura danych"
   ]
  },
  {
   "cell_type": "code",
   "execution_count": 1424,
   "metadata": {},
   "outputs": [
    {
     "data": {
      "text/html": [
       "<div>\n",
       "<style scoped>\n",
       "    .dataframe tbody tr th:only-of-type {\n",
       "        vertical-align: middle;\n",
       "    }\n",
       "\n",
       "    .dataframe tbody tr th {\n",
       "        vertical-align: top;\n",
       "    }\n",
       "\n",
       "    .dataframe thead th {\n",
       "        text-align: right;\n",
       "    }\n",
       "</style>\n",
       "<table border=\"1\" class=\"dataframe\">\n",
       "  <thead>\n",
       "    <tr style=\"text-align: right;\">\n",
       "      <th></th>\n",
       "      <th>meters</th>\n",
       "      <th>rooms</th>\n",
       "      <th>dealer</th>\n",
       "      <th>district</th>\n",
       "      <th>price_m2</th>\n",
       "    </tr>\n",
       "  </thead>\n",
       "  <tbody>\n",
       "    <tr>\n",
       "      <td>0</td>\n",
       "      <td>61.8</td>\n",
       "      <td>4</td>\n",
       "      <td>Ofertaprywatna</td>\n",
       "      <td>LSM</td>\n",
       "      <td>5971.0</td>\n",
       "    </tr>\n",
       "    <tr>\n",
       "      <td>1</td>\n",
       "      <td>79.0</td>\n",
       "      <td>3</td>\n",
       "      <td>PółnocNieruchomościFranczyza</td>\n",
       "      <td>LSM</td>\n",
       "      <td>6190.0</td>\n",
       "    </tr>\n",
       "    <tr>\n",
       "      <td>2</td>\n",
       "      <td>60.0</td>\n",
       "      <td>3</td>\n",
       "      <td>PrestigeBroker</td>\n",
       "      <td>Węglin</td>\n",
       "      <td>6250.0</td>\n",
       "    </tr>\n",
       "    <tr>\n",
       "      <td>3</td>\n",
       "      <td>58.5</td>\n",
       "      <td>2</td>\n",
       "      <td>HomeBrokerS.A.</td>\n",
       "      <td>Ponikwoda</td>\n",
       "      <td>6650.0</td>\n",
       "    </tr>\n",
       "    <tr>\n",
       "      <td>4</td>\n",
       "      <td>56.0</td>\n",
       "      <td>2</td>\n",
       "      <td>HomeBrokerS.A.</td>\n",
       "      <td>Czuby</td>\n",
       "      <td>6777.0</td>\n",
       "    </tr>\n",
       "  </tbody>\n",
       "</table>\n",
       "</div>"
      ],
      "text/plain": [
       "   meters  rooms                        dealer   district  price_m2\n",
       "0    61.8      4                Ofertaprywatna        LSM    5971.0\n",
       "1    79.0      3  PółnocNieruchomościFranczyza        LSM    6190.0\n",
       "2    60.0      3                PrestigeBroker     Węglin    6250.0\n",
       "3    58.5      2                HomeBrokerS.A.  Ponikwoda    6650.0\n",
       "4    56.0      2                HomeBrokerS.A.      Czuby    6777.0"
      ]
     },
     "execution_count": 1424,
     "metadata": {},
     "output_type": "execute_result"
    }
   ],
   "source": [
    "df.head()"
   ]
  },
  {
   "cell_type": "code",
   "execution_count": 1425,
   "metadata": {
    "scrolled": true
   },
   "outputs": [
    {
     "name": "stdout",
     "output_type": "stream",
     "text": [
      "<class 'pandas.core.frame.DataFrame'>\n",
      "Int64Index: 2118 entries, 0 to 2694\n",
      "Data columns (total 5 columns):\n",
      "meters      2118 non-null float64\n",
      "rooms       2118 non-null int64\n",
      "dealer      2053 non-null object\n",
      "district    2118 non-null object\n",
      "price_m2    2118 non-null float64\n",
      "dtypes: float64(2), int64(1), object(2)\n",
      "memory usage: 99.3+ KB\n"
     ]
    }
   ],
   "source": [
    "df.info()"
   ]
  },
  {
   "cell_type": "code",
   "execution_count": 1426,
   "metadata": {},
   "outputs": [],
   "source": [
    "df.dealer.fillna(\"EMPTY\", inplace=True)"
   ]
  },
  {
   "cell_type": "code",
   "execution_count": 1427,
   "metadata": {},
   "outputs": [
    {
     "data": {
      "text/plain": [
       "65"
      ]
     },
     "execution_count": 1427,
     "metadata": {},
     "output_type": "execute_result"
    }
   ],
   "source": [
    "len(df[df.dealer == \"EMPTY\"])"
   ]
  },
  {
   "cell_type": "code",
   "execution_count": 1428,
   "metadata": {},
   "outputs": [
    {
     "name": "stdout",
     "output_type": "stream",
     "text": [
      "<class 'pandas.core.frame.DataFrame'>\n",
      "Int64Index: 2118 entries, 0 to 2694\n",
      "Data columns (total 5 columns):\n",
      "meters      2118 non-null float64\n",
      "rooms       2118 non-null int64\n",
      "dealer      2118 non-null object\n",
      "district    2118 non-null object\n",
      "price_m2    2118 non-null float64\n",
      "dtypes: float64(2), int64(1), object(2)\n",
      "memory usage: 99.3+ KB\n"
     ]
    }
   ],
   "source": [
    "df.info()"
   ]
  },
  {
   "cell_type": "code",
   "execution_count": 1429,
   "metadata": {},
   "outputs": [
    {
     "data": {
      "text/plain": [
       "3KLUCZEs.c.                                      276\n",
       "CLIVUSNieruchomości                              199\n",
       "FRANCZEWSKANieruchomościs.c.                     137\n",
       "4tepiętro                                        130\n",
       "Arena                                            103\n",
       "                                                ... \n",
       "Ofertapośrednika                                   1\n",
       "KompleksowaObsługaRynkuNieruchomościAnnaDziok      1\n",
       "NieruchomościVERA                                  1\n",
       "LUKsp.zo.o.SKA                                     1\n",
       "AgencjaNieruchomościRolmex-PlusSp.zo.o.            1\n",
       "Name: dealer, Length: 86, dtype: int64"
      ]
     },
     "execution_count": 1429,
     "metadata": {},
     "output_type": "execute_result"
    }
   ],
   "source": [
    "df['dealer'].value_counts()"
   ]
  },
  {
   "cell_type": "code",
   "execution_count": 1430,
   "metadata": {},
   "outputs": [
    {
     "data": {
      "text/plain": [
       "86"
      ]
     },
     "execution_count": 1430,
     "metadata": {},
     "output_type": "execute_result"
    }
   ],
   "source": [
    "len(df['dealer'].value_counts())"
   ]
  },
  {
   "cell_type": "code",
   "execution_count": 1431,
   "metadata": {},
   "outputs": [
    {
     "data": {
      "text/plain": [
       "Węglinek           285\n",
       "Czuby              266\n",
       "Wrotków            259\n",
       "Śródmieście        157\n",
       "Bronowice          143\n",
       "Felin              139\n",
       "LSM                122\n",
       "Dziesiąta          115\n",
       "lubelskie           69\n",
       "Centrum             61\n",
       "Sławin              57\n",
       "Kośminek            55\n",
       "Czechów             54\n",
       "Wieniawa            54\n",
       "Kalinowszczyzna     53\n",
       "Ponikwoda           30\n",
       "Zana                22\n",
       "Górny               20\n",
       "Dolny               20\n",
       "Tatary              18\n",
       "Sławinek            17\n",
       "Węglin              17\n",
       "Szerokie            16\n",
       "Bazylianówka        14\n",
       "Botanik             13\n",
       "Konstantynów        12\n",
       "Poręba               6\n",
       "Miasto               5\n",
       "Warszawska           5\n",
       "Zadębie              3\n",
       "Jezuickie            3\n",
       "Czwartek             3\n",
       "Konopnickiej         3\n",
       "Choiny               1\n",
       "Abramowice           1\n",
       "Name: district, dtype: int64"
      ]
     },
     "execution_count": 1431,
     "metadata": {},
     "output_type": "execute_result"
    }
   ],
   "source": [
    "df['district'].value_counts()"
   ]
  },
  {
   "cell_type": "code",
   "execution_count": 1432,
   "metadata": {},
   "outputs": [
    {
     "data": {
      "text/plain": [
       "35"
      ]
     },
     "execution_count": 1432,
     "metadata": {},
     "output_type": "execute_result"
    }
   ],
   "source": [
    "len(df['district'].value_counts())"
   ]
  },
  {
   "cell_type": "code",
   "execution_count": 1433,
   "metadata": {},
   "outputs": [
    {
     "data": {
      "text/html": [
       "<div>\n",
       "<style scoped>\n",
       "    .dataframe tbody tr th:only-of-type {\n",
       "        vertical-align: middle;\n",
       "    }\n",
       "\n",
       "    .dataframe tbody tr th {\n",
       "        vertical-align: top;\n",
       "    }\n",
       "\n",
       "    .dataframe thead th {\n",
       "        text-align: right;\n",
       "    }\n",
       "</style>\n",
       "<table border=\"1\" class=\"dataframe\">\n",
       "  <thead>\n",
       "    <tr style=\"text-align: right;\">\n",
       "      <th></th>\n",
       "      <th>meters</th>\n",
       "      <th>rooms</th>\n",
       "      <th>price_m2</th>\n",
       "    </tr>\n",
       "  </thead>\n",
       "  <tbody>\n",
       "    <tr>\n",
       "      <td>count</td>\n",
       "      <td>2118.000000</td>\n",
       "      <td>2118.000000</td>\n",
       "      <td>2118.000000</td>\n",
       "    </tr>\n",
       "    <tr>\n",
       "      <td>mean</td>\n",
       "      <td>53.140916</td>\n",
       "      <td>2.565628</td>\n",
       "      <td>6114.754485</td>\n",
       "    </tr>\n",
       "    <tr>\n",
       "      <td>std</td>\n",
       "      <td>13.175911</td>\n",
       "      <td>0.777086</td>\n",
       "      <td>1068.696410</td>\n",
       "    </tr>\n",
       "    <tr>\n",
       "      <td>min</td>\n",
       "      <td>14.500000</td>\n",
       "      <td>1.000000</td>\n",
       "      <td>1389.000000</td>\n",
       "    </tr>\n",
       "    <tr>\n",
       "      <td>25%</td>\n",
       "      <td>45.187500</td>\n",
       "      <td>2.000000</td>\n",
       "      <td>5500.000000</td>\n",
       "    </tr>\n",
       "    <tr>\n",
       "      <td>50%</td>\n",
       "      <td>53.300000</td>\n",
       "      <td>3.000000</td>\n",
       "      <td>5971.000000</td>\n",
       "    </tr>\n",
       "    <tr>\n",
       "      <td>75%</td>\n",
       "      <td>62.790000</td>\n",
       "      <td>3.000000</td>\n",
       "      <td>6500.000000</td>\n",
       "    </tr>\n",
       "    <tr>\n",
       "      <td>max</td>\n",
       "      <td>79.950000</td>\n",
       "      <td>4.000000</td>\n",
       "      <td>12996.000000</td>\n",
       "    </tr>\n",
       "  </tbody>\n",
       "</table>\n",
       "</div>"
      ],
      "text/plain": [
       "            meters        rooms      price_m2\n",
       "count  2118.000000  2118.000000   2118.000000\n",
       "mean     53.140916     2.565628   6114.754485\n",
       "std      13.175911     0.777086   1068.696410\n",
       "min      14.500000     1.000000   1389.000000\n",
       "25%      45.187500     2.000000   5500.000000\n",
       "50%      53.300000     3.000000   5971.000000\n",
       "75%      62.790000     3.000000   6500.000000\n",
       "max      79.950000     4.000000  12996.000000"
      ]
     },
     "execution_count": 1433,
     "metadata": {},
     "output_type": "execute_result"
    }
   ],
   "source": [
    "df.describe()"
   ]
  },
  {
   "cell_type": "code",
   "execution_count": 1434,
   "metadata": {},
   "outputs": [
    {
     "data": {
      "text/plain": [
       "array([[<matplotlib.axes._subplots.AxesSubplot object at 0x7f613bad1390>,\n",
       "        <matplotlib.axes._subplots.AxesSubplot object at 0x7f613baeb6a0>],\n",
       "       [<matplotlib.axes._subplots.AxesSubplot object at 0x7f613ba9bc18>,\n",
       "        <matplotlib.axes._subplots.AxesSubplot object at 0x7f613ba54208>]],\n",
       "      dtype=object)"
      ]
     },
     "execution_count": 1434,
     "metadata": {},
     "output_type": "execute_result"
    },
    {
     "data": {
      "image/png": "[encoded data removed]",
      "text/plain": [
       "<Figure size 1080x576 with 4 Axes>"
      ]
     },
     "metadata": {
      "needs_background": "light"
     },
     "output_type": "display_data"
    }
   ],
   "source": [
    "df.hist(bins=50, figsize=(15, 8))"
   ]
  },
  {
   "cell_type": "markdown",
   "metadata": {},
   "source": [
    "# Zbiór testowy"
   ]
  },
  {
   "cell_type": "code",
   "execution_count": 1435,
   "metadata": {},
   "outputs": [],
   "source": [
    "train_set, test_set = train_test_split(df, test_size=0.2, random_state=42)"
   ]
  },
  {
   "cell_type": "markdown",
   "metadata": {},
   "source": [
    "### Atrybuty kategorii"
   ]
  },
  {
   "cell_type": "code",
   "execution_count": 1436,
   "metadata": {},
   "outputs": [],
   "source": [
    "df['meters_cat'] = np.ceil(df['meters'] / 3.5)\n",
    "df['meters_cat'].where(df['meters_cat'] > 8, 8.0, inplace=True)\n",
    "df['meters_cat'].where(df['meters_cat'] < 22, 22.0, inplace=True)"
   ]
  },
  {
   "cell_type": "code",
   "execution_count": 1437,
   "metadata": {},
   "outputs": [
    {
     "data": {
      "text/plain": [
       "array([[<matplotlib.axes._subplots.AxesSubplot object at 0x7f613b958860>,\n",
       "        <matplotlib.axes._subplots.AxesSubplot object at 0x7f613b83f908>],\n",
       "       [<matplotlib.axes._subplots.AxesSubplot object at 0x7f613b7e9e80>,\n",
       "        <matplotlib.axes._subplots.AxesSubplot object at 0x7f613b7a5470>]],\n",
       "      dtype=object)"
      ]
     },
     "execution_count": 1437,
     "metadata": {},
     "output_type": "execute_result"
    },
    {
     "data": {
      "image/png": "[encoded data removed]",
      "text/plain": [
       "<Figure size 1080x576 with 4 Axes>"
      ]
     },
     "metadata": {
      "needs_background": "light"
     },
     "output_type": "display_data"
    }
   ],
   "source": [
    "df.hist(bins=50, figsize=(15, 8))"
   ]
  },
  {
   "cell_type": "code",
   "execution_count": 1438,
   "metadata": {},
   "outputs": [
    {
     "name": "stderr",
     "output_type": "stream",
     "text": [
      "/home/adsum/.local/lib/python3.6/site-packages/ipykernel_launcher.py:5: FutureWarning: \n",
      "Passing list-likes to .loc or [] with any missing label will raise\n",
      "KeyError in the future, you can use .reindex() as an alternative.\n",
      "\n",
      "See the documentation here:\n",
      "https://pandas.pydata.org/pandas-docs/stable/user_guide/indexing.html#deprecate-loc-reindex-listlike\n",
      "  \"\"\"\n",
      "/home/adsum/.local/lib/python3.6/site-packages/ipykernel_launcher.py:6: FutureWarning: \n",
      "Passing list-likes to .loc or [] with any missing label will raise\n",
      "KeyError in the future, you can use .reindex() as an alternative.\n",
      "\n",
      "See the documentation here:\n",
      "https://pandas.pydata.org/pandas-docs/stable/user_guide/indexing.html#deprecate-loc-reindex-listlike\n",
      "  \n"
     ]
    }
   ],
   "source": [
    "from sklearn.model_selection import StratifiedShuffleSplit\n",
    "\n",
    "split = StratifiedShuffleSplit(n_splits=1, test_size=0.2, random_state=42)\n",
    "for train_index, test_index in split.split(df, df[\"meters_cat\"]):\n",
    "    strat_train_set = df.loc[train_index]\n",
    "    strat_test_set = df.loc[test_index]"
   ]
  },
  {
   "cell_type": "code",
   "execution_count": 1439,
   "metadata": {},
   "outputs": [
    {
     "data": {
      "text/plain": [
       "14.0    0.752358\n",
       "18.0    0.615566\n",
       "15.0    0.424528\n",
       "20.0    0.415094\n",
       "16.0    0.415094\n",
       "17.0    0.337264\n",
       "11.0    0.327830\n",
       "19.0    0.264151\n",
       "22.0    0.259434\n",
       "13.0    0.257075\n",
       "21.0    0.245283\n",
       "10.0    0.205189\n",
       "12.0    0.179245\n",
       "8.0     0.153302\n",
       "9.0     0.143868\n",
       "Name: meters_cat, dtype: float64"
      ]
     },
     "execution_count": 1439,
     "metadata": {},
     "output_type": "execute_result"
    }
   ],
   "source": [
    "df['meters_cat'].value_counts() / len(strat_test_set)"
   ]
  },
  {
   "cell_type": "code",
   "execution_count": 1440,
   "metadata": {},
   "outputs": [
    {
     "data": {
      "text/plain": [
       "14.0    0.150614\n",
       "18.0    0.123229\n",
       "15.0    0.084986\n",
       "20.0    0.083097\n",
       "16.0    0.083097\n",
       "17.0    0.067517\n",
       "11.0    0.065628\n",
       "19.0    0.052880\n",
       "22.0    0.051936\n",
       "13.0    0.051464\n",
       "21.0    0.049103\n",
       "10.0    0.041076\n",
       "12.0    0.035883\n",
       "8.0     0.030689\n",
       "9.0     0.028801\n",
       "Name: meters_cat, dtype: float64"
      ]
     },
     "execution_count": 1440,
     "metadata": {},
     "output_type": "execute_result"
    }
   ],
   "source": [
    "df['meters_cat'].value_counts() / len(df)"
   ]
  },
  {
   "cell_type": "code",
   "execution_count": 1441,
   "metadata": {},
   "outputs": [],
   "source": [
    "def income_cat_proportions(data):\n",
    "    return data[\"meters_cat\"].value_counts() / len(data)\n",
    "\n",
    "train_set, test_set = train_test_split(df, test_size=0.2, random_state=42)\n",
    "\n",
    "compare_props = pd.DataFrame({\n",
    "    \"Łącznie\": income_cat_proportions(df),\n",
    "    \"L. warstwowe\": income_cat_proportions(strat_test_set),\n",
    "    \"Losowe\": income_cat_proportions(test_set),\n",
    "}).sort_index()\n",
    "compare_props[\"Błąd - losowe (%)\"] = 100 * compare_props[\"Losowe\"] / compare_props[\"Łącznie\"] - 100\n",
    "compare_props[\"Błąd - l. warstwowe (%)\"] = 100 * compare_props[\"L. warstwowe\"] / compare_props[\"Łącznie\"] - 100"
   ]
  },
  {
   "cell_type": "code",
   "execution_count": 1442,
   "metadata": {},
   "outputs": [
    {
     "data": {
      "text/html": [
       "<div>\n",
       "<style scoped>\n",
       "    .dataframe tbody tr th:only-of-type {\n",
       "        vertical-align: middle;\n",
       "    }\n",
       "\n",
       "    .dataframe tbody tr th {\n",
       "        vertical-align: top;\n",
       "    }\n",
       "\n",
       "    .dataframe thead th {\n",
       "        text-align: right;\n",
       "    }\n",
       "</style>\n",
       "<table border=\"1\" class=\"dataframe\">\n",
       "  <thead>\n",
       "    <tr style=\"text-align: right;\">\n",
       "      <th></th>\n",
       "      <th>Łącznie</th>\n",
       "      <th>L. warstwowe</th>\n",
       "      <th>Losowe</th>\n",
       "      <th>Błąd - losowe (%)</th>\n",
       "      <th>Błąd - l. warstwowe (%)</th>\n",
       "    </tr>\n",
       "  </thead>\n",
       "  <tbody>\n",
       "    <tr>\n",
       "      <td>8.0</td>\n",
       "      <td>0.030689</td>\n",
       "      <td>0.016509</td>\n",
       "      <td>0.021226</td>\n",
       "      <td>-30.834543</td>\n",
       "      <td>-46.204644</td>\n",
       "    </tr>\n",
       "    <tr>\n",
       "      <td>9.0</td>\n",
       "      <td>0.028801</td>\n",
       "      <td>0.021226</td>\n",
       "      <td>0.033019</td>\n",
       "      <td>14.645840</td>\n",
       "      <td>-26.299103</td>\n",
       "    </tr>\n",
       "    <tr>\n",
       "      <td>10.0</td>\n",
       "      <td>0.041076</td>\n",
       "      <td>0.037736</td>\n",
       "      <td>0.044811</td>\n",
       "      <td>9.092388</td>\n",
       "      <td>-8.132726</td>\n",
       "    </tr>\n",
       "    <tr>\n",
       "      <td>11.0</td>\n",
       "      <td>0.065628</td>\n",
       "      <td>0.061321</td>\n",
       "      <td>0.075472</td>\n",
       "      <td>14.999321</td>\n",
       "      <td>-6.563051</td>\n",
       "    </tr>\n",
       "    <tr>\n",
       "      <td>12.0</td>\n",
       "      <td>0.035883</td>\n",
       "      <td>0.030660</td>\n",
       "      <td>0.033019</td>\n",
       "      <td>-7.981629</td>\n",
       "      <td>-14.554369</td>\n",
       "    </tr>\n",
       "    <tr>\n",
       "      <td>13.0</td>\n",
       "      <td>0.051464</td>\n",
       "      <td>0.049528</td>\n",
       "      <td>0.037736</td>\n",
       "      <td>-26.674745</td>\n",
       "      <td>-3.760602</td>\n",
       "    </tr>\n",
       "    <tr>\n",
       "      <td>14.0</td>\n",
       "      <td>0.150614</td>\n",
       "      <td>0.096698</td>\n",
       "      <td>0.148585</td>\n",
       "      <td>-1.347075</td>\n",
       "      <td>-35.797303</td>\n",
       "    </tr>\n",
       "    <tr>\n",
       "      <td>15.0</td>\n",
       "      <td>0.084986</td>\n",
       "      <td>0.058962</td>\n",
       "      <td>0.087264</td>\n",
       "      <td>2.680818</td>\n",
       "      <td>-30.621069</td>\n",
       "    </tr>\n",
       "    <tr>\n",
       "      <td>16.0</td>\n",
       "      <td>0.083097</td>\n",
       "      <td>0.073113</td>\n",
       "      <td>0.070755</td>\n",
       "      <td>-14.853130</td>\n",
       "      <td>-12.014901</td>\n",
       "    </tr>\n",
       "    <tr>\n",
       "      <td>17.0</td>\n",
       "      <td>0.067517</td>\n",
       "      <td>0.070755</td>\n",
       "      <td>0.054245</td>\n",
       "      <td>-19.656287</td>\n",
       "      <td>4.796147</td>\n",
       "    </tr>\n",
       "    <tr>\n",
       "      <td>18.0</td>\n",
       "      <td>0.123229</td>\n",
       "      <td>0.089623</td>\n",
       "      <td>0.139151</td>\n",
       "      <td>12.920191</td>\n",
       "      <td>-27.271741</td>\n",
       "    </tr>\n",
       "    <tr>\n",
       "      <td>19.0</td>\n",
       "      <td>0.052880</td>\n",
       "      <td>0.063679</td>\n",
       "      <td>0.058962</td>\n",
       "      <td>11.501853</td>\n",
       "      <td>20.422001</td>\n",
       "    </tr>\n",
       "    <tr>\n",
       "      <td>20.0</td>\n",
       "      <td>0.083097</td>\n",
       "      <td>0.063679</td>\n",
       "      <td>0.087264</td>\n",
       "      <td>5.014473</td>\n",
       "      <td>-23.367817</td>\n",
       "    </tr>\n",
       "    <tr>\n",
       "      <td>21.0</td>\n",
       "      <td>0.049103</td>\n",
       "      <td>0.037736</td>\n",
       "      <td>0.061321</td>\n",
       "      <td>24.882075</td>\n",
       "      <td>-23.149492</td>\n",
       "    </tr>\n",
       "    <tr>\n",
       "      <td>22.0</td>\n",
       "      <td>0.051936</td>\n",
       "      <td>0.042453</td>\n",
       "      <td>0.047170</td>\n",
       "      <td>-9.176672</td>\n",
       "      <td>-18.259005</td>\n",
       "    </tr>\n",
       "  </tbody>\n",
       "</table>\n",
       "</div>"
      ],
      "text/plain": [
       "       Łącznie  L. warstwowe    Losowe  Błąd - losowe (%)  \\\n",
       "8.0   0.030689      0.016509  0.021226         -30.834543   \n",
       "9.0   0.028801      0.021226  0.033019          14.645840   \n",
       "10.0  0.041076      0.037736  0.044811           9.092388   \n",
       "11.0  0.065628      0.061321  0.075472          14.999321   \n",
       "12.0  0.035883      0.030660  0.033019          -7.981629   \n",
       "13.0  0.051464      0.049528  0.037736         -26.674745   \n",
       "14.0  0.150614      0.096698  0.148585          -1.347075   \n",
       "15.0  0.084986      0.058962  0.087264           2.680818   \n",
       "16.0  0.083097      0.073113  0.070755         -14.853130   \n",
       "17.0  0.067517      0.070755  0.054245         -19.656287   \n",
       "18.0  0.123229      0.089623  0.139151          12.920191   \n",
       "19.0  0.052880      0.063679  0.058962          11.501853   \n",
       "20.0  0.083097      0.063679  0.087264           5.014473   \n",
       "21.0  0.049103      0.037736  0.061321          24.882075   \n",
       "22.0  0.051936      0.042453  0.047170          -9.176672   \n",
       "\n",
       "      Błąd - l. warstwowe (%)  \n",
       "8.0                -46.204644  \n",
       "9.0                -26.299103  \n",
       "10.0                -8.132726  \n",
       "11.0                -6.563051  \n",
       "12.0               -14.554369  \n",
       "13.0                -3.760602  \n",
       "14.0               -35.797303  \n",
       "15.0               -30.621069  \n",
       "16.0               -12.014901  \n",
       "17.0                 4.796147  \n",
       "18.0               -27.271741  \n",
       "19.0                20.422001  \n",
       "20.0               -23.367817  \n",
       "21.0               -23.149492  \n",
       "22.0               -18.259005  "
      ]
     },
     "execution_count": 1442,
     "metadata": {},
     "output_type": "execute_result"
    }
   ],
   "source": [
    "compare_props"
   ]
  },
  {
   "cell_type": "code",
   "execution_count": 1443,
   "metadata": {},
   "outputs": [],
   "source": [
    "for set_ in (strat_train_set, strat_test_set):\n",
    "    set_.drop(\"meters_cat\", axis=1, inplace=True)"
   ]
  },
  {
   "cell_type": "code",
   "execution_count": 1444,
   "metadata": {},
   "outputs": [
    {
     "data": {
      "text/html": [
       "<div>\n",
       "<style scoped>\n",
       "    .dataframe tbody tr th:only-of-type {\n",
       "        vertical-align: middle;\n",
       "    }\n",
       "\n",
       "    .dataframe tbody tr th {\n",
       "        vertical-align: top;\n",
       "    }\n",
       "\n",
       "    .dataframe thead th {\n",
       "        text-align: right;\n",
       "    }\n",
       "</style>\n",
       "<table border=\"1\" class=\"dataframe\">\n",
       "  <thead>\n",
       "    <tr style=\"text-align: right;\">\n",
       "      <th></th>\n",
       "      <th>meters</th>\n",
       "      <th>rooms</th>\n",
       "      <th>dealer</th>\n",
       "      <th>district</th>\n",
       "      <th>price_m2</th>\n",
       "      <th>meters_cat</th>\n",
       "    </tr>\n",
       "  </thead>\n",
       "  <tbody>\n",
       "    <tr>\n",
       "      <td>0</td>\n",
       "      <td>61.8</td>\n",
       "      <td>4</td>\n",
       "      <td>Ofertaprywatna</td>\n",
       "      <td>LSM</td>\n",
       "      <td>5971.0</td>\n",
       "      <td>18.0</td>\n",
       "    </tr>\n",
       "    <tr>\n",
       "      <td>1</td>\n",
       "      <td>79.0</td>\n",
       "      <td>3</td>\n",
       "      <td>PółnocNieruchomościFranczyza</td>\n",
       "      <td>LSM</td>\n",
       "      <td>6190.0</td>\n",
       "      <td>22.0</td>\n",
       "    </tr>\n",
       "    <tr>\n",
       "      <td>2</td>\n",
       "      <td>60.0</td>\n",
       "      <td>3</td>\n",
       "      <td>PrestigeBroker</td>\n",
       "      <td>Węglin</td>\n",
       "      <td>6250.0</td>\n",
       "      <td>18.0</td>\n",
       "    </tr>\n",
       "    <tr>\n",
       "      <td>3</td>\n",
       "      <td>58.5</td>\n",
       "      <td>2</td>\n",
       "      <td>HomeBrokerS.A.</td>\n",
       "      <td>Ponikwoda</td>\n",
       "      <td>6650.0</td>\n",
       "      <td>17.0</td>\n",
       "    </tr>\n",
       "    <tr>\n",
       "      <td>4</td>\n",
       "      <td>56.0</td>\n",
       "      <td>2</td>\n",
       "      <td>HomeBrokerS.A.</td>\n",
       "      <td>Czuby</td>\n",
       "      <td>6777.0</td>\n",
       "      <td>16.0</td>\n",
       "    </tr>\n",
       "  </tbody>\n",
       "</table>\n",
       "</div>"
      ],
      "text/plain": [
       "   meters  rooms                        dealer   district  price_m2  \\\n",
       "0    61.8      4                Ofertaprywatna        LSM    5971.0   \n",
       "1    79.0      3  PółnocNieruchomościFranczyza        LSM    6190.0   \n",
       "2    60.0      3                PrestigeBroker     Węglin    6250.0   \n",
       "3    58.5      2                HomeBrokerS.A.  Ponikwoda    6650.0   \n",
       "4    56.0      2                HomeBrokerS.A.      Czuby    6777.0   \n",
       "\n",
       "   meters_cat  \n",
       "0        18.0  \n",
       "1        22.0  \n",
       "2        18.0  \n",
       "3        17.0  \n",
       "4        16.0  "
      ]
     },
     "execution_count": 1444,
     "metadata": {},
     "output_type": "execute_result"
    }
   ],
   "source": [
    "df.head()"
   ]
  },
  {
   "cell_type": "markdown",
   "metadata": {},
   "source": [
    "# Wizualizacja"
   ]
  },
  {
   "cell_type": "code",
   "execution_count": 1445,
   "metadata": {},
   "outputs": [
    {
     "data": {
      "text/plain": [
       "<matplotlib.axes._subplots.AxesSubplot at 0x7f613b496940>"
      ]
     },
     "execution_count": 1445,
     "metadata": {},
     "output_type": "execute_result"
    },
    {
     "data": {
      "image/png": "[encoded data removed]",
      "text/plain": [
       "<Figure size 432x288 with 2 Axes>"
      ]
     },
     "metadata": {
      "needs_background": "light"
     },
     "output_type": "display_data"
    }
   ],
   "source": [
    "df.plot(kind=\"scatter\", x=\"meters\", y=\"price_m2\", alpha=1,\n",
    "       c=\"rooms\", cmap=plt.get_cmap(\"plasma\"), colorbar=True,  sharex=False)"
   ]
  },
  {
   "cell_type": "markdown",
   "metadata": {},
   "source": [
    "# Korelacja"
   ]
  },
  {
   "cell_type": "code",
   "execution_count": 1446,
   "metadata": {},
   "outputs": [],
   "source": [
    "corr_df = df.corr()"
   ]
  },
  {
   "cell_type": "code",
   "execution_count": 1447,
   "metadata": {},
   "outputs": [
    {
     "data": {
      "text/plain": [
       "price_m2      1.000000\n",
       "rooms        -0.251341\n",
       "meters_cat   -0.264691\n",
       "meters       -0.270428\n",
       "Name: price_m2, dtype: float64"
      ]
     },
     "execution_count": 1447,
     "metadata": {},
     "output_type": "execute_result"
    }
   ],
   "source": [
    "corr_df[\"price_m2\"].sort_values(ascending=False)"
   ]
  },
  {
   "cell_type": "code",
   "execution_count": 1448,
   "metadata": {},
   "outputs": [
    {
     "data": {
      "text/plain": [
       "array([[<matplotlib.axes._subplots.AxesSubplot object at 0x7f613b3ccbe0>,\n",
       "        <matplotlib.axes._subplots.AxesSubplot object at 0x7f613b3ede80>,\n",
       "        <matplotlib.axes._subplots.AxesSubplot object at 0x7f613b3a9400>],\n",
       "       [<matplotlib.axes._subplots.AxesSubplot object at 0x7f613b3599b0>,\n",
       "        <matplotlib.axes._subplots.AxesSubplot object at 0x7f613b30ef60>,\n",
       "        <matplotlib.axes._subplots.AxesSubplot object at 0x7f613b2c7550>],\n",
       "       [<matplotlib.axes._subplots.AxesSubplot object at 0x7f613b2fab00>,\n",
       "        <matplotlib.axes._subplots.AxesSubplot object at 0x7f613b2b6128>,\n",
       "        <matplotlib.axes._subplots.AxesSubplot object at 0x7f613b2b6160>]],\n",
       "      dtype=object)"
      ]
     },
     "execution_count": 1448,
     "metadata": {},
     "output_type": "execute_result"
    },
    {
     "data": {
      "image/png": "[encoded data removed]",
      "text/plain": [
       "<Figure size 864x576 with 9 Axes>"
      ]
     },
     "metadata": {
      "needs_background": "light"
     },
     "output_type": "display_data"
    }
   ],
   "source": [
    "from pandas.plotting import scatter_matrix\n",
    "\n",
    "attributes = [\"price_m2\", \"rooms\", \"meters\"]\n",
    "scatter_matrix(df[attributes], figsize=(12, 8))"
   ]
  },
  {
   "cell_type": "markdown",
   "metadata": {},
   "source": [
    "# Kombinacje atrybutów"
   ]
  },
  {
   "cell_type": "code",
   "execution_count": 1449,
   "metadata": {},
   "outputs": [],
   "source": [
    "df['meters_by_rooms'] = df['meters'] / df['rooms']\n",
    "df['rooms_by_meter'] = df['rooms'] / df['meters']"
   ]
  },
  {
   "cell_type": "code",
   "execution_count": 1450,
   "metadata": {},
   "outputs": [
    {
     "data": {
      "text/plain": [
       "price_m2           1.000000\n",
       "meters_by_rooms    0.081231\n",
       "rooms_by_meter    -0.054333\n",
       "rooms             -0.251341\n",
       "meters_cat        -0.264691\n",
       "meters            -0.270428\n",
       "Name: price_m2, dtype: float64"
      ]
     },
     "execution_count": 1450,
     "metadata": {},
     "output_type": "execute_result"
    }
   ],
   "source": [
    "corr_df = df.corr()\n",
    "corr_df[\"price_m2\"].sort_values(ascending=False)"
   ]
  },
  {
   "cell_type": "markdown",
   "metadata": {},
   "source": [
    "# Przygotowanie danych pod algorytmy"
   ]
  },
  {
   "cell_type": "code",
   "execution_count": 1451,
   "metadata": {},
   "outputs": [],
   "source": [
    "df = strat_train_set.drop(\"price_m2\", axis=1)\n",
    "df_labels = strat_train_set[\"price_m2\"].copy()"
   ]
  },
  {
   "cell_type": "markdown",
   "metadata": {},
   "source": [
    "# Atrybuty kategorialne dla tekstu"
   ]
  },
  {
   "cell_type": "code",
   "execution_count": 1459,
   "metadata": {},
   "outputs": [],
   "source": [
    "from sklearn.preprocessing import OneHotEncoder"
   ]
  },
  {
   "cell_type": "code",
   "execution_count": 1460,
   "metadata": {},
   "outputs": [],
   "source": [
    "dealer_cat = df['dealer']"
   ]
  },
  {
   "cell_type": "code",
   "execution_count": 1461,
   "metadata": {},
   "outputs": [
    {
     "data": {
      "text/plain": [
       "array([ 0,  1,  2,  3, -1,  4,  5, -1,  4,  0])"
      ]
     },
     "execution_count": 1461,
     "metadata": {},
     "output_type": "execute_result"
    }
   ],
   "source": [
    "dealer_cat_encoded, dealer_categories = dealer_cat.factorize()\n",
    "dealer_cat_encoded[:10]"
   ]
  },
  {
   "cell_type": "code",
   "execution_count": 1462,
   "metadata": {},
   "outputs": [
    {
     "data": {
      "text/plain": [
       "Index(['3KLUCZEs.c.', 'MetrohouseLublin', 'Ofertaprywatna', 'LOGOINVEST',\n",
       "       'ElżbietaLiberdaLexPerfectaKancelariaRadcyPrawnegoiBiuroNieruchomości',\n",
       "       'StrefaM', 'BIGCITYBROKER', 'VISUMNIERUCHOMOŚCI', 'HERMESHOUSE',\n",
       "       'WMNieruchomości', 'EMPTY', 'ŻagielDomSp.zo.o.',\n",
       "       'HvileParkSp.zo.o.S.K.', 'FRANCZEWSKANieruchomościs.c.',\n",
       "       'SzymanekNieruchomościSp.zo.o.', 'BiuroNieruchomościKWADRAT',\n",
       "       'BESTHOUSENieruchomości', 'CLIVUSNieruchomości',\n",
       "       'NieruchomościLalakPropertiesSpzo.o.SKA', 'LdomNieruchomości', 'Arena',\n",
       "       'HomeBrokerS.A.', 'VBInvest', 'PółnocNieruchomościFranczyza',\n",
       "       'Alfahouse', 'LubelskieMieszkania', 'GreenHouseNieruchomości', 'Lokum',\n",
       "       '4tepiętro', 'InvestorNieruchomościFranchise',\n",
       "       'WGNBiuroNieruchomościLublin', 'NieruchomościVERA', 'Inwe',\n",
       "       'OnestoBroker', 'LogoInvest', 'PrestigeBroker',\n",
       "       'Login-HouseNieruchomości', 'OMEGAHOUSELublin', 'HomePartnerSp.zo.o.',\n",
       "       'geoDOMNieruchomości', 'HOME-TRADER', 'FreedomNieruchomościFranczyza',\n",
       "       'HFBroker', 'K&MEstates', 'WIKANAS.A.', 'M-HOUSENieruchomości',\n",
       "       'NOWAKNieruchomości', 'GrupaOrzełNenckarski', 'HappyHome',\n",
       "       'PanoramaNieruchomości', 'ExpressHouse', 'RoyalNieruchomości',\n",
       "       'WłasnyKąt', 'BiuroNieruchomościFACTOR', 'HestusProperties',\n",
       "       'BIURONIERUCHOMOŚCIANMA', 'BiuroNieruchomościARKADIA',\n",
       "       'CapitalFinanseiNieruchomościKarolinaLato', 'BigCityInvestsp.zo.o',\n",
       "       'AptsLublin', 'BWBROKERBiuroNieruchomościBartłomiejWolak',\n",
       "       'AgencjaNieruchomościRolmex-PlusSp.zo.o.',\n",
       "       'BiuroNieruchomościKleczkowskiSp.zo.o.',\n",
       "       'ASNIERUCHOMOŚCIAndrzejSterniewski', 'PrestigePropertySp.zo.o.',\n",
       "       'BiuroNieruchomościANMAMagdalenaStaniszewska',\n",
       "       'KancelariaFinansowaKrzysztofNieznaj',\n",
       "       'ADREMNIERUCHOMOŚCICEZARYPAPLIŃSKI', 'Ofertapośrednika',\n",
       "       'ExpertNieruchomości', 'WILLOWAIISP.ZO.O.', 'PremiumBroker',\n",
       "       'LublinHouseSp.zo.o.', 'WronaRentals', 'MGNieruchomości',\n",
       "       'LucasApartments', 'AlternatywneBiuroNieruchomościLublinvestSp.zo.o.',\n",
       "       'LubelskieNieruchomości-Drabik', 'INDEPRONIERUCHOMOŚCI',\n",
       "       'KompleksowaObsługaRynkuNieruchomościAnnaDziok', 'NieruchomościWschód'],\n",
       "      dtype='object')"
      ]
     },
     "execution_count": 1462,
     "metadata": {},
     "output_type": "execute_result"
    }
   ],
   "source": [
    "dealer_categories"
   ]
  },
  {
   "cell_type": "code",
   "execution_count": 1466,
   "metadata": {},
   "outputs": [
    {
     "data": {
      "text/plain": [
       "<1694x82 sparse matrix of type '<class 'numpy.float64'>'\n",
       "\twith 1694 stored elements in Compressed Sparse Row format>"
      ]
     },
     "execution_count": 1466,
     "metadata": {},
     "output_type": "execute_result"
    }
   ],
   "source": [
    "encoder = OneHotEncoder(categories='auto')\n",
    "dealer_cat_1hot = encoder.fit_transform(dealer_cat_encoded.reshape(-1,1))\n",
    "dealer_cat_1hot"
   ]
  },
  {
   "cell_type": "code",
   "execution_count": 1467,
   "metadata": {},
   "outputs": [
    {
     "data": {
      "text/plain": [
       "array([[0., 1., 0., ..., 0., 0., 0.],\n",
       "       [0., 0., 1., ..., 0., 0., 0.],\n",
       "       [0., 0., 0., ..., 0., 0., 0.],\n",
       "       ...,\n",
       "       [0., 0., 0., ..., 0., 0., 0.],\n",
       "       [0., 0., 0., ..., 0., 0., 0.],\n",
       "       [0., 0., 0., ..., 0., 0., 0.]])"
      ]
     },
     "execution_count": 1467,
     "metadata": {},
     "output_type": "execute_result"
    }
   ],
   "source": [
    "dealer_cat_1hot.toarray()"
   ]
  },
  {
   "cell_type": "code",
   "execution_count": 1464,
   "metadata": {},
   "outputs": [],
   "source": [
    "district_cat = df['district']"
   ]
  },
  {
   "cell_type": "code",
   "execution_count": 1456,
   "metadata": {},
   "outputs": [
    {
     "data": {
      "text/plain": [
       "array([ 0,  1,  2,  3, -1,  4,  2, -1,  4,  0])"
      ]
     },
     "execution_count": 1456,
     "metadata": {},
     "output_type": "execute_result"
    }
   ],
   "source": [
    "district_cat_encoded, district_categories = district_cat.factorize()\n",
    "district_cat_encoded[:10]"
   ]
  },
  {
   "cell_type": "code",
   "execution_count": 1457,
   "metadata": {},
   "outputs": [
    {
     "data": {
      "text/plain": [
       "Index(['Felin', 'Dziesiąta', 'lubelskie', 'Konstantynów', 'Czuby', 'Botanik',\n",
       "       'LSM', 'Wrotków', 'Szerokie', 'Sławin', 'Kalinowszczyzna',\n",
       "       'Śródmieście', 'Czechów', 'Bazylianówka', 'Ponikwoda', 'Kośminek',\n",
       "       'Węglinek', 'Centrum', 'Zana', 'Dolny', 'Górny', 'Sławinek',\n",
       "       'Bronowice', 'Tatary', 'Wieniawa', 'Warszawska', 'Miasto', 'Węglin',\n",
       "       'Konopnickiej', 'Poręba', 'Czwartek', 'Jezuickie', 'Zadębie',\n",
       "       'Abramowice'],\n",
       "      dtype='object')"
      ]
     },
     "execution_count": 1457,
     "metadata": {},
     "output_type": "execute_result"
    }
   ],
   "source": [
    "district_categories"
   ]
  },
  {
   "cell_type": "code",
   "execution_count": 1468,
   "metadata": {},
   "outputs": [
    {
     "data": {
      "text/plain": [
       "<1694x35 sparse matrix of type '<class 'numpy.float64'>'\n",
       "\twith 1694 stored elements in Compressed Sparse Row format>"
      ]
     },
     "execution_count": 1468,
     "metadata": {},
     "output_type": "execute_result"
    }
   ],
   "source": [
    "encoder = OneHotEncoder(categories='auto')\n",
    "district_cat_1hot = encoder.fit_transform(district_cat_encoded.reshape(-1,1))\n",
    "district_cat_1hot"
   ]
  },
  {
   "cell_type": "code",
   "execution_count": 1469,
   "metadata": {},
   "outputs": [
    {
     "data": {
      "text/plain": [
       "array([[0., 1., 0., ..., 0., 0., 0.],\n",
       "       [0., 0., 1., ..., 0., 0., 0.],\n",
       "       [0., 0., 0., ..., 0., 0., 0.],\n",
       "       ...,\n",
       "       [0., 0., 0., ..., 0., 0., 0.],\n",
       "       [0., 0., 0., ..., 0., 0., 0.],\n",
       "       [0., 0., 0., ..., 0., 0., 0.]])"
      ]
     },
     "execution_count": 1469,
     "metadata": {},
     "output_type": "execute_result"
    }
   ],
   "source": [
    "district_cat_1hot.toarray()"
   ]
  },
  {
   "cell_type": "code",
   "execution_count": null,
   "metadata": {},
   "outputs": [],
   "source": []
  }
 ],
 "metadata": {
  "kernelspec": {
   "display_name": "Python 3",
   "language": "python",
   "name": "python3"
  },
  "language_info": {
   "codemirror_mode": {
    "name": "ipython",
    "version": 3
   },
   "file_extension": ".py",
   "mimetype": "text/x-python",
   "name": "python",
   "nbconvert_exporter": "python",
   "pygments_lexer": "ipython3",
   "version": "3.6.8"
  }
 },
 "nbformat": 4,
 "nbformat_minor": 2
}
