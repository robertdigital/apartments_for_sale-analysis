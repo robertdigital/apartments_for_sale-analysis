{
 "cells": [
  {
   "cell_type": "code",
   "execution_count": 298,
   "metadata": {},
   "outputs": [],
   "source": [
    "import matplotlib.pyplot as plt\n",
    "import numpy as np\n",
    "import pandas as pd\n",
    "from sklearn.model_selection import train_test_split\n",
    "plt.rcParams['axes.labelsize'] = 14\n",
    "plt.rcParams['xtick.labelsize'] = 12\n",
    "plt.rcParams['ytick.labelsize'] = 12"
   ]
  },
  {
   "cell_type": "markdown",
   "metadata": {},
   "source": [
    "# Chcemy przewidzieć cenę za m2\n",
    "## Interesują nas mieszkania:\n",
    "### - pokoje: maksymalnie 4\n",
    "### - metraż: poniżej 80m2\n",
    "### - cena: poniżej 850 tys.\n",
    "### - lokalizacja: LSM, Czuby, Bronowice, Felin, Wrotków, Węglinek, Śródmieście, Czechów"
   ]
  },
  {
   "cell_type": "code",
   "execution_count": 299,
   "metadata": {},
   "outputs": [],
   "source": [
    "df = pd.read_csv('data/results.csv', usecols=['meters', 'price', 'rooms', 'dealer', 'district'], na_values=['Zapytajocenę'])"
   ]
  },
  {
   "cell_type": "code",
   "execution_count": 300,
   "metadata": {},
   "outputs": [
    {
     "name": "stderr",
     "output_type": "stream",
     "text": [
      "/home/adsum/.local/lib/python3.6/site-packages/ipykernel_launcher.py:1: UserWarning: Boolean Series key will be reindexed to match DataFrame index.\n",
      "  \"\"\"Entry point for launching an IPython kernel.\n"
     ]
    }
   ],
   "source": [
    "df = df[df['meters'] < 80][df['rooms'] < 5][df['price'] < 850000]"
   ]
  },
  {
   "cell_type": "code",
   "execution_count": 301,
   "metadata": {},
   "outputs": [],
   "source": [
    "df = df[df['district'].isin(['LSM', 'Czuby', 'Bronowice', 'Felin', 'Wrotków', 'Węglinek', 'Śródmieście', 'Czechów']) ]\n",
    "#subsetDataFrame = dfObj[dfObj['Product'].isin(['Mangos', 'Grapes']) ]"
   ]
  },
  {
   "cell_type": "code",
   "execution_count": 302,
   "metadata": {},
   "outputs": [],
   "source": [
    "df['price'] = round(df['price'] / df['meters'])"
   ]
  },
  {
   "cell_type": "code",
   "execution_count": 303,
   "metadata": {
    "scrolled": true
   },
   "outputs": [],
   "source": [
    "df.rename(columns={'price': 'price_m2'}, inplace=True)"
   ]
  },
  {
   "cell_type": "code",
   "execution_count": 304,
   "metadata": {},
   "outputs": [
    {
     "data": {
      "text/plain": [
       "1425"
      ]
     },
     "execution_count": 304,
     "metadata": {},
     "output_type": "execute_result"
    }
   ],
   "source": [
    "len(df)"
   ]
  },
  {
   "cell_type": "markdown",
   "metadata": {},
   "source": [
    "# Struktura danych"
   ]
  },
  {
   "cell_type": "code",
   "execution_count": 305,
   "metadata": {},
   "outputs": [
    {
     "data": {
      "text/html": [
       "<div>\n",
       "<style scoped>\n",
       "    .dataframe tbody tr th:only-of-type {\n",
       "        vertical-align: middle;\n",
       "    }\n",
       "\n",
       "    .dataframe tbody tr th {\n",
       "        vertical-align: top;\n",
       "    }\n",
       "\n",
       "    .dataframe thead th {\n",
       "        text-align: right;\n",
       "    }\n",
       "</style>\n",
       "<table border=\"1\" class=\"dataframe\">\n",
       "  <thead>\n",
       "    <tr style=\"text-align: right;\">\n",
       "      <th></th>\n",
       "      <th>meters</th>\n",
       "      <th>price_m2</th>\n",
       "      <th>rooms</th>\n",
       "      <th>dealer</th>\n",
       "      <th>district</th>\n",
       "    </tr>\n",
       "  </thead>\n",
       "  <tbody>\n",
       "    <tr>\n",
       "      <td>0</td>\n",
       "      <td>61.80</td>\n",
       "      <td>5971.0</td>\n",
       "      <td>4</td>\n",
       "      <td>Ofertaprywatna</td>\n",
       "      <td>LSM</td>\n",
       "    </tr>\n",
       "    <tr>\n",
       "      <td>1</td>\n",
       "      <td>79.00</td>\n",
       "      <td>6190.0</td>\n",
       "      <td>3</td>\n",
       "      <td>PółnocNieruchomościFranczyza</td>\n",
       "      <td>LSM</td>\n",
       "    </tr>\n",
       "    <tr>\n",
       "      <td>4</td>\n",
       "      <td>56.00</td>\n",
       "      <td>6777.0</td>\n",
       "      <td>2</td>\n",
       "      <td>HomeBrokerS.A.</td>\n",
       "      <td>Czuby</td>\n",
       "    </tr>\n",
       "    <tr>\n",
       "      <td>9</td>\n",
       "      <td>60.00</td>\n",
       "      <td>4967.0</td>\n",
       "      <td>3</td>\n",
       "      <td>BiuroNieruchomościKWADRAT</td>\n",
       "      <td>Wrotków</td>\n",
       "    </tr>\n",
       "    <tr>\n",
       "      <td>10</td>\n",
       "      <td>56.00</td>\n",
       "      <td>6777.0</td>\n",
       "      <td>2</td>\n",
       "      <td>StrefaM</td>\n",
       "      <td>Czuby</td>\n",
       "    </tr>\n",
       "    <tr>\n",
       "      <td>...</td>\n",
       "      <td>...</td>\n",
       "      <td>...</td>\n",
       "      <td>...</td>\n",
       "      <td>...</td>\n",
       "      <td>...</td>\n",
       "    </tr>\n",
       "    <tr>\n",
       "      <td>2688</td>\n",
       "      <td>59.09</td>\n",
       "      <td>5900.0</td>\n",
       "      <td>3</td>\n",
       "      <td>4tepiętro</td>\n",
       "      <td>Węglinek</td>\n",
       "    </tr>\n",
       "    <tr>\n",
       "      <td>2689</td>\n",
       "      <td>37.13</td>\n",
       "      <td>6050.0</td>\n",
       "      <td>2</td>\n",
       "      <td>4tepiętro</td>\n",
       "      <td>Węglinek</td>\n",
       "    </tr>\n",
       "    <tr>\n",
       "      <td>2690</td>\n",
       "      <td>62.00</td>\n",
       "      <td>5968.0</td>\n",
       "      <td>3</td>\n",
       "      <td>PanoramaNieruchomości</td>\n",
       "      <td>LSM</td>\n",
       "    </tr>\n",
       "    <tr>\n",
       "      <td>2691</td>\n",
       "      <td>30.27</td>\n",
       "      <td>8424.0</td>\n",
       "      <td>2</td>\n",
       "      <td>4tepiętro</td>\n",
       "      <td>Czuby</td>\n",
       "    </tr>\n",
       "    <tr>\n",
       "      <td>2693</td>\n",
       "      <td>56.00</td>\n",
       "      <td>6777.0</td>\n",
       "      <td>2</td>\n",
       "      <td>HERMESHOUSE</td>\n",
       "      <td>Czuby</td>\n",
       "    </tr>\n",
       "  </tbody>\n",
       "</table>\n",
       "<p>1425 rows × 5 columns</p>\n",
       "</div>"
      ],
      "text/plain": [
       "      meters  price_m2  rooms                        dealer  district\n",
       "0      61.80    5971.0      4                Ofertaprywatna       LSM\n",
       "1      79.00    6190.0      3  PółnocNieruchomościFranczyza       LSM\n",
       "4      56.00    6777.0      2                HomeBrokerS.A.     Czuby\n",
       "9      60.00    4967.0      3     BiuroNieruchomościKWADRAT   Wrotków\n",
       "10     56.00    6777.0      2                       StrefaM     Czuby\n",
       "...      ...       ...    ...                           ...       ...\n",
       "2688   59.09    5900.0      3                     4tepiętro  Węglinek\n",
       "2689   37.13    6050.0      2                     4tepiętro  Węglinek\n",
       "2690   62.00    5968.0      3         PanoramaNieruchomości       LSM\n",
       "2691   30.27    8424.0      2                     4tepiętro     Czuby\n",
       "2693   56.00    6777.0      2                   HERMESHOUSE     Czuby\n",
       "\n",
       "[1425 rows x 5 columns]"
      ]
     },
     "execution_count": 305,
     "metadata": {},
     "output_type": "execute_result"
    }
   ],
   "source": [
    "df"
   ]
  },
  {
   "cell_type": "code",
   "execution_count": 306,
   "metadata": {
    "scrolled": true
   },
   "outputs": [
    {
     "name": "stdout",
     "output_type": "stream",
     "text": [
      "<class 'pandas.core.frame.DataFrame'>\n",
      "Int64Index: 1425 entries, 0 to 2693\n",
      "Data columns (total 5 columns):\n",
      "meters      1425 non-null float64\n",
      "price_m2    1425 non-null float64\n",
      "rooms       1425 non-null int64\n",
      "dealer      1377 non-null object\n",
      "district    1425 non-null object\n",
      "dtypes: float64(2), int64(1), object(2)\n",
      "memory usage: 66.8+ KB\n"
     ]
    }
   ],
   "source": [
    "df.info()"
   ]
  },
  {
   "cell_type": "code",
   "execution_count": 307,
   "metadata": {},
   "outputs": [],
   "source": [
    "df.dealer.fillna(\"EMPTY\", inplace=True)"
   ]
  },
  {
   "cell_type": "code",
   "execution_count": 308,
   "metadata": {},
   "outputs": [
    {
     "data": {
      "text/plain": [
       "48"
      ]
     },
     "execution_count": 308,
     "metadata": {},
     "output_type": "execute_result"
    }
   ],
   "source": [
    "len(df[df.dealer == \"EMPTY\"])"
   ]
  },
  {
   "cell_type": "code",
   "execution_count": 309,
   "metadata": {},
   "outputs": [
    {
     "name": "stdout",
     "output_type": "stream",
     "text": [
      "<class 'pandas.core.frame.DataFrame'>\n",
      "Int64Index: 1425 entries, 0 to 2693\n",
      "Data columns (total 5 columns):\n",
      "meters      1425 non-null float64\n",
      "price_m2    1425 non-null float64\n",
      "rooms       1425 non-null int64\n",
      "dealer      1425 non-null object\n",
      "district    1425 non-null object\n",
      "dtypes: float64(2), int64(1), object(2)\n",
      "memory usage: 66.8+ KB\n"
     ]
    }
   ],
   "source": [
    "df.info()"
   ]
  },
  {
   "cell_type": "code",
   "execution_count": 310,
   "metadata": {},
   "outputs": [
    {
     "data": {
      "text/plain": [
       "3KLUCZEs.c.                              232\n",
       "CLIVUSNieruchomości                      111\n",
       "4tepiętro                                111\n",
       "FRANCZEWSKANieruchomościs.c.              93\n",
       "Arena                                     66\n",
       "                                        ... \n",
       "BiuroNieruchomościKleczkowskiSp.zo.o.      1\n",
       "AptsLublin                                 1\n",
       "LUKsp.zo.o.SKA                             1\n",
       "NOWAKNieruchomości                         1\n",
       "NieruchomościWschód                        1\n",
       "Name: dealer, Length: 69, dtype: int64"
      ]
     },
     "execution_count": 310,
     "metadata": {},
     "output_type": "execute_result"
    }
   ],
   "source": [
    "df['dealer'].value_counts()"
   ]
  },
  {
   "cell_type": "code",
   "execution_count": 311,
   "metadata": {},
   "outputs": [
    {
     "data": {
      "text/plain": [
       "69"
      ]
     },
     "execution_count": 311,
     "metadata": {},
     "output_type": "execute_result"
    }
   ],
   "source": [
    "len(df['dealer'].value_counts())"
   ]
  },
  {
   "cell_type": "code",
   "execution_count": 312,
   "metadata": {},
   "outputs": [
    {
     "data": {
      "text/plain": [
       "Węglinek       285\n",
       "Czuby          266\n",
       "Wrotków        259\n",
       "Śródmieście    157\n",
       "Bronowice      143\n",
       "Felin          139\n",
       "LSM            122\n",
       "Czechów         54\n",
       "Name: district, dtype: int64"
      ]
     },
     "execution_count": 312,
     "metadata": {},
     "output_type": "execute_result"
    }
   ],
   "source": [
    "df['district'].value_counts()"
   ]
  },
  {
   "cell_type": "code",
   "execution_count": 313,
   "metadata": {},
   "outputs": [
    {
     "data": {
      "text/plain": [
       "8"
      ]
     },
     "execution_count": 313,
     "metadata": {},
     "output_type": "execute_result"
    }
   ],
   "source": [
    "len(df['district'].value_counts())"
   ]
  },
  {
   "cell_type": "code",
   "execution_count": 314,
   "metadata": {},
   "outputs": [
    {
     "data": {
      "text/html": [
       "<div>\n",
       "<style scoped>\n",
       "    .dataframe tbody tr th:only-of-type {\n",
       "        vertical-align: middle;\n",
       "    }\n",
       "\n",
       "    .dataframe tbody tr th {\n",
       "        vertical-align: top;\n",
       "    }\n",
       "\n",
       "    .dataframe thead th {\n",
       "        text-align: right;\n",
       "    }\n",
       "</style>\n",
       "<table border=\"1\" class=\"dataframe\">\n",
       "  <thead>\n",
       "    <tr style=\"text-align: right;\">\n",
       "      <th></th>\n",
       "      <th>meters</th>\n",
       "      <th>price_m2</th>\n",
       "      <th>rooms</th>\n",
       "    </tr>\n",
       "  </thead>\n",
       "  <tbody>\n",
       "    <tr>\n",
       "      <td>count</td>\n",
       "      <td>1425.000000</td>\n",
       "      <td>1425.000000</td>\n",
       "      <td>1425.000000</td>\n",
       "    </tr>\n",
       "    <tr>\n",
       "      <td>mean</td>\n",
       "      <td>53.508632</td>\n",
       "      <td>6080.904561</td>\n",
       "      <td>2.590175</td>\n",
       "    </tr>\n",
       "    <tr>\n",
       "      <td>std</td>\n",
       "      <td>12.961455</td>\n",
       "      <td>995.390207</td>\n",
       "      <td>0.779235</td>\n",
       "    </tr>\n",
       "    <tr>\n",
       "      <td>min</td>\n",
       "      <td>14.620000</td>\n",
       "      <td>2133.000000</td>\n",
       "      <td>1.000000</td>\n",
       "    </tr>\n",
       "    <tr>\n",
       "      <td>25%</td>\n",
       "      <td>45.670000</td>\n",
       "      <td>5507.000000</td>\n",
       "      <td>2.000000</td>\n",
       "    </tr>\n",
       "    <tr>\n",
       "      <td>50%</td>\n",
       "      <td>53.700000</td>\n",
       "      <td>5900.000000</td>\n",
       "      <td>3.000000</td>\n",
       "    </tr>\n",
       "    <tr>\n",
       "      <td>75%</td>\n",
       "      <td>62.850000</td>\n",
       "      <td>6376.000000</td>\n",
       "      <td>3.000000</td>\n",
       "    </tr>\n",
       "    <tr>\n",
       "      <td>max</td>\n",
       "      <td>79.950000</td>\n",
       "      <td>12996.000000</td>\n",
       "      <td>4.000000</td>\n",
       "    </tr>\n",
       "  </tbody>\n",
       "</table>\n",
       "</div>"
      ],
      "text/plain": [
       "            meters      price_m2        rooms\n",
       "count  1425.000000   1425.000000  1425.000000\n",
       "mean     53.508632   6080.904561     2.590175\n",
       "std      12.961455    995.390207     0.779235\n",
       "min      14.620000   2133.000000     1.000000\n",
       "25%      45.670000   5507.000000     2.000000\n",
       "50%      53.700000   5900.000000     3.000000\n",
       "75%      62.850000   6376.000000     3.000000\n",
       "max      79.950000  12996.000000     4.000000"
      ]
     },
     "execution_count": 314,
     "metadata": {},
     "output_type": "execute_result"
    }
   ],
   "source": [
    "df.describe()"
   ]
  },
  {
   "cell_type": "code",
   "execution_count": 315,
   "metadata": {},
   "outputs": [
    {
     "data": {
      "text/plain": [
       "array([[<matplotlib.axes._subplots.AxesSubplot object at 0x7fba86e8a2b0>,\n",
       "        <matplotlib.axes._subplots.AxesSubplot object at 0x7fba86e3d4a8>],\n",
       "       [<matplotlib.axes._subplots.AxesSubplot object at 0x7fba86de8a58>,\n",
       "        <matplotlib.axes._subplots.AxesSubplot object at 0x7fba86da2048>]],\n",
       "      dtype=object)"
      ]
     },
     "execution_count": 315,
     "metadata": {},
     "output_type": "execute_result"
    },
    {
     "data": {
      "image/png": "[encoded data removed]",
      "text/plain": [
       "<Figure size 1080x576 with 4 Axes>"
      ]
     },
     "metadata": {
      "needs_background": "light"
     },
     "output_type": "display_data"
    }
   ],
   "source": [
    "df.hist(bins=50, figsize=(15, 8))"
   ]
  },
  {
   "cell_type": "markdown",
   "metadata": {},
   "source": [
    "# Zbiór testowy"
   ]
  },
  {
   "cell_type": "code",
   "execution_count": 316,
   "metadata": {},
   "outputs": [
    {
     "name": "stdout",
     "output_type": "stream",
     "text": [
      "Uczące 1140 , testowe 285\n"
     ]
    }
   ],
   "source": [
    "train_set, test_set = train_test_split(df, test_size=0.2, random_state=42)\n",
    "print(\"Uczące\", len(train_set), \", testowe\", len(test_set))"
   ]
  },
  {
   "cell_type": "markdown",
   "metadata": {},
   "source": [
    "### Atrybuty kategorii"
   ]
  },
  {
   "cell_type": "code",
   "execution_count": 317,
   "metadata": {},
   "outputs": [],
   "source": [
    "df['meters_cat'] = np.ceil(df['meters'] / 1.5)\n",
    "df['meters_cat'].where(df['meters_cat'] > 16, 16.0, inplace=True)\n",
    "df['meters_cat'].where(df['meters_cat'] < 52, 52.0, inplace=True)"
   ]
  },
  {
   "cell_type": "code",
   "execution_count": 318,
   "metadata": {},
   "outputs": [
    {
     "data": {
      "text/plain": [
       "array([[<matplotlib.axes._subplots.AxesSubplot object at 0x7fba86b7ac88>,\n",
       "        <matplotlib.axes._subplots.AxesSubplot object at 0x7fba86b8e4e0>],\n",
       "       [<matplotlib.axes._subplots.AxesSubplot object at 0x7fba86b31978>,\n",
       "        <matplotlib.axes._subplots.AxesSubplot object at 0x7fba86ae4f28>]],\n",
       "      dtype=object)"
      ]
     },
     "execution_count": 318,
     "metadata": {},
     "output_type": "execute_result"
    },
    {
     "data": {
      "image/png": "[encoded data removed]",
      "text/plain": [
       "<Figure size 1080x576 with 4 Axes>"
      ]
     },
     "metadata": {
      "needs_background": "light"
     },
     "output_type": "display_data"
    }
   ],
   "source": [
    "df.hist(bins=50, figsize=(15, 8))"
   ]
  },
  {
   "cell_type": "code",
   "execution_count": 319,
   "metadata": {},
   "outputs": [
    {
     "name": "stderr",
     "output_type": "stream",
     "text": [
      "/home/adsum/.local/lib/python3.6/site-packages/ipykernel_launcher.py:5: FutureWarning: \n",
      "Passing list-likes to .loc or [] with any missing label will raise\n",
      "KeyError in the future, you can use .reindex() as an alternative.\n",
      "\n",
      "See the documentation here:\n",
      "https://pandas.pydata.org/pandas-docs/stable/user_guide/indexing.html#deprecate-loc-reindex-listlike\n",
      "  \"\"\"\n",
      "/home/adsum/.local/lib/python3.6/site-packages/ipykernel_launcher.py:6: FutureWarning: \n",
      "Passing list-likes to .loc or [] with any missing label will raise\n",
      "KeyError in the future, you can use .reindex() as an alternative.\n",
      "\n",
      "See the documentation here:\n",
      "https://pandas.pydata.org/pandas-docs/stable/user_guide/indexing.html#deprecate-loc-reindex-listlike\n",
      "  \n"
     ]
    }
   ],
   "source": [
    "from sklearn.model_selection import StratifiedShuffleSplit\n",
    "\n",
    "split = StratifiedShuffleSplit(n_splits=1, test_size=0.2, random_state=42)\n",
    "for train_index, test_index in split.split(df, df[\"meters_cat\"]):\n",
    "    strat_train_set = df.loc[train_index]\n",
    "    strat_test_set = df.loc[test_index]"
   ]
  },
  {
   "cell_type": "code",
   "execution_count": 320,
   "metadata": {},
   "outputs": [
    {
     "data": {
      "text/plain": [
       "33.0    0.417544\n",
       "42.0    0.357895\n",
       "32.0    0.305263\n",
       "40.0    0.270175\n",
       "36.0    0.214035\n",
       "45.0    0.207018\n",
       "31.0    0.182456\n",
       "35.0    0.175439\n",
       "41.0    0.171930\n",
       "44.0    0.157895\n",
       "39.0    0.154386\n",
       "47.0    0.154386\n",
       "37.0    0.150877\n",
       "22.0    0.140351\n",
       "46.0    0.136842\n",
       "38.0    0.133333\n",
       "25.0    0.126316\n",
       "30.0    0.122807\n",
       "26.0    0.122807\n",
       "48.0    0.119298\n",
       "49.0    0.108772\n",
       "24.0    0.108772\n",
       "52.0    0.101754\n",
       "34.0    0.101754\n",
       "50.0    0.094737\n",
       "27.0    0.091228\n",
       "28.0    0.087719\n",
       "43.0    0.073684\n",
       "21.0    0.063158\n",
       "29.0    0.063158\n",
       "16.0    0.049123\n",
       "23.0    0.049123\n",
       "19.0    0.045614\n",
       "51.0    0.042105\n",
       "18.0    0.042105\n",
       "20.0    0.035088\n",
       "17.0    0.021053\n",
       "Name: meters_cat, dtype: float64"
      ]
     },
     "execution_count": 320,
     "metadata": {},
     "output_type": "execute_result"
    }
   ],
   "source": [
    "df['meters_cat'].value_counts() / len(strat_test_set)"
   ]
  },
  {
   "cell_type": "code",
   "execution_count": 321,
   "metadata": {},
   "outputs": [
    {
     "data": {
      "text/plain": [
       "33.0    0.083509\n",
       "42.0    0.071579\n",
       "32.0    0.061053\n",
       "40.0    0.054035\n",
       "36.0    0.042807\n",
       "45.0    0.041404\n",
       "31.0    0.036491\n",
       "35.0    0.035088\n",
       "41.0    0.034386\n",
       "44.0    0.031579\n",
       "39.0    0.030877\n",
       "47.0    0.030877\n",
       "37.0    0.030175\n",
       "22.0    0.028070\n",
       "46.0    0.027368\n",
       "38.0    0.026667\n",
       "25.0    0.025263\n",
       "30.0    0.024561\n",
       "26.0    0.024561\n",
       "48.0    0.023860\n",
       "49.0    0.021754\n",
       "24.0    0.021754\n",
       "52.0    0.020351\n",
       "34.0    0.020351\n",
       "50.0    0.018947\n",
       "27.0    0.018246\n",
       "28.0    0.017544\n",
       "43.0    0.014737\n",
       "21.0    0.012632\n",
       "29.0    0.012632\n",
       "16.0    0.009825\n",
       "23.0    0.009825\n",
       "19.0    0.009123\n",
       "51.0    0.008421\n",
       "18.0    0.008421\n",
       "20.0    0.007018\n",
       "17.0    0.004211\n",
       "Name: meters_cat, dtype: float64"
      ]
     },
     "execution_count": 321,
     "metadata": {},
     "output_type": "execute_result"
    }
   ],
   "source": [
    "df['meters_cat'].value_counts() / len(df)"
   ]
  },
  {
   "cell_type": "code",
   "execution_count": 322,
   "metadata": {},
   "outputs": [],
   "source": [
    "def income_cat_proportions(data):\n",
    "    return data[\"meters_cat\"].value_counts() / len(data)\n",
    "\n",
    "train_set, test_set = train_test_split(df, test_size=0.2, random_state=42)\n",
    "\n",
    "compare_props = pd.DataFrame({\n",
    "    \"Łącznie\": income_cat_proportions(df),\n",
    "    \"L. warstwowe\": income_cat_proportions(strat_test_set),\n",
    "    \"Losowe\": income_cat_proportions(test_set),\n",
    "}).sort_index()\n",
    "compare_props[\"Błąd - losowe (%)\"] = 100 * compare_props[\"Losowe\"] / compare_props[\"Łącznie\"] - 100\n",
    "compare_props[\"Błąd - l. warstwowe (%)\"] = 100 * compare_props[\"L. warstwowe\"] / compare_props[\"Łącznie\"] - 100"
   ]
  },
  {
   "cell_type": "code",
   "execution_count": 323,
   "metadata": {},
   "outputs": [
    {
     "data": {
      "text/html": [
       "<div>\n",
       "<style scoped>\n",
       "    .dataframe tbody tr th:only-of-type {\n",
       "        vertical-align: middle;\n",
       "    }\n",
       "\n",
       "    .dataframe tbody tr th {\n",
       "        vertical-align: top;\n",
       "    }\n",
       "\n",
       "    .dataframe thead th {\n",
       "        text-align: right;\n",
       "    }\n",
       "</style>\n",
       "<table border=\"1\" class=\"dataframe\">\n",
       "  <thead>\n",
       "    <tr style=\"text-align: right;\">\n",
       "      <th></th>\n",
       "      <th>Łącznie</th>\n",
       "      <th>L. warstwowe</th>\n",
       "      <th>Losowe</th>\n",
       "      <th>Błąd - losowe (%)</th>\n",
       "      <th>Błąd - l. warstwowe (%)</th>\n",
       "    </tr>\n",
       "  </thead>\n",
       "  <tbody>\n",
       "    <tr>\n",
       "      <td>16.0</td>\n",
       "      <td>0.009825</td>\n",
       "      <td>0.003509</td>\n",
       "      <td>0.003509</td>\n",
       "      <td>-6.428571e+01</td>\n",
       "      <td>-6.428571e+01</td>\n",
       "    </tr>\n",
       "    <tr>\n",
       "      <td>17.0</td>\n",
       "      <td>0.004211</td>\n",
       "      <td>NaN</td>\n",
       "      <td>NaN</td>\n",
       "      <td>NaN</td>\n",
       "      <td>NaN</td>\n",
       "    </tr>\n",
       "    <tr>\n",
       "      <td>18.0</td>\n",
       "      <td>0.008421</td>\n",
       "      <td>NaN</td>\n",
       "      <td>0.007018</td>\n",
       "      <td>-1.666667e+01</td>\n",
       "      <td>NaN</td>\n",
       "    </tr>\n",
       "    <tr>\n",
       "      <td>19.0</td>\n",
       "      <td>0.009123</td>\n",
       "      <td>0.003509</td>\n",
       "      <td>0.010526</td>\n",
       "      <td>1.538462e+01</td>\n",
       "      <td>-6.153846e+01</td>\n",
       "    </tr>\n",
       "    <tr>\n",
       "      <td>20.0</td>\n",
       "      <td>0.007018</td>\n",
       "      <td>0.007018</td>\n",
       "      <td>0.007018</td>\n",
       "      <td>-1.421085e-14</td>\n",
       "      <td>-1.421085e-14</td>\n",
       "    </tr>\n",
       "    <tr>\n",
       "      <td>21.0</td>\n",
       "      <td>0.012632</td>\n",
       "      <td>0.007018</td>\n",
       "      <td>0.003509</td>\n",
       "      <td>-7.222222e+01</td>\n",
       "      <td>-4.444444e+01</td>\n",
       "    </tr>\n",
       "    <tr>\n",
       "      <td>22.0</td>\n",
       "      <td>0.028070</td>\n",
       "      <td>0.010526</td>\n",
       "      <td>0.028070</td>\n",
       "      <td>-1.421085e-14</td>\n",
       "      <td>-6.250000e+01</td>\n",
       "    </tr>\n",
       "    <tr>\n",
       "      <td>23.0</td>\n",
       "      <td>0.009825</td>\n",
       "      <td>0.007018</td>\n",
       "      <td>0.007018</td>\n",
       "      <td>-2.857143e+01</td>\n",
       "      <td>-2.857143e+01</td>\n",
       "    </tr>\n",
       "    <tr>\n",
       "      <td>24.0</td>\n",
       "      <td>0.021754</td>\n",
       "      <td>0.014035</td>\n",
       "      <td>0.007018</td>\n",
       "      <td>-6.774194e+01</td>\n",
       "      <td>-3.548387e+01</td>\n",
       "    </tr>\n",
       "    <tr>\n",
       "      <td>25.0</td>\n",
       "      <td>0.025263</td>\n",
       "      <td>0.021053</td>\n",
       "      <td>0.024561</td>\n",
       "      <td>-2.777778e+00</td>\n",
       "      <td>-1.666667e+01</td>\n",
       "    </tr>\n",
       "    <tr>\n",
       "      <td>26.0</td>\n",
       "      <td>0.024561</td>\n",
       "      <td>0.007018</td>\n",
       "      <td>0.042105</td>\n",
       "      <td>7.142857e+01</td>\n",
       "      <td>-7.142857e+01</td>\n",
       "    </tr>\n",
       "    <tr>\n",
       "      <td>27.0</td>\n",
       "      <td>0.018246</td>\n",
       "      <td>0.010526</td>\n",
       "      <td>0.010526</td>\n",
       "      <td>-4.230769e+01</td>\n",
       "      <td>-4.230769e+01</td>\n",
       "    </tr>\n",
       "    <tr>\n",
       "      <td>28.0</td>\n",
       "      <td>0.017544</td>\n",
       "      <td>0.007018</td>\n",
       "      <td>0.021053</td>\n",
       "      <td>2.000000e+01</td>\n",
       "      <td>-6.000000e+01</td>\n",
       "    </tr>\n",
       "    <tr>\n",
       "      <td>29.0</td>\n",
       "      <td>0.012632</td>\n",
       "      <td>0.003509</td>\n",
       "      <td>0.007018</td>\n",
       "      <td>-4.444444e+01</td>\n",
       "      <td>-7.222222e+01</td>\n",
       "    </tr>\n",
       "    <tr>\n",
       "      <td>30.0</td>\n",
       "      <td>0.024561</td>\n",
       "      <td>0.003509</td>\n",
       "      <td>0.017544</td>\n",
       "      <td>-2.857143e+01</td>\n",
       "      <td>-8.571429e+01</td>\n",
       "    </tr>\n",
       "    <tr>\n",
       "      <td>31.0</td>\n",
       "      <td>0.036491</td>\n",
       "      <td>0.010526</td>\n",
       "      <td>0.038596</td>\n",
       "      <td>5.769231e+00</td>\n",
       "      <td>-7.115385e+01</td>\n",
       "    </tr>\n",
       "    <tr>\n",
       "      <td>32.0</td>\n",
       "      <td>0.061053</td>\n",
       "      <td>0.035088</td>\n",
       "      <td>0.077193</td>\n",
       "      <td>2.643678e+01</td>\n",
       "      <td>-4.252874e+01</td>\n",
       "    </tr>\n",
       "    <tr>\n",
       "      <td>33.0</td>\n",
       "      <td>0.083509</td>\n",
       "      <td>0.045614</td>\n",
       "      <td>0.094737</td>\n",
       "      <td>1.344538e+01</td>\n",
       "      <td>-4.537815e+01</td>\n",
       "    </tr>\n",
       "    <tr>\n",
       "      <td>34.0</td>\n",
       "      <td>0.020351</td>\n",
       "      <td>0.007018</td>\n",
       "      <td>0.028070</td>\n",
       "      <td>3.793103e+01</td>\n",
       "      <td>-6.551724e+01</td>\n",
       "    </tr>\n",
       "    <tr>\n",
       "      <td>35.0</td>\n",
       "      <td>0.035088</td>\n",
       "      <td>0.021053</td>\n",
       "      <td>0.045614</td>\n",
       "      <td>3.000000e+01</td>\n",
       "      <td>-4.000000e+01</td>\n",
       "    </tr>\n",
       "    <tr>\n",
       "      <td>36.0</td>\n",
       "      <td>0.042807</td>\n",
       "      <td>0.014035</td>\n",
       "      <td>0.052632</td>\n",
       "      <td>2.295082e+01</td>\n",
       "      <td>-6.721311e+01</td>\n",
       "    </tr>\n",
       "    <tr>\n",
       "      <td>37.0</td>\n",
       "      <td>0.030175</td>\n",
       "      <td>0.024561</td>\n",
       "      <td>0.021053</td>\n",
       "      <td>-3.023256e+01</td>\n",
       "      <td>-1.860465e+01</td>\n",
       "    </tr>\n",
       "    <tr>\n",
       "      <td>38.0</td>\n",
       "      <td>0.026667</td>\n",
       "      <td>0.010526</td>\n",
       "      <td>0.028070</td>\n",
       "      <td>5.263158e+00</td>\n",
       "      <td>-6.052632e+01</td>\n",
       "    </tr>\n",
       "    <tr>\n",
       "      <td>39.0</td>\n",
       "      <td>0.030877</td>\n",
       "      <td>0.017544</td>\n",
       "      <td>0.038596</td>\n",
       "      <td>2.500000e+01</td>\n",
       "      <td>-4.318182e+01</td>\n",
       "    </tr>\n",
       "    <tr>\n",
       "      <td>40.0</td>\n",
       "      <td>0.054035</td>\n",
       "      <td>0.028070</td>\n",
       "      <td>0.056140</td>\n",
       "      <td>3.896104e+00</td>\n",
       "      <td>-4.805195e+01</td>\n",
       "    </tr>\n",
       "    <tr>\n",
       "      <td>41.0</td>\n",
       "      <td>0.034386</td>\n",
       "      <td>0.024561</td>\n",
       "      <td>0.045614</td>\n",
       "      <td>3.265306e+01</td>\n",
       "      <td>-2.857143e+01</td>\n",
       "    </tr>\n",
       "    <tr>\n",
       "      <td>42.0</td>\n",
       "      <td>0.071579</td>\n",
       "      <td>0.045614</td>\n",
       "      <td>0.049123</td>\n",
       "      <td>-3.137255e+01</td>\n",
       "      <td>-3.627451e+01</td>\n",
       "    </tr>\n",
       "    <tr>\n",
       "      <td>43.0</td>\n",
       "      <td>0.014737</td>\n",
       "      <td>0.010526</td>\n",
       "      <td>0.021053</td>\n",
       "      <td>4.285714e+01</td>\n",
       "      <td>-2.857143e+01</td>\n",
       "    </tr>\n",
       "    <tr>\n",
       "      <td>44.0</td>\n",
       "      <td>0.031579</td>\n",
       "      <td>0.024561</td>\n",
       "      <td>0.031579</td>\n",
       "      <td>0.000000e+00</td>\n",
       "      <td>-2.222222e+01</td>\n",
       "    </tr>\n",
       "    <tr>\n",
       "      <td>45.0</td>\n",
       "      <td>0.041404</td>\n",
       "      <td>0.024561</td>\n",
       "      <td>0.035088</td>\n",
       "      <td>-1.525424e+01</td>\n",
       "      <td>-4.067797e+01</td>\n",
       "    </tr>\n",
       "    <tr>\n",
       "      <td>46.0</td>\n",
       "      <td>0.027368</td>\n",
       "      <td>0.007018</td>\n",
       "      <td>0.031579</td>\n",
       "      <td>1.538462e+01</td>\n",
       "      <td>-7.435897e+01</td>\n",
       "    </tr>\n",
       "    <tr>\n",
       "      <td>47.0</td>\n",
       "      <td>0.030877</td>\n",
       "      <td>0.017544</td>\n",
       "      <td>0.031579</td>\n",
       "      <td>2.272727e+00</td>\n",
       "      <td>-4.318182e+01</td>\n",
       "    </tr>\n",
       "    <tr>\n",
       "      <td>48.0</td>\n",
       "      <td>0.023860</td>\n",
       "      <td>0.014035</td>\n",
       "      <td>0.031579</td>\n",
       "      <td>3.235294e+01</td>\n",
       "      <td>-4.117647e+01</td>\n",
       "    </tr>\n",
       "    <tr>\n",
       "      <td>49.0</td>\n",
       "      <td>0.021754</td>\n",
       "      <td>0.010526</td>\n",
       "      <td>0.014035</td>\n",
       "      <td>-3.548387e+01</td>\n",
       "      <td>-5.161290e+01</td>\n",
       "    </tr>\n",
       "    <tr>\n",
       "      <td>50.0</td>\n",
       "      <td>0.018947</td>\n",
       "      <td>0.014035</td>\n",
       "      <td>0.014035</td>\n",
       "      <td>-2.592593e+01</td>\n",
       "      <td>-2.592593e+01</td>\n",
       "    </tr>\n",
       "    <tr>\n",
       "      <td>51.0</td>\n",
       "      <td>0.008421</td>\n",
       "      <td>0.007018</td>\n",
       "      <td>0.003509</td>\n",
       "      <td>-5.833333e+01</td>\n",
       "      <td>-1.666667e+01</td>\n",
       "    </tr>\n",
       "    <tr>\n",
       "      <td>52.0</td>\n",
       "      <td>0.020351</td>\n",
       "      <td>0.021053</td>\n",
       "      <td>0.014035</td>\n",
       "      <td>-3.103448e+01</td>\n",
       "      <td>3.448276e+00</td>\n",
       "    </tr>\n",
       "  </tbody>\n",
       "</table>\n",
       "</div>"
      ],
      "text/plain": [
       "       Łącznie  L. warstwowe    Losowe  Błąd - losowe (%)  \\\n",
       "16.0  0.009825      0.003509  0.003509      -6.428571e+01   \n",
       "17.0  0.004211           NaN       NaN                NaN   \n",
       "18.0  0.008421           NaN  0.007018      -1.666667e+01   \n",
       "19.0  0.009123      0.003509  0.010526       1.538462e+01   \n",
       "20.0  0.007018      0.007018  0.007018      -1.421085e-14   \n",
       "21.0  0.012632      0.007018  0.003509      -7.222222e+01   \n",
       "22.0  0.028070      0.010526  0.028070      -1.421085e-14   \n",
       "23.0  0.009825      0.007018  0.007018      -2.857143e+01   \n",
       "24.0  0.021754      0.014035  0.007018      -6.774194e+01   \n",
       "25.0  0.025263      0.021053  0.024561      -2.777778e+00   \n",
       "26.0  0.024561      0.007018  0.042105       7.142857e+01   \n",
       "27.0  0.018246      0.010526  0.010526      -4.230769e+01   \n",
       "28.0  0.017544      0.007018  0.021053       2.000000e+01   \n",
       "29.0  0.012632      0.003509  0.007018      -4.444444e+01   \n",
       "30.0  0.024561      0.003509  0.017544      -2.857143e+01   \n",
       "31.0  0.036491      0.010526  0.038596       5.769231e+00   \n",
       "32.0  0.061053      0.035088  0.077193       2.643678e+01   \n",
       "33.0  0.083509      0.045614  0.094737       1.344538e+01   \n",
       "34.0  0.020351      0.007018  0.028070       3.793103e+01   \n",
       "35.0  0.035088      0.021053  0.045614       3.000000e+01   \n",
       "36.0  0.042807      0.014035  0.052632       2.295082e+01   \n",
       "37.0  0.030175      0.024561  0.021053      -3.023256e+01   \n",
       "38.0  0.026667      0.010526  0.028070       5.263158e+00   \n",
       "39.0  0.030877      0.017544  0.038596       2.500000e+01   \n",
       "40.0  0.054035      0.028070  0.056140       3.896104e+00   \n",
       "41.0  0.034386      0.024561  0.045614       3.265306e+01   \n",
       "42.0  0.071579      0.045614  0.049123      -3.137255e+01   \n",
       "43.0  0.014737      0.010526  0.021053       4.285714e+01   \n",
       "44.0  0.031579      0.024561  0.031579       0.000000e+00   \n",
       "45.0  0.041404      0.024561  0.035088      -1.525424e+01   \n",
       "46.0  0.027368      0.007018  0.031579       1.538462e+01   \n",
       "47.0  0.030877      0.017544  0.031579       2.272727e+00   \n",
       "48.0  0.023860      0.014035  0.031579       3.235294e+01   \n",
       "49.0  0.021754      0.010526  0.014035      -3.548387e+01   \n",
       "50.0  0.018947      0.014035  0.014035      -2.592593e+01   \n",
       "51.0  0.008421      0.007018  0.003509      -5.833333e+01   \n",
       "52.0  0.020351      0.021053  0.014035      -3.103448e+01   \n",
       "\n",
       "      Błąd - l. warstwowe (%)  \n",
       "16.0            -6.428571e+01  \n",
       "17.0                      NaN  \n",
       "18.0                      NaN  \n",
       "19.0            -6.153846e+01  \n",
       "20.0            -1.421085e-14  \n",
       "21.0            -4.444444e+01  \n",
       "22.0            -6.250000e+01  \n",
       "23.0            -2.857143e+01  \n",
       "24.0            -3.548387e+01  \n",
       "25.0            -1.666667e+01  \n",
       "26.0            -7.142857e+01  \n",
       "27.0            -4.230769e+01  \n",
       "28.0            -6.000000e+01  \n",
       "29.0            -7.222222e+01  \n",
       "30.0            -8.571429e+01  \n",
       "31.0            -7.115385e+01  \n",
       "32.0            -4.252874e+01  \n",
       "33.0            -4.537815e+01  \n",
       "34.0            -6.551724e+01  \n",
       "35.0            -4.000000e+01  \n",
       "36.0            -6.721311e+01  \n",
       "37.0            -1.860465e+01  \n",
       "38.0            -6.052632e+01  \n",
       "39.0            -4.318182e+01  \n",
       "40.0            -4.805195e+01  \n",
       "41.0            -2.857143e+01  \n",
       "42.0            -3.627451e+01  \n",
       "43.0            -2.857143e+01  \n",
       "44.0            -2.222222e+01  \n",
       "45.0            -4.067797e+01  \n",
       "46.0            -7.435897e+01  \n",
       "47.0            -4.318182e+01  \n",
       "48.0            -4.117647e+01  \n",
       "49.0            -5.161290e+01  \n",
       "50.0            -2.592593e+01  \n",
       "51.0            -1.666667e+01  \n",
       "52.0             3.448276e+00  "
      ]
     },
     "execution_count": 323,
     "metadata": {},
     "output_type": "execute_result"
    }
   ],
   "source": [
    "compare_props"
   ]
  },
  {
   "cell_type": "code",
   "execution_count": 324,
   "metadata": {
    "scrolled": true
   },
   "outputs": [
    {
     "data": {
      "text/html": [
       "<div>\n",
       "<style scoped>\n",
       "    .dataframe tbody tr th:only-of-type {\n",
       "        vertical-align: middle;\n",
       "    }\n",
       "\n",
       "    .dataframe tbody tr th {\n",
       "        vertical-align: top;\n",
       "    }\n",
       "\n",
       "    .dataframe thead th {\n",
       "        text-align: right;\n",
       "    }\n",
       "</style>\n",
       "<table border=\"1\" class=\"dataframe\">\n",
       "  <thead>\n",
       "    <tr style=\"text-align: right;\">\n",
       "      <th></th>\n",
       "      <th>meters</th>\n",
       "      <th>price_m2</th>\n",
       "      <th>rooms</th>\n",
       "      <th>dealer</th>\n",
       "      <th>district</th>\n",
       "      <th>meters_cat</th>\n",
       "    </tr>\n",
       "  </thead>\n",
       "  <tbody>\n",
       "    <tr>\n",
       "      <td>0</td>\n",
       "      <td>61.80</td>\n",
       "      <td>5971.0</td>\n",
       "      <td>4</td>\n",
       "      <td>Ofertaprywatna</td>\n",
       "      <td>LSM</td>\n",
       "      <td>42.0</td>\n",
       "    </tr>\n",
       "    <tr>\n",
       "      <td>1</td>\n",
       "      <td>79.00</td>\n",
       "      <td>6190.0</td>\n",
       "      <td>3</td>\n",
       "      <td>PółnocNieruchomościFranczyza</td>\n",
       "      <td>LSM</td>\n",
       "      <td>52.0</td>\n",
       "    </tr>\n",
       "    <tr>\n",
       "      <td>4</td>\n",
       "      <td>56.00</td>\n",
       "      <td>6777.0</td>\n",
       "      <td>2</td>\n",
       "      <td>HomeBrokerS.A.</td>\n",
       "      <td>Czuby</td>\n",
       "      <td>38.0</td>\n",
       "    </tr>\n",
       "    <tr>\n",
       "      <td>9</td>\n",
       "      <td>60.00</td>\n",
       "      <td>4967.0</td>\n",
       "      <td>3</td>\n",
       "      <td>BiuroNieruchomościKWADRAT</td>\n",
       "      <td>Wrotków</td>\n",
       "      <td>40.0</td>\n",
       "    </tr>\n",
       "    <tr>\n",
       "      <td>10</td>\n",
       "      <td>56.00</td>\n",
       "      <td>6777.0</td>\n",
       "      <td>2</td>\n",
       "      <td>StrefaM</td>\n",
       "      <td>Czuby</td>\n",
       "      <td>38.0</td>\n",
       "    </tr>\n",
       "    <tr>\n",
       "      <td>...</td>\n",
       "      <td>...</td>\n",
       "      <td>...</td>\n",
       "      <td>...</td>\n",
       "      <td>...</td>\n",
       "      <td>...</td>\n",
       "      <td>...</td>\n",
       "    </tr>\n",
       "    <tr>\n",
       "      <td>2688</td>\n",
       "      <td>59.09</td>\n",
       "      <td>5900.0</td>\n",
       "      <td>3</td>\n",
       "      <td>4tepiętro</td>\n",
       "      <td>Węglinek</td>\n",
       "      <td>40.0</td>\n",
       "    </tr>\n",
       "    <tr>\n",
       "      <td>2689</td>\n",
       "      <td>37.13</td>\n",
       "      <td>6050.0</td>\n",
       "      <td>2</td>\n",
       "      <td>4tepiętro</td>\n",
       "      <td>Węglinek</td>\n",
       "      <td>25.0</td>\n",
       "    </tr>\n",
       "    <tr>\n",
       "      <td>2690</td>\n",
       "      <td>62.00</td>\n",
       "      <td>5968.0</td>\n",
       "      <td>3</td>\n",
       "      <td>PanoramaNieruchomości</td>\n",
       "      <td>LSM</td>\n",
       "      <td>42.0</td>\n",
       "    </tr>\n",
       "    <tr>\n",
       "      <td>2691</td>\n",
       "      <td>30.27</td>\n",
       "      <td>8424.0</td>\n",
       "      <td>2</td>\n",
       "      <td>4tepiętro</td>\n",
       "      <td>Czuby</td>\n",
       "      <td>21.0</td>\n",
       "    </tr>\n",
       "    <tr>\n",
       "      <td>2693</td>\n",
       "      <td>56.00</td>\n",
       "      <td>6777.0</td>\n",
       "      <td>2</td>\n",
       "      <td>HERMESHOUSE</td>\n",
       "      <td>Czuby</td>\n",
       "      <td>38.0</td>\n",
       "    </tr>\n",
       "  </tbody>\n",
       "</table>\n",
       "<p>1425 rows × 6 columns</p>\n",
       "</div>"
      ],
      "text/plain": [
       "      meters  price_m2  rooms                        dealer  district  \\\n",
       "0      61.80    5971.0      4                Ofertaprywatna       LSM   \n",
       "1      79.00    6190.0      3  PółnocNieruchomościFranczyza       LSM   \n",
       "4      56.00    6777.0      2                HomeBrokerS.A.     Czuby   \n",
       "9      60.00    4967.0      3     BiuroNieruchomościKWADRAT   Wrotków   \n",
       "10     56.00    6777.0      2                       StrefaM     Czuby   \n",
       "...      ...       ...    ...                           ...       ...   \n",
       "2688   59.09    5900.0      3                     4tepiętro  Węglinek   \n",
       "2689   37.13    6050.0      2                     4tepiętro  Węglinek   \n",
       "2690   62.00    5968.0      3         PanoramaNieruchomości       LSM   \n",
       "2691   30.27    8424.0      2                     4tepiętro     Czuby   \n",
       "2693   56.00    6777.0      2                   HERMESHOUSE     Czuby   \n",
       "\n",
       "      meters_cat  \n",
       "0           42.0  \n",
       "1           52.0  \n",
       "4           38.0  \n",
       "9           40.0  \n",
       "10          38.0  \n",
       "...          ...  \n",
       "2688        40.0  \n",
       "2689        25.0  \n",
       "2690        42.0  \n",
       "2691        21.0  \n",
       "2693        38.0  \n",
       "\n",
       "[1425 rows x 6 columns]"
      ]
     },
     "execution_count": 324,
     "metadata": {},
     "output_type": "execute_result"
    }
   ],
   "source": [
    "df.rename(columns={'price': 'price_m2'})"
   ]
  },
  {
   "cell_type": "code",
   "execution_count": 325,
   "metadata": {},
   "outputs": [],
   "source": [
    "for set_ in strat_train_set, strat_test_set:\n",
    "    set_.drop(\"meters_cat\", axis=1, inplace=True)"
   ]
  },
  {
   "cell_type": "code",
   "execution_count": 326,
   "metadata": {},
   "outputs": [
    {
     "data": {
      "text/html": [
       "<div>\n",
       "<style scoped>\n",
       "    .dataframe tbody tr th:only-of-type {\n",
       "        vertical-align: middle;\n",
       "    }\n",
       "\n",
       "    .dataframe tbody tr th {\n",
       "        vertical-align: top;\n",
       "    }\n",
       "\n",
       "    .dataframe thead th {\n",
       "        text-align: right;\n",
       "    }\n",
       "</style>\n",
       "<table border=\"1\" class=\"dataframe\">\n",
       "  <thead>\n",
       "    <tr style=\"text-align: right;\">\n",
       "      <th></th>\n",
       "      <th>meters</th>\n",
       "      <th>price_m2</th>\n",
       "      <th>rooms</th>\n",
       "      <th>dealer</th>\n",
       "      <th>district</th>\n",
       "    </tr>\n",
       "  </thead>\n",
       "  <tbody>\n",
       "    <tr>\n",
       "      <td>757</td>\n",
       "      <td>NaN</td>\n",
       "      <td>NaN</td>\n",
       "      <td>NaN</td>\n",
       "      <td>NaN</td>\n",
       "      <td>NaN</td>\n",
       "    </tr>\n",
       "    <tr>\n",
       "      <td>251</td>\n",
       "      <td>66.75</td>\n",
       "      <td>5900.0</td>\n",
       "      <td>4.0</td>\n",
       "      <td>3KLUCZEs.c.</td>\n",
       "      <td>Węglinek</td>\n",
       "    </tr>\n",
       "    <tr>\n",
       "      <td>1373</td>\n",
       "      <td>66.78</td>\n",
       "      <td>5800.0</td>\n",
       "      <td>3.0</td>\n",
       "      <td>3KLUCZEs.c.</td>\n",
       "      <td>Węglinek</td>\n",
       "    </tr>\n",
       "    <tr>\n",
       "      <td>844</td>\n",
       "      <td>58.00</td>\n",
       "      <td>5517.0</td>\n",
       "      <td>4.0</td>\n",
       "      <td>BiuroNieruchomościKWADRAT</td>\n",
       "      <td>Czechów</td>\n",
       "    </tr>\n",
       "    <tr>\n",
       "      <td>427</td>\n",
       "      <td>NaN</td>\n",
       "      <td>NaN</td>\n",
       "      <td>NaN</td>\n",
       "      <td>NaN</td>\n",
       "      <td>NaN</td>\n",
       "    </tr>\n",
       "    <tr>\n",
       "      <td>...</td>\n",
       "      <td>...</td>\n",
       "      <td>...</td>\n",
       "      <td>...</td>\n",
       "      <td>...</td>\n",
       "      <td>...</td>\n",
       "    </tr>\n",
       "    <tr>\n",
       "      <td>347</td>\n",
       "      <td>NaN</td>\n",
       "      <td>NaN</td>\n",
       "      <td>NaN</td>\n",
       "      <td>NaN</td>\n",
       "      <td>NaN</td>\n",
       "    </tr>\n",
       "    <tr>\n",
       "      <td>71</td>\n",
       "      <td>54.50</td>\n",
       "      <td>6899.0</td>\n",
       "      <td>2.0</td>\n",
       "      <td>HERMESHOUSE</td>\n",
       "      <td>Czuby</td>\n",
       "    </tr>\n",
       "    <tr>\n",
       "      <td>125</td>\n",
       "      <td>NaN</td>\n",
       "      <td>NaN</td>\n",
       "      <td>NaN</td>\n",
       "      <td>NaN</td>\n",
       "      <td>NaN</td>\n",
       "    </tr>\n",
       "    <tr>\n",
       "      <td>267</td>\n",
       "      <td>NaN</td>\n",
       "      <td>NaN</td>\n",
       "      <td>NaN</td>\n",
       "      <td>NaN</td>\n",
       "      <td>NaN</td>\n",
       "    </tr>\n",
       "    <tr>\n",
       "      <td>1153</td>\n",
       "      <td>NaN</td>\n",
       "      <td>NaN</td>\n",
       "      <td>NaN</td>\n",
       "      <td>NaN</td>\n",
       "      <td>NaN</td>\n",
       "    </tr>\n",
       "  </tbody>\n",
       "</table>\n",
       "<p>1140 rows × 5 columns</p>\n",
       "</div>"
      ],
      "text/plain": [
       "      meters  price_m2  rooms                     dealer  district\n",
       "757      NaN       NaN    NaN                        NaN       NaN\n",
       "251    66.75    5900.0    4.0                3KLUCZEs.c.  Węglinek\n",
       "1373   66.78    5800.0    3.0                3KLUCZEs.c.  Węglinek\n",
       "844    58.00    5517.0    4.0  BiuroNieruchomościKWADRAT   Czechów\n",
       "427      NaN       NaN    NaN                        NaN       NaN\n",
       "...      ...       ...    ...                        ...       ...\n",
       "347      NaN       NaN    NaN                        NaN       NaN\n",
       "71     54.50    6899.0    2.0                HERMESHOUSE     Czuby\n",
       "125      NaN       NaN    NaN                        NaN       NaN\n",
       "267      NaN       NaN    NaN                        NaN       NaN\n",
       "1153     NaN       NaN    NaN                        NaN       NaN\n",
       "\n",
       "[1140 rows x 5 columns]"
      ]
     },
     "execution_count": 326,
     "metadata": {},
     "output_type": "execute_result"
    }
   ],
   "source": [
    "strat_train_set"
   ]
  },
  {
   "cell_type": "code",
   "execution_count": 327,
   "metadata": {},
   "outputs": [
    {
     "data": {
      "text/html": [
       "<div>\n",
       "<style scoped>\n",
       "    .dataframe tbody tr th:only-of-type {\n",
       "        vertical-align: middle;\n",
       "    }\n",
       "\n",
       "    .dataframe tbody tr th {\n",
       "        vertical-align: top;\n",
       "    }\n",
       "\n",
       "    .dataframe thead th {\n",
       "        text-align: right;\n",
       "    }\n",
       "</style>\n",
       "<table border=\"1\" class=\"dataframe\">\n",
       "  <thead>\n",
       "    <tr style=\"text-align: right;\">\n",
       "      <th></th>\n",
       "      <th>meters</th>\n",
       "      <th>price_m2</th>\n",
       "      <th>rooms</th>\n",
       "      <th>dealer</th>\n",
       "      <th>district</th>\n",
       "      <th>meters_cat</th>\n",
       "    </tr>\n",
       "  </thead>\n",
       "  <tbody>\n",
       "    <tr>\n",
       "      <td>0</td>\n",
       "      <td>61.8</td>\n",
       "      <td>5971.0</td>\n",
       "      <td>4</td>\n",
       "      <td>Ofertaprywatna</td>\n",
       "      <td>LSM</td>\n",
       "      <td>42.0</td>\n",
       "    </tr>\n",
       "    <tr>\n",
       "      <td>1</td>\n",
       "      <td>79.0</td>\n",
       "      <td>6190.0</td>\n",
       "      <td>3</td>\n",
       "      <td>PółnocNieruchomościFranczyza</td>\n",
       "      <td>LSM</td>\n",
       "      <td>52.0</td>\n",
       "    </tr>\n",
       "    <tr>\n",
       "      <td>4</td>\n",
       "      <td>56.0</td>\n",
       "      <td>6777.0</td>\n",
       "      <td>2</td>\n",
       "      <td>HomeBrokerS.A.</td>\n",
       "      <td>Czuby</td>\n",
       "      <td>38.0</td>\n",
       "    </tr>\n",
       "    <tr>\n",
       "      <td>9</td>\n",
       "      <td>60.0</td>\n",
       "      <td>4967.0</td>\n",
       "      <td>3</td>\n",
       "      <td>BiuroNieruchomościKWADRAT</td>\n",
       "      <td>Wrotków</td>\n",
       "      <td>40.0</td>\n",
       "    </tr>\n",
       "    <tr>\n",
       "      <td>10</td>\n",
       "      <td>56.0</td>\n",
       "      <td>6777.0</td>\n",
       "      <td>2</td>\n",
       "      <td>StrefaM</td>\n",
       "      <td>Czuby</td>\n",
       "      <td>38.0</td>\n",
       "    </tr>\n",
       "  </tbody>\n",
       "</table>\n",
       "</div>"
      ],
      "text/plain": [
       "    meters  price_m2  rooms                        dealer district  meters_cat\n",
       "0     61.8    5971.0      4                Ofertaprywatna      LSM        42.0\n",
       "1     79.0    6190.0      3  PółnocNieruchomościFranczyza      LSM        52.0\n",
       "4     56.0    6777.0      2                HomeBrokerS.A.    Czuby        38.0\n",
       "9     60.0    4967.0      3     BiuroNieruchomościKWADRAT  Wrotków        40.0\n",
       "10    56.0    6777.0      2                       StrefaM    Czuby        38.0"
      ]
     },
     "execution_count": 327,
     "metadata": {},
     "output_type": "execute_result"
    }
   ],
   "source": [
    "df.head()"
   ]
  },
  {
   "cell_type": "markdown",
   "metadata": {},
   "source": [
    "# Wizualizacja"
   ]
  },
  {
   "cell_type": "code",
   "execution_count": 328,
   "metadata": {},
   "outputs": [
    {
     "data": {
      "text/plain": [
       "<matplotlib.axes._subplots.AxesSubplot at 0x7fba8682fda0>"
      ]
     },
     "execution_count": 328,
     "metadata": {},
     "output_type": "execute_result"
    },
    {
     "data": {
      "image/png": "[encoded data removed]",
      "text/plain": [
       "<Figure size 432x288 with 2 Axes>"
      ]
     },
     "metadata": {
      "needs_background": "light"
     },
     "output_type": "display_data"
    }
   ],
   "source": [
    "df.plot(kind=\"scatter\", x=\"meters\", y=\"price_m2\", alpha=1,\n",
    "       c=\"rooms\", cmap=plt.get_cmap(\"plasma\"), colorbar=True,  sharex=False)"
   ]
  },
  {
   "cell_type": "markdown",
   "metadata": {},
   "source": [
    "# Korelacja"
   ]
  },
  {
   "cell_type": "code",
   "execution_count": 329,
   "metadata": {},
   "outputs": [],
   "source": [
    "corr_df = df.corr()"
   ]
  },
  {
   "cell_type": "code",
   "execution_count": 330,
   "metadata": {},
   "outputs": [
    {
     "data": {
      "text/plain": [
       "price_m2      1.000000\n",
       "rooms        -0.287420\n",
       "meters_cat   -0.304851\n",
       "meters       -0.307118\n",
       "Name: price_m2, dtype: float64"
      ]
     },
     "execution_count": 330,
     "metadata": {},
     "output_type": "execute_result"
    }
   ],
   "source": [
    "corr_df[\"price_m2\"].sort_values(ascending=False)"
   ]
  },
  {
   "cell_type": "code",
   "execution_count": 331,
   "metadata": {},
   "outputs": [
    {
     "data": {
      "text/plain": [
       "array([[<matplotlib.axes._subplots.AxesSubplot object at 0x7fba8671a048>,\n",
       "        <matplotlib.axes._subplots.AxesSubplot object at 0x7fba8673fe10>,\n",
       "        <matplotlib.axes._subplots.AxesSubplot object at 0x7fba866fc400>],\n",
       "       [<matplotlib.axes._subplots.AxesSubplot object at 0x7fba866aa9b0>,\n",
       "        <matplotlib.axes._subplots.AxesSubplot object at 0x7fba8665ef60>,\n",
       "        <matplotlib.axes._subplots.AxesSubplot object at 0x7fba86619550>],\n",
       "       [<matplotlib.axes._subplots.AxesSubplot object at 0x7fba8664ab00>,\n",
       "        <matplotlib.axes._subplots.AxesSubplot object at 0x7fba86609128>,\n",
       "        <matplotlib.axes._subplots.AxesSubplot object at 0x7fba86609160>]],\n",
       "      dtype=object)"
      ]
     },
     "execution_count": 331,
     "metadata": {},
     "output_type": "execute_result"
    },
    {
     "data": {
      "image/png": "[encoded data removed]",
      "text/plain": [
       "<Figure size 864x576 with 9 Axes>"
      ]
     },
     "metadata": {
      "needs_background": "light"
     },
     "output_type": "display_data"
    }
   ],
   "source": [
    "from pandas.plotting import scatter_matrix\n",
    "\n",
    "attributes = [\"price_m2\", \"rooms\", \"meters\"]\n",
    "scatter_matrix(df[attributes], figsize=(12, 8))"
   ]
  },
  {
   "cell_type": "markdown",
   "metadata": {},
   "source": [
    "# Kombinacje atrybutów"
   ]
  },
  {
   "cell_type": "code",
   "execution_count": 332,
   "metadata": {},
   "outputs": [],
   "source": [
    "df['meters_by_rooms'] = df['meters'] / df['rooms']\n",
    "df['rooms_by_meter'] = df['rooms'] / df['meters']"
   ]
  },
  {
   "cell_type": "code",
   "execution_count": 333,
   "metadata": {},
   "outputs": [
    {
     "data": {
      "text/plain": [
       "price_m2           1.000000\n",
       "meters_by_rooms    0.111595\n",
       "rooms_by_meter    -0.064449\n",
       "rooms             -0.287420\n",
       "meters_cat        -0.304851\n",
       "meters            -0.307118\n",
       "Name: price_m2, dtype: float64"
      ]
     },
     "execution_count": 333,
     "metadata": {},
     "output_type": "execute_result"
    }
   ],
   "source": [
    "corr_df = df.corr()\n",
    "corr_df[\"price_m2\"].sort_values(ascending=False)"
   ]
  },
  {
   "cell_type": "markdown",
   "metadata": {},
   "source": [
    "# Przygotowanie danych pod algorytmy"
   ]
  },
  {
   "cell_type": "code",
   "execution_count": 334,
   "metadata": {},
   "outputs": [],
   "source": [
    "#df = strat_train_set.drop(\"price_m2\", axis=1)\n",
    "#df_labels = strat_train_set[\"price_m2\"].copy()\n",
    "df = train_set.drop(\"price_m2\", axis=1)\n",
    "df_labels = train_set[\"price_m2\"].copy()"
   ]
  },
  {
   "cell_type": "code",
   "execution_count": 335,
   "metadata": {},
   "outputs": [],
   "source": [
    "#df_num = df.select_dtypes(include=[np.number]\n",
    "df_num = df.drop(['dealer', 'district', 'meters'], axis=1)"
   ]
  },
  {
   "cell_type": "code",
   "execution_count": 336,
   "metadata": {},
   "outputs": [
    {
     "data": {
      "text/html": [
       "<div>\n",
       "<style scoped>\n",
       "    .dataframe tbody tr th:only-of-type {\n",
       "        vertical-align: middle;\n",
       "    }\n",
       "\n",
       "    .dataframe tbody tr th {\n",
       "        vertical-align: top;\n",
       "    }\n",
       "\n",
       "    .dataframe thead th {\n",
       "        text-align: right;\n",
       "    }\n",
       "</style>\n",
       "<table border=\"1\" class=\"dataframe\">\n",
       "  <thead>\n",
       "    <tr style=\"text-align: right;\">\n",
       "      <th></th>\n",
       "      <th>rooms</th>\n",
       "      <th>meters_cat</th>\n",
       "    </tr>\n",
       "  </thead>\n",
       "  <tbody>\n",
       "    <tr>\n",
       "      <td>2140</td>\n",
       "      <td>3</td>\n",
       "      <td>48.0</td>\n",
       "    </tr>\n",
       "    <tr>\n",
       "      <td>53</td>\n",
       "      <td>3</td>\n",
       "      <td>36.0</td>\n",
       "    </tr>\n",
       "    <tr>\n",
       "      <td>410</td>\n",
       "      <td>2</td>\n",
       "      <td>48.0</td>\n",
       "    </tr>\n",
       "    <tr>\n",
       "      <td>2205</td>\n",
       "      <td>2</td>\n",
       "      <td>22.0</td>\n",
       "    </tr>\n",
       "    <tr>\n",
       "      <td>2084</td>\n",
       "      <td>3</td>\n",
       "      <td>40.0</td>\n",
       "    </tr>\n",
       "    <tr>\n",
       "      <td>...</td>\n",
       "      <td>...</td>\n",
       "      <td>...</td>\n",
       "    </tr>\n",
       "    <tr>\n",
       "      <td>2041</td>\n",
       "      <td>2</td>\n",
       "      <td>31.0</td>\n",
       "    </tr>\n",
       "    <tr>\n",
       "      <td>2128</td>\n",
       "      <td>3</td>\n",
       "      <td>41.0</td>\n",
       "    </tr>\n",
       "    <tr>\n",
       "      <td>2445</td>\n",
       "      <td>4</td>\n",
       "      <td>49.0</td>\n",
       "    </tr>\n",
       "    <tr>\n",
       "      <td>1574</td>\n",
       "      <td>1</td>\n",
       "      <td>22.0</td>\n",
       "    </tr>\n",
       "    <tr>\n",
       "      <td>2124</td>\n",
       "      <td>2</td>\n",
       "      <td>36.0</td>\n",
       "    </tr>\n",
       "  </tbody>\n",
       "</table>\n",
       "<p>1140 rows × 2 columns</p>\n",
       "</div>"
      ],
      "text/plain": [
       "      rooms  meters_cat\n",
       "2140      3        48.0\n",
       "53        3        36.0\n",
       "410       2        48.0\n",
       "2205      2        22.0\n",
       "2084      3        40.0\n",
       "...     ...         ...\n",
       "2041      2        31.0\n",
       "2128      3        41.0\n",
       "2445      4        49.0\n",
       "1574      1        22.0\n",
       "2124      2        36.0\n",
       "\n",
       "[1140 rows x 2 columns]"
      ]
     },
     "execution_count": 336,
     "metadata": {},
     "output_type": "execute_result"
    }
   ],
   "source": [
    "df_num"
   ]
  },
  {
   "cell_type": "markdown",
   "metadata": {},
   "source": [
    "# Atrybuty kategorialne dla tekstu"
   ]
  },
  {
   "cell_type": "code",
   "execution_count": 337,
   "metadata": {},
   "outputs": [],
   "source": [
    "from sklearn.preprocessing import OneHotEncoder"
   ]
  },
  {
   "cell_type": "code",
   "execution_count": 338,
   "metadata": {},
   "outputs": [],
   "source": [
    "dealer_cat = df['dealer']"
   ]
  },
  {
   "cell_type": "code",
   "execution_count": 339,
   "metadata": {},
   "outputs": [
    {
     "data": {
      "text/plain": [
       "array([0, 1, 2, 3, 4, 4, 5, 6, 7, 3])"
      ]
     },
     "execution_count": 339,
     "metadata": {},
     "output_type": "execute_result"
    }
   ],
   "source": [
    "dealer_cat_encoded, dealer_categories = dealer_cat.factorize()\n",
    "dealer_cat_encoded[:10]"
   ]
  },
  {
   "cell_type": "code",
   "execution_count": 340,
   "metadata": {},
   "outputs": [
    {
     "data": {
      "text/plain": [
       "Index(['Lokum', 'ExpressHouse', 'MetrohouseLublin',\n",
       "       'FRANCZEWSKANieruchomościs.c.', 'CLIVUSNieruchomości',\n",
       "       'NieruchomościLalakPropertiesSpzo.o.SKA', 'Ofertaprywatna',\n",
       "       'WMNieruchomości', 'HomeBrokerS.A.', 'Arena', 'NOWAKNieruchomości',\n",
       "       'BiuroNieruchomościKWADRAT', 'EMPTY', '3KLUCZEs.c.', 'HERMESHOUSE',\n",
       "       'ŻagielDomSp.zo.o.', 'BIGCITYBROKER', 'PrestigeBroker', 'Alfahouse',\n",
       "       'ElżbietaLiberdaLexPerfectaKancelariaRadcyPrawnegoiBiuroNieruchomości',\n",
       "       'PółnocNieruchomościFranczyza', 'RoyalNieruchomości', '4tepiętro',\n",
       "       'VISUMNIERUCHOMOŚCI', 'GrupaOrzełNenckarski', 'WłasnyKąt',\n",
       "       'LdomNieruchomości', 'HappyHome', 'StrefaM', 'LubelskieMieszkania',\n",
       "       'LogoInvest', 'FreedomNieruchomościFranczyza',\n",
       "       'WGNBiuroNieruchomościLublin', 'InvestorNieruchomościFranchise',\n",
       "       'BESTHOUSENieruchomości', 'BWBROKERBiuroNieruchomościBartłomiejWolak',\n",
       "       'K&MEstates', 'SzymanekNieruchomościSp.zo.o.', 'WIKANAS.A.',\n",
       "       'BIURONIERUCHOMOŚCIANMA', 'Login-HouseNieruchomości', 'LOGOINVEST',\n",
       "       'HomePartnerSp.zo.o.', 'BiuroNieruchomościARKADIA',\n",
       "       'BiuroNieruchomościKleczkowskiSp.zo.o.', 'geoDOMNieruchomości',\n",
       "       'GreenHouseNieruchomości', 'HOME-TRADER', 'BigCityInvestsp.zo.o',\n",
       "       'CapitalFinanseiNieruchomościKarolinaLato', 'PanoramaNieruchomości',\n",
       "       'INDEPRONIERUCHOMOŚCI', 'ADREMNIERUCHOMOŚCICEZARYPAPLIŃSKI',\n",
       "       'MGNieruchomości', 'HFBroker', 'OnestoBroker', 'M-HOUSENieruchomości',\n",
       "       'ExpertNieruchomości', 'ASNIERUCHOMOŚCIAndrzejSterniewski',\n",
       "       'NieruchomościWschód', 'BiuroNieruchomościFACTOR', 'HestusProperties',\n",
       "       'KancelariaFinansowaKrzysztofNieznaj', 'AptsLublin', 'LUKsp.zo.o.SKA',\n",
       "       'DomCzyMieszkanie', 'INDOORNIERUCHOMOŚCI'],\n",
       "      dtype='object')"
      ]
     },
     "execution_count": 340,
     "metadata": {},
     "output_type": "execute_result"
    }
   ],
   "source": [
    "dealer_categories"
   ]
  },
  {
   "cell_type": "code",
   "execution_count": 341,
   "metadata": {},
   "outputs": [
    {
     "data": {
      "text/plain": [
       "<1140x67 sparse matrix of type '<class 'numpy.float64'>'\n",
       "\twith 1140 stored elements in Compressed Sparse Row format>"
      ]
     },
     "execution_count": 341,
     "metadata": {},
     "output_type": "execute_result"
    }
   ],
   "source": [
    "encoder1 = OneHotEncoder(categories='auto')\n",
    "dealer_cat_1hot = encoder1.fit_transform(dealer_cat_encoded.reshape(-1,1))\n",
    "dealer_cat_1hot"
   ]
  },
  {
   "cell_type": "code",
   "execution_count": 342,
   "metadata": {},
   "outputs": [
    {
     "data": {
      "text/plain": [
       "array([[1., 0., 0., ..., 0., 0., 0.],\n",
       "       [0., 1., 0., ..., 0., 0., 0.],\n",
       "       [0., 0., 1., ..., 0., 0., 0.],\n",
       "       ...,\n",
       "       [0., 0., 0., ..., 0., 0., 0.],\n",
       "       [0., 0., 0., ..., 0., 0., 0.],\n",
       "       [0., 0., 0., ..., 0., 0., 0.]])"
      ]
     },
     "execution_count": 342,
     "metadata": {},
     "output_type": "execute_result"
    }
   ],
   "source": [
    "dealer_cat_1hot.toarray()"
   ]
  },
  {
   "cell_type": "code",
   "execution_count": 343,
   "metadata": {},
   "outputs": [],
   "source": [
    "district_cat = df['district']"
   ]
  },
  {
   "cell_type": "code",
   "execution_count": 344,
   "metadata": {},
   "outputs": [
    {
     "data": {
      "text/plain": [
       "array([0, 1, 0, 2, 0, 2, 2, 3, 3, 1])"
      ]
     },
     "execution_count": 344,
     "metadata": {},
     "output_type": "execute_result"
    }
   ],
   "source": [
    "district_cat_encoded, district_categories = district_cat.factorize()\n",
    "district_cat_encoded[:10]"
   ]
  },
  {
   "cell_type": "code",
   "execution_count": 345,
   "metadata": {},
   "outputs": [
    {
     "data": {
      "text/plain": [
       "Index(['LSM', 'Śródmieście', 'Wrotków', 'Bronowice', 'Czuby', 'Węglinek',\n",
       "       'Felin', 'Czechów'],\n",
       "      dtype='object')"
      ]
     },
     "execution_count": 345,
     "metadata": {},
     "output_type": "execute_result"
    }
   ],
   "source": [
    "district_categories"
   ]
  },
  {
   "cell_type": "code",
   "execution_count": 346,
   "metadata": {},
   "outputs": [
    {
     "data": {
      "text/plain": [
       "<1140x8 sparse matrix of type '<class 'numpy.float64'>'\n",
       "\twith 1140 stored elements in Compressed Sparse Row format>"
      ]
     },
     "execution_count": 346,
     "metadata": {},
     "output_type": "execute_result"
    }
   ],
   "source": [
    "encoder2 = OneHotEncoder(categories='auto')\n",
    "district_cat_1hot = encoder2.fit_transform(district_cat_encoded.reshape(-1,1))\n",
    "district_cat_1hot"
   ]
  },
  {
   "cell_type": "code",
   "execution_count": 347,
   "metadata": {},
   "outputs": [
    {
     "data": {
      "text/plain": [
       "array([[1., 0., 0., ..., 0., 0., 0.],\n",
       "       [0., 1., 0., ..., 0., 0., 0.],\n",
       "       [1., 0., 0., ..., 0., 0., 0.],\n",
       "       ...,\n",
       "       [0., 0., 0., ..., 0., 0., 0.],\n",
       "       [0., 0., 0., ..., 0., 0., 0.],\n",
       "       [0., 1., 0., ..., 0., 0., 0.]])"
      ]
     },
     "execution_count": 347,
     "metadata": {},
     "output_type": "execute_result"
    }
   ],
   "source": [
    "district_cat_1hot.toarray()"
   ]
  },
  {
   "cell_type": "code",
   "execution_count": 348,
   "metadata": {},
   "outputs": [],
   "source": [
    "from sklearn.base import BaseEstimator, TransformerMixin\n",
    "from sklearn.utils import check_array\n",
    "from sklearn.preprocessing import LabelEncoder\n",
    "from scipy import sparse\n",
    "\n",
    "class CategoricalEncoder(BaseEstimator, TransformerMixin):\n",
    "  \n",
    "\n",
    "    def __init__(self, encoding='onehot', categories='auto', dtype=np.float64,\n",
    "                 handle_unknown='error'):\n",
    "        self.encoding = encoding\n",
    "        self.categories = categories\n",
    "        self.dtype = dtype\n",
    "        self.handle_unknown = handle_unknown\n",
    "\n",
    "    def fit(self, X, y=None):\n",
    "\n",
    "        if self.encoding not in ['onehot', 'onehot-dense', 'ordinal']:\n",
    "            template = (\"Należy wybrać jedno z następujących kodowań: 'onehot', 'onehot-dense' \"\n",
    "                        \"lub 'ordinal', wybrano %s\")\n",
    "            raise ValueError(template % self.handle_unknown)\n",
    "\n",
    "        if self.handle_unknown not in ['error', 'ignore']:\n",
    "            template = (\"Należy wybrać jedną z następujących wartości parametru handle_unknown: 'error' lub \"\n",
    "                        \"'ignore', wybrano %s\")\n",
    "            raise ValueError(template % self.handle_unknown)\n",
    "\n",
    "        if self.encoding == 'ordinal' and self.handle_unknown == 'ignore':\n",
    "            raise ValueError(\"Wartość handle_unknown='ignore' nie jest obsługiwana przez parametr\"\n",
    "                             \" encoding='ordinal'\")\n",
    "\n",
    "        X = check_array(X, dtype=np.object, accept_sparse='csc', copy=True)\n",
    "        n_samples, n_features = X.shape\n",
    "\n",
    "        self._label_encoders_ = [LabelEncoder() for _ in range(n_features)]\n",
    "\n",
    "        for i in range(n_features):\n",
    "            le = self._label_encoders_[i]\n",
    "            Xi = X[:, i]\n",
    "            if self.categories == 'auto':\n",
    "                le.fit(Xi)\n",
    "            else:\n",
    "                valid_mask = np.in1d(Xi, self.categories[i])\n",
    "                if not np.all(valid_mask):\n",
    "                    if self.handle_unknown == 'error':\n",
    "                        diff = np.unique(Xi[~valid_mask])\n",
    "                        msg = (\"Znaleziono nieznane kategorie {0} w kolumnie {1}\"\n",
    "                               \" podczas dopasowywania\".format(diff, i))\n",
    "                        raise ValueError(msg)\n",
    "                le.classes_ = np.array(np.sort(self.categories[i]))\n",
    "\n",
    "        self.categories_ = [le.classes_ for le in self._label_encoders_]\n",
    "\n",
    "        return self\n",
    "\n",
    "    def transform(self, X):\n",
    "\n",
    "        X = check_array(X, accept_sparse='csc', dtype=np.object, copy=True)\n",
    "        n_samples, n_features = X.shape\n",
    "        X_int = np.zeros_like(X, dtype=np.int)\n",
    "        X_mask = np.ones_like(X, dtype=np.bool)\n",
    "\n",
    "        for i in range(n_features):\n",
    "            valid_mask = np.in1d(X[:, i], self.categories_[i])\n",
    "\n",
    "            if not np.all(valid_mask):\n",
    "                if self.handle_unknown == 'error':\n",
    "                    diff = np.unique(X[~valid_mask, i])\n",
    "                    msg = (\"Znaleziono nieznane kategorie {0} w kolumnie {1}\"\n",
    "                           \" podczas przekształcania\".format(diff, i))\n",
    "                    raise ValueError(msg)\n",
    "                else:\n",
    "                    X_mask[:, i] = valid_mask\n",
    "                    X[:, i][~valid_mask] = self.categories_[i][0]\n",
    "            X_int[:, i] = self._label_encoders_[i].transform(X[:, i])\n",
    "\n",
    "        if self.encoding == 'ordinal':\n",
    "            return X_int.astype(self.dtype, copy=False)\n",
    "\n",
    "        mask = X_mask.ravel()\n",
    "        n_values = [cats.shape[0] for cats in self.categories_]\n",
    "        n_values = np.array([0] + n_values)\n",
    "        indices = np.cumsum(n_values)\n",
    "\n",
    "        column_indices = (X_int + indices[:-1]).ravel()[mask]\n",
    "        row_indices = np.repeat(np.arange(n_samples, dtype=np.int32),\n",
    "                                n_features)[mask]\n",
    "        data = np.ones(n_samples * n_features)[mask]\n",
    "\n",
    "        out = sparse.csc_matrix((data, (row_indices, column_indices)),\n",
    "                                shape=(n_samples, indices[-1]),\n",
    "                                dtype=self.dtype).tocsr()\n",
    "        if self.encoding == 'onehot-dense':\n",
    "            return out.toarray()\n",
    "        else:\n",
    "            return out"
   ]
  },
  {
   "cell_type": "code",
   "execution_count": 349,
   "metadata": {},
   "outputs": [
    {
     "data": {
      "text/plain": [
       "<1140x67 sparse matrix of type '<class 'numpy.float64'>'\n",
       "\twith 1140 stored elements in Compressed Sparse Row format>"
      ]
     },
     "execution_count": 349,
     "metadata": {},
     "output_type": "execute_result"
    }
   ],
   "source": [
    "encoder1 = CategoricalEncoder()\n",
    "dealer_cat_reshaped = dealer_cat.values.reshape(-1, 1)\n",
    "housing_cat_1hot = encoder1.fit_transform(dealer_cat_reshaped)\n",
    "housing_cat_1hot"
   ]
  },
  {
   "cell_type": "code",
   "execution_count": 350,
   "metadata": {},
   "outputs": [
    {
     "data": {
      "text/plain": [
       "<1140x67 sparse matrix of type '<class 'numpy.float64'>'\n",
       "\twith 1140 stored elements in Compressed Sparse Row format>"
      ]
     },
     "execution_count": 350,
     "metadata": {},
     "output_type": "execute_result"
    }
   ],
   "source": [
    "encoder2 = CategoricalEncoder()\n",
    "district_cat_reshaped = district_cat.values.reshape(-1, 1)\n",
    "district_cat_1hot = encoder2.fit_transform(district_cat_reshaped)\n",
    "housing_cat_1hot"
   ]
  },
  {
   "cell_type": "code",
   "execution_count": 351,
   "metadata": {
    "scrolled": true
   },
   "outputs": [
    {
     "data": {
      "text/html": [
       "<div>\n",
       "<style scoped>\n",
       "    .dataframe tbody tr th:only-of-type {\n",
       "        vertical-align: middle;\n",
       "    }\n",
       "\n",
       "    .dataframe tbody tr th {\n",
       "        vertical-align: top;\n",
       "    }\n",
       "\n",
       "    .dataframe thead th {\n",
       "        text-align: right;\n",
       "    }\n",
       "</style>\n",
       "<table border=\"1\" class=\"dataframe\">\n",
       "  <thead>\n",
       "    <tr style=\"text-align: right;\">\n",
       "      <th></th>\n",
       "      <th>rooms</th>\n",
       "      <th>meters_cat</th>\n",
       "    </tr>\n",
       "  </thead>\n",
       "  <tbody>\n",
       "    <tr>\n",
       "      <td>2140</td>\n",
       "      <td>3</td>\n",
       "      <td>48.0</td>\n",
       "    </tr>\n",
       "    <tr>\n",
       "      <td>53</td>\n",
       "      <td>3</td>\n",
       "      <td>36.0</td>\n",
       "    </tr>\n",
       "    <tr>\n",
       "      <td>410</td>\n",
       "      <td>2</td>\n",
       "      <td>48.0</td>\n",
       "    </tr>\n",
       "    <tr>\n",
       "      <td>2205</td>\n",
       "      <td>2</td>\n",
       "      <td>22.0</td>\n",
       "    </tr>\n",
       "    <tr>\n",
       "      <td>2084</td>\n",
       "      <td>3</td>\n",
       "      <td>40.0</td>\n",
       "    </tr>\n",
       "    <tr>\n",
       "      <td>...</td>\n",
       "      <td>...</td>\n",
       "      <td>...</td>\n",
       "    </tr>\n",
       "    <tr>\n",
       "      <td>2041</td>\n",
       "      <td>2</td>\n",
       "      <td>31.0</td>\n",
       "    </tr>\n",
       "    <tr>\n",
       "      <td>2128</td>\n",
       "      <td>3</td>\n",
       "      <td>41.0</td>\n",
       "    </tr>\n",
       "    <tr>\n",
       "      <td>2445</td>\n",
       "      <td>4</td>\n",
       "      <td>49.0</td>\n",
       "    </tr>\n",
       "    <tr>\n",
       "      <td>1574</td>\n",
       "      <td>1</td>\n",
       "      <td>22.0</td>\n",
       "    </tr>\n",
       "    <tr>\n",
       "      <td>2124</td>\n",
       "      <td>2</td>\n",
       "      <td>36.0</td>\n",
       "    </tr>\n",
       "  </tbody>\n",
       "</table>\n",
       "<p>1140 rows × 2 columns</p>\n",
       "</div>"
      ],
      "text/plain": [
       "      rooms  meters_cat\n",
       "2140      3        48.0\n",
       "53        3        36.0\n",
       "410       2        48.0\n",
       "2205      2        22.0\n",
       "2084      3        40.0\n",
       "...     ...         ...\n",
       "2041      2        31.0\n",
       "2128      3        41.0\n",
       "2445      4        49.0\n",
       "1574      1        22.0\n",
       "2124      2        36.0\n",
       "\n",
       "[1140 rows x 2 columns]"
      ]
     },
     "execution_count": 351,
     "metadata": {},
     "output_type": "execute_result"
    }
   ],
   "source": [
    "df_num"
   ]
  },
  {
   "cell_type": "code",
   "execution_count": 352,
   "metadata": {},
   "outputs": [],
   "source": [
    "from sklearn.pipeline import Pipeline\n",
    "from sklearn.preprocessing import StandardScaler\n",
    "\n",
    "num_pipeline = Pipeline([\n",
    "        ('std_scaler', StandardScaler()),\n",
    "    ])\n",
    "\n",
    "df_num_tr = num_pipeline.fit_transform(df_num)"
   ]
  },
  {
   "cell_type": "code",
   "execution_count": 353,
   "metadata": {},
   "outputs": [
    {
     "data": {
      "text/plain": [
       "array([[ 0.51837652,  1.36189921],\n",
       "       [ 0.51837652, -0.01266042],\n",
       "       [-0.76073437,  1.36189921],\n",
       "       ...,\n",
       "       [ 1.79748741,  1.47644585],\n",
       "       [-2.03984526, -1.61631332],\n",
       "       [-0.76073437, -0.01266042]])"
      ]
     },
     "execution_count": 353,
     "metadata": {},
     "output_type": "execute_result"
    }
   ],
   "source": [
    "df_num_tr"
   ]
  },
  {
   "cell_type": "code",
   "execution_count": 354,
   "metadata": {},
   "outputs": [],
   "source": [
    "from sklearn.base import BaseEstimator, TransformerMixin\n",
    "\n",
    "class DataFrameSelector(BaseEstimator, TransformerMixin):\n",
    "    def __init__(self, attribute_names):\n",
    "        self.attribute_names = attribute_names\n",
    "    def fit(self, X, y=None):\n",
    "        return self\n",
    "    def transform(self, X):\n",
    "        return X[self.attribute_names].values"
   ]
  },
  {
   "cell_type": "code",
   "execution_count": 355,
   "metadata": {},
   "outputs": [],
   "source": [
    "num_attribs = list(df_num)\n",
    "cat_attribs = [\"dealer\", \"district\"]\n",
    "\n",
    "num_pipeline = Pipeline([\n",
    "        ('selector', DataFrameSelector(num_attribs)),\n",
    "        ('std_scaler', StandardScaler()),\n",
    "    ])\n",
    "\n",
    "cat_pipeline = Pipeline([\n",
    "        ('selector', DataFrameSelector(cat_attribs)),\n",
    "        ('encoder1', CategoricalEncoder(encoding=\"onehot-dense\")),\n",
    "        ('encoder2', CategoricalEncoder(encoding=\"onehot-dense\"))\n",
    "    ])"
   ]
  },
  {
   "cell_type": "code",
   "execution_count": 356,
   "metadata": {},
   "outputs": [],
   "source": [
    "from sklearn.pipeline import FeatureUnion\n",
    "\n",
    "full_pipeline = FeatureUnion(transformer_list=[\n",
    "        (\"num_pipeline\", num_pipeline),\n",
    "        (\"cat_pipeline\", cat_pipeline),\n",
    "    ])"
   ]
  },
  {
   "cell_type": "code",
   "execution_count": 357,
   "metadata": {},
   "outputs": [
    {
     "data": {
      "text/plain": [
       "array([[ 0.51837652,  1.36189921,  1.        , ...,  0.        ,\n",
       "         1.        ,  0.        ],\n",
       "       [ 0.51837652, -0.01266042,  1.        , ...,  0.        ,\n",
       "         0.        ,  1.        ],\n",
       "       [-0.76073437,  1.36189921,  1.        , ...,  0.        ,\n",
       "         1.        ,  0.        ],\n",
       "       ...,\n",
       "       [ 1.79748741,  1.47644585,  1.        , ...,  0.        ,\n",
       "         1.        ,  0.        ],\n",
       "       [-2.03984526, -1.61631332,  1.        , ...,  0.        ,\n",
       "         1.        ,  0.        ],\n",
       "       [-0.76073437, -0.01266042,  1.        , ...,  0.        ,\n",
       "         0.        ,  1.        ]])"
      ]
     },
     "execution_count": 357,
     "metadata": {},
     "output_type": "execute_result"
    }
   ],
   "source": [
    "df_prepared = full_pipeline.fit_transform(df)\n",
    "df_prepared"
   ]
  },
  {
   "cell_type": "code",
   "execution_count": 358,
   "metadata": {},
   "outputs": [
    {
     "data": {
      "text/plain": [
       "(1140, 152)"
      ]
     },
     "execution_count": 358,
     "metadata": {},
     "output_type": "execute_result"
    }
   ],
   "source": [
    "df_prepared.shape"
   ]
  },
  {
   "cell_type": "markdown",
   "metadata": {},
   "source": [
    "# Uczenie modelu"
   ]
  },
  {
   "cell_type": "code",
   "execution_count": 359,
   "metadata": {},
   "outputs": [
    {
     "data": {
      "text/plain": [
       "LinearRegression(copy_X=True, fit_intercept=True, n_jobs=None, normalize=False)"
      ]
     },
     "execution_count": 359,
     "metadata": {},
     "output_type": "execute_result"
    }
   ],
   "source": [
    "from sklearn.linear_model import LinearRegression\n",
    "\n",
    "lin_reg = LinearRegression()\n",
    "lin_reg.fit(df_prepared, df_labels)"
   ]
  },
  {
   "cell_type": "code",
   "execution_count": 360,
   "metadata": {},
   "outputs": [
    {
     "name": "stdout",
     "output_type": "stream",
     "text": [
      "Prognozy: [6073.5 7159.  7055.5 6328.  6421.5]\n"
     ]
    }
   ],
   "source": [
    "# Przetestujmy pełen potok na kilku próbkach uczących\n",
    "some_data = df.iloc[:5]\n",
    "some_labels = df_labels.iloc[:5]\n",
    "some_data_prepared = full_pipeline.transform(some_data)\n",
    "\n",
    "print(\"Prognozy:\", lin_reg.predict(some_data_prepared))"
   ]
  },
  {
   "cell_type": "markdown",
   "metadata": {},
   "source": [
    "### Porównanie wyników z rzeczywistymi wartościami"
   ]
  },
  {
   "cell_type": "code",
   "execution_count": 361,
   "metadata": {},
   "outputs": [
    {
     "name": "stdout",
     "output_type": "stream",
     "text": [
      "Etykiety: [6494.0, 9259.0, 9888.0, 5990.0, 6254.0]\n"
     ]
    }
   ],
   "source": [
    "print(\"Etykiety:\", list(some_labels))"
   ]
  },
  {
   "cell_type": "code",
   "execution_count": 362,
   "metadata": {},
   "outputs": [
    {
     "data": {
      "text/plain": [
       "array([[ 0.51837652,  1.36189921,  1.        ,  0.        ,  1.        ,\n",
       "         0.        ,  1.        ,  0.        ,  1.        ,  0.        ,\n",
       "         1.        ,  0.        ,  1.        ,  0.        ,  1.        ,\n",
       "         0.        ,  1.        ,  0.        ,  1.        ,  0.        ,\n",
       "         1.        ,  0.        ,  1.        ,  0.        ,  1.        ,\n",
       "         0.        ,  1.        ,  0.        ,  1.        ,  0.        ,\n",
       "         1.        ,  0.        ,  1.        ,  0.        ,  1.        ,\n",
       "         0.        ,  1.        ,  0.        ,  1.        ,  0.        ,\n",
       "         1.        ,  0.        ,  1.        ,  0.        ,  1.        ,\n",
       "         0.        ,  1.        ,  0.        ,  1.        ,  0.        ,\n",
       "         1.        ,  0.        ,  1.        ,  0.        ,  1.        ,\n",
       "         0.        ,  1.        ,  0.        ,  1.        ,  0.        ,\n",
       "         1.        ,  0.        ,  1.        ,  0.        ,  1.        ,\n",
       "         0.        ,  1.        ,  0.        ,  1.        ,  0.        ,\n",
       "         1.        ,  0.        ,  1.        ,  0.        ,  1.        ,\n",
       "         0.        ,  1.        ,  0.        ,  1.        ,  0.        ,\n",
       "         1.        ,  0.        ,  1.        ,  0.        ,  1.        ,\n",
       "         0.        ,  1.        ,  0.        ,  1.        ,  0.        ,\n",
       "         0.        ,  1.        ,  1.        ,  0.        ,  1.        ,\n",
       "         0.        ,  1.        ,  0.        ,  1.        ,  0.        ,\n",
       "         1.        ,  0.        ,  1.        ,  0.        ,  1.        ,\n",
       "         0.        ,  1.        ,  0.        ,  1.        ,  0.        ,\n",
       "         1.        ,  0.        ,  1.        ,  0.        ,  1.        ,\n",
       "         0.        ,  1.        ,  0.        ,  1.        ,  0.        ,\n",
       "         1.        ,  0.        ,  1.        ,  0.        ,  1.        ,\n",
       "         0.        ,  1.        ,  0.        ,  1.        ,  0.        ,\n",
       "         1.        ,  0.        ,  1.        ,  0.        ,  1.        ,\n",
       "         0.        ,  1.        ,  0.        ,  1.        ,  0.        ,\n",
       "         1.        ,  0.        ,  1.        ,  0.        ,  0.        ,\n",
       "         1.        ,  1.        ,  0.        ,  1.        ,  0.        ,\n",
       "         1.        ,  0.        ],\n",
       "       [ 0.51837652, -0.01266042,  1.        ,  0.        ,  1.        ,\n",
       "         0.        ,  1.        ,  0.        ,  1.        ,  0.        ,\n",
       "         1.        ,  0.        ,  1.        ,  0.        ,  1.        ,\n",
       "         0.        ,  1.        ,  0.        ,  1.        ,  0.        ,\n",
       "         1.        ,  0.        ,  1.        ,  0.        ,  1.        ,\n",
       "         0.        ,  1.        ,  0.        ,  1.        ,  0.        ,\n",
       "         1.        ,  0.        ,  1.        ,  0.        ,  1.        ,\n",
       "         0.        ,  1.        ,  0.        ,  1.        ,  0.        ,\n",
       "         1.        ,  0.        ,  1.        ,  0.        ,  1.        ,\n",
       "         0.        ,  0.        ,  1.        ,  1.        ,  0.        ,\n",
       "         1.        ,  0.        ,  1.        ,  0.        ,  1.        ,\n",
       "         0.        ,  1.        ,  0.        ,  1.        ,  0.        ,\n",
       "         1.        ,  0.        ,  1.        ,  0.        ,  1.        ,\n",
       "         0.        ,  1.        ,  0.        ,  1.        ,  0.        ,\n",
       "         1.        ,  0.        ,  1.        ,  0.        ,  1.        ,\n",
       "         0.        ,  1.        ,  0.        ,  1.        ,  0.        ,\n",
       "         1.        ,  0.        ,  1.        ,  0.        ,  1.        ,\n",
       "         0.        ,  1.        ,  0.        ,  1.        ,  0.        ,\n",
       "         1.        ,  0.        ,  1.        ,  0.        ,  1.        ,\n",
       "         0.        ,  1.        ,  0.        ,  1.        ,  0.        ,\n",
       "         1.        ,  0.        ,  1.        ,  0.        ,  1.        ,\n",
       "         0.        ,  1.        ,  0.        ,  1.        ,  0.        ,\n",
       "         1.        ,  0.        ,  1.        ,  0.        ,  1.        ,\n",
       "         0.        ,  1.        ,  0.        ,  1.        ,  0.        ,\n",
       "         1.        ,  0.        ,  1.        ,  0.        ,  1.        ,\n",
       "         0.        ,  1.        ,  0.        ,  1.        ,  0.        ,\n",
       "         1.        ,  0.        ,  1.        ,  0.        ,  1.        ,\n",
       "         0.        ,  1.        ,  0.        ,  1.        ,  0.        ,\n",
       "         1.        ,  0.        ,  1.        ,  0.        ,  1.        ,\n",
       "         0.        ,  1.        ,  0.        ,  1.        ,  0.        ,\n",
       "         0.        ,  1.        ],\n",
       "       [-0.76073437,  1.36189921,  1.        ,  0.        ,  1.        ,\n",
       "         0.        ,  1.        ,  0.        ,  1.        ,  0.        ,\n",
       "         1.        ,  0.        ,  1.        ,  0.        ,  1.        ,\n",
       "         0.        ,  1.        ,  0.        ,  1.        ,  0.        ,\n",
       "         1.        ,  0.        ,  1.        ,  0.        ,  1.        ,\n",
       "         0.        ,  1.        ,  0.        ,  1.        ,  0.        ,\n",
       "         1.        ,  0.        ,  1.        ,  0.        ,  1.        ,\n",
       "         0.        ,  1.        ,  0.        ,  1.        ,  0.        ,\n",
       "         1.        ,  0.        ,  1.        ,  0.        ,  1.        ,\n",
       "         0.        ,  1.        ,  0.        ,  1.        ,  0.        ,\n",
       "         1.        ,  0.        ,  1.        ,  0.        ,  1.        ,\n",
       "         0.        ,  1.        ,  0.        ,  1.        ,  0.        ,\n",
       "         1.        ,  0.        ,  1.        ,  0.        ,  1.        ,\n",
       "         0.        ,  1.        ,  0.        ,  1.        ,  0.        ,\n",
       "         1.        ,  0.        ,  1.        ,  0.        ,  1.        ,\n",
       "         0.        ,  1.        ,  0.        ,  1.        ,  0.        ,\n",
       "         1.        ,  0.        ,  1.        ,  0.        ,  1.        ,\n",
       "         0.        ,  1.        ,  0.        ,  1.        ,  0.        ,\n",
       "         1.        ,  0.        ,  1.        ,  0.        ,  1.        ,\n",
       "         0.        ,  1.        ,  0.        ,  0.        ,  1.        ,\n",
       "         1.        ,  0.        ,  1.        ,  0.        ,  1.        ,\n",
       "         0.        ,  1.        ,  0.        ,  1.        ,  0.        ,\n",
       "         1.        ,  0.        ,  1.        ,  0.        ,  1.        ,\n",
       "         0.        ,  1.        ,  0.        ,  1.        ,  0.        ,\n",
       "         1.        ,  0.        ,  1.        ,  0.        ,  1.        ,\n",
       "         0.        ,  1.        ,  0.        ,  1.        ,  0.        ,\n",
       "         1.        ,  0.        ,  1.        ,  0.        ,  1.        ,\n",
       "         0.        ,  1.        ,  0.        ,  1.        ,  0.        ,\n",
       "         1.        ,  0.        ,  1.        ,  0.        ,  0.        ,\n",
       "         1.        ,  1.        ,  0.        ,  1.        ,  0.        ,\n",
       "         1.        ,  0.        ],\n",
       "       [-0.76073437, -1.61631332,  1.        ,  0.        ,  1.        ,\n",
       "         0.        ,  1.        ,  0.        ,  1.        ,  0.        ,\n",
       "         1.        ,  0.        ,  1.        ,  0.        ,  1.        ,\n",
       "         0.        ,  1.        ,  0.        ,  1.        ,  0.        ,\n",
       "         1.        ,  0.        ,  1.        ,  0.        ,  1.        ,\n",
       "         0.        ,  1.        ,  0.        ,  1.        ,  0.        ,\n",
       "         1.        ,  0.        ,  1.        ,  0.        ,  1.        ,\n",
       "         0.        ,  1.        ,  0.        ,  1.        ,  0.        ,\n",
       "         1.        ,  0.        ,  1.        ,  0.        ,  1.        ,\n",
       "         0.        ,  1.        ,  0.        ,  0.        ,  1.        ,\n",
       "         1.        ,  0.        ,  1.        ,  0.        ,  1.        ,\n",
       "         0.        ,  1.        ,  0.        ,  1.        ,  0.        ,\n",
       "         1.        ,  0.        ,  1.        ,  0.        ,  1.        ,\n",
       "         0.        ,  1.        ,  0.        ,  1.        ,  0.        ,\n",
       "         1.        ,  0.        ,  1.        ,  0.        ,  1.        ,\n",
       "         0.        ,  1.        ,  0.        ,  1.        ,  0.        ,\n",
       "         1.        ,  0.        ,  1.        ,  0.        ,  1.        ,\n",
       "         0.        ,  1.        ,  0.        ,  1.        ,  0.        ,\n",
       "         1.        ,  0.        ,  1.        ,  0.        ,  1.        ,\n",
       "         0.        ,  1.        ,  0.        ,  1.        ,  0.        ,\n",
       "         1.        ,  0.        ,  1.        ,  0.        ,  1.        ,\n",
       "         0.        ,  1.        ,  0.        ,  1.        ,  0.        ,\n",
       "         1.        ,  0.        ,  1.        ,  0.        ,  1.        ,\n",
       "         0.        ,  1.        ,  0.        ,  1.        ,  0.        ,\n",
       "         1.        ,  0.        ,  1.        ,  0.        ,  1.        ,\n",
       "         0.        ,  1.        ,  0.        ,  1.        ,  0.        ,\n",
       "         1.        ,  0.        ,  1.        ,  0.        ,  1.        ,\n",
       "         0.        ,  1.        ,  0.        ,  1.        ,  0.        ,\n",
       "         1.        ,  0.        ,  1.        ,  0.        ,  1.        ,\n",
       "         0.        ,  0.        ,  1.        ,  1.        ,  0.        ,\n",
       "         1.        ,  0.        ],\n",
       "       [ 0.51837652,  0.44552612,  1.        ,  0.        ,  1.        ,\n",
       "         0.        ,  1.        ,  0.        ,  1.        ,  0.        ,\n",
       "         1.        ,  0.        ,  1.        ,  0.        ,  1.        ,\n",
       "         0.        ,  1.        ,  0.        ,  1.        ,  0.        ,\n",
       "         1.        ,  0.        ,  1.        ,  0.        ,  1.        ,\n",
       "         0.        ,  1.        ,  0.        ,  1.        ,  0.        ,\n",
       "         1.        ,  0.        ,  1.        ,  0.        ,  0.        ,\n",
       "         1.        ,  1.        ,  0.        ,  1.        ,  0.        ,\n",
       "         1.        ,  0.        ,  1.        ,  0.        ,  1.        ,\n",
       "         0.        ,  1.        ,  0.        ,  1.        ,  0.        ,\n",
       "         1.        ,  0.        ,  1.        ,  0.        ,  1.        ,\n",
       "         0.        ,  1.        ,  0.        ,  1.        ,  0.        ,\n",
       "         1.        ,  0.        ,  1.        ,  0.        ,  1.        ,\n",
       "         0.        ,  1.        ,  0.        ,  1.        ,  0.        ,\n",
       "         1.        ,  0.        ,  1.        ,  0.        ,  1.        ,\n",
       "         0.        ,  1.        ,  0.        ,  1.        ,  0.        ,\n",
       "         1.        ,  0.        ,  1.        ,  0.        ,  1.        ,\n",
       "         0.        ,  1.        ,  0.        ,  1.        ,  0.        ,\n",
       "         1.        ,  0.        ,  1.        ,  0.        ,  1.        ,\n",
       "         0.        ,  1.        ,  0.        ,  1.        ,  0.        ,\n",
       "         1.        ,  0.        ,  1.        ,  0.        ,  1.        ,\n",
       "         0.        ,  1.        ,  0.        ,  1.        ,  0.        ,\n",
       "         1.        ,  0.        ,  1.        ,  0.        ,  1.        ,\n",
       "         0.        ,  1.        ,  0.        ,  1.        ,  0.        ,\n",
       "         1.        ,  0.        ,  1.        ,  0.        ,  1.        ,\n",
       "         0.        ,  1.        ,  0.        ,  1.        ,  0.        ,\n",
       "         1.        ,  0.        ,  1.        ,  0.        ,  1.        ,\n",
       "         0.        ,  1.        ,  0.        ,  1.        ,  0.        ,\n",
       "         1.        ,  0.        ,  1.        ,  0.        ,  0.        ,\n",
       "         1.        ,  1.        ,  0.        ,  1.        ,  0.        ,\n",
       "         1.        ,  0.        ]])"
      ]
     },
     "execution_count": 362,
     "metadata": {},
     "output_type": "execute_result"
    }
   ],
   "source": [
    "some_data_prepared"
   ]
  },
  {
   "cell_type": "code",
   "execution_count": 363,
   "metadata": {},
   "outputs": [
    {
     "data": {
      "text/plain": [
       "735.4285448074095"
      ]
     },
     "execution_count": 363,
     "metadata": {},
     "output_type": "execute_result"
    }
   ],
   "source": [
    "from sklearn.metrics import mean_squared_error\n",
    "\n",
    "df_predictions = lin_reg.predict(df_prepared)\n",
    "lin_mse = mean_squared_error(df_labels, df_predictions)\n",
    "lin_rmse = np.sqrt(lin_mse)\n",
    "lin_rmse"
   ]
  },
  {
   "cell_type": "code",
   "execution_count": 364,
   "metadata": {},
   "outputs": [
    {
     "data": {
      "text/plain": [
       "480.64956140350876"
      ]
     },
     "execution_count": 364,
     "metadata": {},
     "output_type": "execute_result"
    }
   ],
   "source": [
    "from sklearn.metrics import mean_absolute_error\n",
    "\n",
    "lin_mae = mean_absolute_error(df_labels, df_predictions)\n",
    "lin_mae"
   ]
  },
  {
   "cell_type": "code",
   "execution_count": 365,
   "metadata": {},
   "outputs": [
    {
     "data": {
      "text/plain": [
       "DecisionTreeRegressor(criterion='mse', max_depth=None, max_features=None,\n",
       "                      max_leaf_nodes=None, min_impurity_decrease=0.0,\n",
       "                      min_impurity_split=None, min_samples_leaf=1,\n",
       "                      min_samples_split=2, min_weight_fraction_leaf=0.0,\n",
       "                      presort=False, random_state=42, splitter='best')"
      ]
     },
     "execution_count": 365,
     "metadata": {},
     "output_type": "execute_result"
    }
   ],
   "source": [
    "from sklearn.tree import DecisionTreeRegressor\n",
    "\n",
    "tree_reg = DecisionTreeRegressor(random_state=42)\n",
    "tree_reg.fit(df_prepared, df_labels)"
   ]
  },
  {
   "cell_type": "code",
   "execution_count": 366,
   "metadata": {},
   "outputs": [
    {
     "data": {
      "text/plain": [
       "DecisionTreeRegressor(criterion='mse', max_depth=None, max_features=None,\n",
       "                      max_leaf_nodes=None, min_impurity_decrease=0.0,\n",
       "                      min_impurity_split=1e-07, min_samples_leaf=1,\n",
       "                      min_samples_split=2, min_weight_fraction_leaf=0.0,\n",
       "                      presort=False, random_state=42, splitter='best')"
      ]
     },
     "execution_count": 366,
     "metadata": {},
     "output_type": "execute_result"
    }
   ],
   "source": [
    "DecisionTreeRegressor(criterion='mse', max_depth=None, max_features=None,\n",
    "           max_leaf_nodes=None, min_impurity_split=1e-07,\n",
    "           min_samples_leaf=1, min_samples_split=2,\n",
    "           min_weight_fraction_leaf=0.0, presort=False, random_state=42,\n",
    "           splitter='best')"
   ]
  },
  {
   "cell_type": "code",
   "execution_count": 367,
   "metadata": {},
   "outputs": [
    {
     "data": {
      "text/plain": [
       "145.81447327392726"
      ]
     },
     "execution_count": 367,
     "metadata": {},
     "output_type": "execute_result"
    }
   ],
   "source": [
    "df_predictions = tree_reg.predict(df_prepared)\n",
    "tree_mse = mean_squared_error(df_labels, df_predictions)\n",
    "tree_rmse = np.sqrt(tree_mse)\n",
    "tree_rmse"
   ]
  },
  {
   "cell_type": "code",
   "execution_count": 368,
   "metadata": {},
   "outputs": [
    {
     "data": {
      "text/plain": [
       "42.45937148621359"
      ]
     },
     "execution_count": 368,
     "metadata": {},
     "output_type": "execute_result"
    }
   ],
   "source": [
    "tre_mae = mean_absolute_error(df_labels, df_predictions)\n",
    "tre_mae"
   ]
  },
  {
   "cell_type": "markdown",
   "metadata": {},
   "source": [
    "# Regulowanie modelu"
   ]
  },
  {
   "cell_type": "markdown",
   "metadata": {},
   "source": [
    "### Sprawdzian krzyżowy"
   ]
  },
  {
   "cell_type": "code",
   "execution_count": 369,
   "metadata": {},
   "outputs": [],
   "source": [
    "from sklearn.model_selection import cross_val_score\n",
    "\n",
    "scores = cross_val_score(tree_reg, df_prepared, df_labels,\n",
    "                         scoring=\"neg_mean_squared_error\", cv=10)\n",
    "tree_rmse_scores = np.sqrt(-scores)"
   ]
  },
  {
   "cell_type": "code",
   "execution_count": 370,
   "metadata": {},
   "outputs": [
    {
     "name": "stdout",
     "output_type": "stream",
     "text": [
      "Wyniki: [942.96404805 791.9569513  851.95075422 630.77832588 731.98972651\n",
      " 693.35846842 680.49198813 747.82797531 968.26257769 931.44465813]\n",
      "Średnia: 797.1025473639804\n",
      "Odchylenie standardowe: 114.16926251216027\n"
     ]
    }
   ],
   "source": [
    "def display_scores(scores):\n",
    "    print(\"Wyniki:\", scores)\n",
    "    print(\"Średnia:\", scores.mean())\n",
    "    print(\"Odchylenie standardowe:\", scores.std())\n",
    "\n",
    "display_scores(tree_rmse_scores)"
   ]
  },
  {
   "cell_type": "code",
   "execution_count": 371,
   "metadata": {},
   "outputs": [
    {
     "name": "stdout",
     "output_type": "stream",
     "text": [
      "Wyniki: [1.81763022e+13 6.54435816e+02 8.57623802e+12 1.29320003e+14\n",
      " 9.61118036e+02 4.82994979e+12 7.10748385e+02 1.28393484e+14\n",
      " 2.19472459e+12 4.07820365e+14]\n",
      "Średnia: 69931106708322.336\n",
      "Odchylenie standardowe: 122904222246690.52\n"
     ]
    }
   ],
   "source": [
    "lin_scores = cross_val_score(lin_reg, df_prepared, df_labels,\n",
    "                             scoring=\"neg_mean_squared_error\", cv=10)\n",
    "lin_rmse_scores = np.sqrt(-lin_scores)\n",
    "display_scores(lin_rmse_scores)"
   ]
  },
  {
   "cell_type": "code",
   "execution_count": 373,
   "metadata": {},
   "outputs": [
    {
     "name": "stderr",
     "output_type": "stream",
     "text": [
      "/home/adsum/.local/lib/python3.6/site-packages/sklearn/ensemble/forest.py:245: FutureWarning: The default value of n_estimators will change from 10 in version 0.20 to 100 in 0.22.\n",
      "  \"10 in version 0.20 to 100 in 0.22.\", FutureWarning)\n"
     ]
    },
    {
     "data": {
      "text/plain": [
       "RandomForestRegressor(bootstrap=True, criterion='mse', max_depth=None,\n",
       "                      max_features='auto', max_leaf_nodes=None,\n",
       "                      min_impurity_decrease=0.0, min_impurity_split=None,\n",
       "                      min_samples_leaf=1, min_samples_split=2,\n",
       "                      min_weight_fraction_leaf=0.0, n_estimators=10,\n",
       "                      n_jobs=None, oob_score=False, random_state=42, verbose=0,\n",
       "                      warm_start=False)"
      ]
     },
     "execution_count": 373,
     "metadata": {},
     "output_type": "execute_result"
    }
   ],
   "source": [
    "from sklearn.ensemble import RandomForestRegressor\n",
    "\n",
    "forest_reg = RandomForestRegressor(random_state=42)\n",
    "forest_reg.fit(df_prepared, df_labels)"
   ]
  },
  {
   "cell_type": "code",
   "execution_count": 376,
   "metadata": {},
   "outputs": [
    {
     "data": {
      "text/plain": [
       "308.77853905588165"
      ]
     },
     "execution_count": 376,
     "metadata": {},
     "output_type": "execute_result"
    }
   ],
   "source": [
    "df_predictions = forest_reg.predict(df_prepared)\n",
    "forest_mse = mean_squared_error(df_labels, df_predictions)\n",
    "forest_rmse = np.sqrt(forest_mse)\n",
    "forest_rmse"
   ]
  },
  {
   "cell_type": "code",
   "execution_count": 377,
   "metadata": {},
   "outputs": [
    {
     "name": "stdout",
     "output_type": "stream",
     "text": [
      "Wyniki: [911.57575174 584.05393175 781.34053693 568.2357147  786.76139775\n",
      " 624.12918555 701.13560231 655.5866     755.97397812 851.77918253]\n",
      "Średnia: 722.0571881380508\n",
      "Odchylenie standardowe: 108.97177184992427\n"
     ]
    }
   ],
   "source": [
    "from sklearn.model_selection import cross_val_score\n",
    "\n",
    "forest_scores = cross_val_score(forest_reg, df_prepared, df_labels,\n",
    "                                scoring=\"neg_mean_squared_error\", cv=10)\n",
    "forest_rmse_scores = np.sqrt(-forest_scores)\n",
    "display_scores(forest_rmse_scores)"
   ]
  },
  {
   "cell_type": "code",
   "execution_count": 378,
   "metadata": {
    "scrolled": true
   },
   "outputs": [
    {
     "data": {
      "text/plain": [
       "count    1.000000e+01\n",
       "mean     6.993111e+13\n",
       "std      1.295524e+14\n",
       "min      6.544358e+02\n",
       "25%      5.486811e+11\n",
       "50%      6.703094e+12\n",
       "75%      1.008392e+14\n",
       "max      4.078204e+14\n",
       "dtype: float64"
      ]
     },
     "execution_count": 378,
     "metadata": {},
     "output_type": "execute_result"
    }
   ],
   "source": [
    "scores = cross_val_score(lin_reg, df_prepared, df_labels, scoring=\"neg_mean_squared_error\", cv=10)\n",
    "pd.Series(np.sqrt(-scores)).describe()"
   ]
  },
  {
   "cell_type": "code",
   "execution_count": 381,
   "metadata": {},
   "outputs": [
    {
     "data": {
      "text/plain": [
       "947.4552225053365"
      ]
     },
     "execution_count": 381,
     "metadata": {},
     "output_type": "execute_result"
    }
   ],
   "source": [
    "from sklearn.svm import SVR\n",
    "\n",
    "svm_reg = SVR(kernel=\"linear\")\n",
    "svm_reg.fit(df_prepared, df_labels)\n",
    "df_predictions = svm_reg.predict(df_prepared)\n",
    "svm_mse = mean_squared_error(df_labels, df_predictions)\n",
    "svm_rmse = np.sqrt(svm_mse)\n",
    "svm_rmse"
   ]
  },
  {
   "cell_type": "markdown",
   "metadata": {},
   "source": [
    "### Metoda przeszukiwania siatki"
   ]
  },
  {
   "cell_type": "code",
   "execution_count": 387,
   "metadata": {},
   "outputs": [
    {
     "data": {
      "text/plain": [
       "GridSearchCV(cv=5, error_score='raise-deprecating',\n",
       "             estimator=RandomForestRegressor(bootstrap=True, criterion='mse',\n",
       "                                             max_depth=None,\n",
       "                                             max_features='auto',\n",
       "                                             max_leaf_nodes=None,\n",
       "                                             min_impurity_decrease=0.0,\n",
       "                                             min_impurity_split=None,\n",
       "                                             min_samples_leaf=1,\n",
       "                                             min_samples_split=2,\n",
       "                                             min_weight_fraction_leaf=0.0,\n",
       "                                             n_estimators='warn', n_jobs=None,\n",
       "                                             oob_score=False, random_state=42,\n",
       "                                             verbose=0, warm_start=False),\n",
       "             iid='warn', n_jobs=None,\n",
       "             param_grid=[{'max_features': [6, 8, 9, 10, 15, 20],\n",
       "                          'n_estimators': [5, 15, 25, 40, 60]},\n",
       "                         {'bootstrap': [False], 'max_features': [2, 3, 4],\n",
       "                          'n_estimators': [3, 10]}],\n",
       "             pre_dispatch='2*n_jobs', refit=True, return_train_score=True,\n",
       "             scoring='neg_mean_squared_error', verbose=0)"
      ]
     },
     "execution_count": 387,
     "metadata": {},
     "output_type": "execute_result"
    }
   ],
   "source": [
    "from sklearn.model_selection import GridSearchCV\n",
    "\n",
    "param_grid = [\n",
    "    {'n_estimators': [5, 15, 25, 40, 60], 'max_features': [6, 8, 9, 10, 15, 20]},\n",
    "    {'bootstrap': [False], 'n_estimators': [3, 10], 'max_features': [2, 3, 4]},\n",
    "  ]\n",
    "\n",
    "forest_reg = RandomForestRegressor(random_state=42)\n",
    "grid_search = GridSearchCV(forest_reg, param_grid, cv=5,\n",
    "                           scoring='neg_mean_squared_error', return_train_score=True)\n",
    "grid_search.fit(df_prepared, df_labels)"
   ]
  },
  {
   "cell_type": "code",
   "execution_count": 388,
   "metadata": {},
   "outputs": [
    {
     "data": {
      "text/plain": [
       "{'max_features': 15, 'n_estimators': 40}"
      ]
     },
     "execution_count": 388,
     "metadata": {},
     "output_type": "execute_result"
    }
   ],
   "source": [
    "grid_search.best_params_"
   ]
  },
  {
   "cell_type": "code",
   "execution_count": 389,
   "metadata": {},
   "outputs": [
    {
     "data": {
      "text/plain": [
       "RandomForestRegressor(bootstrap=True, criterion='mse', max_depth=None,\n",
       "                      max_features=15, max_leaf_nodes=None,\n",
       "                      min_impurity_decrease=0.0, min_impurity_split=None,\n",
       "                      min_samples_leaf=1, min_samples_split=2,\n",
       "                      min_weight_fraction_leaf=0.0, n_estimators=40,\n",
       "                      n_jobs=None, oob_score=False, random_state=42, verbose=0,\n",
       "                      warm_start=False)"
      ]
     },
     "execution_count": 389,
     "metadata": {},
     "output_type": "execute_result"
    }
   ],
   "source": [
    "grid_search.best_estimator_"
   ]
  },
  {
   "cell_type": "code",
   "execution_count": 390,
   "metadata": {},
   "outputs": [
    {
     "name": "stdout",
     "output_type": "stream",
     "text": [
      "781.7667995296789 {'max_features': 6, 'n_estimators': 5}\n",
      "762.3210912692949 {'max_features': 6, 'n_estimators': 15}\n",
      "755.3189015164866 {'max_features': 6, 'n_estimators': 25}\n",
      "750.7371376881562 {'max_features': 6, 'n_estimators': 40}\n",
      "751.9924002097027 {'max_features': 6, 'n_estimators': 60}\n",
      "790.6916946258523 {'max_features': 8, 'n_estimators': 5}\n",
      "764.5444155638296 {'max_features': 8, 'n_estimators': 15}\n",
      "750.0350056765117 {'max_features': 8, 'n_estimators': 25}\n",
      "748.0172241977601 {'max_features': 8, 'n_estimators': 40}\n",
      "751.271266286596 {'max_features': 8, 'n_estimators': 60}\n",
      "787.846076107474 {'max_features': 9, 'n_estimators': 5}\n",
      "754.8851563620395 {'max_features': 9, 'n_estimators': 15}\n",
      "746.7012333770315 {'max_features': 9, 'n_estimators': 25}\n",
      "740.951642891323 {'max_features': 9, 'n_estimators': 40}\n",
      "742.9518020963376 {'max_features': 9, 'n_estimators': 60}\n",
      "806.6290347277952 {'max_features': 10, 'n_estimators': 5}\n",
      "755.7644363253977 {'max_features': 10, 'n_estimators': 15}\n",
      "745.5518670840189 {'max_features': 10, 'n_estimators': 25}\n",
      "738.4056575520859 {'max_features': 10, 'n_estimators': 40}\n",
      "741.7173964318432 {'max_features': 10, 'n_estimators': 60}\n",
      "790.7188745843445 {'max_features': 15, 'n_estimators': 5}\n",
      "737.1036734810065 {'max_features': 15, 'n_estimators': 15}\n",
      "722.1879025103664 {'max_features': 15, 'n_estimators': 25}\n",
      "720.7842662085875 {'max_features': 15, 'n_estimators': 40}\n",
      "726.9009789258662 {'max_features': 15, 'n_estimators': 60}\n",
      "778.519465903875 {'max_features': 20, 'n_estimators': 5}\n",
      "743.3942901070232 {'max_features': 20, 'n_estimators': 15}\n",
      "728.810232224857 {'max_features': 20, 'n_estimators': 25}\n",
      "727.2326401117248 {'max_features': 20, 'n_estimators': 40}\n",
      "725.1492886682838 {'max_features': 20, 'n_estimators': 60}\n",
      "871.8557855682972 {'bootstrap': False, 'max_features': 2, 'n_estimators': 3}\n",
      "830.4467375468713 {'bootstrap': False, 'max_features': 2, 'n_estimators': 10}\n",
      "869.1558589858112 {'bootstrap': False, 'max_features': 3, 'n_estimators': 3}\n",
      "847.6268104204922 {'bootstrap': False, 'max_features': 3, 'n_estimators': 10}\n",
      "873.7219920442845 {'bootstrap': False, 'max_features': 4, 'n_estimators': 3}\n",
      "838.1696714554939 {'bootstrap': False, 'max_features': 4, 'n_estimators': 10}\n"
     ]
    }
   ],
   "source": [
    "cvres = grid_search.cv_results_\n",
    "for mean_score, params in zip(cvres[\"mean_test_score\"], cvres[\"params\"]):\n",
    "    print(np.sqrt(-mean_score), params)"
   ]
  },
  {
   "cell_type": "code",
   "execution_count": 391,
   "metadata": {},
   "outputs": [
    {
     "data": {
      "text/html": [
       "<div>\n",
       "<style scoped>\n",
       "    .dataframe tbody tr th:only-of-type {\n",
       "        vertical-align: middle;\n",
       "    }\n",
       "\n",
       "    .dataframe tbody tr th {\n",
       "        vertical-align: top;\n",
       "    }\n",
       "\n",
       "    .dataframe thead th {\n",
       "        text-align: right;\n",
       "    }\n",
       "</style>\n",
       "<table border=\"1\" class=\"dataframe\">\n",
       "  <thead>\n",
       "    <tr style=\"text-align: right;\">\n",
       "      <th></th>\n",
       "      <th>mean_fit_time</th>\n",
       "      <th>std_fit_time</th>\n",
       "      <th>mean_score_time</th>\n",
       "      <th>std_score_time</th>\n",
       "      <th>param_max_features</th>\n",
       "      <th>param_n_estimators</th>\n",
       "      <th>param_bootstrap</th>\n",
       "      <th>params</th>\n",
       "      <th>split0_test_score</th>\n",
       "      <th>split1_test_score</th>\n",
       "      <th>...</th>\n",
       "      <th>mean_test_score</th>\n",
       "      <th>std_test_score</th>\n",
       "      <th>rank_test_score</th>\n",
       "      <th>split0_train_score</th>\n",
       "      <th>split1_train_score</th>\n",
       "      <th>split2_train_score</th>\n",
       "      <th>split3_train_score</th>\n",
       "      <th>split4_train_score</th>\n",
       "      <th>mean_train_score</th>\n",
       "      <th>std_train_score</th>\n",
       "    </tr>\n",
       "  </thead>\n",
       "  <tbody>\n",
       "    <tr>\n",
       "      <td>0</td>\n",
       "      <td>0.037612</td>\n",
       "      <td>0.002210</td>\n",
       "      <td>0.003345</td>\n",
       "      <td>0.000170</td>\n",
       "      <td>6</td>\n",
       "      <td>5</td>\n",
       "      <td>NaN</td>\n",
       "      <td>{'max_features': 6, 'n_estimators': 5}</td>\n",
       "      <td>-7.032419e+05</td>\n",
       "      <td>-577875.473465</td>\n",
       "      <td>...</td>\n",
       "      <td>-611159.328847</td>\n",
       "      <td>54132.686570</td>\n",
       "      <td>26</td>\n",
       "      <td>-137659.238306</td>\n",
       "      <td>-172352.662350</td>\n",
       "      <td>-155460.453973</td>\n",
       "      <td>-182832.627453</td>\n",
       "      <td>-149496.057824</td>\n",
       "      <td>-159560.207981</td>\n",
       "      <td>16143.109805</td>\n",
       "    </tr>\n",
       "    <tr>\n",
       "      <td>1</td>\n",
       "      <td>0.093902</td>\n",
       "      <td>0.001007</td>\n",
       "      <td>0.004835</td>\n",
       "      <td>0.000093</td>\n",
       "      <td>6</td>\n",
       "      <td>15</td>\n",
       "      <td>NaN</td>\n",
       "      <td>{'max_features': 6, 'n_estimators': 15}</td>\n",
       "      <td>-7.295180e+05</td>\n",
       "      <td>-532146.763460</td>\n",
       "      <td>...</td>\n",
       "      <td>-581133.446194</td>\n",
       "      <td>82007.186405</td>\n",
       "      <td>23</td>\n",
       "      <td>-108741.568672</td>\n",
       "      <td>-108438.725855</td>\n",
       "      <td>-114168.223470</td>\n",
       "      <td>-123955.061840</td>\n",
       "      <td>-106704.827240</td>\n",
       "      <td>-112401.681415</td>\n",
       "      <td>6295.345259</td>\n",
       "    </tr>\n",
       "    <tr>\n",
       "      <td>2</td>\n",
       "      <td>0.156875</td>\n",
       "      <td>0.004279</td>\n",
       "      <td>0.007076</td>\n",
       "      <td>0.000188</td>\n",
       "      <td>6</td>\n",
       "      <td>25</td>\n",
       "      <td>NaN</td>\n",
       "      <td>{'max_features': 6, 'n_estimators': 25}</td>\n",
       "      <td>-7.142427e+05</td>\n",
       "      <td>-515114.307565</td>\n",
       "      <td>...</td>\n",
       "      <td>-570506.642988</td>\n",
       "      <td>80589.421587</td>\n",
       "      <td>21</td>\n",
       "      <td>-100586.848162</td>\n",
       "      <td>-109319.546005</td>\n",
       "      <td>-106147.134784</td>\n",
       "      <td>-121292.256494</td>\n",
       "      <td>-105360.772876</td>\n",
       "      <td>-108541.311664</td>\n",
       "      <td>6961.517683</td>\n",
       "    </tr>\n",
       "    <tr>\n",
       "      <td>3</td>\n",
       "      <td>0.243779</td>\n",
       "      <td>0.001811</td>\n",
       "      <td>0.010209</td>\n",
       "      <td>0.000081</td>\n",
       "      <td>6</td>\n",
       "      <td>40</td>\n",
       "      <td>NaN</td>\n",
       "      <td>{'max_features': 6, 'n_estimators': 40}</td>\n",
       "      <td>-7.020645e+05</td>\n",
       "      <td>-505908.949621</td>\n",
       "      <td>...</td>\n",
       "      <td>-563606.249904</td>\n",
       "      <td>76903.598415</td>\n",
       "      <td>17</td>\n",
       "      <td>-93260.846561</td>\n",
       "      <td>-106780.655531</td>\n",
       "      <td>-100341.864774</td>\n",
       "      <td>-112964.136571</td>\n",
       "      <td>-98876.661630</td>\n",
       "      <td>-102444.833013</td>\n",
       "      <td>6796.396602</td>\n",
       "    </tr>\n",
       "    <tr>\n",
       "      <td>4</td>\n",
       "      <td>0.362298</td>\n",
       "      <td>0.001900</td>\n",
       "      <td>0.014455</td>\n",
       "      <td>0.000057</td>\n",
       "      <td>6</td>\n",
       "      <td>60</td>\n",
       "      <td>NaN</td>\n",
       "      <td>{'max_features': 6, 'n_estimators': 60}</td>\n",
       "      <td>-6.944321e+05</td>\n",
       "      <td>-511919.855470</td>\n",
       "      <td>...</td>\n",
       "      <td>-565492.569973</td>\n",
       "      <td>73634.050460</td>\n",
       "      <td>19</td>\n",
       "      <td>-89105.056434</td>\n",
       "      <td>-99508.392890</td>\n",
       "      <td>-95813.845017</td>\n",
       "      <td>-102748.140798</td>\n",
       "      <td>-90160.736845</td>\n",
       "      <td>-95467.234397</td>\n",
       "      <td>5255.452856</td>\n",
       "    </tr>\n",
       "    <tr>\n",
       "      <td>5</td>\n",
       "      <td>0.033818</td>\n",
       "      <td>0.000379</td>\n",
       "      <td>0.002647</td>\n",
       "      <td>0.000017</td>\n",
       "      <td>8</td>\n",
       "      <td>5</td>\n",
       "      <td>NaN</td>\n",
       "      <td>{'max_features': 8, 'n_estimators': 5}</td>\n",
       "      <td>-8.079455e+05</td>\n",
       "      <td>-583217.974349</td>\n",
       "      <td>...</td>\n",
       "      <td>-625193.355950</td>\n",
       "      <td>94957.501620</td>\n",
       "      <td>28</td>\n",
       "      <td>-140912.188298</td>\n",
       "      <td>-171609.843122</td>\n",
       "      <td>-151772.205788</td>\n",
       "      <td>-171861.976463</td>\n",
       "      <td>-139615.418539</td>\n",
       "      <td>-155154.326442</td>\n",
       "      <td>14182.133100</td>\n",
       "    </tr>\n",
       "    <tr>\n",
       "      <td>6</td>\n",
       "      <td>0.094544</td>\n",
       "      <td>0.000749</td>\n",
       "      <td>0.004742</td>\n",
       "      <td>0.000088</td>\n",
       "      <td>8</td>\n",
       "      <td>15</td>\n",
       "      <td>NaN</td>\n",
       "      <td>{'max_features': 8, 'n_estimators': 15}</td>\n",
       "      <td>-7.385755e+05</td>\n",
       "      <td>-536796.128709</td>\n",
       "      <td>...</td>\n",
       "      <td>-584528.163370</td>\n",
       "      <td>84583.930958</td>\n",
       "      <td>24</td>\n",
       "      <td>-101775.954347</td>\n",
       "      <td>-109352.649480</td>\n",
       "      <td>-108286.333596</td>\n",
       "      <td>-121246.837689</td>\n",
       "      <td>-99596.687871</td>\n",
       "      <td>-108051.692597</td>\n",
       "      <td>7572.732594</td>\n",
       "    </tr>\n",
       "    <tr>\n",
       "      <td>7</td>\n",
       "      <td>0.154262</td>\n",
       "      <td>0.001052</td>\n",
       "      <td>0.006976</td>\n",
       "      <td>0.000221</td>\n",
       "      <td>8</td>\n",
       "      <td>25</td>\n",
       "      <td>NaN</td>\n",
       "      <td>{'max_features': 8, 'n_estimators': 25}</td>\n",
       "      <td>-6.880203e+05</td>\n",
       "      <td>-507280.788866</td>\n",
       "      <td>...</td>\n",
       "      <td>-562552.509740</td>\n",
       "      <td>69506.368020</td>\n",
       "      <td>16</td>\n",
       "      <td>-96423.093007</td>\n",
       "      <td>-105965.665758</td>\n",
       "      <td>-106304.384027</td>\n",
       "      <td>-116751.584196</td>\n",
       "      <td>-98078.978538</td>\n",
       "      <td>-104704.741105</td>\n",
       "      <td>7235.490885</td>\n",
       "    </tr>\n",
       "    <tr>\n",
       "      <td>8</td>\n",
       "      <td>0.247143</td>\n",
       "      <td>0.001564</td>\n",
       "      <td>0.010133</td>\n",
       "      <td>0.000146</td>\n",
       "      <td>8</td>\n",
       "      <td>40</td>\n",
       "      <td>NaN</td>\n",
       "      <td>{'max_features': 8, 'n_estimators': 40}</td>\n",
       "      <td>-6.899112e+05</td>\n",
       "      <td>-493477.136163</td>\n",
       "      <td>...</td>\n",
       "      <td>-559529.767697</td>\n",
       "      <td>74468.671259</td>\n",
       "      <td>15</td>\n",
       "      <td>-92413.813328</td>\n",
       "      <td>-103405.853495</td>\n",
       "      <td>-102436.520424</td>\n",
       "      <td>-110306.316447</td>\n",
       "      <td>-92860.555094</td>\n",
       "      <td>-100284.611758</td>\n",
       "      <td>6809.897371</td>\n",
       "    </tr>\n",
       "    <tr>\n",
       "      <td>9</td>\n",
       "      <td>0.364630</td>\n",
       "      <td>0.003591</td>\n",
       "      <td>0.014549</td>\n",
       "      <td>0.000169</td>\n",
       "      <td>8</td>\n",
       "      <td>60</td>\n",
       "      <td>NaN</td>\n",
       "      <td>{'max_features': 8, 'n_estimators': 60}</td>\n",
       "      <td>-7.153794e+05</td>\n",
       "      <td>-498397.204992</td>\n",
       "      <td>...</td>\n",
       "      <td>-564408.515548</td>\n",
       "      <td>85576.814932</td>\n",
       "      <td>18</td>\n",
       "      <td>-86769.398935</td>\n",
       "      <td>-99422.967766</td>\n",
       "      <td>-95274.631202</td>\n",
       "      <td>-101869.981184</td>\n",
       "      <td>-88892.551673</td>\n",
       "      <td>-94445.906152</td>\n",
       "      <td>5836.836928</td>\n",
       "    </tr>\n",
       "    <tr>\n",
       "      <td>10</td>\n",
       "      <td>0.033938</td>\n",
       "      <td>0.000233</td>\n",
       "      <td>0.002627</td>\n",
       "      <td>0.000004</td>\n",
       "      <td>9</td>\n",
       "      <td>5</td>\n",
       "      <td>NaN</td>\n",
       "      <td>{'max_features': 9, 'n_estimators': 5}</td>\n",
       "      <td>-7.575404e+05</td>\n",
       "      <td>-597754.896235</td>\n",
       "      <td>...</td>\n",
       "      <td>-620701.439638</td>\n",
       "      <td>73217.630701</td>\n",
       "      <td>27</td>\n",
       "      <td>-146547.039867</td>\n",
       "      <td>-171522.381889</td>\n",
       "      <td>-165810.468535</td>\n",
       "      <td>-169203.474332</td>\n",
       "      <td>-137225.405189</td>\n",
       "      <td>-158061.753963</td>\n",
       "      <td>13653.652152</td>\n",
       "    </tr>\n",
       "    <tr>\n",
       "      <td>11</td>\n",
       "      <td>0.097604</td>\n",
       "      <td>0.003624</td>\n",
       "      <td>0.004900</td>\n",
       "      <td>0.000154</td>\n",
       "      <td>9</td>\n",
       "      <td>15</td>\n",
       "      <td>NaN</td>\n",
       "      <td>{'max_features': 9, 'n_estimators': 15}</td>\n",
       "      <td>-7.187070e+05</td>\n",
       "      <td>-531584.106132</td>\n",
       "      <td>...</td>\n",
       "      <td>-569851.599296</td>\n",
       "      <td>79814.741372</td>\n",
       "      <td>20</td>\n",
       "      <td>-106212.007083</td>\n",
       "      <td>-112359.458769</td>\n",
       "      <td>-111356.324365</td>\n",
       "      <td>-115766.851379</td>\n",
       "      <td>-106643.822558</td>\n",
       "      <td>-110467.692831</td>\n",
       "      <td>3610.605787</td>\n",
       "    </tr>\n",
       "    <tr>\n",
       "      <td>12</td>\n",
       "      <td>0.156513</td>\n",
       "      <td>0.001418</td>\n",
       "      <td>0.007016</td>\n",
       "      <td>0.000189</td>\n",
       "      <td>9</td>\n",
       "      <td>25</td>\n",
       "      <td>NaN</td>\n",
       "      <td>{'max_features': 9, 'n_estimators': 25}</td>\n",
       "      <td>-7.041363e+05</td>\n",
       "      <td>-515830.407134</td>\n",
       "      <td>...</td>\n",
       "      <td>-557562.731927</td>\n",
       "      <td>78877.172779</td>\n",
       "      <td>14</td>\n",
       "      <td>-98101.863153</td>\n",
       "      <td>-107621.399241</td>\n",
       "      <td>-106208.770489</td>\n",
       "      <td>-112368.640348</td>\n",
       "      <td>-104421.928532</td>\n",
       "      <td>-105744.520353</td>\n",
       "      <td>4642.771294</td>\n",
       "    </tr>\n",
       "    <tr>\n",
       "      <td>13</td>\n",
       "      <td>0.249440</td>\n",
       "      <td>0.001688</td>\n",
       "      <td>0.010096</td>\n",
       "      <td>0.000155</td>\n",
       "      <td>9</td>\n",
       "      <td>40</td>\n",
       "      <td>NaN</td>\n",
       "      <td>{'max_features': 9, 'n_estimators': 40}</td>\n",
       "      <td>-6.869924e+05</td>\n",
       "      <td>-498995.076396</td>\n",
       "      <td>...</td>\n",
       "      <td>-549009.337103</td>\n",
       "      <td>76361.030440</td>\n",
       "      <td>9</td>\n",
       "      <td>-93942.636591</td>\n",
       "      <td>-104650.869141</td>\n",
       "      <td>-101582.327888</td>\n",
       "      <td>-107404.863663</td>\n",
       "      <td>-96594.812705</td>\n",
       "      <td>-100835.101998</td>\n",
       "      <td>4975.265348</td>\n",
       "    </tr>\n",
       "    <tr>\n",
       "      <td>14</td>\n",
       "      <td>0.368936</td>\n",
       "      <td>0.001820</td>\n",
       "      <td>0.014468</td>\n",
       "      <td>0.000104</td>\n",
       "      <td>9</td>\n",
       "      <td>60</td>\n",
       "      <td>NaN</td>\n",
       "      <td>{'max_features': 9, 'n_estimators': 60}</td>\n",
       "      <td>-6.895980e+05</td>\n",
       "      <td>-501957.640633</td>\n",
       "      <td>...</td>\n",
       "      <td>-551977.380238</td>\n",
       "      <td>78407.411723</td>\n",
       "      <td>11</td>\n",
       "      <td>-88916.037640</td>\n",
       "      <td>-100104.324827</td>\n",
       "      <td>-94605.894141</td>\n",
       "      <td>-102173.824462</td>\n",
       "      <td>-91053.875795</td>\n",
       "      <td>-95370.791373</td>\n",
       "      <td>5090.624162</td>\n",
       "    </tr>\n",
       "    <tr>\n",
       "      <td>15</td>\n",
       "      <td>0.034232</td>\n",
       "      <td>0.000150</td>\n",
       "      <td>0.002620</td>\n",
       "      <td>0.000027</td>\n",
       "      <td>10</td>\n",
       "      <td>5</td>\n",
       "      <td>NaN</td>\n",
       "      <td>{'max_features': 10, 'n_estimators': 5}</td>\n",
       "      <td>-8.051257e+05</td>\n",
       "      <td>-597173.676432</td>\n",
       "      <td>...</td>\n",
       "      <td>-650650.399666</td>\n",
       "      <td>85392.330839</td>\n",
       "      <td>30</td>\n",
       "      <td>-147029.195687</td>\n",
       "      <td>-169759.011578</td>\n",
       "      <td>-161213.344455</td>\n",
       "      <td>-162832.040307</td>\n",
       "      <td>-148530.708160</td>\n",
       "      <td>-157872.860038</td>\n",
       "      <td>8739.493827</td>\n",
       "    </tr>\n",
       "    <tr>\n",
       "      <td>16</td>\n",
       "      <td>0.095888</td>\n",
       "      <td>0.000439</td>\n",
       "      <td>0.004794</td>\n",
       "      <td>0.000030</td>\n",
       "      <td>10</td>\n",
       "      <td>15</td>\n",
       "      <td>NaN</td>\n",
       "      <td>{'max_features': 10, 'n_estimators': 15}</td>\n",
       "      <td>-7.055406e+05</td>\n",
       "      <td>-541977.259055</td>\n",
       "      <td>...</td>\n",
       "      <td>-571179.883214</td>\n",
       "      <td>75614.766700</td>\n",
       "      <td>22</td>\n",
       "      <td>-97700.844619</td>\n",
       "      <td>-108024.826622</td>\n",
       "      <td>-107852.870701</td>\n",
       "      <td>-112825.114114</td>\n",
       "      <td>-105078.660430</td>\n",
       "      <td>-106296.463297</td>\n",
       "      <td>4967.909612</td>\n",
       "    </tr>\n",
       "    <tr>\n",
       "      <td>17</td>\n",
       "      <td>0.156172</td>\n",
       "      <td>0.000905</td>\n",
       "      <td>0.006928</td>\n",
       "      <td>0.000124</td>\n",
       "      <td>10</td>\n",
       "      <td>25</td>\n",
       "      <td>NaN</td>\n",
       "      <td>{'max_features': 10, 'n_estimators': 25}</td>\n",
       "      <td>-6.714763e+05</td>\n",
       "      <td>-502912.400193</td>\n",
       "      <td>...</td>\n",
       "      <td>-555847.586512</td>\n",
       "      <td>70176.587519</td>\n",
       "      <td>13</td>\n",
       "      <td>-93681.084480</td>\n",
       "      <td>-104499.564250</td>\n",
       "      <td>-104017.290817</td>\n",
       "      <td>-112400.103228</td>\n",
       "      <td>-101608.365003</td>\n",
       "      <td>-103241.281556</td>\n",
       "      <td>6002.220668</td>\n",
       "    </tr>\n",
       "    <tr>\n",
       "      <td>18</td>\n",
       "      <td>0.249025</td>\n",
       "      <td>0.002121</td>\n",
       "      <td>0.010088</td>\n",
       "      <td>0.000182</td>\n",
       "      <td>10</td>\n",
       "      <td>40</td>\n",
       "      <td>NaN</td>\n",
       "      <td>{'max_features': 10, 'n_estimators': 40}</td>\n",
       "      <td>-6.686592e+05</td>\n",
       "      <td>-490500.092650</td>\n",
       "      <td>...</td>\n",
       "      <td>-545242.915105</td>\n",
       "      <td>72877.625786</td>\n",
       "      <td>8</td>\n",
       "      <td>-89139.362729</td>\n",
       "      <td>-102167.388795</td>\n",
       "      <td>-100252.720379</td>\n",
       "      <td>-106239.683906</td>\n",
       "      <td>-94190.606833</td>\n",
       "      <td>-98397.952528</td>\n",
       "      <td>6042.595592</td>\n",
       "    </tr>\n",
       "    <tr>\n",
       "      <td>19</td>\n",
       "      <td>0.368148</td>\n",
       "      <td>0.002916</td>\n",
       "      <td>0.014323</td>\n",
       "      <td>0.000028</td>\n",
       "      <td>10</td>\n",
       "      <td>60</td>\n",
       "      <td>NaN</td>\n",
       "      <td>{'max_features': 10, 'n_estimators': 60}</td>\n",
       "      <td>-6.796976e+05</td>\n",
       "      <td>-486865.419045</td>\n",
       "      <td>...</td>\n",
       "      <td>-550144.696170</td>\n",
       "      <td>78169.101376</td>\n",
       "      <td>10</td>\n",
       "      <td>-84129.276203</td>\n",
       "      <td>-97227.098175</td>\n",
       "      <td>-93245.469504</td>\n",
       "      <td>-99892.915517</td>\n",
       "      <td>-86381.186600</td>\n",
       "      <td>-92175.189200</td>\n",
       "      <td>6075.158695</td>\n",
       "    </tr>\n",
       "    <tr>\n",
       "      <td>20</td>\n",
       "      <td>0.034957</td>\n",
       "      <td>0.000336</td>\n",
       "      <td>0.002644</td>\n",
       "      <td>0.000045</td>\n",
       "      <td>15</td>\n",
       "      <td>5</td>\n",
       "      <td>NaN</td>\n",
       "      <td>{'max_features': 15, 'n_estimators': 5}</td>\n",
       "      <td>-7.729612e+05</td>\n",
       "      <td>-573247.015554</td>\n",
       "      <td>...</td>\n",
       "      <td>-625236.338624</td>\n",
       "      <td>85104.065534</td>\n",
       "      <td>29</td>\n",
       "      <td>-125911.437541</td>\n",
       "      <td>-162078.232517</td>\n",
       "      <td>-164649.115297</td>\n",
       "      <td>-150318.132947</td>\n",
       "      <td>-142689.787661</td>\n",
       "      <td>-149129.341193</td>\n",
       "      <td>14074.724155</td>\n",
       "    </tr>\n",
       "    <tr>\n",
       "      <td>21</td>\n",
       "      <td>0.097979</td>\n",
       "      <td>0.001224</td>\n",
       "      <td>0.004724</td>\n",
       "      <td>0.000054</td>\n",
       "      <td>15</td>\n",
       "      <td>15</td>\n",
       "      <td>NaN</td>\n",
       "      <td>{'max_features': 15, 'n_estimators': 15}</td>\n",
       "      <td>-6.702198e+05</td>\n",
       "      <td>-482757.349893</td>\n",
       "      <td>...</td>\n",
       "      <td>-543321.825459</td>\n",
       "      <td>71582.620534</td>\n",
       "      <td>7</td>\n",
       "      <td>-89859.214761</td>\n",
       "      <td>-107391.527714</td>\n",
       "      <td>-107022.438902</td>\n",
       "      <td>-111836.409102</td>\n",
       "      <td>-97362.871154</td>\n",
       "      <td>-102694.492327</td>\n",
       "      <td>7969.171097</td>\n",
       "    </tr>\n",
       "    <tr>\n",
       "      <td>22</td>\n",
       "      <td>0.161290</td>\n",
       "      <td>0.001829</td>\n",
       "      <td>0.006784</td>\n",
       "      <td>0.000093</td>\n",
       "      <td>15</td>\n",
       "      <td>25</td>\n",
       "      <td>NaN</td>\n",
       "      <td>{'max_features': 15, 'n_estimators': 25}</td>\n",
       "      <td>-6.557051e+05</td>\n",
       "      <td>-443965.939691</td>\n",
       "      <td>...</td>\n",
       "      <td>-521555.366532</td>\n",
       "      <td>77501.560890</td>\n",
       "      <td>2</td>\n",
       "      <td>-89582.656867</td>\n",
       "      <td>-104038.264473</td>\n",
       "      <td>-104253.210440</td>\n",
       "      <td>-110922.672146</td>\n",
       "      <td>-98302.129855</td>\n",
       "      <td>-101419.786756</td>\n",
       "      <td>7141.806139</td>\n",
       "    </tr>\n",
       "    <tr>\n",
       "      <td>23</td>\n",
       "      <td>0.256558</td>\n",
       "      <td>0.003007</td>\n",
       "      <td>0.010099</td>\n",
       "      <td>0.000082</td>\n",
       "      <td>15</td>\n",
       "      <td>40</td>\n",
       "      <td>NaN</td>\n",
       "      <td>{'max_features': 15, 'n_estimators': 40}</td>\n",
       "      <td>-6.537714e+05</td>\n",
       "      <td>-454951.425488</td>\n",
       "      <td>...</td>\n",
       "      <td>-519529.958414</td>\n",
       "      <td>75709.211620</td>\n",
       "      <td>1</td>\n",
       "      <td>-86272.157562</td>\n",
       "      <td>-103581.552655</td>\n",
       "      <td>-97314.645641</td>\n",
       "      <td>-105202.394826</td>\n",
       "      <td>-92368.194921</td>\n",
       "      <td>-96947.789121</td>\n",
       "      <td>7031.667084</td>\n",
       "    </tr>\n",
       "    <tr>\n",
       "      <td>24</td>\n",
       "      <td>0.380750</td>\n",
       "      <td>0.004364</td>\n",
       "      <td>0.014301</td>\n",
       "      <td>0.000082</td>\n",
       "      <td>15</td>\n",
       "      <td>60</td>\n",
       "      <td>NaN</td>\n",
       "      <td>{'max_features': 15, 'n_estimators': 60}</td>\n",
       "      <td>-6.672352e+05</td>\n",
       "      <td>-473535.009928</td>\n",
       "      <td>...</td>\n",
       "      <td>-528385.033163</td>\n",
       "      <td>78495.556451</td>\n",
       "      <td>4</td>\n",
       "      <td>-82574.591585</td>\n",
       "      <td>-98694.188629</td>\n",
       "      <td>-91100.153735</td>\n",
       "      <td>-98917.413370</td>\n",
       "      <td>-85646.804688</td>\n",
       "      <td>-91386.630401</td>\n",
       "      <td>6645.190675</td>\n",
       "    </tr>\n",
       "    <tr>\n",
       "      <td>25</td>\n",
       "      <td>0.036094</td>\n",
       "      <td>0.000415</td>\n",
       "      <td>0.002625</td>\n",
       "      <td>0.000030</td>\n",
       "      <td>20</td>\n",
       "      <td>5</td>\n",
       "      <td>NaN</td>\n",
       "      <td>{'max_features': 20, 'n_estimators': 5}</td>\n",
       "      <td>-7.659753e+05</td>\n",
       "      <td>-490431.291569</td>\n",
       "      <td>...</td>\n",
       "      <td>-606092.558791</td>\n",
       "      <td>90937.375522</td>\n",
       "      <td>25</td>\n",
       "      <td>-135787.135014</td>\n",
       "      <td>-165647.997104</td>\n",
       "      <td>-144719.355382</td>\n",
       "      <td>-148225.720603</td>\n",
       "      <td>-137862.047464</td>\n",
       "      <td>-146448.451113</td>\n",
       "      <td>10603.405243</td>\n",
       "    </tr>\n",
       "    <tr>\n",
       "      <td>26</td>\n",
       "      <td>0.100412</td>\n",
       "      <td>0.000642</td>\n",
       "      <td>0.004693</td>\n",
       "      <td>0.000016</td>\n",
       "      <td>20</td>\n",
       "      <td>15</td>\n",
       "      <td>NaN</td>\n",
       "      <td>{'max_features': 20, 'n_estimators': 15}</td>\n",
       "      <td>-6.772550e+05</td>\n",
       "      <td>-474162.435484</td>\n",
       "      <td>...</td>\n",
       "      <td>-552635.070564</td>\n",
       "      <td>68780.062495</td>\n",
       "      <td>12</td>\n",
       "      <td>-93324.424516</td>\n",
       "      <td>-106728.695647</td>\n",
       "      <td>-103566.249091</td>\n",
       "      <td>-116778.130804</td>\n",
       "      <td>-97989.616416</td>\n",
       "      <td>-103677.423295</td>\n",
       "      <td>8006.083821</td>\n",
       "    </tr>\n",
       "    <tr>\n",
       "      <td>27</td>\n",
       "      <td>0.165039</td>\n",
       "      <td>0.000902</td>\n",
       "      <td>0.006808</td>\n",
       "      <td>0.000046</td>\n",
       "      <td>20</td>\n",
       "      <td>25</td>\n",
       "      <td>NaN</td>\n",
       "      <td>{'max_features': 20, 'n_estimators': 25}</td>\n",
       "      <td>-6.731295e+05</td>\n",
       "      <td>-447940.445960</td>\n",
       "      <td>...</td>\n",
       "      <td>-531164.354596</td>\n",
       "      <td>76766.897285</td>\n",
       "      <td>6</td>\n",
       "      <td>-89984.702469</td>\n",
       "      <td>-102245.181178</td>\n",
       "      <td>-99328.898110</td>\n",
       "      <td>-112991.727596</td>\n",
       "      <td>-98036.608874</td>\n",
       "      <td>-100517.423645</td>\n",
       "      <td>7444.442966</td>\n",
       "    </tr>\n",
       "    <tr>\n",
       "      <td>28</td>\n",
       "      <td>0.262386</td>\n",
       "      <td>0.001923</td>\n",
       "      <td>0.010642</td>\n",
       "      <td>0.001246</td>\n",
       "      <td>20</td>\n",
       "      <td>40</td>\n",
       "      <td>NaN</td>\n",
       "      <td>{'max_features': 20, 'n_estimators': 40}</td>\n",
       "      <td>-6.619821e+05</td>\n",
       "      <td>-460793.345149</td>\n",
       "      <td>...</td>\n",
       "      <td>-528867.312844</td>\n",
       "      <td>70577.678422</td>\n",
       "      <td>5</td>\n",
       "      <td>-84346.362401</td>\n",
       "      <td>-100125.908072</td>\n",
       "      <td>-95944.534510</td>\n",
       "      <td>-103126.918785</td>\n",
       "      <td>-90659.126918</td>\n",
       "      <td>-94840.570137</td>\n",
       "      <td>6714.610514</td>\n",
       "    </tr>\n",
       "    <tr>\n",
       "      <td>29</td>\n",
       "      <td>0.391371</td>\n",
       "      <td>0.002421</td>\n",
       "      <td>0.014292</td>\n",
       "      <td>0.000130</td>\n",
       "      <td>20</td>\n",
       "      <td>60</td>\n",
       "      <td>NaN</td>\n",
       "      <td>{'max_features': 20, 'n_estimators': 60}</td>\n",
       "      <td>-6.479458e+05</td>\n",
       "      <td>-467671.956144</td>\n",
       "      <td>...</td>\n",
       "      <td>-525841.490856</td>\n",
       "      <td>66160.182789</td>\n",
       "      <td>3</td>\n",
       "      <td>-79724.772475</td>\n",
       "      <td>-96278.178417</td>\n",
       "      <td>-91646.604934</td>\n",
       "      <td>-95877.651826</td>\n",
       "      <td>-84424.425905</td>\n",
       "      <td>-89590.326711</td>\n",
       "      <td>6519.229850</td>\n",
       "    </tr>\n",
       "    <tr>\n",
       "      <td>30</td>\n",
       "      <td>0.025048</td>\n",
       "      <td>0.000230</td>\n",
       "      <td>0.002269</td>\n",
       "      <td>0.000037</td>\n",
       "      <td>2</td>\n",
       "      <td>3</td>\n",
       "      <td>False</td>\n",
       "      <td>{'bootstrap': False, 'max_features': 2, 'n_est...</td>\n",
       "      <td>-1.027060e+06</td>\n",
       "      <td>-591340.893887</td>\n",
       "      <td>...</td>\n",
       "      <td>-760132.510829</td>\n",
       "      <td>151405.408867</td>\n",
       "      <td>35</td>\n",
       "      <td>-6926.077021</td>\n",
       "      <td>-21168.754710</td>\n",
       "      <td>-21476.596571</td>\n",
       "      <td>-21184.874946</td>\n",
       "      <td>-14267.101674</td>\n",
       "      <td>-17004.680984</td>\n",
       "      <td>5725.105395</td>\n",
       "    </tr>\n",
       "    <tr>\n",
       "      <td>31</td>\n",
       "      <td>0.074910</td>\n",
       "      <td>0.000916</td>\n",
       "      <td>0.003895</td>\n",
       "      <td>0.000074</td>\n",
       "      <td>2</td>\n",
       "      <td>10</td>\n",
       "      <td>False</td>\n",
       "      <td>{'bootstrap': False, 'max_features': 2, 'n_est...</td>\n",
       "      <td>-8.910496e+05</td>\n",
       "      <td>-561807.532082</td>\n",
       "      <td>...</td>\n",
       "      <td>-689641.783902</td>\n",
       "      <td>118954.132341</td>\n",
       "      <td>31</td>\n",
       "      <td>-6886.164740</td>\n",
       "      <td>-21176.649447</td>\n",
       "      <td>-21466.618501</td>\n",
       "      <td>-21185.094244</td>\n",
       "      <td>-14267.627989</td>\n",
       "      <td>-16996.430984</td>\n",
       "      <td>5738.737702</td>\n",
       "    </tr>\n",
       "    <tr>\n",
       "      <td>32</td>\n",
       "      <td>0.025346</td>\n",
       "      <td>0.000385</td>\n",
       "      <td>0.002290</td>\n",
       "      <td>0.000071</td>\n",
       "      <td>3</td>\n",
       "      <td>3</td>\n",
       "      <td>False</td>\n",
       "      <td>{'bootstrap': False, 'max_features': 3, 'n_est...</td>\n",
       "      <td>-8.554448e+05</td>\n",
       "      <td>-702201.018548</td>\n",
       "      <td>...</td>\n",
       "      <td>-755431.907209</td>\n",
       "      <td>91840.186752</td>\n",
       "      <td>34</td>\n",
       "      <td>-6882.217372</td>\n",
       "      <td>-21207.131903</td>\n",
       "      <td>-21465.631659</td>\n",
       "      <td>-21184.874946</td>\n",
       "      <td>-14267.101674</td>\n",
       "      <td>-17001.391511</td>\n",
       "      <td>5744.445181</td>\n",
       "    </tr>\n",
       "    <tr>\n",
       "      <td>33</td>\n",
       "      <td>0.076469</td>\n",
       "      <td>0.001147</td>\n",
       "      <td>0.004051</td>\n",
       "      <td>0.000234</td>\n",
       "      <td>3</td>\n",
       "      <td>10</td>\n",
       "      <td>False</td>\n",
       "      <td>{'bootstrap': False, 'max_features': 3, 'n_est...</td>\n",
       "      <td>-8.392340e+05</td>\n",
       "      <td>-643389.342700</td>\n",
       "      <td>...</td>\n",
       "      <td>-718471.209744</td>\n",
       "      <td>107405.911197</td>\n",
       "      <td>33</td>\n",
       "      <td>-6883.204214</td>\n",
       "      <td>-21188.710850</td>\n",
       "      <td>-21473.307098</td>\n",
       "      <td>-21185.752139</td>\n",
       "      <td>-14267.233253</td>\n",
       "      <td>-16999.641511</td>\n",
       "      <td>5742.714800</td>\n",
       "    </tr>\n",
       "    <tr>\n",
       "      <td>34</td>\n",
       "      <td>0.025430</td>\n",
       "      <td>0.000478</td>\n",
       "      <td>0.002231</td>\n",
       "      <td>0.000018</td>\n",
       "      <td>4</td>\n",
       "      <td>3</td>\n",
       "      <td>False</td>\n",
       "      <td>{'bootstrap': False, 'max_features': 4, 'n_est...</td>\n",
       "      <td>-9.685180e+05</td>\n",
       "      <td>-648594.444352</td>\n",
       "      <td>...</td>\n",
       "      <td>-763390.119382</td>\n",
       "      <td>158761.353283</td>\n",
       "      <td>36</td>\n",
       "      <td>-6893.182284</td>\n",
       "      <td>-21168.754710</td>\n",
       "      <td>-21465.631659</td>\n",
       "      <td>-21194.621535</td>\n",
       "      <td>-14268.563662</td>\n",
       "      <td>-16998.150770</td>\n",
       "      <td>5736.265745</td>\n",
       "    </tr>\n",
       "    <tr>\n",
       "      <td>35</td>\n",
       "      <td>0.078172</td>\n",
       "      <td>0.001100</td>\n",
       "      <td>0.003891</td>\n",
       "      <td>0.000075</td>\n",
       "      <td>4</td>\n",
       "      <td>10</td>\n",
       "      <td>False</td>\n",
       "      <td>{'bootstrap': False, 'max_features': 4, 'n_est...</td>\n",
       "      <td>-9.152292e+05</td>\n",
       "      <td>-605540.813748</td>\n",
       "      <td>...</td>\n",
       "      <td>-702528.398148</td>\n",
       "      <td>142479.826342</td>\n",
       "      <td>32</td>\n",
       "      <td>-6891.098951</td>\n",
       "      <td>-21176.649447</td>\n",
       "      <td>-21466.618501</td>\n",
       "      <td>-21194.695396</td>\n",
       "      <td>-14268.285884</td>\n",
       "      <td>-16999.469636</td>\n",
       "      <td>5738.339340</td>\n",
       "    </tr>\n",
       "  </tbody>\n",
       "</table>\n",
       "<p>36 rows × 23 columns</p>\n",
       "</div>"
      ],
      "text/plain": [
       "    mean_fit_time  std_fit_time  mean_score_time  std_score_time  \\\n",
       "0        0.037612      0.002210         0.003345        0.000170   \n",
       "1        0.093902      0.001007         0.004835        0.000093   \n",
       "2        0.156875      0.004279         0.007076        0.000188   \n",
       "3        0.243779      0.001811         0.010209        0.000081   \n",
       "4        0.362298      0.001900         0.014455        0.000057   \n",
       "5        0.033818      0.000379         0.002647        0.000017   \n",
       "6        0.094544      0.000749         0.004742        0.000088   \n",
       "7        0.154262      0.001052         0.006976        0.000221   \n",
       "8        0.247143      0.001564         0.010133        0.000146   \n",
       "9        0.364630      0.003591         0.014549        0.000169   \n",
       "10       0.033938      0.000233         0.002627        0.000004   \n",
       "11       0.097604      0.003624         0.004900        0.000154   \n",
       "12       0.156513      0.001418         0.007016        0.000189   \n",
       "13       0.249440      0.001688         0.010096        0.000155   \n",
       "14       0.368936      0.001820         0.014468        0.000104   \n",
       "15       0.034232      0.000150         0.002620        0.000027   \n",
       "16       0.095888      0.000439         0.004794        0.000030   \n",
       "17       0.156172      0.000905         0.006928        0.000124   \n",
       "18       0.249025      0.002121         0.010088        0.000182   \n",
       "19       0.368148      0.002916         0.014323        0.000028   \n",
       "20       0.034957      0.000336         0.002644        0.000045   \n",
       "21       0.097979      0.001224         0.004724        0.000054   \n",
       "22       0.161290      0.001829         0.006784        0.000093   \n",
       "23       0.256558      0.003007         0.010099        0.000082   \n",
       "24       0.380750      0.004364         0.014301        0.000082   \n",
       "25       0.036094      0.000415         0.002625        0.000030   \n",
       "26       0.100412      0.000642         0.004693        0.000016   \n",
       "27       0.165039      0.000902         0.006808        0.000046   \n",
       "28       0.262386      0.001923         0.010642        0.001246   \n",
       "29       0.391371      0.002421         0.014292        0.000130   \n",
       "30       0.025048      0.000230         0.002269        0.000037   \n",
       "31       0.074910      0.000916         0.003895        0.000074   \n",
       "32       0.025346      0.000385         0.002290        0.000071   \n",
       "33       0.076469      0.001147         0.004051        0.000234   \n",
       "34       0.025430      0.000478         0.002231        0.000018   \n",
       "35       0.078172      0.001100         0.003891        0.000075   \n",
       "\n",
       "   param_max_features param_n_estimators param_bootstrap  \\\n",
       "0                   6                  5             NaN   \n",
       "1                   6                 15             NaN   \n",
       "2                   6                 25             NaN   \n",
       "3                   6                 40             NaN   \n",
       "4                   6                 60             NaN   \n",
       "5                   8                  5             NaN   \n",
       "6                   8                 15             NaN   \n",
       "7                   8                 25             NaN   \n",
       "8                   8                 40             NaN   \n",
       "9                   8                 60             NaN   \n",
       "10                  9                  5             NaN   \n",
       "11                  9                 15             NaN   \n",
       "12                  9                 25             NaN   \n",
       "13                  9                 40             NaN   \n",
       "14                  9                 60             NaN   \n",
       "15                 10                  5             NaN   \n",
       "16                 10                 15             NaN   \n",
       "17                 10                 25             NaN   \n",
       "18                 10                 40             NaN   \n",
       "19                 10                 60             NaN   \n",
       "20                 15                  5             NaN   \n",
       "21                 15                 15             NaN   \n",
       "22                 15                 25             NaN   \n",
       "23                 15                 40             NaN   \n",
       "24                 15                 60             NaN   \n",
       "25                 20                  5             NaN   \n",
       "26                 20                 15             NaN   \n",
       "27                 20                 25             NaN   \n",
       "28                 20                 40             NaN   \n",
       "29                 20                 60             NaN   \n",
       "30                  2                  3           False   \n",
       "31                  2                 10           False   \n",
       "32                  3                  3           False   \n",
       "33                  3                 10           False   \n",
       "34                  4                  3           False   \n",
       "35                  4                 10           False   \n",
       "\n",
       "                                               params  split0_test_score  \\\n",
       "0              {'max_features': 6, 'n_estimators': 5}      -7.032419e+05   \n",
       "1             {'max_features': 6, 'n_estimators': 15}      -7.295180e+05   \n",
       "2             {'max_features': 6, 'n_estimators': 25}      -7.142427e+05   \n",
       "3             {'max_features': 6, 'n_estimators': 40}      -7.020645e+05   \n",
       "4             {'max_features': 6, 'n_estimators': 60}      -6.944321e+05   \n",
       "5              {'max_features': 8, 'n_estimators': 5}      -8.079455e+05   \n",
       "6             {'max_features': 8, 'n_estimators': 15}      -7.385755e+05   \n",
       "7             {'max_features': 8, 'n_estimators': 25}      -6.880203e+05   \n",
       "8             {'max_features': 8, 'n_estimators': 40}      -6.899112e+05   \n",
       "9             {'max_features': 8, 'n_estimators': 60}      -7.153794e+05   \n",
       "10             {'max_features': 9, 'n_estimators': 5}      -7.575404e+05   \n",
       "11            {'max_features': 9, 'n_estimators': 15}      -7.187070e+05   \n",
       "12            {'max_features': 9, 'n_estimators': 25}      -7.041363e+05   \n",
       "13            {'max_features': 9, 'n_estimators': 40}      -6.869924e+05   \n",
       "14            {'max_features': 9, 'n_estimators': 60}      -6.895980e+05   \n",
       "15            {'max_features': 10, 'n_estimators': 5}      -8.051257e+05   \n",
       "16           {'max_features': 10, 'n_estimators': 15}      -7.055406e+05   \n",
       "17           {'max_features': 10, 'n_estimators': 25}      -6.714763e+05   \n",
       "18           {'max_features': 10, 'n_estimators': 40}      -6.686592e+05   \n",
       "19           {'max_features': 10, 'n_estimators': 60}      -6.796976e+05   \n",
       "20            {'max_features': 15, 'n_estimators': 5}      -7.729612e+05   \n",
       "21           {'max_features': 15, 'n_estimators': 15}      -6.702198e+05   \n",
       "22           {'max_features': 15, 'n_estimators': 25}      -6.557051e+05   \n",
       "23           {'max_features': 15, 'n_estimators': 40}      -6.537714e+05   \n",
       "24           {'max_features': 15, 'n_estimators': 60}      -6.672352e+05   \n",
       "25            {'max_features': 20, 'n_estimators': 5}      -7.659753e+05   \n",
       "26           {'max_features': 20, 'n_estimators': 15}      -6.772550e+05   \n",
       "27           {'max_features': 20, 'n_estimators': 25}      -6.731295e+05   \n",
       "28           {'max_features': 20, 'n_estimators': 40}      -6.619821e+05   \n",
       "29           {'max_features': 20, 'n_estimators': 60}      -6.479458e+05   \n",
       "30  {'bootstrap': False, 'max_features': 2, 'n_est...      -1.027060e+06   \n",
       "31  {'bootstrap': False, 'max_features': 2, 'n_est...      -8.910496e+05   \n",
       "32  {'bootstrap': False, 'max_features': 3, 'n_est...      -8.554448e+05   \n",
       "33  {'bootstrap': False, 'max_features': 3, 'n_est...      -8.392340e+05   \n",
       "34  {'bootstrap': False, 'max_features': 4, 'n_est...      -9.685180e+05   \n",
       "35  {'bootstrap': False, 'max_features': 4, 'n_est...      -9.152292e+05   \n",
       "\n",
       "    split1_test_score  ...  mean_test_score  std_test_score  rank_test_score  \\\n",
       "0      -577875.473465  ...   -611159.328847    54132.686570               26   \n",
       "1      -532146.763460  ...   -581133.446194    82007.186405               23   \n",
       "2      -515114.307565  ...   -570506.642988    80589.421587               21   \n",
       "3      -505908.949621  ...   -563606.249904    76903.598415               17   \n",
       "4      -511919.855470  ...   -565492.569973    73634.050460               19   \n",
       "5      -583217.974349  ...   -625193.355950    94957.501620               28   \n",
       "6      -536796.128709  ...   -584528.163370    84583.930958               24   \n",
       "7      -507280.788866  ...   -562552.509740    69506.368020               16   \n",
       "8      -493477.136163  ...   -559529.767697    74468.671259               15   \n",
       "9      -498397.204992  ...   -564408.515548    85576.814932               18   \n",
       "10     -597754.896235  ...   -620701.439638    73217.630701               27   \n",
       "11     -531584.106132  ...   -569851.599296    79814.741372               20   \n",
       "12     -515830.407134  ...   -557562.731927    78877.172779               14   \n",
       "13     -498995.076396  ...   -549009.337103    76361.030440                9   \n",
       "14     -501957.640633  ...   -551977.380238    78407.411723               11   \n",
       "15     -597173.676432  ...   -650650.399666    85392.330839               30   \n",
       "16     -541977.259055  ...   -571179.883214    75614.766700               22   \n",
       "17     -502912.400193  ...   -555847.586512    70176.587519               13   \n",
       "18     -490500.092650  ...   -545242.915105    72877.625786                8   \n",
       "19     -486865.419045  ...   -550144.696170    78169.101376               10   \n",
       "20     -573247.015554  ...   -625236.338624    85104.065534               29   \n",
       "21     -482757.349893  ...   -543321.825459    71582.620534                7   \n",
       "22     -443965.939691  ...   -521555.366532    77501.560890                2   \n",
       "23     -454951.425488  ...   -519529.958414    75709.211620                1   \n",
       "24     -473535.009928  ...   -528385.033163    78495.556451                4   \n",
       "25     -490431.291569  ...   -606092.558791    90937.375522               25   \n",
       "26     -474162.435484  ...   -552635.070564    68780.062495               12   \n",
       "27     -447940.445960  ...   -531164.354596    76766.897285                6   \n",
       "28     -460793.345149  ...   -528867.312844    70577.678422                5   \n",
       "29     -467671.956144  ...   -525841.490856    66160.182789                3   \n",
       "30     -591340.893887  ...   -760132.510829   151405.408867               35   \n",
       "31     -561807.532082  ...   -689641.783902   118954.132341               31   \n",
       "32     -702201.018548  ...   -755431.907209    91840.186752               34   \n",
       "33     -643389.342700  ...   -718471.209744   107405.911197               33   \n",
       "34     -648594.444352  ...   -763390.119382   158761.353283               36   \n",
       "35     -605540.813748  ...   -702528.398148   142479.826342               32   \n",
       "\n",
       "    split0_train_score  split1_train_score  split2_train_score  \\\n",
       "0       -137659.238306      -172352.662350      -155460.453973   \n",
       "1       -108741.568672      -108438.725855      -114168.223470   \n",
       "2       -100586.848162      -109319.546005      -106147.134784   \n",
       "3        -93260.846561      -106780.655531      -100341.864774   \n",
       "4        -89105.056434       -99508.392890       -95813.845017   \n",
       "5       -140912.188298      -171609.843122      -151772.205788   \n",
       "6       -101775.954347      -109352.649480      -108286.333596   \n",
       "7        -96423.093007      -105965.665758      -106304.384027   \n",
       "8        -92413.813328      -103405.853495      -102436.520424   \n",
       "9        -86769.398935       -99422.967766       -95274.631202   \n",
       "10      -146547.039867      -171522.381889      -165810.468535   \n",
       "11      -106212.007083      -112359.458769      -111356.324365   \n",
       "12       -98101.863153      -107621.399241      -106208.770489   \n",
       "13       -93942.636591      -104650.869141      -101582.327888   \n",
       "14       -88916.037640      -100104.324827       -94605.894141   \n",
       "15      -147029.195687      -169759.011578      -161213.344455   \n",
       "16       -97700.844619      -108024.826622      -107852.870701   \n",
       "17       -93681.084480      -104499.564250      -104017.290817   \n",
       "18       -89139.362729      -102167.388795      -100252.720379   \n",
       "19       -84129.276203       -97227.098175       -93245.469504   \n",
       "20      -125911.437541      -162078.232517      -164649.115297   \n",
       "21       -89859.214761      -107391.527714      -107022.438902   \n",
       "22       -89582.656867      -104038.264473      -104253.210440   \n",
       "23       -86272.157562      -103581.552655       -97314.645641   \n",
       "24       -82574.591585       -98694.188629       -91100.153735   \n",
       "25      -135787.135014      -165647.997104      -144719.355382   \n",
       "26       -93324.424516      -106728.695647      -103566.249091   \n",
       "27       -89984.702469      -102245.181178       -99328.898110   \n",
       "28       -84346.362401      -100125.908072       -95944.534510   \n",
       "29       -79724.772475       -96278.178417       -91646.604934   \n",
       "30        -6926.077021       -21168.754710       -21476.596571   \n",
       "31        -6886.164740       -21176.649447       -21466.618501   \n",
       "32        -6882.217372       -21207.131903       -21465.631659   \n",
       "33        -6883.204214       -21188.710850       -21473.307098   \n",
       "34        -6893.182284       -21168.754710       -21465.631659   \n",
       "35        -6891.098951       -21176.649447       -21466.618501   \n",
       "\n",
       "    split3_train_score  split4_train_score  mean_train_score  std_train_score  \n",
       "0       -182832.627453      -149496.057824    -159560.207981     16143.109805  \n",
       "1       -123955.061840      -106704.827240    -112401.681415      6295.345259  \n",
       "2       -121292.256494      -105360.772876    -108541.311664      6961.517683  \n",
       "3       -112964.136571       -98876.661630    -102444.833013      6796.396602  \n",
       "4       -102748.140798       -90160.736845     -95467.234397      5255.452856  \n",
       "5       -171861.976463      -139615.418539    -155154.326442     14182.133100  \n",
       "6       -121246.837689       -99596.687871    -108051.692597      7572.732594  \n",
       "7       -116751.584196       -98078.978538    -104704.741105      7235.490885  \n",
       "8       -110306.316447       -92860.555094    -100284.611758      6809.897371  \n",
       "9       -101869.981184       -88892.551673     -94445.906152      5836.836928  \n",
       "10      -169203.474332      -137225.405189    -158061.753963     13653.652152  \n",
       "11      -115766.851379      -106643.822558    -110467.692831      3610.605787  \n",
       "12      -112368.640348      -104421.928532    -105744.520353      4642.771294  \n",
       "13      -107404.863663       -96594.812705    -100835.101998      4975.265348  \n",
       "14      -102173.824462       -91053.875795     -95370.791373      5090.624162  \n",
       "15      -162832.040307      -148530.708160    -157872.860038      8739.493827  \n",
       "16      -112825.114114      -105078.660430    -106296.463297      4967.909612  \n",
       "17      -112400.103228      -101608.365003    -103241.281556      6002.220668  \n",
       "18      -106239.683906       -94190.606833     -98397.952528      6042.595592  \n",
       "19       -99892.915517       -86381.186600     -92175.189200      6075.158695  \n",
       "20      -150318.132947      -142689.787661    -149129.341193     14074.724155  \n",
       "21      -111836.409102       -97362.871154    -102694.492327      7969.171097  \n",
       "22      -110922.672146       -98302.129855    -101419.786756      7141.806139  \n",
       "23      -105202.394826       -92368.194921     -96947.789121      7031.667084  \n",
       "24       -98917.413370       -85646.804688     -91386.630401      6645.190675  \n",
       "25      -148225.720603      -137862.047464    -146448.451113     10603.405243  \n",
       "26      -116778.130804       -97989.616416    -103677.423295      8006.083821  \n",
       "27      -112991.727596       -98036.608874    -100517.423645      7444.442966  \n",
       "28      -103126.918785       -90659.126918     -94840.570137      6714.610514  \n",
       "29       -95877.651826       -84424.425905     -89590.326711      6519.229850  \n",
       "30       -21184.874946       -14267.101674     -17004.680984      5725.105395  \n",
       "31       -21185.094244       -14267.627989     -16996.430984      5738.737702  \n",
       "32       -21184.874946       -14267.101674     -17001.391511      5744.445181  \n",
       "33       -21185.752139       -14267.233253     -16999.641511      5742.714800  \n",
       "34       -21194.621535       -14268.563662     -16998.150770      5736.265745  \n",
       "35       -21194.695396       -14268.285884     -16999.469636      5738.339340  \n",
       "\n",
       "[36 rows x 23 columns]"
      ]
     },
     "execution_count": 391,
     "metadata": {},
     "output_type": "execute_result"
    }
   ],
   "source": [
    "pd.DataFrame(grid_search.cv_results_)"
   ]
  },
  {
   "cell_type": "code",
   "execution_count": 394,
   "metadata": {},
   "outputs": [
    {
     "data": {
      "text/plain": [
       "RandomizedSearchCV(cv=5, error_score='raise-deprecating',\n",
       "                   estimator=RandomForestRegressor(bootstrap=True,\n",
       "                                                   criterion='mse',\n",
       "                                                   max_depth=None,\n",
       "                                                   max_features='auto',\n",
       "                                                   max_leaf_nodes=None,\n",
       "                                                   min_impurity_decrease=0.0,\n",
       "                                                   min_impurity_split=None,\n",
       "                                                   min_samples_leaf=1,\n",
       "                                                   min_samples_split=2,\n",
       "                                                   min_weight_fraction_leaf=0.0,\n",
       "                                                   n_estimators='warn',\n",
       "                                                   n_jobs=None, oob_score=False,\n",
       "                                                   random_sta...\n",
       "                                                   warm_start=False),\n",
       "                   iid='warn', n_iter=10, n_jobs=None,\n",
       "                   param_distributions={'max_features': <scipy.stats._distn_infrastructure.rv_frozen object at 0x7fba863113c8>,\n",
       "                                        'n_estimators': <scipy.stats._distn_infrastructure.rv_frozen object at 0x7fba863115f8>},\n",
       "                   pre_dispatch='2*n_jobs', random_state=42, refit=True,\n",
       "                   return_train_score=False, scoring='neg_mean_squared_error',\n",
       "                   verbose=0)"
      ]
     },
     "execution_count": 394,
     "metadata": {},
     "output_type": "execute_result"
    }
   ],
   "source": [
    "from sklearn.model_selection import RandomizedSearchCV\n",
    "from scipy.stats import randint\n",
    "\n",
    "param_distribs = {\n",
    "        'n_estimators': randint(low=1, high=200),\n",
    "        'max_features': randint(low=1, high=40),\n",
    "    }\n",
    "\n",
    "forest_reg = RandomForestRegressor(random_state=42)\n",
    "rnd_search = RandomizedSearchCV(forest_reg, param_distributions=param_distribs,\n",
    "                                n_iter=10, cv=5, scoring='neg_mean_squared_error', random_state=42)\n",
    "rnd_search.fit(df_prepared, df_labels)"
   ]
  },
  {
   "cell_type": "code",
   "execution_count": 395,
   "metadata": {},
   "outputs": [
    {
     "name": "stdout",
     "output_type": "stream",
     "text": [
      "719.3621581884404 {'max_features': 39, 'n_estimators': 180}\n",
      "731.978757512003 {'max_features': 29, 'n_estimators': 15}\n",
      "745.3747708861675 {'max_features': 8, 'n_estimators': 189}\n",
      "723.873847770355 {'max_features': 21, 'n_estimators': 103}\n",
      "729.925887307673 {'max_features': 19, 'n_estimators': 75}\n",
      "740.0336401146848 {'max_features': 11, 'n_estimators': 88}\n",
      "721.2915624185779 {'max_features': 36, 'n_estimators': 104}\n",
      "723.8823606419086 {'max_features': 24, 'n_estimators': 131}\n",
      "731.8877343960125 {'max_features': 22, 'n_estimators': 53}\n",
      "774.2510700578569 {'max_features': 2, 'n_estimators': 88}\n"
     ]
    }
   ],
   "source": [
    "cvres = rnd_search.cv_results_\n",
    "for mean_score, params in zip(cvres[\"mean_test_score\"], cvres[\"params\"]):\n",
    "    print(np.sqrt(-mean_score), params)"
   ]
  },
  {
   "cell_type": "code",
   "execution_count": 396,
   "metadata": {},
   "outputs": [
    {
     "data": {
      "text/plain": [
       "array([1.05069237e-01, 2.52938418e-01, 2.53911659e-03, 3.81723042e-03,\n",
       "       4.98325175e-03, 4.63608190e-03, 4.16328847e-04, 2.64724039e-04,\n",
       "       1.50643523e-05, 3.52794187e-06, 3.28577690e-03, 4.86353770e-03,\n",
       "       1.31361748e-03, 1.84966316e-03, 6.65578912e-03, 8.30194938e-03,\n",
       "       5.13540610e-04, 4.06681735e-04, 1.27116168e-02, 9.07717323e-03,\n",
       "       1.96374738e-03, 3.12926529e-03, 1.75767532e-04, 1.42492924e-04,\n",
       "       2.17336590e-04, 1.42551988e-04, 4.18334252e-04, 2.94700132e-04,\n",
       "       7.92098326e-04, 8.33559145e-04, 7.37755569e-03, 1.10549429e-02,\n",
       "       2.01047932e-04, 2.74444781e-04, 1.14073355e-02, 1.11548329e-02,\n",
       "       5.39916295e-04, 8.78335842e-04, 1.31949173e-03, 8.75959202e-04,\n",
       "       1.93797424e-03, 2.00448055e-03, 1.60754575e-03, 1.95294979e-03,\n",
       "       7.01748286e-06, 2.10194690e-05, 8.86401822e-03, 7.41591208e-03,\n",
       "       7.18682640e-03, 8.37304687e-03, 2.82908788e-04, 1.13938607e-04,\n",
       "       9.44221549e-04, 1.17728395e-03, 4.36763341e-02, 3.34434131e-02,\n",
       "       3.20370297e-03, 3.63122833e-03, 1.96705666e-04, 1.00342709e-03,\n",
       "       3.79977377e-04, 3.54293954e-04, 1.30419296e-03, 1.06843884e-03,\n",
       "       5.81001048e-04, 6.15426765e-04, 4.37058890e-03, 4.62904054e-03,\n",
       "       9.18393112e-04, 4.93782553e-04, 7.00867197e-04, 9.38289121e-04,\n",
       "       6.82779070e-04, 4.08559159e-04, 1.13480049e-03, 1.20556800e-03,\n",
       "       3.47082811e-03, 3.77378659e-03, 8.68206163e-05, 6.72340987e-05,\n",
       "       6.61438975e-05, 5.80653050e-05, 1.15112844e-03, 8.74172761e-04,\n",
       "       3.45307801e-03, 5.66203895e-03, 5.09425738e-04, 5.60845676e-04,\n",
       "       4.10514427e-04, 4.23996957e-04, 3.90610471e-03, 7.68240486e-03,\n",
       "       4.36206907e-03, 4.26594386e-03, 2.51680394e-04, 1.08173510e-04,\n",
       "       5.44175554e-05, 9.41333669e-05, 3.13765274e-03, 3.17497369e-03,\n",
       "       3.11850032e-04, 1.76866102e-04, 8.56037729e-04, 5.37567958e-04,\n",
       "       3.04807064e-04, 1.56582949e-04, 8.83303198e-03, 9.38949197e-03,\n",
       "       2.28068373e-03, 2.92050789e-03, 6.30490504e-04, 4.79388843e-04,\n",
       "       6.37123319e-03, 4.84651840e-03, 2.28407730e-03, 1.43613493e-03,\n",
       "       1.92930288e-03, 1.52712754e-03, 2.53717745e-03, 2.49906466e-03,\n",
       "       5.45193119e-03, 3.20873386e-03, 1.45028037e-03, 2.50179764e-03,\n",
       "       1.62593099e-03, 1.30589756e-03, 9.40863046e-05, 8.00459022e-05,\n",
       "       2.33507127e-03, 2.45887629e-03, 1.14379924e-03, 4.82966031e-04,\n",
       "       2.39548562e-03, 2.31884124e-03, 6.59171969e-04, 7.20145071e-04,\n",
       "       2.10600240e-02, 1.72241121e-02, 2.15358224e-03, 3.85265937e-03,\n",
       "       8.42884851e-03, 9.30425477e-03, 2.57959324e-02, 2.26881675e-02,\n",
       "       1.80504251e-02, 1.34434770e-02, 1.07693140e-02, 7.13012164e-03,\n",
       "       5.52376987e-03, 8.70515990e-03, 3.66780695e-02, 3.93594468e-02])"
      ]
     },
     "execution_count": 396,
     "metadata": {},
     "output_type": "execute_result"
    }
   ],
   "source": [
    "feature_importances = grid_search.best_estimator_.feature_importances_\n",
    "feature_importances"
   ]
  },
  {
   "cell_type": "code",
   "execution_count": 398,
   "metadata": {},
   "outputs": [
    {
     "ename": "ValueError",
     "evalue": "Znaleziono nieznane kategorie ['LublinHouseSp.zo.o.' 'LucasApartments'] w kolumnie 0 podczas przekształcania",
     "output_type": "error",
     "traceback": [
      "\u001b[0;31m---------------------------------------------------------------------------\u001b[0m",
      "\u001b[0;31mValueError\u001b[0m                                Traceback (most recent call last)",
      "\u001b[0;32m<ipython-input-398-d70b499d4649>\u001b[0m in \u001b[0;36m<module>\u001b[0;34m\u001b[0m\n\u001b[1;32m      4\u001b[0m \u001b[0my_test\u001b[0m \u001b[0;34m=\u001b[0m \u001b[0mtest_set\u001b[0m\u001b[0;34m[\u001b[0m\u001b[0;34m\"price_m2\"\u001b[0m\u001b[0;34m]\u001b[0m\u001b[0;34m.\u001b[0m\u001b[0mcopy\u001b[0m\u001b[0;34m(\u001b[0m\u001b[0;34m)\u001b[0m\u001b[0;34m\u001b[0m\u001b[0;34m\u001b[0m\u001b[0m\n\u001b[1;32m      5\u001b[0m \u001b[0;34m\u001b[0m\u001b[0m\n\u001b[0;32m----> 6\u001b[0;31m \u001b[0mX_test_prepared\u001b[0m \u001b[0;34m=\u001b[0m \u001b[0mfull_pipeline\u001b[0m\u001b[0;34m.\u001b[0m\u001b[0mtransform\u001b[0m\u001b[0;34m(\u001b[0m\u001b[0mX_test\u001b[0m\u001b[0;34m)\u001b[0m\u001b[0;34m\u001b[0m\u001b[0;34m\u001b[0m\u001b[0m\n\u001b[0m\u001b[1;32m      7\u001b[0m \u001b[0mfinal_predictions\u001b[0m \u001b[0;34m=\u001b[0m \u001b[0mfinal_model\u001b[0m\u001b[0;34m.\u001b[0m\u001b[0mpredict\u001b[0m\u001b[0;34m(\u001b[0m\u001b[0mX_test_prepared\u001b[0m\u001b[0;34m)\u001b[0m\u001b[0;34m\u001b[0m\u001b[0;34m\u001b[0m\u001b[0m\n\u001b[1;32m      8\u001b[0m \u001b[0;34m\u001b[0m\u001b[0m\n",
      "\u001b[0;32m~/.local/lib/python3.6/site-packages/sklearn/pipeline.py\u001b[0m in \u001b[0;36mtransform\u001b[0;34m(self, X)\u001b[0m\n\u001b[1;32m    958\u001b[0m         Xs = Parallel(n_jobs=self.n_jobs)(\n\u001b[1;32m    959\u001b[0m             \u001b[0mdelayed\u001b[0m\u001b[0;34m(\u001b[0m\u001b[0m_transform_one\u001b[0m\u001b[0;34m)\u001b[0m\u001b[0;34m(\u001b[0m\u001b[0mtrans\u001b[0m\u001b[0;34m,\u001b[0m \u001b[0mX\u001b[0m\u001b[0;34m,\u001b[0m \u001b[0;32mNone\u001b[0m\u001b[0;34m,\u001b[0m \u001b[0mweight\u001b[0m\u001b[0;34m)\u001b[0m\u001b[0;34m\u001b[0m\u001b[0;34m\u001b[0m\u001b[0m\n\u001b[0;32m--> 960\u001b[0;31m             for name, trans, weight in self._iter())\n\u001b[0m\u001b[1;32m    961\u001b[0m         \u001b[0;32mif\u001b[0m \u001b[0;32mnot\u001b[0m \u001b[0mXs\u001b[0m\u001b[0;34m:\u001b[0m\u001b[0;34m\u001b[0m\u001b[0;34m\u001b[0m\u001b[0m\n\u001b[1;32m    962\u001b[0m             \u001b[0;31m# All transformers are None\u001b[0m\u001b[0;34m\u001b[0m\u001b[0;34m\u001b[0m\u001b[0;34m\u001b[0m\u001b[0m\n",
      "\u001b[0;32m~/.local/lib/python3.6/site-packages/joblib/parallel.py\u001b[0m in \u001b[0;36m__call__\u001b[0;34m(self, iterable)\u001b[0m\n\u001b[1;32m    922\u001b[0m                 \u001b[0mself\u001b[0m\u001b[0;34m.\u001b[0m\u001b[0m_iterating\u001b[0m \u001b[0;34m=\u001b[0m \u001b[0mself\u001b[0m\u001b[0;34m.\u001b[0m\u001b[0m_original_iterator\u001b[0m \u001b[0;32mis\u001b[0m \u001b[0;32mnot\u001b[0m \u001b[0;32mNone\u001b[0m\u001b[0;34m\u001b[0m\u001b[0;34m\u001b[0m\u001b[0m\n\u001b[1;32m    923\u001b[0m \u001b[0;34m\u001b[0m\u001b[0m\n\u001b[0;32m--> 924\u001b[0;31m             \u001b[0;32mwhile\u001b[0m \u001b[0mself\u001b[0m\u001b[0;34m.\u001b[0m\u001b[0mdispatch_one_batch\u001b[0m\u001b[0;34m(\u001b[0m\u001b[0miterator\u001b[0m\u001b[0;34m)\u001b[0m\u001b[0;34m:\u001b[0m\u001b[0;34m\u001b[0m\u001b[0;34m\u001b[0m\u001b[0m\n\u001b[0m\u001b[1;32m    925\u001b[0m                 \u001b[0;32mpass\u001b[0m\u001b[0;34m\u001b[0m\u001b[0;34m\u001b[0m\u001b[0m\n\u001b[1;32m    926\u001b[0m \u001b[0;34m\u001b[0m\u001b[0m\n",
      "\u001b[0;32m~/.local/lib/python3.6/site-packages/joblib/parallel.py\u001b[0m in \u001b[0;36mdispatch_one_batch\u001b[0;34m(self, iterator)\u001b[0m\n\u001b[1;32m    757\u001b[0m                 \u001b[0;32mreturn\u001b[0m \u001b[0;32mFalse\u001b[0m\u001b[0;34m\u001b[0m\u001b[0;34m\u001b[0m\u001b[0m\n\u001b[1;32m    758\u001b[0m             \u001b[0;32melse\u001b[0m\u001b[0;34m:\u001b[0m\u001b[0;34m\u001b[0m\u001b[0;34m\u001b[0m\u001b[0m\n\u001b[0;32m--> 759\u001b[0;31m                 \u001b[0mself\u001b[0m\u001b[0;34m.\u001b[0m\u001b[0m_dispatch\u001b[0m\u001b[0;34m(\u001b[0m\u001b[0mtasks\u001b[0m\u001b[0;34m)\u001b[0m\u001b[0;34m\u001b[0m\u001b[0;34m\u001b[0m\u001b[0m\n\u001b[0m\u001b[1;32m    760\u001b[0m                 \u001b[0;32mreturn\u001b[0m \u001b[0;32mTrue\u001b[0m\u001b[0;34m\u001b[0m\u001b[0;34m\u001b[0m\u001b[0m\n\u001b[1;32m    761\u001b[0m \u001b[0;34m\u001b[0m\u001b[0m\n",
      "\u001b[0;32m~/.local/lib/python3.6/site-packages/joblib/parallel.py\u001b[0m in \u001b[0;36m_dispatch\u001b[0;34m(self, batch)\u001b[0m\n\u001b[1;32m    714\u001b[0m         \u001b[0;32mwith\u001b[0m \u001b[0mself\u001b[0m\u001b[0;34m.\u001b[0m\u001b[0m_lock\u001b[0m\u001b[0;34m:\u001b[0m\u001b[0;34m\u001b[0m\u001b[0;34m\u001b[0m\u001b[0m\n\u001b[1;32m    715\u001b[0m             \u001b[0mjob_idx\u001b[0m \u001b[0;34m=\u001b[0m \u001b[0mlen\u001b[0m\u001b[0;34m(\u001b[0m\u001b[0mself\u001b[0m\u001b[0;34m.\u001b[0m\u001b[0m_jobs\u001b[0m\u001b[0;34m)\u001b[0m\u001b[0;34m\u001b[0m\u001b[0;34m\u001b[0m\u001b[0m\n\u001b[0;32m--> 716\u001b[0;31m             \u001b[0mjob\u001b[0m \u001b[0;34m=\u001b[0m \u001b[0mself\u001b[0m\u001b[0;34m.\u001b[0m\u001b[0m_backend\u001b[0m\u001b[0;34m.\u001b[0m\u001b[0mapply_async\u001b[0m\u001b[0;34m(\u001b[0m\u001b[0mbatch\u001b[0m\u001b[0;34m,\u001b[0m \u001b[0mcallback\u001b[0m\u001b[0;34m=\u001b[0m\u001b[0mcb\u001b[0m\u001b[0;34m)\u001b[0m\u001b[0;34m\u001b[0m\u001b[0;34m\u001b[0m\u001b[0m\n\u001b[0m\u001b[1;32m    717\u001b[0m             \u001b[0;31m# A job can complete so quickly than its callback is\u001b[0m\u001b[0;34m\u001b[0m\u001b[0;34m\u001b[0m\u001b[0;34m\u001b[0m\u001b[0m\n\u001b[1;32m    718\u001b[0m             \u001b[0;31m# called before we get here, causing self._jobs to\u001b[0m\u001b[0;34m\u001b[0m\u001b[0;34m\u001b[0m\u001b[0;34m\u001b[0m\u001b[0m\n",
      "\u001b[0;32m~/.local/lib/python3.6/site-packages/joblib/_parallel_backends.py\u001b[0m in \u001b[0;36mapply_async\u001b[0;34m(self, func, callback)\u001b[0m\n\u001b[1;32m    180\u001b[0m     \u001b[0;32mdef\u001b[0m \u001b[0mapply_async\u001b[0m\u001b[0;34m(\u001b[0m\u001b[0mself\u001b[0m\u001b[0;34m,\u001b[0m \u001b[0mfunc\u001b[0m\u001b[0;34m,\u001b[0m \u001b[0mcallback\u001b[0m\u001b[0;34m=\u001b[0m\u001b[0;32mNone\u001b[0m\u001b[0;34m)\u001b[0m\u001b[0;34m:\u001b[0m\u001b[0;34m\u001b[0m\u001b[0;34m\u001b[0m\u001b[0m\n\u001b[1;32m    181\u001b[0m         \u001b[0;34m\"\"\"Schedule a func to be run\"\"\"\u001b[0m\u001b[0;34m\u001b[0m\u001b[0;34m\u001b[0m\u001b[0m\n\u001b[0;32m--> 182\u001b[0;31m         \u001b[0mresult\u001b[0m \u001b[0;34m=\u001b[0m \u001b[0mImmediateResult\u001b[0m\u001b[0;34m(\u001b[0m\u001b[0mfunc\u001b[0m\u001b[0;34m)\u001b[0m\u001b[0;34m\u001b[0m\u001b[0;34m\u001b[0m\u001b[0m\n\u001b[0m\u001b[1;32m    183\u001b[0m         \u001b[0;32mif\u001b[0m \u001b[0mcallback\u001b[0m\u001b[0;34m:\u001b[0m\u001b[0;34m\u001b[0m\u001b[0;34m\u001b[0m\u001b[0m\n\u001b[1;32m    184\u001b[0m             \u001b[0mcallback\u001b[0m\u001b[0;34m(\u001b[0m\u001b[0mresult\u001b[0m\u001b[0;34m)\u001b[0m\u001b[0;34m\u001b[0m\u001b[0;34m\u001b[0m\u001b[0m\n",
      "\u001b[0;32m~/.local/lib/python3.6/site-packages/joblib/_parallel_backends.py\u001b[0m in \u001b[0;36m__init__\u001b[0;34m(self, batch)\u001b[0m\n\u001b[1;32m    547\u001b[0m         \u001b[0;31m# Don't delay the application, to avoid keeping the input\u001b[0m\u001b[0;34m\u001b[0m\u001b[0;34m\u001b[0m\u001b[0;34m\u001b[0m\u001b[0m\n\u001b[1;32m    548\u001b[0m         \u001b[0;31m# arguments in memory\u001b[0m\u001b[0;34m\u001b[0m\u001b[0;34m\u001b[0m\u001b[0;34m\u001b[0m\u001b[0m\n\u001b[0;32m--> 549\u001b[0;31m         \u001b[0mself\u001b[0m\u001b[0;34m.\u001b[0m\u001b[0mresults\u001b[0m \u001b[0;34m=\u001b[0m \u001b[0mbatch\u001b[0m\u001b[0;34m(\u001b[0m\u001b[0;34m)\u001b[0m\u001b[0;34m\u001b[0m\u001b[0;34m\u001b[0m\u001b[0m\n\u001b[0m\u001b[1;32m    550\u001b[0m \u001b[0;34m\u001b[0m\u001b[0m\n\u001b[1;32m    551\u001b[0m     \u001b[0;32mdef\u001b[0m \u001b[0mget\u001b[0m\u001b[0;34m(\u001b[0m\u001b[0mself\u001b[0m\u001b[0;34m)\u001b[0m\u001b[0;34m:\u001b[0m\u001b[0;34m\u001b[0m\u001b[0;34m\u001b[0m\u001b[0m\n",
      "\u001b[0;32m~/.local/lib/python3.6/site-packages/joblib/parallel.py\u001b[0m in \u001b[0;36m__call__\u001b[0;34m(self)\u001b[0m\n\u001b[1;32m    223\u001b[0m         \u001b[0;32mwith\u001b[0m \u001b[0mparallel_backend\u001b[0m\u001b[0;34m(\u001b[0m\u001b[0mself\u001b[0m\u001b[0;34m.\u001b[0m\u001b[0m_backend\u001b[0m\u001b[0;34m,\u001b[0m \u001b[0mn_jobs\u001b[0m\u001b[0;34m=\u001b[0m\u001b[0mself\u001b[0m\u001b[0;34m.\u001b[0m\u001b[0m_n_jobs\u001b[0m\u001b[0;34m)\u001b[0m\u001b[0;34m:\u001b[0m\u001b[0;34m\u001b[0m\u001b[0;34m\u001b[0m\u001b[0m\n\u001b[1;32m    224\u001b[0m             return [func(*args, **kwargs)\n\u001b[0;32m--> 225\u001b[0;31m                     for func, args, kwargs in self.items]\n\u001b[0m\u001b[1;32m    226\u001b[0m \u001b[0;34m\u001b[0m\u001b[0m\n\u001b[1;32m    227\u001b[0m     \u001b[0;32mdef\u001b[0m \u001b[0m__len__\u001b[0m\u001b[0;34m(\u001b[0m\u001b[0mself\u001b[0m\u001b[0;34m)\u001b[0m\u001b[0;34m:\u001b[0m\u001b[0;34m\u001b[0m\u001b[0;34m\u001b[0m\u001b[0m\n",
      "\u001b[0;32m~/.local/lib/python3.6/site-packages/joblib/parallel.py\u001b[0m in \u001b[0;36m<listcomp>\u001b[0;34m(.0)\u001b[0m\n\u001b[1;32m    223\u001b[0m         \u001b[0;32mwith\u001b[0m \u001b[0mparallel_backend\u001b[0m\u001b[0;34m(\u001b[0m\u001b[0mself\u001b[0m\u001b[0;34m.\u001b[0m\u001b[0m_backend\u001b[0m\u001b[0;34m,\u001b[0m \u001b[0mn_jobs\u001b[0m\u001b[0;34m=\u001b[0m\u001b[0mself\u001b[0m\u001b[0;34m.\u001b[0m\u001b[0m_n_jobs\u001b[0m\u001b[0;34m)\u001b[0m\u001b[0;34m:\u001b[0m\u001b[0;34m\u001b[0m\u001b[0;34m\u001b[0m\u001b[0m\n\u001b[1;32m    224\u001b[0m             return [func(*args, **kwargs)\n\u001b[0;32m--> 225\u001b[0;31m                     for func, args, kwargs in self.items]\n\u001b[0m\u001b[1;32m    226\u001b[0m \u001b[0;34m\u001b[0m\u001b[0m\n\u001b[1;32m    227\u001b[0m     \u001b[0;32mdef\u001b[0m \u001b[0m__len__\u001b[0m\u001b[0;34m(\u001b[0m\u001b[0mself\u001b[0m\u001b[0;34m)\u001b[0m\u001b[0;34m:\u001b[0m\u001b[0;34m\u001b[0m\u001b[0;34m\u001b[0m\u001b[0m\n",
      "\u001b[0;32m~/.local/lib/python3.6/site-packages/sklearn/pipeline.py\u001b[0m in \u001b[0;36m_transform_one\u001b[0;34m(transformer, X, y, weight, **fit_params)\u001b[0m\n\u001b[1;32m    693\u001b[0m \u001b[0;34m\u001b[0m\u001b[0m\n\u001b[1;32m    694\u001b[0m \u001b[0;32mdef\u001b[0m \u001b[0m_transform_one\u001b[0m\u001b[0;34m(\u001b[0m\u001b[0mtransformer\u001b[0m\u001b[0;34m,\u001b[0m \u001b[0mX\u001b[0m\u001b[0;34m,\u001b[0m \u001b[0my\u001b[0m\u001b[0;34m,\u001b[0m \u001b[0mweight\u001b[0m\u001b[0;34m,\u001b[0m \u001b[0;34m**\u001b[0m\u001b[0mfit_params\u001b[0m\u001b[0;34m)\u001b[0m\u001b[0;34m:\u001b[0m\u001b[0;34m\u001b[0m\u001b[0;34m\u001b[0m\u001b[0m\n\u001b[0;32m--> 695\u001b[0;31m     \u001b[0mres\u001b[0m \u001b[0;34m=\u001b[0m \u001b[0mtransformer\u001b[0m\u001b[0;34m.\u001b[0m\u001b[0mtransform\u001b[0m\u001b[0;34m(\u001b[0m\u001b[0mX\u001b[0m\u001b[0;34m)\u001b[0m\u001b[0;34m\u001b[0m\u001b[0;34m\u001b[0m\u001b[0m\n\u001b[0m\u001b[1;32m    696\u001b[0m     \u001b[0;31m# if we have a weight for this transformer, multiply output\u001b[0m\u001b[0;34m\u001b[0m\u001b[0;34m\u001b[0m\u001b[0;34m\u001b[0m\u001b[0m\n\u001b[1;32m    697\u001b[0m     \u001b[0;32mif\u001b[0m \u001b[0mweight\u001b[0m \u001b[0;32mis\u001b[0m \u001b[0;32mNone\u001b[0m\u001b[0;34m:\u001b[0m\u001b[0;34m\u001b[0m\u001b[0;34m\u001b[0m\u001b[0m\n",
      "\u001b[0;32m~/.local/lib/python3.6/site-packages/sklearn/pipeline.py\u001b[0m in \u001b[0;36m_transform\u001b[0;34m(self, X)\u001b[0m\n\u001b[1;32m    538\u001b[0m         \u001b[0mXt\u001b[0m \u001b[0;34m=\u001b[0m \u001b[0mX\u001b[0m\u001b[0;34m\u001b[0m\u001b[0;34m\u001b[0m\u001b[0m\n\u001b[1;32m    539\u001b[0m         \u001b[0;32mfor\u001b[0m \u001b[0m_\u001b[0m\u001b[0;34m,\u001b[0m \u001b[0m_\u001b[0m\u001b[0;34m,\u001b[0m \u001b[0mtransform\u001b[0m \u001b[0;32min\u001b[0m \u001b[0mself\u001b[0m\u001b[0;34m.\u001b[0m\u001b[0m_iter\u001b[0m\u001b[0;34m(\u001b[0m\u001b[0;34m)\u001b[0m\u001b[0;34m:\u001b[0m\u001b[0;34m\u001b[0m\u001b[0;34m\u001b[0m\u001b[0m\n\u001b[0;32m--> 540\u001b[0;31m             \u001b[0mXt\u001b[0m \u001b[0;34m=\u001b[0m \u001b[0mtransform\u001b[0m\u001b[0;34m.\u001b[0m\u001b[0mtransform\u001b[0m\u001b[0;34m(\u001b[0m\u001b[0mXt\u001b[0m\u001b[0;34m)\u001b[0m\u001b[0;34m\u001b[0m\u001b[0;34m\u001b[0m\u001b[0m\n\u001b[0m\u001b[1;32m    541\u001b[0m         \u001b[0;32mreturn\u001b[0m \u001b[0mXt\u001b[0m\u001b[0;34m\u001b[0m\u001b[0;34m\u001b[0m\u001b[0m\n\u001b[1;32m    542\u001b[0m \u001b[0;34m\u001b[0m\u001b[0m\n",
      "\u001b[0;32m<ipython-input-348-8294c18859f1>\u001b[0m in \u001b[0;36mtransform\u001b[0;34m(self, X)\u001b[0m\n\u001b[1;32m     69\u001b[0m                     msg = (\"Znaleziono nieznane kategorie {0} w kolumnie {1}\"\n\u001b[1;32m     70\u001b[0m                            \" podczas przekształcania\".format(diff, i))\n\u001b[0;32m---> 71\u001b[0;31m                     \u001b[0;32mraise\u001b[0m \u001b[0mValueError\u001b[0m\u001b[0;34m(\u001b[0m\u001b[0mmsg\u001b[0m\u001b[0;34m)\u001b[0m\u001b[0;34m\u001b[0m\u001b[0;34m\u001b[0m\u001b[0m\n\u001b[0m\u001b[1;32m     72\u001b[0m                 \u001b[0;32melse\u001b[0m\u001b[0;34m:\u001b[0m\u001b[0;34m\u001b[0m\u001b[0;34m\u001b[0m\u001b[0m\n\u001b[1;32m     73\u001b[0m                     \u001b[0mX_mask\u001b[0m\u001b[0;34m[\u001b[0m\u001b[0;34m:\u001b[0m\u001b[0;34m,\u001b[0m \u001b[0mi\u001b[0m\u001b[0;34m]\u001b[0m \u001b[0;34m=\u001b[0m \u001b[0mvalid_mask\u001b[0m\u001b[0;34m\u001b[0m\u001b[0;34m\u001b[0m\u001b[0m\n",
      "\u001b[0;31mValueError\u001b[0m: Znaleziono nieznane kategorie ['LublinHouseSp.zo.o.' 'LucasApartments'] w kolumnie 0 podczas przekształcania"
     ]
    }
   ],
   "source": [
    "final_model = grid_search.best_estimator_\n",
    "\n",
    "X_test = test_set.drop(\"price_m2\", axis=1)\n",
    "y_test = test_set[\"price_m2\"].copy()\n",
    "\n",
    "X_test_prepared = full_pipeline.transform(X_test)\n",
    "final_predictions = final_model.predict(X_test_prepared)\n",
    "\n",
    "final_mse = mean_squared_error(y_test, final_predictions)\n",
    "final_rmse = np.sqrt(final_mse)"
   ]
  },
  {
   "cell_type": "code",
   "execution_count": null,
   "metadata": {},
   "outputs": [],
   "source": []
  }
 ],
 "metadata": {
  "kernelspec": {
   "display_name": "Python 3",
   "language": "python",
   "name": "python3"
  },
  "language_info": {
   "codemirror_mode": {
    "name": "ipython",
    "version": 3
   },
   "file_extension": ".py",
   "mimetype": "text/x-python",
   "name": "python",
   "nbconvert_exporter": "python",
   "pygments_lexer": "ipython3",
   "version": "3.6.8"
  }
 },
 "nbformat": 4,
 "nbformat_minor": 2
}
