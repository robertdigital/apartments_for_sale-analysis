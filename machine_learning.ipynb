{
 "cells": [
  {
   "cell_type": "code",
   "execution_count": 115,
   "metadata": {},
   "outputs": [],
   "source": [
    "import matplotlib.pyplot as plt\n",
    "import numpy as np\n",
    "import pandas as pd\n",
    "from sklearn.model_selection import train_test_split\n",
    "import seaborn as sns\n",
    "plt.rcParams['axes.labelsize'] = 14\n",
    "plt.rcParams['xtick.labelsize'] = 12\n",
    "plt.rcParams['ytick.labelsize'] = 12"
   ]
  },
  {
   "cell_type": "markdown",
   "metadata": {},
   "source": [
    "# Przygotowanie danych"
   ]
  },
  {
   "cell_type": "code",
   "execution_count": 116,
   "metadata": {},
   "outputs": [],
   "source": [
    "df = pd.read_csv('data/results.csv', usecols=['meters', 'price', 'rooms', 'district'], na_values=['Zapytajocenę', 'EMPTY'])"
   ]
  },
  {
   "cell_type": "code",
   "execution_count": 117,
   "metadata": {},
   "outputs": [
    {
     "data": {
      "text/plain": [
       "meters        0\n",
       "price       158\n",
       "rooms         1\n",
       "district      0\n",
       "dtype: int64"
      ]
     },
     "execution_count": 117,
     "metadata": {},
     "output_type": "execute_result"
    }
   ],
   "source": [
    "df.isnull().sum()"
   ]
  },
  {
   "cell_type": "code",
   "execution_count": 118,
   "metadata": {
    "scrolled": true
   },
   "outputs": [],
   "source": [
    "df = df.dropna()"
   ]
  },
  {
   "cell_type": "code",
   "execution_count": 119,
   "metadata": {},
   "outputs": [
    {
     "name": "stderr",
     "output_type": "stream",
     "text": [
      "/home/adsum/.local/lib/python3.6/site-packages/ipykernel_launcher.py:1: UserWarning: Boolean Series key will be reindexed to match DataFrame index.\n",
      "  \"\"\"Entry point for launching an IPython kernel.\n"
     ]
    }
   ],
   "source": [
    "df = df[df['meters'] < 80][df['price'] < 850000][df['rooms'] < 5]"
   ]
  },
  {
   "cell_type": "code",
   "execution_count": 120,
   "metadata": {},
   "outputs": [],
   "source": [
    "df = df[df['district'].isin(['LSM', 'Czuby', 'Bronowice', 'Felin', 'Wrotków', 'Węglinek', 'Śródmieście', 'Czechów'])]"
   ]
  },
  {
   "cell_type": "code",
   "execution_count": 121,
   "metadata": {},
   "outputs": [
    {
     "data": {
      "text/html": [
       "<div>\n",
       "<style scoped>\n",
       "    .dataframe tbody tr th:only-of-type {\n",
       "        vertical-align: middle;\n",
       "    }\n",
       "\n",
       "    .dataframe tbody tr th {\n",
       "        vertical-align: top;\n",
       "    }\n",
       "\n",
       "    .dataframe thead th {\n",
       "        text-align: right;\n",
       "    }\n",
       "</style>\n",
       "<table border=\"1\" class=\"dataframe\">\n",
       "  <thead>\n",
       "    <tr style=\"text-align: right;\">\n",
       "      <th></th>\n",
       "      <th>meters</th>\n",
       "      <th>price</th>\n",
       "      <th>rooms</th>\n",
       "    </tr>\n",
       "  </thead>\n",
       "  <tbody>\n",
       "    <tr>\n",
       "      <td>count</td>\n",
       "      <td>1486.000000</td>\n",
       "      <td>1486.000000</td>\n",
       "      <td>1486.000000</td>\n",
       "    </tr>\n",
       "    <tr>\n",
       "      <td>mean</td>\n",
       "      <td>53.661561</td>\n",
       "      <td>325291.796803</td>\n",
       "      <td>2.580081</td>\n",
       "    </tr>\n",
       "    <tr>\n",
       "      <td>std</td>\n",
       "      <td>12.964916</td>\n",
       "      <td>84154.129988</td>\n",
       "      <td>0.776754</td>\n",
       "    </tr>\n",
       "    <tr>\n",
       "      <td>min</td>\n",
       "      <td>14.620000</td>\n",
       "      <td>64000.000000</td>\n",
       "      <td>1.000000</td>\n",
       "    </tr>\n",
       "    <tr>\n",
       "      <td>25%</td>\n",
       "      <td>45.750000</td>\n",
       "      <td>265933.500000</td>\n",
       "      <td>2.000000</td>\n",
       "    </tr>\n",
       "    <tr>\n",
       "      <td>50%</td>\n",
       "      <td>53.690000</td>\n",
       "      <td>329000.000000</td>\n",
       "      <td>3.000000</td>\n",
       "    </tr>\n",
       "    <tr>\n",
       "      <td>75%</td>\n",
       "      <td>62.860000</td>\n",
       "      <td>375455.000000</td>\n",
       "      <td>3.000000</td>\n",
       "    </tr>\n",
       "    <tr>\n",
       "      <td>max</td>\n",
       "      <td>79.950000</td>\n",
       "      <td>790000.000000</td>\n",
       "      <td>4.000000</td>\n",
       "    </tr>\n",
       "  </tbody>\n",
       "</table>\n",
       "</div>"
      ],
      "text/plain": [
       "            meters          price        rooms\n",
       "count  1486.000000    1486.000000  1486.000000\n",
       "mean     53.661561  325291.796803     2.580081\n",
       "std      12.964916   84154.129988     0.776754\n",
       "min      14.620000   64000.000000     1.000000\n",
       "25%      45.750000  265933.500000     2.000000\n",
       "50%      53.690000  329000.000000     3.000000\n",
       "75%      62.860000  375455.000000     3.000000\n",
       "max      79.950000  790000.000000     4.000000"
      ]
     },
     "execution_count": 121,
     "metadata": {},
     "output_type": "execute_result"
    }
   ],
   "source": [
    "df.describe()"
   ]
  },
  {
   "cell_type": "code",
   "execution_count": 122,
   "metadata": {},
   "outputs": [],
   "source": [
    "df['price_m2'] = round(df['price'] / df['meters']).astype(int)"
   ]
  },
  {
   "cell_type": "code",
   "execution_count": 123,
   "metadata": {},
   "outputs": [],
   "source": [
    "del df['price']"
   ]
  },
  {
   "cell_type": "code",
   "execution_count": 124,
   "metadata": {},
   "outputs": [],
   "source": [
    "df['meters'] = round(df.meters).astype(int)\n",
    "df['meters'].where(df['meters'] > 22, 22, inplace=True)\n",
    "df['rooms'] = df.rooms.astype(int)"
   ]
  },
  {
   "cell_type": "code",
   "execution_count": 125,
   "metadata": {},
   "outputs": [
    {
     "data": {
      "text/html": [
       "<div>\n",
       "<style scoped>\n",
       "    .dataframe tbody tr th:only-of-type {\n",
       "        vertical-align: middle;\n",
       "    }\n",
       "\n",
       "    .dataframe tbody tr th {\n",
       "        vertical-align: top;\n",
       "    }\n",
       "\n",
       "    .dataframe thead th {\n",
       "        text-align: right;\n",
       "    }\n",
       "</style>\n",
       "<table border=\"1\" class=\"dataframe\">\n",
       "  <thead>\n",
       "    <tr style=\"text-align: right;\">\n",
       "      <th></th>\n",
       "      <th>meters</th>\n",
       "      <th>rooms</th>\n",
       "      <th>district</th>\n",
       "      <th>price_m2</th>\n",
       "    </tr>\n",
       "  </thead>\n",
       "  <tbody>\n",
       "    <tr>\n",
       "      <td>1</td>\n",
       "      <td>59</td>\n",
       "      <td>3</td>\n",
       "      <td>Czuby</td>\n",
       "      <td>5800</td>\n",
       "    </tr>\n",
       "    <tr>\n",
       "      <td>2</td>\n",
       "      <td>53</td>\n",
       "      <td>3</td>\n",
       "      <td>Czuby</td>\n",
       "      <td>6000</td>\n",
       "    </tr>\n",
       "    <tr>\n",
       "      <td>3</td>\n",
       "      <td>70</td>\n",
       "      <td>2</td>\n",
       "      <td>LSM</td>\n",
       "      <td>9986</td>\n",
       "    </tr>\n",
       "    <tr>\n",
       "      <td>5</td>\n",
       "      <td>58</td>\n",
       "      <td>2</td>\n",
       "      <td>LSM</td>\n",
       "      <td>5431</td>\n",
       "    </tr>\n",
       "    <tr>\n",
       "      <td>6</td>\n",
       "      <td>63</td>\n",
       "      <td>3</td>\n",
       "      <td>Czuby</td>\n",
       "      <td>6333</td>\n",
       "    </tr>\n",
       "  </tbody>\n",
       "</table>\n",
       "</div>"
      ],
      "text/plain": [
       "   meters  rooms district  price_m2\n",
       "1      59      3    Czuby      5800\n",
       "2      53      3    Czuby      6000\n",
       "3      70      2      LSM      9986\n",
       "5      58      2      LSM      5431\n",
       "6      63      3    Czuby      6333"
      ]
     },
     "execution_count": 125,
     "metadata": {},
     "output_type": "execute_result"
    }
   ],
   "source": [
    "df.head()"
   ]
  },
  {
   "cell_type": "code",
   "execution_count": 126,
   "metadata": {},
   "outputs": [
    {
     "data": {
      "text/plain": [
       "Węglinek       290\n",
       "Czuby          278\n",
       "Wrotków        261\n",
       "Śródmieście    179\n",
       "Bronowice      166\n",
       "Felin          146\n",
       "LSM            113\n",
       "Czechów         53\n",
       "Name: district, dtype: int64"
      ]
     },
     "execution_count": 126,
     "metadata": {},
     "output_type": "execute_result"
    }
   ],
   "source": [
    "df['district'].value_counts()"
   ]
  },
  {
   "cell_type": "code",
   "execution_count": 127,
   "metadata": {
    "scrolled": true
   },
   "outputs": [
    {
     "data": {
      "text/html": [
       "<div>\n",
       "<style scoped>\n",
       "    .dataframe tbody tr th:only-of-type {\n",
       "        vertical-align: middle;\n",
       "    }\n",
       "\n",
       "    .dataframe tbody tr th {\n",
       "        vertical-align: top;\n",
       "    }\n",
       "\n",
       "    .dataframe thead th {\n",
       "        text-align: right;\n",
       "    }\n",
       "</style>\n",
       "<table border=\"1\" class=\"dataframe\">\n",
       "  <thead>\n",
       "    <tr style=\"text-align: right;\">\n",
       "      <th></th>\n",
       "      <th>meters</th>\n",
       "      <th>rooms</th>\n",
       "      <th>price_m2</th>\n",
       "    </tr>\n",
       "  </thead>\n",
       "  <tbody>\n",
       "    <tr>\n",
       "      <td>count</td>\n",
       "      <td>1486.000000</td>\n",
       "      <td>1486.000000</td>\n",
       "      <td>1486.000000</td>\n",
       "    </tr>\n",
       "    <tr>\n",
       "      <td>mean</td>\n",
       "      <td>53.685061</td>\n",
       "      <td>2.580081</td>\n",
       "      <td>6137.897712</td>\n",
       "    </tr>\n",
       "    <tr>\n",
       "      <td>std</td>\n",
       "      <td>12.921274</td>\n",
       "      <td>0.776754</td>\n",
       "      <td>1058.993489</td>\n",
       "    </tr>\n",
       "    <tr>\n",
       "      <td>min</td>\n",
       "      <td>22.000000</td>\n",
       "      <td>1.000000</td>\n",
       "      <td>2133.000000</td>\n",
       "    </tr>\n",
       "    <tr>\n",
       "      <td>25%</td>\n",
       "      <td>46.000000</td>\n",
       "      <td>2.000000</td>\n",
       "      <td>5514.750000</td>\n",
       "    </tr>\n",
       "    <tr>\n",
       "      <td>50%</td>\n",
       "      <td>54.000000</td>\n",
       "      <td>3.000000</td>\n",
       "      <td>5900.000000</td>\n",
       "    </tr>\n",
       "    <tr>\n",
       "      <td>75%</td>\n",
       "      <td>63.000000</td>\n",
       "      <td>3.000000</td>\n",
       "      <td>6408.500000</td>\n",
       "    </tr>\n",
       "    <tr>\n",
       "      <td>max</td>\n",
       "      <td>80.000000</td>\n",
       "      <td>4.000000</td>\n",
       "      <td>12996.000000</td>\n",
       "    </tr>\n",
       "  </tbody>\n",
       "</table>\n",
       "</div>"
      ],
      "text/plain": [
       "            meters        rooms      price_m2\n",
       "count  1486.000000  1486.000000   1486.000000\n",
       "mean     53.685061     2.580081   6137.897712\n",
       "std      12.921274     0.776754   1058.993489\n",
       "min      22.000000     1.000000   2133.000000\n",
       "25%      46.000000     2.000000   5514.750000\n",
       "50%      54.000000     3.000000   5900.000000\n",
       "75%      63.000000     3.000000   6408.500000\n",
       "max      80.000000     4.000000  12996.000000"
      ]
     },
     "execution_count": 127,
     "metadata": {},
     "output_type": "execute_result"
    }
   ],
   "source": [
    "df.describe()"
   ]
  },
  {
   "cell_type": "code",
   "execution_count": 128,
   "metadata": {},
   "outputs": [
    {
     "data": {
      "text/plain": [
       "price_m2    1.000000\n",
       "rooms      -0.286705\n",
       "meters     -0.295418\n",
       "Name: price_m2, dtype: float64"
      ]
     },
     "execution_count": 128,
     "metadata": {},
     "output_type": "execute_result"
    }
   ],
   "source": [
    "corr_df = df.corr()\n",
    "corr_df[\"price_m2\"].sort_values(ascending=False)"
   ]
  },
  {
   "cell_type": "code",
   "execution_count": 129,
   "metadata": {
    "scrolled": true
   },
   "outputs": [
    {
     "data": {
      "text/plain": [
       "array([[<matplotlib.axes._subplots.AxesSubplot object at 0x7fe3a05fad30>,\n",
       "        <matplotlib.axes._subplots.AxesSubplot object at 0x7fe3a0626eb8>,\n",
       "        <matplotlib.axes._subplots.AxesSubplot object at 0x7fe3a05e5278>],\n",
       "       [<matplotlib.axes._subplots.AxesSubplot object at 0x7fe3a0595828>,\n",
       "        <matplotlib.axes._subplots.AxesSubplot object at 0x7fe3a0546dd8>,\n",
       "        <matplotlib.axes._subplots.AxesSubplot object at 0x7fe3a05063c8>],\n",
       "       [<matplotlib.axes._subplots.AxesSubplot object at 0x7fe3a0534978>,\n",
       "        <matplotlib.axes._subplots.AxesSubplot object at 0x7fe3a04e6f60>,\n",
       "        <matplotlib.axes._subplots.AxesSubplot object at 0x7fe3a04e6f98>]],\n",
       "      dtype=object)"
      ]
     },
     "execution_count": 129,
     "metadata": {},
     "output_type": "execute_result"
    },
    {
     "data": {
      "image/png": "[encoded data removed]",
      "text/plain": [
       "<Figure size 1296x432 with 5 Axes>"
      ]
     },
     "metadata": {
      "needs_background": "light"
     },
     "output_type": "display_data"
    },
    {
     "data": {
      "image/png": "[encoded data removed]",
      "text/plain": [
       "<Figure size 432x288 with 2 Axes>"
      ]
     },
     "metadata": {
      "needs_background": "light"
     },
     "output_type": "display_data"
    },
    {
     "data": {
      "image/png": "[encoded data removed]",
      "text/plain": [
       "<Figure size 864x576 with 9 Axes>"
      ]
     },
     "metadata": {
      "needs_background": "light"
     },
     "output_type": "display_data"
    }
   ],
   "source": [
    "fig = plt.figure(figsize=(18, 6))\n",
    "plt.subplot2grid((3, 3), (0, 0))\n",
    "a1 = sns.distplot(df.meters)\n",
    "plt.title(\"Metry %\")\n",
    "\n",
    "plt.subplot2grid((3, 3), (0, 1))\n",
    "a1 = sns.distplot(df.price_m2)\n",
    "plt.title('Cena za m2 %')\n",
    "\n",
    "plt.subplot2grid((3, 3), (0, 2))\n",
    "a1 = sns.distplot(df.rooms)\n",
    "plt.title('Ilość pokoi %')\n",
    "\n",
    "plt.subplot2grid((3, 3), (1, 0), colspan=3)\n",
    "for x in [1, 2, 3, 4]:\n",
    "    df.meters[df.rooms == x].plot(kind='kde')\n",
    "plt.legend(('kawalerka', '2 pokoje', '3 pokoje', '4 pokoje'))\n",
    "\n",
    "plt.subplot2grid((3, 3), (2, 0), colspan=3)\n",
    "for x in [1, 2, 3, 4]:\n",
    "    df.price_m2[df.rooms == x].plot(kind='kde')\n",
    "plt.legend(('kawalerka', '2 pokoje', '3 pokoje', '4 pokoje'))\n",
    "\n",
    "df.plot(kind=\"scatter\", x=\"meters\", y=\"price_m2\", alpha=1,\n",
    "       c=\"rooms\", cmap=plt.get_cmap(\"plasma\"), colorbar=True,  sharex=False)\n",
    "from pandas.plotting import scatter_matrix\n",
    "\n",
    "attributes = [\"price_m2\", \"rooms\", \"meters\"]\n",
    "scatter_matrix(df[attributes], figsize=(12, 8))"
   ]
  },
  {
   "cell_type": "markdown",
   "metadata": {},
   "source": [
    "# Zbiór testowy"
   ]
  },
  {
   "cell_type": "code",
   "execution_count": 130,
   "metadata": {},
   "outputs": [
    {
     "name": "stdout",
     "output_type": "stream",
     "text": [
      "Uczące 1188 , testowe 298\n"
     ]
    }
   ],
   "source": [
    "train_set, test_set = train_test_split(df, test_size=0.2, random_state=42)\n",
    "print(\"Uczące\", len(train_set), \", testowe\", len(test_set))"
   ]
  },
  {
   "cell_type": "markdown",
   "metadata": {},
   "source": [
    "### Atrybuty kategorii"
   ]
  },
  {
   "cell_type": "code",
   "execution_count": 131,
   "metadata": {},
   "outputs": [],
   "source": [
    "# bins = [20, 24, 26, 28, 30, 32, 34, 36, 38, 40, 42, 44, 46, 48, 50, 52, 54, 56, 58, 60, 62, 64, 66, 68, 70, 72, 74, 76, 80]\n",
    "# df['meters_cat'] = pd.cut(df['meters'], bins, labels=False)"
   ]
  },
  {
   "cell_type": "code",
   "execution_count": 132,
   "metadata": {},
   "outputs": [],
   "source": [
    "# df['meters_cat'].hist(bins=50, figsize=(8, 4))"
   ]
  },
  {
   "cell_type": "code",
   "execution_count": 133,
   "metadata": {},
   "outputs": [],
   "source": [
    "# from sklearn.model_selection import StratifiedShuffleSplit\n",
    "\n",
    "# split = StratifiedShuffleSplit(n_splits=1, test_size=0.2, random_state=42)\n",
    "# for train_index, test_index in split.split(df, df[\"meters_cat\"]):\n",
    "#     strat_train_set = df.loc[train_index]\n",
    "#     strat_test_set = df.loc[test_index]"
   ]
  },
  {
   "cell_type": "code",
   "execution_count": 134,
   "metadata": {},
   "outputs": [],
   "source": [
    "# def income_cat_proportions(data):\n",
    "#     return data[\"meters_cat\"].value_counts() / len(data)\n",
    "\n",
    "# train_set, test_set = train_test_split(df, test_size=0.2, random_state=42)\n",
    "\n",
    "# compare_props = pd.DataFrame({\n",
    "#     \"Łącznie\": income_cat_proportions(df),\n",
    "#     \"L. warstwowe\": income_cat_proportions(strat_test_set),\n",
    "#     \"Losowe\": income_cat_proportions(test_set),\n",
    "# }).sort_index()\n",
    "# compare_props[\"Błąd - losowe (%)\"] = 100 * compare_props[\"Losowe\"] / compare_props[\"Łącznie\"] - 100\n",
    "# compare_props[\"Błąd - l. warstwowe (%)\"] = 100 * compare_props[\"L. warstwowe\"] / compare_props[\"Łącznie\"] - 100"
   ]
  },
  {
   "cell_type": "code",
   "execution_count": 135,
   "metadata": {},
   "outputs": [],
   "source": [
    "# compare_props"
   ]
  },
  {
   "cell_type": "code",
   "execution_count": 136,
   "metadata": {},
   "outputs": [],
   "source": [
    "# for set_ in strat_train_set, strat_test_set:\n",
    "#     set_.drop(\"meters_cat\", axis=1, inplace=True)"
   ]
  },
  {
   "cell_type": "markdown",
   "metadata": {},
   "source": [
    "# Przygotowanie danych pod algorytmy"
   ]
  },
  {
   "cell_type": "code",
   "execution_count": 137,
   "metadata": {},
   "outputs": [],
   "source": [
    "#df = strat_train_set.drop(\"price_m2\", axis=1)\n",
    "#df_labels = strat_train_set[\"price_m2\"].copy()\n",
    "df = train_set.drop(\"price_m2\", axis=1)\n",
    "df_labels = train_set[\"price_m2\"].copy()"
   ]
  },
  {
   "cell_type": "code",
   "execution_count": 138,
   "metadata": {},
   "outputs": [],
   "source": [
    "df_num = df.select_dtypes(include=[np.number])\n",
    "#df_num = df.drop(['district'], axis=1)"
   ]
  },
  {
   "cell_type": "code",
   "execution_count": 139,
   "metadata": {},
   "outputs": [
    {
     "data": {
      "text/html": [
       "<div>\n",
       "<style scoped>\n",
       "    .dataframe tbody tr th:only-of-type {\n",
       "        vertical-align: middle;\n",
       "    }\n",
       "\n",
       "    .dataframe tbody tr th {\n",
       "        vertical-align: top;\n",
       "    }\n",
       "\n",
       "    .dataframe thead th {\n",
       "        text-align: right;\n",
       "    }\n",
       "</style>\n",
       "<table border=\"1\" class=\"dataframe\">\n",
       "  <thead>\n",
       "    <tr style=\"text-align: right;\">\n",
       "      <th></th>\n",
       "      <th>meters</th>\n",
       "      <th>rooms</th>\n",
       "    </tr>\n",
       "  </thead>\n",
       "  <tbody>\n",
       "    <tr>\n",
       "      <td>2326</td>\n",
       "      <td>62</td>\n",
       "      <td>3</td>\n",
       "    </tr>\n",
       "    <tr>\n",
       "      <td>2599</td>\n",
       "      <td>52</td>\n",
       "      <td>2</td>\n",
       "    </tr>\n",
       "    <tr>\n",
       "      <td>1792</td>\n",
       "      <td>63</td>\n",
       "      <td>3</td>\n",
       "    </tr>\n",
       "    <tr>\n",
       "      <td>779</td>\n",
       "      <td>77</td>\n",
       "      <td>4</td>\n",
       "    </tr>\n",
       "    <tr>\n",
       "      <td>1177</td>\n",
       "      <td>42</td>\n",
       "      <td>2</td>\n",
       "    </tr>\n",
       "    <tr>\n",
       "      <td>...</td>\n",
       "      <td>...</td>\n",
       "      <td>...</td>\n",
       "    </tr>\n",
       "    <tr>\n",
       "      <td>2133</td>\n",
       "      <td>49</td>\n",
       "      <td>2</td>\n",
       "    </tr>\n",
       "    <tr>\n",
       "      <td>2466</td>\n",
       "      <td>50</td>\n",
       "      <td>3</td>\n",
       "    </tr>\n",
       "    <tr>\n",
       "      <td>1603</td>\n",
       "      <td>38</td>\n",
       "      <td>2</td>\n",
       "    </tr>\n",
       "    <tr>\n",
       "      <td>2762</td>\n",
       "      <td>62</td>\n",
       "      <td>3</td>\n",
       "    </tr>\n",
       "    <tr>\n",
       "      <td>2126</td>\n",
       "      <td>68</td>\n",
       "      <td>4</td>\n",
       "    </tr>\n",
       "  </tbody>\n",
       "</table>\n",
       "<p>1188 rows × 2 columns</p>\n",
       "</div>"
      ],
      "text/plain": [
       "      meters  rooms\n",
       "2326      62      3\n",
       "2599      52      2\n",
       "1792      63      3\n",
       "779       77      4\n",
       "1177      42      2\n",
       "...      ...    ...\n",
       "2133      49      2\n",
       "2466      50      3\n",
       "1603      38      2\n",
       "2762      62      3\n",
       "2126      68      4\n",
       "\n",
       "[1188 rows x 2 columns]"
      ]
     },
     "execution_count": 139,
     "metadata": {},
     "output_type": "execute_result"
    }
   ],
   "source": [
    "df_num"
   ]
  },
  {
   "cell_type": "markdown",
   "metadata": {},
   "source": [
    "# Atrybuty kategorialne dla tekstu"
   ]
  },
  {
   "cell_type": "code",
   "execution_count": 140,
   "metadata": {},
   "outputs": [],
   "source": [
    "from sklearn.preprocessing import OneHotEncoder"
   ]
  },
  {
   "cell_type": "code",
   "execution_count": 141,
   "metadata": {},
   "outputs": [],
   "source": [
    "district_cat = df['district']"
   ]
  },
  {
   "cell_type": "code",
   "execution_count": 1,
   "metadata": {
    "collapsed": true
   },
   "outputs": [
    {
     "ename": "NameError",
     "evalue": "name 'district_cat' is not defined",
     "output_type": "error",
     "traceback": [
      "\u001b[0;31m---------------------------------------------------------------------------\u001b[0m",
      "\u001b[0;31mNameError\u001b[0m                                 Traceback (most recent call last)",
      "\u001b[0;32m<ipython-input-1-cae055861ada>\u001b[0m in \u001b[0;36m<module>\u001b[0;34m\u001b[0m\n\u001b[0;32m----> 1\u001b[0;31m \u001b[0mdistrict_cat_encoded\u001b[0m\u001b[0;34m,\u001b[0m \u001b[0mdistrict_categories\u001b[0m \u001b[0;34m=\u001b[0m \u001b[0mdistrict_cat\u001b[0m\u001b[0;34m.\u001b[0m\u001b[0mfactorize\u001b[0m\u001b[0;34m(\u001b[0m\u001b[0;34m)\u001b[0m\u001b[0;34m\u001b[0m\u001b[0;34m\u001b[0m\u001b[0m\n\u001b[0m\u001b[1;32m      2\u001b[0m \u001b[0mdistrict_cat_encoded\u001b[0m\u001b[0;34m[\u001b[0m\u001b[0;34m:\u001b[0m\u001b[0;36m10\u001b[0m\u001b[0;34m]\u001b[0m\u001b[0;34m\u001b[0m\u001b[0;34m\u001b[0m\u001b[0m\n",
      "\u001b[0;31mNameError\u001b[0m: name 'district_cat' is not defined"
     ]
    }
   ],
   "source": [
    "district_cat_encoded, district_categories = district_cat.factorize()\n",
    "district_cat_encoded[:10]"
   ]
  },
  {
   "cell_type": "code",
   "execution_count": 143,
   "metadata": {},
   "outputs": [
    {
     "data": {
      "text/plain": [
       "Index(['Węglinek', 'Bronowice', 'Felin', 'Wrotków', 'Czuby', 'Śródmieście',\n",
       "       'LSM', 'Czechów'],\n",
       "      dtype='object')"
      ]
     },
     "execution_count": 143,
     "metadata": {},
     "output_type": "execute_result"
    }
   ],
   "source": [
    "district_categories"
   ]
  },
  {
   "cell_type": "code",
   "execution_count": 150,
   "metadata": {},
   "outputs": [
    {
     "data": {
      "text/plain": [
       "<1188x8 sparse matrix of type '<class 'numpy.float64'>'\n",
       "\twith 1188 stored elements in Compressed Sparse Row format>"
      ]
     },
     "execution_count": 150,
     "metadata": {},
     "output_type": "execute_result"
    }
   ],
   "source": [
    "encoder = OneHotEncoder(categories='auto')\n",
    "district_cat_1hot = encoder.fit_transform(district_cat_encoded.reshape(-1,1))\n",
    "district_cat_1hot"
   ]
  },
  {
   "cell_type": "code",
   "execution_count": 151,
   "metadata": {},
   "outputs": [
    {
     "data": {
      "text/plain": [
       "array([[1., 0., 0., ..., 0., 0., 0.],\n",
       "       [0., 1., 0., ..., 0., 0., 0.],\n",
       "       [0., 1., 0., ..., 0., 0., 0.],\n",
       "       ...,\n",
       "       [0., 1., 0., ..., 0., 0., 0.],\n",
       "       [0., 0., 0., ..., 0., 0., 0.],\n",
       "       [0., 0., 0., ..., 0., 0., 0.]])"
      ]
     },
     "execution_count": 151,
     "metadata": {},
     "output_type": "execute_result"
    }
   ],
   "source": [
    "district_cat_1hot.toarray()"
   ]
  },
  {
   "cell_type": "code",
   "execution_count": 152,
   "metadata": {},
   "outputs": [],
   "source": [
    "# from sklearn.pipeline import Pipeline\n",
    "# from sklearn.preprocessing import StandardScaler\n",
    "\n",
    "# num_pipeline = Pipeline([\n",
    "#         ('std_scaler', StandardScaler()),\n",
    "#     ])\n",
    "\n",
    "# df_num_tr = num_pipeline.fit_transform(df_num)"
   ]
  },
  {
   "cell_type": "code",
   "execution_count": 153,
   "metadata": {},
   "outputs": [],
   "source": [
    "# df_num_tr"
   ]
  },
  {
   "cell_type": "code",
   "execution_count": 154,
   "metadata": {},
   "outputs": [],
   "source": [
    "from sklearn.base import BaseEstimator, TransformerMixin\n",
    "\n",
    "class DataFrameSelector(BaseEstimator, TransformerMixin):\n",
    "    def __init__(self, attribute_names):\n",
    "        self.attribute_names = attribute_names\n",
    "    def fit(self, X, y=None):\n",
    "        return self\n",
    "    def transform(self, X):\n",
    "        return X[self.attribute_names].values"
   ]
  },
  {
   "cell_type": "code",
   "execution_count": 155,
   "metadata": {},
   "outputs": [
    {
     "ename": "NameError",
     "evalue": "name 'CategoricalEncoder' is not defined",
     "output_type": "error",
     "traceback": [
      "\u001b[0;31m---------------------------------------------------------------------------\u001b[0m",
      "\u001b[0;31mNameError\u001b[0m                                 Traceback (most recent call last)",
      "\u001b[0;32m<ipython-input-155-88250e933887>\u001b[0m in \u001b[0;36m<module>\u001b[0;34m\u001b[0m\n\u001b[1;32m      9\u001b[0m cat_pipeline = Pipeline([\n\u001b[1;32m     10\u001b[0m         \u001b[0;34m(\u001b[0m\u001b[0;34m'selector'\u001b[0m\u001b[0;34m,\u001b[0m \u001b[0mDataFrameSelector\u001b[0m\u001b[0;34m(\u001b[0m\u001b[0mcat_attribs\u001b[0m\u001b[0;34m)\u001b[0m\u001b[0;34m)\u001b[0m\u001b[0;34m,\u001b[0m\u001b[0;34m\u001b[0m\u001b[0;34m\u001b[0m\u001b[0m\n\u001b[0;32m---> 11\u001b[0;31m         \u001b[0;34m(\u001b[0m\u001b[0;34m'encoder'\u001b[0m\u001b[0;34m,\u001b[0m \u001b[0mCategoricalEncoder\u001b[0m\u001b[0;34m(\u001b[0m\u001b[0mencoding\u001b[0m\u001b[0;34m=\u001b[0m\u001b[0;34m\"onehot-dense\"\u001b[0m\u001b[0;34m)\u001b[0m\u001b[0;34m)\u001b[0m\u001b[0;34m\u001b[0m\u001b[0;34m\u001b[0m\u001b[0m\n\u001b[0m\u001b[1;32m     12\u001b[0m     ])\n",
      "\u001b[0;31mNameError\u001b[0m: name 'CategoricalEncoder' is not defined"
     ]
    }
   ],
   "source": [
    "num_attribs = list(df_num)\n",
    "cat_attribs = [\"district\"]\n",
    "\n",
    "num_pipeline = Pipeline([\n",
    "        ('selector', DataFrameSelector(num_attribs)),\n",
    "        ('std_scaler', StandardScaler()),\n",
    "    ])\n",
    "\n",
    "cat_pipeline = Pipeline([\n",
    "        ('selector', DataFrameSelector(cat_attribs)),\n",
    "        ('encoder', CategoricalEncoder(encoding=\"onehot-dense\"))\n",
    "    ])"
   ]
  },
  {
   "cell_type": "code",
   "execution_count": 613,
   "metadata": {},
   "outputs": [],
   "source": [
    "from sklearn.pipeline import FeatureUnion\n",
    "\n",
    "full_pipeline = FeatureUnion(transformer_list=[\n",
    "        (\"num_pipeline\", num_pipeline),\n",
    "        (\"cat_pipeline\", cat_pipeline),\n",
    "    ])"
   ]
  },
  {
   "cell_type": "code",
   "execution_count": 614,
   "metadata": {},
   "outputs": [
    {
     "data": {
      "text/plain": [
       "array([[ 0.53588634,  0.61301159,  0.        , ...,  0.        ,\n",
       "         1.        ,  0.        ],\n",
       "       [-0.75545844, -0.17056682,  1.        , ...,  0.        ,\n",
       "         0.        ,  0.        ],\n",
       "       [ 0.53588634,  0.76972728,  1.        , ...,  0.        ,\n",
       "         0.        ,  0.        ],\n",
       "       ...,\n",
       "       [-0.75545844, -1.26757659,  1.        , ...,  0.        ,\n",
       "         0.        ,  0.        ],\n",
       "       [ 0.53588634,  0.61301159,  0.        , ...,  1.        ,\n",
       "         0.        ,  0.        ],\n",
       "       [ 1.82723112,  1.08315864,  0.        , ...,  1.        ,\n",
       "         0.        ,  0.        ]])"
      ]
     },
     "execution_count": 614,
     "metadata": {},
     "output_type": "execute_result"
    }
   ],
   "source": [
    "df_prepared = full_pipeline.fit_transform(df)\n",
    "df_prepared"
   ]
  },
  {
   "cell_type": "code",
   "execution_count": 615,
   "metadata": {},
   "outputs": [
    {
     "data": {
      "text/plain": [
       "(1188, 10)"
      ]
     },
     "execution_count": 615,
     "metadata": {},
     "output_type": "execute_result"
    }
   ],
   "source": [
    "df_prepared.shape"
   ]
  },
  {
   "cell_type": "markdown",
   "metadata": {},
   "source": [
    "# Uczenie modelu"
   ]
  },
  {
   "cell_type": "code",
   "execution_count": 650,
   "metadata": {},
   "outputs": [],
   "source": [
    "import pandas as pd\n",
    "from sklearn import tree\n",
    "from sklearn.neighbors import KNeighborsClassifier\n",
    "from sklearn.ensemble import RandomForestClassifier\n",
    "from sklearn.linear_model import LogisticRegression\n",
    "from sklearn.svm import SVC\n",
    "from sklearn.model_selection import train_test_split\n",
    "import numpy as np\n",
    "from sklearn.metrics import accuracy_score\n",
    "import matplotlib.pyplot as plt"
   ]
  },
  {
   "cell_type": "code",
   "execution_count": 653,
   "metadata": {},
   "outputs": [
    {
     "data": {
      "text/html": [
       "<div>\n",
       "<style scoped>\n",
       "    .dataframe tbody tr th:only-of-type {\n",
       "        vertical-align: middle;\n",
       "    }\n",
       "\n",
       "    .dataframe tbody tr th {\n",
       "        vertical-align: top;\n",
       "    }\n",
       "\n",
       "    .dataframe thead th {\n",
       "        text-align: right;\n",
       "    }\n",
       "</style>\n",
       "<table border=\"1\" class=\"dataframe\">\n",
       "  <thead>\n",
       "    <tr style=\"text-align: right;\">\n",
       "      <th></th>\n",
       "      <th>meters</th>\n",
       "      <th>rooms</th>\n",
       "      <th>district</th>\n",
       "      <th>price_m2</th>\n",
       "      <th>meters_cat</th>\n",
       "    </tr>\n",
       "  </thead>\n",
       "  <tbody>\n",
       "    <tr>\n",
       "      <td>2498</td>\n",
       "      <td>74</td>\n",
       "      <td>3</td>\n",
       "      <td>Wrotków</td>\n",
       "      <td>4999</td>\n",
       "      <td>25</td>\n",
       "    </tr>\n",
       "    <tr>\n",
       "      <td>1595</td>\n",
       "      <td>69</td>\n",
       "      <td>4</td>\n",
       "      <td>Wrotków</td>\n",
       "      <td>4272</td>\n",
       "      <td>23</td>\n",
       "    </tr>\n",
       "    <tr>\n",
       "      <td>834</td>\n",
       "      <td>55</td>\n",
       "      <td>3</td>\n",
       "      <td>Bronowice</td>\n",
       "      <td>5900</td>\n",
       "      <td>16</td>\n",
       "    </tr>\n",
       "    <tr>\n",
       "      <td>1041</td>\n",
       "      <td>63</td>\n",
       "      <td>3</td>\n",
       "      <td>Bronowice</td>\n",
       "      <td>5450</td>\n",
       "      <td>20</td>\n",
       "    </tr>\n",
       "    <tr>\n",
       "      <td>812</td>\n",
       "      <td>73</td>\n",
       "      <td>3</td>\n",
       "      <td>Śródmieście</td>\n",
       "      <td>5059</td>\n",
       "      <td>25</td>\n",
       "    </tr>\n",
       "    <tr>\n",
       "      <td>...</td>\n",
       "      <td>...</td>\n",
       "      <td>...</td>\n",
       "      <td>...</td>\n",
       "      <td>...</td>\n",
       "      <td>...</td>\n",
       "    </tr>\n",
       "    <tr>\n",
       "      <td>988</td>\n",
       "      <td>32</td>\n",
       "      <td>1</td>\n",
       "      <td>Węglinek</td>\n",
       "      <td>6050</td>\n",
       "      <td>4</td>\n",
       "    </tr>\n",
       "    <tr>\n",
       "      <td>2076</td>\n",
       "      <td>56</td>\n",
       "      <td>2</td>\n",
       "      <td>Czuby</td>\n",
       "      <td>6777</td>\n",
       "      <td>16</td>\n",
       "    </tr>\n",
       "    <tr>\n",
       "      <td>2653</td>\n",
       "      <td>63</td>\n",
       "      <td>3</td>\n",
       "      <td>Bronowice</td>\n",
       "      <td>5450</td>\n",
       "      <td>20</td>\n",
       "    </tr>\n",
       "    <tr>\n",
       "      <td>2785</td>\n",
       "      <td>68</td>\n",
       "      <td>3</td>\n",
       "      <td>Czuby</td>\n",
       "      <td>5279</td>\n",
       "      <td>22</td>\n",
       "    </tr>\n",
       "    <tr>\n",
       "      <td>2784</td>\n",
       "      <td>47</td>\n",
       "      <td>3</td>\n",
       "      <td>Wrotków</td>\n",
       "      <td>6787</td>\n",
       "      <td>12</td>\n",
       "    </tr>\n",
       "  </tbody>\n",
       "</table>\n",
       "<p>298 rows × 5 columns</p>\n",
       "</div>"
      ],
      "text/plain": [
       "      meters  rooms     district  price_m2  meters_cat\n",
       "2498      74      3      Wrotków      4999          25\n",
       "1595      69      4      Wrotków      4272          23\n",
       "834       55      3    Bronowice      5900          16\n",
       "1041      63      3    Bronowice      5450          20\n",
       "812       73      3  Śródmieście      5059          25\n",
       "...      ...    ...          ...       ...         ...\n",
       "988       32      1     Węglinek      6050           4\n",
       "2076      56      2        Czuby      6777          16\n",
       "2653      63      3    Bronowice      5450          20\n",
       "2785      68      3        Czuby      5279          22\n",
       "2784      47      3      Wrotków      6787          12\n",
       "\n",
       "[298 rows x 5 columns]"
      ]
     },
     "execution_count": 653,
     "metadata": {},
     "output_type": "execute_result"
    }
   ],
   "source": [
    "test_set"
   ]
  },
  {
   "cell_type": "code",
   "execution_count": 651,
   "metadata": {},
   "outputs": [],
   "source": [
    "X = df_prepared\n",
    "Y = df_labels\n",
    "test_data = test_set"
   ]
  },
  {
   "cell_type": "code",
   "execution_count": 660,
   "metadata": {},
   "outputs": [
    {
     "ename": "ValueError",
     "evalue": "could not convert string to float: 'Wrotków'",
     "output_type": "error",
     "traceback": [
      "\u001b[0;31m---------------------------------------------------------------------------\u001b[0m",
      "\u001b[0;31mValueError\u001b[0m                                Traceback (most recent call last)",
      "\u001b[0;32m<ipython-input-660-10cecad7d4b5>\u001b[0m in \u001b[0;36m<module>\u001b[0;34m\u001b[0m\n\u001b[1;32m     11\u001b[0m     \u001b[0mdtc_clf\u001b[0m \u001b[0;34m=\u001b[0m \u001b[0mtree\u001b[0m\u001b[0;34m.\u001b[0m\u001b[0mDecisionTreeClassifier\u001b[0m\u001b[0;34m(\u001b[0m\u001b[0;34m)\u001b[0m\u001b[0;34m\u001b[0m\u001b[0;34m\u001b[0m\u001b[0m\n\u001b[1;32m     12\u001b[0m     \u001b[0mdtc_clf\u001b[0m \u001b[0;34m=\u001b[0m \u001b[0mdtc_clf\u001b[0m\u001b[0;34m.\u001b[0m\u001b[0mfit\u001b[0m\u001b[0;34m(\u001b[0m\u001b[0mX\u001b[0m\u001b[0;34m,\u001b[0m\u001b[0mY\u001b[0m\u001b[0;34m)\u001b[0m\u001b[0;34m\u001b[0m\u001b[0;34m\u001b[0m\u001b[0m\n\u001b[0;32m---> 13\u001b[0;31m     \u001b[0mdtc_prediction\u001b[0m \u001b[0;34m=\u001b[0m \u001b[0mdtc_clf\u001b[0m\u001b[0;34m.\u001b[0m\u001b[0mpredict\u001b[0m\u001b[0;34m(\u001b[0m\u001b[0mtest_data\u001b[0m\u001b[0;34m)\u001b[0m\u001b[0;34m\u001b[0m\u001b[0;34m\u001b[0m\u001b[0m\n\u001b[0m\u001b[1;32m     14\u001b[0m     \u001b[0;31m#print(dtc_prediction)\u001b[0m\u001b[0;34m\u001b[0m\u001b[0;34m\u001b[0m\u001b[0;34m\u001b[0m\u001b[0m\n\u001b[1;32m     15\u001b[0m \u001b[0;34m\u001b[0m\u001b[0m\n",
      "\u001b[0;32m~/.local/lib/python3.6/site-packages/sklearn/tree/tree.py\u001b[0m in \u001b[0;36mpredict\u001b[0;34m(self, X, check_input)\u001b[0m\n\u001b[1;32m    428\u001b[0m         \"\"\"\n\u001b[1;32m    429\u001b[0m         \u001b[0mcheck_is_fitted\u001b[0m\u001b[0;34m(\u001b[0m\u001b[0mself\u001b[0m\u001b[0;34m,\u001b[0m \u001b[0;34m'tree_'\u001b[0m\u001b[0;34m)\u001b[0m\u001b[0;34m\u001b[0m\u001b[0;34m\u001b[0m\u001b[0m\n\u001b[0;32m--> 430\u001b[0;31m         \u001b[0mX\u001b[0m \u001b[0;34m=\u001b[0m \u001b[0mself\u001b[0m\u001b[0;34m.\u001b[0m\u001b[0m_validate_X_predict\u001b[0m\u001b[0;34m(\u001b[0m\u001b[0mX\u001b[0m\u001b[0;34m,\u001b[0m \u001b[0mcheck_input\u001b[0m\u001b[0;34m)\u001b[0m\u001b[0;34m\u001b[0m\u001b[0;34m\u001b[0m\u001b[0m\n\u001b[0m\u001b[1;32m    431\u001b[0m         \u001b[0mproba\u001b[0m \u001b[0;34m=\u001b[0m \u001b[0mself\u001b[0m\u001b[0;34m.\u001b[0m\u001b[0mtree_\u001b[0m\u001b[0;34m.\u001b[0m\u001b[0mpredict\u001b[0m\u001b[0;34m(\u001b[0m\u001b[0mX\u001b[0m\u001b[0;34m)\u001b[0m\u001b[0;34m\u001b[0m\u001b[0;34m\u001b[0m\u001b[0m\n\u001b[1;32m    432\u001b[0m         \u001b[0mn_samples\u001b[0m \u001b[0;34m=\u001b[0m \u001b[0mX\u001b[0m\u001b[0;34m.\u001b[0m\u001b[0mshape\u001b[0m\u001b[0;34m[\u001b[0m\u001b[0;36m0\u001b[0m\u001b[0;34m]\u001b[0m\u001b[0;34m\u001b[0m\u001b[0;34m\u001b[0m\u001b[0m\n",
      "\u001b[0;32m~/.local/lib/python3.6/site-packages/sklearn/tree/tree.py\u001b[0m in \u001b[0;36m_validate_X_predict\u001b[0;34m(self, X, check_input)\u001b[0m\n\u001b[1;32m    389\u001b[0m         \u001b[0;34m\"\"\"Validate X whenever one tries to predict, apply, predict_proba\"\"\"\u001b[0m\u001b[0;34m\u001b[0m\u001b[0;34m\u001b[0m\u001b[0m\n\u001b[1;32m    390\u001b[0m         \u001b[0;32mif\u001b[0m \u001b[0mcheck_input\u001b[0m\u001b[0;34m:\u001b[0m\u001b[0;34m\u001b[0m\u001b[0;34m\u001b[0m\u001b[0m\n\u001b[0;32m--> 391\u001b[0;31m             \u001b[0mX\u001b[0m \u001b[0;34m=\u001b[0m \u001b[0mcheck_array\u001b[0m\u001b[0;34m(\u001b[0m\u001b[0mX\u001b[0m\u001b[0;34m,\u001b[0m \u001b[0mdtype\u001b[0m\u001b[0;34m=\u001b[0m\u001b[0mDTYPE\u001b[0m\u001b[0;34m,\u001b[0m \u001b[0maccept_sparse\u001b[0m\u001b[0;34m=\u001b[0m\u001b[0;34m\"csr\"\u001b[0m\u001b[0;34m)\u001b[0m\u001b[0;34m\u001b[0m\u001b[0;34m\u001b[0m\u001b[0m\n\u001b[0m\u001b[1;32m    392\u001b[0m             if issparse(X) and (X.indices.dtype != np.intc or\n\u001b[1;32m    393\u001b[0m                                 X.indptr.dtype != np.intc):\n",
      "\u001b[0;32m~/.local/lib/python3.6/site-packages/sklearn/utils/validation.py\u001b[0m in \u001b[0;36mcheck_array\u001b[0;34m(array, accept_sparse, accept_large_sparse, dtype, order, copy, force_all_finite, ensure_2d, allow_nd, ensure_min_samples, ensure_min_features, warn_on_dtype, estimator)\u001b[0m\n\u001b[1;32m    494\u001b[0m             \u001b[0;32mtry\u001b[0m\u001b[0;34m:\u001b[0m\u001b[0;34m\u001b[0m\u001b[0;34m\u001b[0m\u001b[0m\n\u001b[1;32m    495\u001b[0m                 \u001b[0mwarnings\u001b[0m\u001b[0;34m.\u001b[0m\u001b[0msimplefilter\u001b[0m\u001b[0;34m(\u001b[0m\u001b[0;34m'error'\u001b[0m\u001b[0;34m,\u001b[0m \u001b[0mComplexWarning\u001b[0m\u001b[0;34m)\u001b[0m\u001b[0;34m\u001b[0m\u001b[0;34m\u001b[0m\u001b[0m\n\u001b[0;32m--> 496\u001b[0;31m                 \u001b[0marray\u001b[0m \u001b[0;34m=\u001b[0m \u001b[0mnp\u001b[0m\u001b[0;34m.\u001b[0m\u001b[0masarray\u001b[0m\u001b[0;34m(\u001b[0m\u001b[0marray\u001b[0m\u001b[0;34m,\u001b[0m \u001b[0mdtype\u001b[0m\u001b[0;34m=\u001b[0m\u001b[0mdtype\u001b[0m\u001b[0;34m,\u001b[0m \u001b[0morder\u001b[0m\u001b[0;34m=\u001b[0m\u001b[0morder\u001b[0m\u001b[0;34m)\u001b[0m\u001b[0;34m\u001b[0m\u001b[0;34m\u001b[0m\u001b[0m\n\u001b[0m\u001b[1;32m    497\u001b[0m             \u001b[0;32mexcept\u001b[0m \u001b[0mComplexWarning\u001b[0m\u001b[0;34m:\u001b[0m\u001b[0;34m\u001b[0m\u001b[0;34m\u001b[0m\u001b[0m\n\u001b[1;32m    498\u001b[0m                 raise ValueError(\"Complex data not supported\\n\"\n",
      "\u001b[0;32m~/.local/lib/python3.6/site-packages/numpy/core/_asarray.py\u001b[0m in \u001b[0;36masarray\u001b[0;34m(a, dtype, order)\u001b[0m\n\u001b[1;32m     83\u001b[0m \u001b[0;34m\u001b[0m\u001b[0m\n\u001b[1;32m     84\u001b[0m     \"\"\"\n\u001b[0;32m---> 85\u001b[0;31m     \u001b[0;32mreturn\u001b[0m \u001b[0marray\u001b[0m\u001b[0;34m(\u001b[0m\u001b[0ma\u001b[0m\u001b[0;34m,\u001b[0m \u001b[0mdtype\u001b[0m\u001b[0;34m,\u001b[0m \u001b[0mcopy\u001b[0m\u001b[0;34m=\u001b[0m\u001b[0;32mFalse\u001b[0m\u001b[0;34m,\u001b[0m \u001b[0morder\u001b[0m\u001b[0;34m=\u001b[0m\u001b[0morder\u001b[0m\u001b[0;34m)\u001b[0m\u001b[0;34m\u001b[0m\u001b[0;34m\u001b[0m\u001b[0m\n\u001b[0m\u001b[1;32m     86\u001b[0m \u001b[0;34m\u001b[0m\u001b[0m\n\u001b[1;32m     87\u001b[0m \u001b[0;34m\u001b[0m\u001b[0m\n",
      "\u001b[0;31mValueError\u001b[0m: could not convert string to float: 'Wrotków'"
     ]
    }
   ],
   "source": [
    "\n",
    "dtc_tree_acc = 0\n",
    "rfc_acc = 0\n",
    "l_acc = 0\n",
    "s_acc = 0\n",
    "kNB_acc = 0\n",
    "\n",
    "for i in range(100):\n",
    "    \n",
    "    # Drzewa decyzyjne\n",
    "\n",
    "    dtc_clf = tree.DecisionTreeClassifier()\n",
    "    dtc_clf = dtc_clf.fit(X,Y)\n",
    "    dtc_prediction = dtc_clf.predict(test_data)\n",
    "    #print(dtc_prediction)\n",
    "\n",
    "    # Decyzyjny las losowy\n",
    "\n",
    "    rfc_clf = RandomForestClassifier(n_estimators = 100)\n",
    "    rfc_clf.fit(X,Y)\n",
    "    rfc_prediction = rfc_clf.predict(test_data)\n",
    "    #print(rfc_prediction)\n",
    "    \n",
    "    # Regresja logistyczna\n",
    "\n",
    "    l_clf = LogisticRegression(solver = 'lbfgs')\n",
    "    l_clf.fit(X,Y)\n",
    "    l_prediction = l_clf.predict(test_data)\n",
    "    #print(l_prediction)\n",
    "\n",
    "    # SVC\n",
    "\n",
    "    s_clf = SVC(gamma = 'scale')\n",
    "    s_clf.fit(X,Y)\n",
    "    s_prediction = s_clf.predict(test_data)\n",
    "    #print(s_prediction)\n",
    "\n",
    "    # k- najblizszych sasiadow\n",
    "\n",
    "    kNB_clf = KNeighborsClassifier()\n",
    "    kNB_clf.fit(X,Y)\n",
    "    kNB_prediction = kNB_clf.predict(test_data)\n",
    "    #print(kNB_prediction)\n",
    "\n",
    "    # Dokładnosc\n",
    "\n",
    "    dtc_tree_acc += accuracy_score(dtc_prediction,test_labels)\n",
    "    rfc_acc += accuracy_score(rfc_prediction,test_labels)\n",
    "    l_acc += accuracy_score(l_prediction,test_labels)\n",
    "    s_acc += accuracy_score(s_prediction,test_labels)\n",
    "    kNB_acc += accuracy_score(kNB_prediction,test_labels)\n",
    "\n",
    "print('Drzewo decyzyjne', dtc_tree_acc, 'Decyzyjny las losowy', rfc_acc, 'Regresja logistyczna', l_acc, 'SVC', s_acc,'Najbliżsi sąsiedzi', kNB_acc)\n",
    "\n",
    "klasyfikatory = ['Drzewo decyzyjne', 'Decyzyjny las losowy', 'Regresja logistyczna' , 'SVC','Najbliżsi sąsiedzi']\n",
    "dokładnosc = np.array([dtc_tree_acc, rfc_acc, l_acc, s_acc, kNB_acc])\n",
    "max_acc = np.argmax(dokładnosc)\n",
    "print('\\n' + klasyfikatory[max_acc] + ' jest najlepszym klasyfikatorem problemu.\\n')"
   ]
  },
  {
   "cell_type": "code",
   "execution_count": null,
   "metadata": {},
   "outputs": [],
   "source": []
  },
  {
   "cell_type": "code",
   "execution_count": null,
   "metadata": {},
   "outputs": [],
   "source": []
  },
  {
   "cell_type": "code",
   "execution_count": null,
   "metadata": {},
   "outputs": [],
   "source": []
  },
  {
   "cell_type": "markdown",
   "metadata": {},
   "source": [
    "### Predict Logistic Regresion"
   ]
  },
  {
   "cell_type": "code",
   "execution_count": 645,
   "metadata": {},
   "outputs": [],
   "source": [
    "from sklearn import linear_model, preprocessing"
   ]
  },
  {
   "cell_type": "code",
   "execution_count": 646,
   "metadata": {},
   "outputs": [
    {
     "name": "stderr",
     "output_type": "stream",
     "text": [
      "/home/adsum/.local/lib/python3.6/site-packages/sklearn/linear_model/logistic.py:469: FutureWarning: Default multi_class will be changed to 'auto' in 0.22. Specify the multi_class option to silence this warning.\n",
      "  \"this warning.\", FutureWarning)\n"
     ]
    },
    {
     "data": {
      "text/plain": [
       "0.2474747474747475"
      ]
     },
     "execution_count": 646,
     "metadata": {},
     "output_type": "execute_result"
    }
   ],
   "source": [
    "classifier = linear_model.LogisticRegression(solver = 'lbfgs')\n",
    "classifier_ = classifier.fit(df_prepared, df_labels)\n",
    "classifier_.score(df_prepared, df_labels)"
   ]
  },
  {
   "cell_type": "code",
   "execution_count": 647,
   "metadata": {},
   "outputs": [
    {
     "data": {
      "text/html": [
       "<div>\n",
       "<style scoped>\n",
       "    .dataframe tbody tr th:only-of-type {\n",
       "        vertical-align: middle;\n",
       "    }\n",
       "\n",
       "    .dataframe tbody tr th {\n",
       "        vertical-align: top;\n",
       "    }\n",
       "\n",
       "    .dataframe thead th {\n",
       "        text-align: right;\n",
       "    }\n",
       "</style>\n",
       "<table border=\"1\" class=\"dataframe\">\n",
       "  <thead>\n",
       "    <tr style=\"text-align: right;\">\n",
       "      <th></th>\n",
       "      <th>meters</th>\n",
       "      <th>rooms</th>\n",
       "      <th>district</th>\n",
       "      <th>price_m2</th>\n",
       "      <th>meters_cat</th>\n",
       "    </tr>\n",
       "  </thead>\n",
       "  <tbody>\n",
       "    <tr>\n",
       "      <td>2326</td>\n",
       "      <td>62</td>\n",
       "      <td>3</td>\n",
       "      <td>Węglinek</td>\n",
       "      <td>6100</td>\n",
       "      <td>19</td>\n",
       "    </tr>\n",
       "    <tr>\n",
       "      <td>2599</td>\n",
       "      <td>52</td>\n",
       "      <td>2</td>\n",
       "      <td>Bronowice</td>\n",
       "      <td>5534</td>\n",
       "      <td>14</td>\n",
       "    </tr>\n",
       "    <tr>\n",
       "      <td>1792</td>\n",
       "      <td>63</td>\n",
       "      <td>3</td>\n",
       "      <td>Bronowice</td>\n",
       "      <td>5450</td>\n",
       "      <td>20</td>\n",
       "    </tr>\n",
       "    <tr>\n",
       "      <td>779</td>\n",
       "      <td>77</td>\n",
       "      <td>4</td>\n",
       "      <td>Felin</td>\n",
       "      <td>4900</td>\n",
       "      <td>27</td>\n",
       "    </tr>\n",
       "    <tr>\n",
       "      <td>1177</td>\n",
       "      <td>42</td>\n",
       "      <td>2</td>\n",
       "      <td>Węglinek</td>\n",
       "      <td>6050</td>\n",
       "      <td>9</td>\n",
       "    </tr>\n",
       "    <tr>\n",
       "      <td>...</td>\n",
       "      <td>...</td>\n",
       "      <td>...</td>\n",
       "      <td>...</td>\n",
       "      <td>...</td>\n",
       "      <td>...</td>\n",
       "    </tr>\n",
       "    <tr>\n",
       "      <td>2133</td>\n",
       "      <td>49</td>\n",
       "      <td>2</td>\n",
       "      <td>Wrotków</td>\n",
       "      <td>5850</td>\n",
       "      <td>13</td>\n",
       "    </tr>\n",
       "    <tr>\n",
       "      <td>2466</td>\n",
       "      <td>50</td>\n",
       "      <td>3</td>\n",
       "      <td>Czuby</td>\n",
       "      <td>6200</td>\n",
       "      <td>13</td>\n",
       "    </tr>\n",
       "    <tr>\n",
       "      <td>1603</td>\n",
       "      <td>38</td>\n",
       "      <td>2</td>\n",
       "      <td>Bronowice</td>\n",
       "      <td>5451</td>\n",
       "      <td>7</td>\n",
       "    </tr>\n",
       "    <tr>\n",
       "      <td>2762</td>\n",
       "      <td>62</td>\n",
       "      <td>3</td>\n",
       "      <td>Wrotków</td>\n",
       "      <td>5199</td>\n",
       "      <td>19</td>\n",
       "    </tr>\n",
       "    <tr>\n",
       "      <td>2126</td>\n",
       "      <td>68</td>\n",
       "      <td>4</td>\n",
       "      <td>Wrotków</td>\n",
       "      <td>5700</td>\n",
       "      <td>22</td>\n",
       "    </tr>\n",
       "  </tbody>\n",
       "</table>\n",
       "<p>1188 rows × 5 columns</p>\n",
       "</div>"
      ],
      "text/plain": [
       "      meters  rooms   district  price_m2  meters_cat\n",
       "2326      62      3   Węglinek      6100          19\n",
       "2599      52      2  Bronowice      5534          14\n",
       "1792      63      3  Bronowice      5450          20\n",
       "779       77      4      Felin      4900          27\n",
       "1177      42      2   Węglinek      6050           9\n",
       "...      ...    ...        ...       ...         ...\n",
       "2133      49      2    Wrotków      5850          13\n",
       "2466      50      3      Czuby      6200          13\n",
       "1603      38      2  Bronowice      5451           7\n",
       "2762      62      3    Wrotków      5199          19\n",
       "2126      68      4    Wrotków      5700          22\n",
       "\n",
       "[1188 rows x 5 columns]"
      ]
     },
     "execution_count": 647,
     "metadata": {},
     "output_type": "execute_result"
    }
   ],
   "source": [
    "train_set"
   ]
  },
  {
   "cell_type": "code",
   "execution_count": null,
   "metadata": {},
   "outputs": [],
   "source": []
  },
  {
   "cell_type": "code",
   "execution_count": null,
   "metadata": {},
   "outputs": [],
   "source": []
  },
  {
   "cell_type": "code",
   "execution_count": null,
   "metadata": {},
   "outputs": [],
   "source": []
  },
  {
   "cell_type": "code",
   "execution_count": null,
   "metadata": {},
   "outputs": [],
   "source": []
  },
  {
   "cell_type": "code",
   "execution_count": 616,
   "metadata": {},
   "outputs": [
    {
     "data": {
      "text/plain": [
       "LinearRegression(copy_X=True, fit_intercept=True, n_jobs=None, normalize=False)"
      ]
     },
     "execution_count": 616,
     "metadata": {},
     "output_type": "execute_result"
    }
   ],
   "source": [
    "from sklearn.linear_model import LinearRegression\n",
    "\n",
    "lin_reg = LinearRegression()\n",
    "lin_reg.fit(df_prepared, df_labels)"
   ]
  },
  {
   "cell_type": "code",
   "execution_count": null,
   "metadata": {},
   "outputs": [],
   "source": []
  },
  {
   "cell_type": "code",
   "execution_count": null,
   "metadata": {},
   "outputs": [],
   "source": []
  },
  {
   "cell_type": "code",
   "execution_count": null,
   "metadata": {},
   "outputs": [],
   "source": []
  },
  {
   "cell_type": "code",
   "execution_count": null,
   "metadata": {},
   "outputs": [],
   "source": []
  },
  {
   "cell_type": "code",
   "execution_count": 617,
   "metadata": {},
   "outputs": [
    {
     "name": "stdout",
     "output_type": "stream",
     "text": [
      "Prognozy: [5858.85350869 5614.59231979 5305.36175425 4773.63263535 6302.68422466]\n"
     ]
    }
   ],
   "source": [
    "# Przetestujmy pełen potok na kilku próbkach uczących\n",
    "some_data = df.iloc[:5]\n",
    "some_labels = df_labels.iloc[:5]\n",
    "some_data_prepared = full_pipeline.transform(some_data)\n",
    "\n",
    "print(\"Prognozy:\", lin_reg.predict(some_data_prepared))"
   ]
  },
  {
   "cell_type": "markdown",
   "metadata": {},
   "source": [
    "### Porównanie wyników z rzeczywistymi wartościami"
   ]
  },
  {
   "cell_type": "code",
   "execution_count": null,
   "metadata": {},
   "outputs": [],
   "source": []
  },
  {
   "cell_type": "code",
   "execution_count": null,
   "metadata": {},
   "outputs": [],
   "source": []
  },
  {
   "cell_type": "code",
   "execution_count": null,
   "metadata": {},
   "outputs": [],
   "source": []
  },
  {
   "cell_type": "code",
   "execution_count": null,
   "metadata": {},
   "outputs": [],
   "source": []
  },
  {
   "cell_type": "code",
   "execution_count": null,
   "metadata": {},
   "outputs": [],
   "source": []
  },
  {
   "cell_type": "code",
   "execution_count": 618,
   "metadata": {},
   "outputs": [
    {
     "name": "stdout",
     "output_type": "stream",
     "text": [
      "Etykiety: [6100, 5534, 5450, 4900, 6050]\n"
     ]
    }
   ],
   "source": [
    "print(\"Etykiety:\", list(some_labels))"
   ]
  },
  {
   "cell_type": "code",
   "execution_count": null,
   "metadata": {},
   "outputs": [],
   "source": []
  },
  {
   "cell_type": "code",
   "execution_count": 619,
   "metadata": {},
   "outputs": [
    {
     "data": {
      "text/plain": [
       "array([[ 0.53588634,  0.61301159,  0.        ,  0.        ,  0.        ,\n",
       "         0.        ,  0.        ,  0.        ,  1.        ,  0.        ],\n",
       "       [-0.75545844, -0.17056682,  1.        ,  0.        ,  0.        ,\n",
       "         0.        ,  0.        ,  0.        ,  0.        ,  0.        ],\n",
       "       [ 0.53588634,  0.76972728,  1.        ,  0.        ,  0.        ,\n",
       "         0.        ,  0.        ,  0.        ,  0.        ,  0.        ],\n",
       "       [ 1.82723112,  1.86673705,  0.        ,  0.        ,  0.        ,\n",
       "         1.        ,  0.        ,  0.        ,  0.        ,  0.        ],\n",
       "       [-0.75545844, -0.95414522,  0.        ,  0.        ,  0.        ,\n",
       "         0.        ,  0.        ,  0.        ,  1.        ,  0.        ]])"
      ]
     },
     "execution_count": 619,
     "metadata": {},
     "output_type": "execute_result"
    }
   ],
   "source": [
    "some_data_prepared"
   ]
  },
  {
   "cell_type": "code",
   "execution_count": 620,
   "metadata": {},
   "outputs": [
    {
     "data": {
      "text/plain": [
       "816.6670330771776"
      ]
     },
     "execution_count": 620,
     "metadata": {},
     "output_type": "execute_result"
    }
   ],
   "source": [
    "from sklearn.metrics import mean_squared_error\n",
    "\n",
    "df_predictions = lin_reg.predict(df_prepared)\n",
    "lin_mse = mean_squared_error(df_labels, df_predictions)\n",
    "lin_rmse = np.sqrt(lin_mse)\n",
    "lin_rmse"
   ]
  },
  {
   "cell_type": "code",
   "execution_count": 621,
   "metadata": {},
   "outputs": [
    {
     "data": {
      "text/plain": [
       "528.8037559845967"
      ]
     },
     "execution_count": 621,
     "metadata": {},
     "output_type": "execute_result"
    }
   ],
   "source": [
    "from sklearn.metrics import mean_absolute_error\n",
    "\n",
    "lin_mae = mean_absolute_error(df_labels, df_predictions)\n",
    "lin_mae"
   ]
  },
  {
   "cell_type": "code",
   "execution_count": 622,
   "metadata": {},
   "outputs": [
    {
     "data": {
      "text/plain": [
       "DecisionTreeRegressor(criterion='mse', max_depth=None, max_features=None,\n",
       "                      max_leaf_nodes=None, min_impurity_decrease=0.0,\n",
       "                      min_impurity_split=None, min_samples_leaf=1,\n",
       "                      min_samples_split=2, min_weight_fraction_leaf=0.0,\n",
       "                      presort=False, random_state=42, splitter='best')"
      ]
     },
     "execution_count": 622,
     "metadata": {},
     "output_type": "execute_result"
    }
   ],
   "source": [
    "from sklearn.tree import DecisionTreeRegressor\n",
    "\n",
    "tree_reg = DecisionTreeRegressor(random_state=42)\n",
    "tree_reg.fit(df_prepared, df_labels)"
   ]
  },
  {
   "cell_type": "code",
   "execution_count": 623,
   "metadata": {},
   "outputs": [
    {
     "data": {
      "text/plain": [
       "DecisionTreeRegressor(criterion='mse', max_depth=None, max_features=None,\n",
       "                      max_leaf_nodes=None, min_impurity_decrease=0.0,\n",
       "                      min_impurity_split=1e-07, min_samples_leaf=1,\n",
       "                      min_samples_split=2, min_weight_fraction_leaf=0.0,\n",
       "                      presort=False, random_state=42, splitter='best')"
      ]
     },
     "execution_count": 623,
     "metadata": {},
     "output_type": "execute_result"
    }
   ],
   "source": [
    "DecisionTreeRegressor(criterion='mse', max_depth=None, max_features=None,\n",
    "           max_leaf_nodes=None, min_impurity_split=1e-07,\n",
    "           min_samples_leaf=1, min_samples_split=2,\n",
    "           min_weight_fraction_leaf=0.0, presort=False, random_state=42,\n",
    "           splitter='best')"
   ]
  },
  {
   "cell_type": "code",
   "execution_count": 624,
   "metadata": {},
   "outputs": [
    {
     "data": {
      "text/plain": [
       "535.2216726432573"
      ]
     },
     "execution_count": 624,
     "metadata": {},
     "output_type": "execute_result"
    }
   ],
   "source": [
    "df_predictions = tree_reg.predict(df_prepared)\n",
    "tree_mse = mean_squared_error(df_labels, df_predictions)\n",
    "tree_rmse = np.sqrt(tree_mse)\n",
    "tree_rmse"
   ]
  },
  {
   "cell_type": "code",
   "execution_count": 625,
   "metadata": {},
   "outputs": [
    {
     "data": {
      "text/plain": [
       "292.0745790154379"
      ]
     },
     "execution_count": 625,
     "metadata": {},
     "output_type": "execute_result"
    }
   ],
   "source": [
    "tre_mae = mean_absolute_error(df_labels, df_predictions)\n",
    "tre_mae"
   ]
  },
  {
   "cell_type": "markdown",
   "metadata": {},
   "source": [
    "# Regulowanie modelu"
   ]
  },
  {
   "cell_type": "markdown",
   "metadata": {},
   "source": [
    "### Sprawdzian krzyżowy"
   ]
  },
  {
   "cell_type": "code",
   "execution_count": 626,
   "metadata": {},
   "outputs": [],
   "source": [
    "from sklearn.model_selection import cross_val_score\n",
    "\n",
    "scores = cross_val_score(tree_reg, df_prepared, df_labels,\n",
    "                         scoring=\"neg_mean_squared_error\", cv=10)\n",
    "tree_rmse_scores = np.sqrt(-scores)"
   ]
  },
  {
   "cell_type": "code",
   "execution_count": 627,
   "metadata": {},
   "outputs": [
    {
     "name": "stdout",
     "output_type": "stream",
     "text": [
      "Wyniki: [792.21710805 863.59786457 899.27228467 882.3196115  745.2549645\n",
      " 769.70014759 853.53767174 663.85654891 840.73974857 700.45481121]\n",
      "Średnia: 801.09507613053\n",
      "Odchylenie standardowe: 75.9013623541567\n"
     ]
    }
   ],
   "source": [
    "def display_scores(scores):\n",
    "    print(\"Wyniki:\", scores)\n",
    "    print(\"Średnia:\", scores.mean())\n",
    "    print(\"Odchylenie standardowe:\", scores.std())\n",
    "\n",
    "display_scores(tree_rmse_scores)"
   ]
  },
  {
   "cell_type": "code",
   "execution_count": 628,
   "metadata": {},
   "outputs": [
    {
     "name": "stdout",
     "output_type": "stream",
     "text": [
      "Wyniki: [819.97074658 925.83355698 862.974221   948.46360455 766.11047133\n",
      " 688.41302277 958.3255067  750.6336786  827.15654375 670.84747139]\n",
      "Średnia: 821.8728823651466\n",
      "Odchylenie standardowe: 97.96830418774282\n"
     ]
    }
   ],
   "source": [
    "lin_scores = cross_val_score(lin_reg, df_prepared, df_labels,\n",
    "                             scoring=\"neg_mean_squared_error\", cv=10)\n",
    "lin_rmse_scores = np.sqrt(-lin_scores)\n",
    "display_scores(lin_rmse_scores)"
   ]
  },
  {
   "cell_type": "code",
   "execution_count": 629,
   "metadata": {},
   "outputs": [
    {
     "name": "stderr",
     "output_type": "stream",
     "text": [
      "/home/adsum/.local/lib/python3.6/site-packages/sklearn/ensemble/forest.py:245: FutureWarning: The default value of n_estimators will change from 10 in version 0.20 to 100 in 0.22.\n",
      "  \"10 in version 0.20 to 100 in 0.22.\", FutureWarning)\n"
     ]
    },
    {
     "data": {
      "text/plain": [
       "RandomForestRegressor(bootstrap=True, criterion='mse', max_depth=None,\n",
       "                      max_features='auto', max_leaf_nodes=None,\n",
       "                      min_impurity_decrease=0.0, min_impurity_split=None,\n",
       "                      min_samples_leaf=1, min_samples_split=2,\n",
       "                      min_weight_fraction_leaf=0.0, n_estimators=10,\n",
       "                      n_jobs=None, oob_score=False, random_state=42, verbose=0,\n",
       "                      warm_start=False)"
      ]
     },
     "execution_count": 629,
     "metadata": {},
     "output_type": "execute_result"
    }
   ],
   "source": [
    "from sklearn.ensemble import RandomForestRegressor\n",
    "\n",
    "forest_reg = RandomForestRegressor(random_state=42)\n",
    "forest_reg.fit(df_prepared, df_labels)"
   ]
  },
  {
   "cell_type": "code",
   "execution_count": 630,
   "metadata": {},
   "outputs": [
    {
     "data": {
      "text/plain": [
       "561.2452128698436"
      ]
     },
     "execution_count": 630,
     "metadata": {},
     "output_type": "execute_result"
    }
   ],
   "source": [
    "df_predictions = forest_reg.predict(df_prepared)\n",
    "forest_mse = mean_squared_error(df_labels, df_predictions)\n",
    "forest_rmse = np.sqrt(forest_mse)\n",
    "forest_rmse"
   ]
  },
  {
   "cell_type": "code",
   "execution_count": 631,
   "metadata": {},
   "outputs": [
    {
     "name": "stdout",
     "output_type": "stream",
     "text": [
      "Wyniki: [767.06708924 868.42001729 908.07103816 853.81878118 611.49936938\n",
      " 660.10565777 852.26017143 640.43632585 742.16491304 730.75107684]\n",
      "Średnia: 763.4594440182545\n",
      "Odchylenie standardowe: 99.20911276829105\n"
     ]
    }
   ],
   "source": [
    "from sklearn.model_selection import cross_val_score\n",
    "\n",
    "forest_scores = cross_val_score(forest_reg, df_prepared, df_labels,\n",
    "                                scoring=\"neg_mean_squared_error\", cv=10)\n",
    "forest_rmse_scores = np.sqrt(-forest_scores)\n",
    "display_scores(forest_rmse_scores)"
   ]
  },
  {
   "cell_type": "code",
   "execution_count": 632,
   "metadata": {
    "scrolled": true
   },
   "outputs": [
    {
     "data": {
      "text/plain": [
       "count     10.000000\n",
       "mean     821.872882\n",
       "std      103.267660\n",
       "min      670.847471\n",
       "25%      754.502877\n",
       "50%      823.563645\n",
       "75%      910.118723\n",
       "max      958.325507\n",
       "dtype: float64"
      ]
     },
     "execution_count": 632,
     "metadata": {},
     "output_type": "execute_result"
    }
   ],
   "source": [
    "scores = cross_val_score(lin_reg, df_prepared, df_labels, scoring=\"neg_mean_squared_error\", cv=10)\n",
    "pd.Series(np.sqrt(-scores)).describe()"
   ]
  },
  {
   "cell_type": "code",
   "execution_count": 633,
   "metadata": {},
   "outputs": [
    {
     "data": {
      "text/plain": [
       "1026.1521886759972"
      ]
     },
     "execution_count": 633,
     "metadata": {},
     "output_type": "execute_result"
    }
   ],
   "source": [
    "from sklearn.svm import SVR\n",
    "\n",
    "svm_reg = SVR(kernel=\"linear\")\n",
    "svm_reg.fit(df_prepared, df_labels)\n",
    "df_predictions = svm_reg.predict(df_prepared)\n",
    "svm_mse = mean_squared_error(df_labels, df_predictions)\n",
    "svm_rmse = np.sqrt(svm_mse)\n",
    "svm_rmse"
   ]
  },
  {
   "cell_type": "markdown",
   "metadata": {},
   "source": [
    "### Metoda przeszukiwania siatki"
   ]
  },
  {
   "cell_type": "code",
   "execution_count": 634,
   "metadata": {},
   "outputs": [
    {
     "name": "stderr",
     "output_type": "stream",
     "text": [
      "/home/adsum/.local/lib/python3.6/site-packages/sklearn/model_selection/_search.py:814: DeprecationWarning: The default of the `iid` parameter will change from True to False in version 0.22 and will be removed in 0.24. This will change numeric results when test-set sizes are unequal.\n",
      "  DeprecationWarning)\n"
     ]
    },
    {
     "data": {
      "text/plain": [
       "GridSearchCV(cv=5, error_score='raise-deprecating',\n",
       "             estimator=RandomForestRegressor(bootstrap=True, criterion='mse',\n",
       "                                             max_depth=None,\n",
       "                                             max_features='auto',\n",
       "                                             max_leaf_nodes=None,\n",
       "                                             min_impurity_decrease=0.0,\n",
       "                                             min_impurity_split=None,\n",
       "                                             min_samples_leaf=1,\n",
       "                                             min_samples_split=2,\n",
       "                                             min_weight_fraction_leaf=0.0,\n",
       "                                             n_estimators='warn', n_jobs=None,\n",
       "                                             oob_score=False, random_state=42,\n",
       "                                             verbose=0, warm_start=False),\n",
       "             iid='warn', n_jobs=None,\n",
       "             param_grid=[{'max_features': [2, 3, 4, 6, 8, 9, 10],\n",
       "                          'n_estimators': [5, 15, 25, 40, 60]},\n",
       "                         {'bootstrap': [False], 'max_features': [2, 3, 4],\n",
       "                          'n_estimators': [3, 10]}],\n",
       "             pre_dispatch='2*n_jobs', refit=True, return_train_score=True,\n",
       "             scoring='neg_mean_squared_error', verbose=0)"
      ]
     },
     "execution_count": 634,
     "metadata": {},
     "output_type": "execute_result"
    }
   ],
   "source": [
    "from sklearn.model_selection import GridSearchCV\n",
    "\n",
    "param_grid = [\n",
    "    {'n_estimators': [5, 15, 25, 40, 60], 'max_features': [2, 3, 4, 6, 8, 9, 10]},\n",
    "    {'bootstrap': [False], 'n_estimators': [3, 10], 'max_features': [2, 3, 4]},\n",
    "  ]\n",
    "\n",
    "forest_reg = RandomForestRegressor(random_state=42)\n",
    "grid_search = GridSearchCV(forest_reg, param_grid, cv=5,\n",
    "                           scoring='neg_mean_squared_error', return_train_score=True)\n",
    "grid_search.fit(df_prepared, df_labels)"
   ]
  },
  {
   "cell_type": "code",
   "execution_count": 635,
   "metadata": {},
   "outputs": [
    {
     "data": {
      "text/plain": [
       "{'max_features': 10, 'n_estimators': 40}"
      ]
     },
     "execution_count": 635,
     "metadata": {},
     "output_type": "execute_result"
    }
   ],
   "source": [
    "grid_search.best_params_"
   ]
  },
  {
   "cell_type": "code",
   "execution_count": 636,
   "metadata": {},
   "outputs": [
    {
     "data": {
      "text/plain": [
       "RandomForestRegressor(bootstrap=True, criterion='mse', max_depth=None,\n",
       "                      max_features=10, max_leaf_nodes=None,\n",
       "                      min_impurity_decrease=0.0, min_impurity_split=None,\n",
       "                      min_samples_leaf=1, min_samples_split=2,\n",
       "                      min_weight_fraction_leaf=0.0, n_estimators=40,\n",
       "                      n_jobs=None, oob_score=False, random_state=42, verbose=0,\n",
       "                      warm_start=False)"
      ]
     },
     "execution_count": 636,
     "metadata": {},
     "output_type": "execute_result"
    }
   ],
   "source": [
    "grid_search.best_estimator_"
   ]
  },
  {
   "cell_type": "code",
   "execution_count": 637,
   "metadata": {},
   "outputs": [
    {
     "name": "stdout",
     "output_type": "stream",
     "text": [
      "790.2859752564018 {'max_features': 2, 'n_estimators': 5}\n",
      "781.580634916767 {'max_features': 2, 'n_estimators': 15}\n",
      "774.6519008634831 {'max_features': 2, 'n_estimators': 25}\n",
      "768.0045545131183 {'max_features': 2, 'n_estimators': 40}\n",
      "767.8697764479059 {'max_features': 2, 'n_estimators': 60}\n",
      "777.3320306031045 {'max_features': 3, 'n_estimators': 5}\n",
      "773.7339598316009 {'max_features': 3, 'n_estimators': 15}\n",
      "768.3736700532968 {'max_features': 3, 'n_estimators': 25}\n",
      "763.5412690019813 {'max_features': 3, 'n_estimators': 40}\n",
      "764.0051368484952 {'max_features': 3, 'n_estimators': 60}\n",
      "777.8263549688895 {'max_features': 4, 'n_estimators': 5}\n",
      "773.4902132742953 {'max_features': 4, 'n_estimators': 15}\n",
      "768.2701765882098 {'max_features': 4, 'n_estimators': 25}\n",
      "763.5284189543756 {'max_features': 4, 'n_estimators': 40}\n",
      "764.2962800678242 {'max_features': 4, 'n_estimators': 60}\n",
      "786.3854621790972 {'max_features': 6, 'n_estimators': 5}\n",
      "773.2070596982181 {'max_features': 6, 'n_estimators': 15}\n",
      "768.663068979438 {'max_features': 6, 'n_estimators': 25}\n",
      "763.4000304163778 {'max_features': 6, 'n_estimators': 40}\n",
      "763.8728832607758 {'max_features': 6, 'n_estimators': 60}\n",
      "779.785371021029 {'max_features': 8, 'n_estimators': 5}\n",
      "774.7965113904306 {'max_features': 8, 'n_estimators': 15}\n",
      "771.9457428390864 {'max_features': 8, 'n_estimators': 25}\n",
      "762.7632905512539 {'max_features': 8, 'n_estimators': 40}\n",
      "764.4201377240977 {'max_features': 8, 'n_estimators': 60}\n",
      "785.9497657980228 {'max_features': 9, 'n_estimators': 5}\n",
      "775.6931791579663 {'max_features': 9, 'n_estimators': 15}\n",
      "771.1770673618555 {'max_features': 9, 'n_estimators': 25}\n",
      "764.4661276466953 {'max_features': 9, 'n_estimators': 40}\n",
      "764.0813984884019 {'max_features': 9, 'n_estimators': 60}\n",
      "779.9511176229823 {'max_features': 10, 'n_estimators': 5}\n",
      "770.0940294664341 {'max_features': 10, 'n_estimators': 15}\n",
      "769.1012662477661 {'max_features': 10, 'n_estimators': 25}\n",
      "761.456771877036 {'max_features': 10, 'n_estimators': 40}\n",
      "761.8199624775375 {'max_features': 10, 'n_estimators': 60}\n",
      "794.309861648622 {'bootstrap': False, 'max_features': 2, 'n_estimators': 3}\n",
      "779.0810396488265 {'bootstrap': False, 'max_features': 2, 'n_estimators': 10}\n",
      "782.7878006475737 {'bootstrap': False, 'max_features': 3, 'n_estimators': 3}\n",
      "780.5164452476658 {'bootstrap': False, 'max_features': 3, 'n_estimators': 10}\n",
      "785.0606008393213 {'bootstrap': False, 'max_features': 4, 'n_estimators': 3}\n",
      "782.633172494526 {'bootstrap': False, 'max_features': 4, 'n_estimators': 10}\n"
     ]
    }
   ],
   "source": [
    "cvres = grid_search.cv_results_\n",
    "for mean_score, params in zip(cvres[\"mean_test_score\"], cvres[\"params\"]):\n",
    "    print(np.sqrt(-mean_score), params)"
   ]
  },
  {
   "cell_type": "code",
   "execution_count": 638,
   "metadata": {},
   "outputs": [
    {
     "data": {
      "text/html": [
       "<div>\n",
       "<style scoped>\n",
       "    .dataframe tbody tr th:only-of-type {\n",
       "        vertical-align: middle;\n",
       "    }\n",
       "\n",
       "    .dataframe tbody tr th {\n",
       "        vertical-align: top;\n",
       "    }\n",
       "\n",
       "    .dataframe thead th {\n",
       "        text-align: right;\n",
       "    }\n",
       "</style>\n",
       "<table border=\"1\" class=\"dataframe\">\n",
       "  <thead>\n",
       "    <tr style=\"text-align: right;\">\n",
       "      <th></th>\n",
       "      <th>mean_fit_time</th>\n",
       "      <th>std_fit_time</th>\n",
       "      <th>mean_score_time</th>\n",
       "      <th>std_score_time</th>\n",
       "      <th>param_max_features</th>\n",
       "      <th>param_n_estimators</th>\n",
       "      <th>param_bootstrap</th>\n",
       "      <th>params</th>\n",
       "      <th>split0_test_score</th>\n",
       "      <th>split1_test_score</th>\n",
       "      <th>...</th>\n",
       "      <th>mean_test_score</th>\n",
       "      <th>std_test_score</th>\n",
       "      <th>rank_test_score</th>\n",
       "      <th>split0_train_score</th>\n",
       "      <th>split1_train_score</th>\n",
       "      <th>split2_train_score</th>\n",
       "      <th>split3_train_score</th>\n",
       "      <th>split4_train_score</th>\n",
       "      <th>mean_train_score</th>\n",
       "      <th>std_train_score</th>\n",
       "    </tr>\n",
       "  </thead>\n",
       "  <tbody>\n",
       "    <tr>\n",
       "      <td>0</td>\n",
       "      <td>0.022176</td>\n",
       "      <td>0.000429</td>\n",
       "      <td>0.002853</td>\n",
       "      <td>0.000162</td>\n",
       "      <td>2</td>\n",
       "      <td>5</td>\n",
       "      <td>NaN</td>\n",
       "      <td>{'max_features': 2, 'n_estimators': 5}</td>\n",
       "      <td>-644238.649759</td>\n",
       "      <td>-754625.778950</td>\n",
       "      <td>...</td>\n",
       "      <td>-624551.922687</td>\n",
       "      <td>77155.177391</td>\n",
       "      <td>40</td>\n",
       "      <td>-303920.508366</td>\n",
       "      <td>-289323.122488</td>\n",
       "      <td>-326603.816261</td>\n",
       "      <td>-289255.649147</td>\n",
       "      <td>-316356.901151</td>\n",
       "      <td>-305091.999483</td>\n",
       "      <td>14768.047507</td>\n",
       "    </tr>\n",
       "    <tr>\n",
       "      <td>1</td>\n",
       "      <td>0.058844</td>\n",
       "      <td>0.003463</td>\n",
       "      <td>0.005021</td>\n",
       "      <td>0.000411</td>\n",
       "      <td>2</td>\n",
       "      <td>15</td>\n",
       "      <td>NaN</td>\n",
       "      <td>{'max_features': 2, 'n_estimators': 15}</td>\n",
       "      <td>-632807.649131</td>\n",
       "      <td>-805384.311598</td>\n",
       "      <td>...</td>\n",
       "      <td>-610868.288877</td>\n",
       "      <td>115511.486475</td>\n",
       "      <td>34</td>\n",
       "      <td>-288087.366805</td>\n",
       "      <td>-282338.712821</td>\n",
       "      <td>-320230.372435</td>\n",
       "      <td>-294543.660941</td>\n",
       "      <td>-318300.665431</td>\n",
       "      <td>-300700.155686</td>\n",
       "      <td>15654.614429</td>\n",
       "    </tr>\n",
       "    <tr>\n",
       "      <td>2</td>\n",
       "      <td>0.094936</td>\n",
       "      <td>0.002341</td>\n",
       "      <td>0.007070</td>\n",
       "      <td>0.000668</td>\n",
       "      <td>2</td>\n",
       "      <td>25</td>\n",
       "      <td>NaN</td>\n",
       "      <td>{'max_features': 2, 'n_estimators': 25}</td>\n",
       "      <td>-627133.797238</td>\n",
       "      <td>-801112.952090</td>\n",
       "      <td>...</td>\n",
       "      <td>-600085.567511</td>\n",
       "      <td>121143.219523</td>\n",
       "      <td>25</td>\n",
       "      <td>-286262.846273</td>\n",
       "      <td>-278773.093500</td>\n",
       "      <td>-311272.221166</td>\n",
       "      <td>-285791.833003</td>\n",
       "      <td>-307533.956278</td>\n",
       "      <td>-293926.790044</td>\n",
       "      <td>12965.855412</td>\n",
       "    </tr>\n",
       "    <tr>\n",
       "      <td>3</td>\n",
       "      <td>0.164011</td>\n",
       "      <td>0.012613</td>\n",
       "      <td>0.010134</td>\n",
       "      <td>0.000554</td>\n",
       "      <td>2</td>\n",
       "      <td>40</td>\n",
       "      <td>NaN</td>\n",
       "      <td>{'max_features': 2, 'n_estimators': 40}</td>\n",
       "      <td>-625478.340703</td>\n",
       "      <td>-794058.528085</td>\n",
       "      <td>...</td>\n",
       "      <td>-589830.995753</td>\n",
       "      <td>124950.351729</td>\n",
       "      <td>14</td>\n",
       "      <td>-284921.963336</td>\n",
       "      <td>-275551.086980</td>\n",
       "      <td>-308318.862719</td>\n",
       "      <td>-280111.071181</td>\n",
       "      <td>-304724.360317</td>\n",
       "      <td>-290725.468907</td>\n",
       "      <td>13282.352573</td>\n",
       "    </tr>\n",
       "    <tr>\n",
       "      <td>4</td>\n",
       "      <td>0.231944</td>\n",
       "      <td>0.002308</td>\n",
       "      <td>0.013567</td>\n",
       "      <td>0.000366</td>\n",
       "      <td>2</td>\n",
       "      <td>60</td>\n",
       "      <td>NaN</td>\n",
       "      <td>{'max_features': 2, 'n_estimators': 60}</td>\n",
       "      <td>-625784.587674</td>\n",
       "      <td>-801808.662362</td>\n",
       "      <td>...</td>\n",
       "      <td>-589623.993582</td>\n",
       "      <td>128083.764120</td>\n",
       "      <td>13</td>\n",
       "      <td>-283463.313355</td>\n",
       "      <td>-275335.358052</td>\n",
       "      <td>-306876.084759</td>\n",
       "      <td>-278423.352787</td>\n",
       "      <td>-301269.535382</td>\n",
       "      <td>-289073.528867</td>\n",
       "      <td>12643.667800</td>\n",
       "    </tr>\n",
       "    <tr>\n",
       "      <td>5</td>\n",
       "      <td>0.022951</td>\n",
       "      <td>0.000570</td>\n",
       "      <td>0.003033</td>\n",
       "      <td>0.000210</td>\n",
       "      <td>3</td>\n",
       "      <td>5</td>\n",
       "      <td>NaN</td>\n",
       "      <td>{'max_features': 3, 'n_estimators': 5}</td>\n",
       "      <td>-634585.497780</td>\n",
       "      <td>-776928.046986</td>\n",
       "      <td>...</td>\n",
       "      <td>-604245.085802</td>\n",
       "      <td>110487.456020</td>\n",
       "      <td>28</td>\n",
       "      <td>-300494.138401</td>\n",
       "      <td>-291770.674452</td>\n",
       "      <td>-331691.436107</td>\n",
       "      <td>-293484.404285</td>\n",
       "      <td>-318162.160976</td>\n",
       "      <td>-307120.562844</td>\n",
       "      <td>15434.494465</td>\n",
       "    </tr>\n",
       "    <tr>\n",
       "      <td>6</td>\n",
       "      <td>0.062615</td>\n",
       "      <td>0.001721</td>\n",
       "      <td>0.005037</td>\n",
       "      <td>0.000335</td>\n",
       "      <td>3</td>\n",
       "      <td>15</td>\n",
       "      <td>NaN</td>\n",
       "      <td>{'max_features': 3, 'n_estimators': 15}</td>\n",
       "      <td>-616942.421783</td>\n",
       "      <td>-797915.029723</td>\n",
       "      <td>...</td>\n",
       "      <td>-598664.240597</td>\n",
       "      <td>119047.218018</td>\n",
       "      <td>24</td>\n",
       "      <td>-286605.779540</td>\n",
       "      <td>-282918.124306</td>\n",
       "      <td>-318169.561708</td>\n",
       "      <td>-292890.377182</td>\n",
       "      <td>-316690.946444</td>\n",
       "      <td>-299454.957836</td>\n",
       "      <td>15026.494379</td>\n",
       "    </tr>\n",
       "    <tr>\n",
       "      <td>7</td>\n",
       "      <td>0.099716</td>\n",
       "      <td>0.002850</td>\n",
       "      <td>0.006831</td>\n",
       "      <td>0.000319</td>\n",
       "      <td>3</td>\n",
       "      <td>25</td>\n",
       "      <td>NaN</td>\n",
       "      <td>{'max_features': 3, 'n_estimators': 25}</td>\n",
       "      <td>-619608.301279</td>\n",
       "      <td>-791942.466082</td>\n",
       "      <td>...</td>\n",
       "      <td>-590398.096831</td>\n",
       "      <td>121490.884297</td>\n",
       "      <td>16</td>\n",
       "      <td>-285450.319393</td>\n",
       "      <td>-279627.419711</td>\n",
       "      <td>-310600.905243</td>\n",
       "      <td>-284188.187376</td>\n",
       "      <td>-305931.993762</td>\n",
       "      <td>-293159.765097</td>\n",
       "      <td>12572.766809</td>\n",
       "    </tr>\n",
       "    <tr>\n",
       "      <td>8</td>\n",
       "      <td>0.155757</td>\n",
       "      <td>0.005027</td>\n",
       "      <td>0.009658</td>\n",
       "      <td>0.000729</td>\n",
       "      <td>3</td>\n",
       "      <td>40</td>\n",
       "      <td>NaN</td>\n",
       "      <td>{'max_features': 3, 'n_estimators': 40}</td>\n",
       "      <td>-620271.071608</td>\n",
       "      <td>-783106.296189</td>\n",
       "      <td>...</td>\n",
       "      <td>-582995.269469</td>\n",
       "      <td>122413.060090</td>\n",
       "      <td>6</td>\n",
       "      <td>-284974.690244</td>\n",
       "      <td>-276105.523185</td>\n",
       "      <td>-307484.243714</td>\n",
       "      <td>-279748.883401</td>\n",
       "      <td>-303619.638506</td>\n",
       "      <td>-290386.595810</td>\n",
       "      <td>12758.069331</td>\n",
       "    </tr>\n",
       "    <tr>\n",
       "      <td>9</td>\n",
       "      <td>0.227997</td>\n",
       "      <td>0.005414</td>\n",
       "      <td>0.014152</td>\n",
       "      <td>0.002576</td>\n",
       "      <td>3</td>\n",
       "      <td>60</td>\n",
       "      <td>NaN</td>\n",
       "      <td>{'max_features': 3, 'n_estimators': 60}</td>\n",
       "      <td>-623866.099501</td>\n",
       "      <td>-793628.490305</td>\n",
       "      <td>...</td>\n",
       "      <td>-583703.849131</td>\n",
       "      <td>127482.937839</td>\n",
       "      <td>8</td>\n",
       "      <td>-283104.324621</td>\n",
       "      <td>-275012.474796</td>\n",
       "      <td>-305966.310359</td>\n",
       "      <td>-277872.527266</td>\n",
       "      <td>-301185.429944</td>\n",
       "      <td>-288628.213397</td>\n",
       "      <td>12568.848497</td>\n",
       "    </tr>\n",
       "    <tr>\n",
       "      <td>10</td>\n",
       "      <td>0.025451</td>\n",
       "      <td>0.004110</td>\n",
       "      <td>0.002963</td>\n",
       "      <td>0.000342</td>\n",
       "      <td>4</td>\n",
       "      <td>5</td>\n",
       "      <td>NaN</td>\n",
       "      <td>{'max_features': 4, 'n_estimators': 5}</td>\n",
       "      <td>-649866.198576</td>\n",
       "      <td>-764663.231419</td>\n",
       "      <td>...</td>\n",
       "      <td>-605013.838484</td>\n",
       "      <td>108342.146345</td>\n",
       "      <td>29</td>\n",
       "      <td>-310292.110862</td>\n",
       "      <td>-289712.626196</td>\n",
       "      <td>-327841.997196</td>\n",
       "      <td>-293989.752940</td>\n",
       "      <td>-316530.451992</td>\n",
       "      <td>-307673.387837</td>\n",
       "      <td>14155.627305</td>\n",
       "    </tr>\n",
       "    <tr>\n",
       "      <td>11</td>\n",
       "      <td>0.064968</td>\n",
       "      <td>0.002953</td>\n",
       "      <td>0.004894</td>\n",
       "      <td>0.000389</td>\n",
       "      <td>4</td>\n",
       "      <td>15</td>\n",
       "      <td>NaN</td>\n",
       "      <td>{'max_features': 4, 'n_estimators': 15}</td>\n",
       "      <td>-625310.577345</td>\n",
       "      <td>-801718.295462</td>\n",
       "      <td>...</td>\n",
       "      <td>-598287.110031</td>\n",
       "      <td>120503.195448</td>\n",
       "      <td>23</td>\n",
       "      <td>-290857.761557</td>\n",
       "      <td>-283579.936078</td>\n",
       "      <td>-318059.324150</td>\n",
       "      <td>-293163.515894</td>\n",
       "      <td>-315649.877770</td>\n",
       "      <td>-300262.083090</td>\n",
       "      <td>13933.061136</td>\n",
       "    </tr>\n",
       "    <tr>\n",
       "      <td>12</td>\n",
       "      <td>0.103161</td>\n",
       "      <td>0.004274</td>\n",
       "      <td>0.006584</td>\n",
       "      <td>0.000165</td>\n",
       "      <td>4</td>\n",
       "      <td>25</td>\n",
       "      <td>NaN</td>\n",
       "      <td>{'max_features': 4, 'n_estimators': 25}</td>\n",
       "      <td>-626665.658978</td>\n",
       "      <td>-801455.805247</td>\n",
       "      <td>...</td>\n",
       "      <td>-590239.064235</td>\n",
       "      <td>126764.602857</td>\n",
       "      <td>15</td>\n",
       "      <td>-286564.931796</td>\n",
       "      <td>-280855.294942</td>\n",
       "      <td>-310828.311774</td>\n",
       "      <td>-284864.694702</td>\n",
       "      <td>-305333.361601</td>\n",
       "      <td>-293689.318963</td>\n",
       "      <td>12022.244898</td>\n",
       "    </tr>\n",
       "    <tr>\n",
       "      <td>13</td>\n",
       "      <td>0.156804</td>\n",
       "      <td>0.002588</td>\n",
       "      <td>0.009658</td>\n",
       "      <td>0.000155</td>\n",
       "      <td>4</td>\n",
       "      <td>40</td>\n",
       "      <td>NaN</td>\n",
       "      <td>{'max_features': 4, 'n_estimators': 40}</td>\n",
       "      <td>-616369.190141</td>\n",
       "      <td>-785841.524055</td>\n",
       "      <td>...</td>\n",
       "      <td>-582975.646551</td>\n",
       "      <td>121213.099620</td>\n",
       "      <td>5</td>\n",
       "      <td>-285206.530601</td>\n",
       "      <td>-276515.236633</td>\n",
       "      <td>-307393.822617</td>\n",
       "      <td>-279694.663310</td>\n",
       "      <td>-303103.016504</td>\n",
       "      <td>-290382.653933</td>\n",
       "      <td>12526.117857</td>\n",
       "    </tr>\n",
       "    <tr>\n",
       "      <td>14</td>\n",
       "      <td>0.234307</td>\n",
       "      <td>0.002355</td>\n",
       "      <td>0.013349</td>\n",
       "      <td>0.000468</td>\n",
       "      <td>4</td>\n",
       "      <td>60</td>\n",
       "      <td>NaN</td>\n",
       "      <td>{'max_features': 4, 'n_estimators': 60}</td>\n",
       "      <td>-623877.139597</td>\n",
       "      <td>-796594.080015</td>\n",
       "      <td>...</td>\n",
       "      <td>-584148.803726</td>\n",
       "      <td>127163.116180</td>\n",
       "      <td>10</td>\n",
       "      <td>-283318.609079</td>\n",
       "      <td>-275416.127005</td>\n",
       "      <td>-306611.843697</td>\n",
       "      <td>-277931.282947</td>\n",
       "      <td>-300149.912165</td>\n",
       "      <td>-288685.554979</td>\n",
       "      <td>12436.394227</td>\n",
       "    </tr>\n",
       "    <tr>\n",
       "      <td>15</td>\n",
       "      <td>0.023553</td>\n",
       "      <td>0.000542</td>\n",
       "      <td>0.003106</td>\n",
       "      <td>0.000318</td>\n",
       "      <td>6</td>\n",
       "      <td>5</td>\n",
       "      <td>NaN</td>\n",
       "      <td>{'max_features': 6, 'n_estimators': 5}</td>\n",
       "      <td>-660666.529650</td>\n",
       "      <td>-778736.381038</td>\n",
       "      <td>...</td>\n",
       "      <td>-618402.095127</td>\n",
       "      <td>96299.430366</td>\n",
       "      <td>39</td>\n",
       "      <td>-303412.800483</td>\n",
       "      <td>-297720.133165</td>\n",
       "      <td>-331659.837832</td>\n",
       "      <td>-289490.694092</td>\n",
       "      <td>-319372.747288</td>\n",
       "      <td>-308331.242572</td>\n",
       "      <td>15217.694738</td>\n",
       "    </tr>\n",
       "    <tr>\n",
       "      <td>16</td>\n",
       "      <td>0.066402</td>\n",
       "      <td>0.002166</td>\n",
       "      <td>0.005397</td>\n",
       "      <td>0.000638</td>\n",
       "      <td>6</td>\n",
       "      <td>15</td>\n",
       "      <td>NaN</td>\n",
       "      <td>{'max_features': 6, 'n_estimators': 15}</td>\n",
       "      <td>-634240.565612</td>\n",
       "      <td>-785969.815012</td>\n",
       "      <td>...</td>\n",
       "      <td>-597849.157167</td>\n",
       "      <td>111009.413081</td>\n",
       "      <td>22</td>\n",
       "      <td>-286615.243853</td>\n",
       "      <td>-284984.886916</td>\n",
       "      <td>-318616.761338</td>\n",
       "      <td>-288743.030621</td>\n",
       "      <td>-316884.384033</td>\n",
       "      <td>-299168.861352</td>\n",
       "      <td>15228.505818</td>\n",
       "    </tr>\n",
       "    <tr>\n",
       "      <td>17</td>\n",
       "      <td>0.106565</td>\n",
       "      <td>0.001679</td>\n",
       "      <td>0.006862</td>\n",
       "      <td>0.000426</td>\n",
       "      <td>6</td>\n",
       "      <td>25</td>\n",
       "      <td>NaN</td>\n",
       "      <td>{'max_features': 6, 'n_estimators': 25}</td>\n",
       "      <td>-630224.761219</td>\n",
       "      <td>-797184.560838</td>\n",
       "      <td>...</td>\n",
       "      <td>-590842.913613</td>\n",
       "      <td>121886.248322</td>\n",
       "      <td>17</td>\n",
       "      <td>-285504.257650</td>\n",
       "      <td>-280738.853330</td>\n",
       "      <td>-310581.201883</td>\n",
       "      <td>-283949.165676</td>\n",
       "      <td>-306105.630134</td>\n",
       "      <td>-293375.821735</td>\n",
       "      <td>12398.302013</td>\n",
       "    </tr>\n",
       "    <tr>\n",
       "      <td>18</td>\n",
       "      <td>0.169580</td>\n",
       "      <td>0.002019</td>\n",
       "      <td>0.010305</td>\n",
       "      <td>0.000166</td>\n",
       "      <td>6</td>\n",
       "      <td>40</td>\n",
       "      <td>NaN</td>\n",
       "      <td>{'max_features': 6, 'n_estimators': 40}</td>\n",
       "      <td>-620533.831312</td>\n",
       "      <td>-784069.617321</td>\n",
       "      <td>...</td>\n",
       "      <td>-582779.606440</td>\n",
       "      <td>120451.127700</td>\n",
       "      <td>4</td>\n",
       "      <td>-284612.793560</td>\n",
       "      <td>-275843.324820</td>\n",
       "      <td>-306616.469660</td>\n",
       "      <td>-279343.016296</td>\n",
       "      <td>-304080.854673</td>\n",
       "      <td>-290099.291802</td>\n",
       "      <td>12785.405625</td>\n",
       "    </tr>\n",
       "    <tr>\n",
       "      <td>19</td>\n",
       "      <td>0.266765</td>\n",
       "      <td>0.021349</td>\n",
       "      <td>0.014103</td>\n",
       "      <td>0.001626</td>\n",
       "      <td>6</td>\n",
       "      <td>60</td>\n",
       "      <td>NaN</td>\n",
       "      <td>{'max_features': 6, 'n_estimators': 60}</td>\n",
       "      <td>-623076.053293</td>\n",
       "      <td>-789938.339709</td>\n",
       "      <td>...</td>\n",
       "      <td>-583501.781781</td>\n",
       "      <td>123100.818338</td>\n",
       "      <td>7</td>\n",
       "      <td>-283192.473715</td>\n",
       "      <td>-275038.911542</td>\n",
       "      <td>-305599.565918</td>\n",
       "      <td>-277435.890042</td>\n",
       "      <td>-301185.753858</td>\n",
       "      <td>-288490.519015</td>\n",
       "      <td>12530.828568</td>\n",
       "    </tr>\n",
       "    <tr>\n",
       "      <td>20</td>\n",
       "      <td>0.027195</td>\n",
       "      <td>0.001704</td>\n",
       "      <td>0.003208</td>\n",
       "      <td>0.000205</td>\n",
       "      <td>8</td>\n",
       "      <td>5</td>\n",
       "      <td>NaN</td>\n",
       "      <td>{'max_features': 8, 'n_estimators': 5}</td>\n",
       "      <td>-599397.010353</td>\n",
       "      <td>-800315.462911</td>\n",
       "      <td>...</td>\n",
       "      <td>-608065.224858</td>\n",
       "      <td>110737.721037</td>\n",
       "      <td>31</td>\n",
       "      <td>-302160.631492</td>\n",
       "      <td>-291479.767789</td>\n",
       "      <td>-328799.139424</td>\n",
       "      <td>-292361.649132</td>\n",
       "      <td>-318667.855246</td>\n",
       "      <td>-306693.808617</td>\n",
       "      <td>14761.104101</td>\n",
       "    </tr>\n",
       "    <tr>\n",
       "      <td>21</td>\n",
       "      <td>0.077231</td>\n",
       "      <td>0.007482</td>\n",
       "      <td>0.006047</td>\n",
       "      <td>0.000905</td>\n",
       "      <td>8</td>\n",
       "      <td>15</td>\n",
       "      <td>NaN</td>\n",
       "      <td>{'max_features': 8, 'n_estimators': 15}</td>\n",
       "      <td>-615486.362258</td>\n",
       "      <td>-800869.369361</td>\n",
       "      <td>...</td>\n",
       "      <td>-600309.634063</td>\n",
       "      <td>116755.785506</td>\n",
       "      <td>26</td>\n",
       "      <td>-287269.242570</td>\n",
       "      <td>-283104.339849</td>\n",
       "      <td>-319235.278044</td>\n",
       "      <td>-293010.335794</td>\n",
       "      <td>-320201.386812</td>\n",
       "      <td>-300564.116614</td>\n",
       "      <td>15955.511494</td>\n",
       "    </tr>\n",
       "    <tr>\n",
       "      <td>22</td>\n",
       "      <td>0.114224</td>\n",
       "      <td>0.002645</td>\n",
       "      <td>0.006817</td>\n",
       "      <td>0.000279</td>\n",
       "      <td>8</td>\n",
       "      <td>25</td>\n",
       "      <td>NaN</td>\n",
       "      <td>{'max_features': 8, 'n_estimators': 25}</td>\n",
       "      <td>-622657.998679</td>\n",
       "      <td>-821386.419250</td>\n",
       "      <td>...</td>\n",
       "      <td>-595900.229887</td>\n",
       "      <td>130332.480478</td>\n",
       "      <td>21</td>\n",
       "      <td>-285502.006372</td>\n",
       "      <td>-280851.762521</td>\n",
       "      <td>-311049.274994</td>\n",
       "      <td>-285464.802528</td>\n",
       "      <td>-307121.095589</td>\n",
       "      <td>-293997.788401</td>\n",
       "      <td>12496.259786</td>\n",
       "    </tr>\n",
       "    <tr>\n",
       "      <td>23</td>\n",
       "      <td>0.171615</td>\n",
       "      <td>0.001336</td>\n",
       "      <td>0.009225</td>\n",
       "      <td>0.000288</td>\n",
       "      <td>8</td>\n",
       "      <td>40</td>\n",
       "      <td>NaN</td>\n",
       "      <td>{'max_features': 8, 'n_estimators': 40}</td>\n",
       "      <td>-619316.407586</td>\n",
       "      <td>-794529.795101</td>\n",
       "      <td>...</td>\n",
       "      <td>-581807.837413</td>\n",
       "      <td>127746.969802</td>\n",
       "      <td>3</td>\n",
       "      <td>-284570.315124</td>\n",
       "      <td>-276750.328503</td>\n",
       "      <td>-307110.325907</td>\n",
       "      <td>-280657.028602</td>\n",
       "      <td>-305072.159700</td>\n",
       "      <td>-290832.031567</td>\n",
       "      <td>12718.476758</td>\n",
       "    </tr>\n",
       "    <tr>\n",
       "      <td>24</td>\n",
       "      <td>0.256472</td>\n",
       "      <td>0.008224</td>\n",
       "      <td>0.013240</td>\n",
       "      <td>0.000467</td>\n",
       "      <td>8</td>\n",
       "      <td>60</td>\n",
       "      <td>NaN</td>\n",
       "      <td>{'max_features': 8, 'n_estimators': 60}</td>\n",
       "      <td>-624201.378161</td>\n",
       "      <td>-797464.722178</td>\n",
       "      <td>...</td>\n",
       "      <td>-584338.146958</td>\n",
       "      <td>126986.195580</td>\n",
       "      <td>11</td>\n",
       "      <td>-284048.129683</td>\n",
       "      <td>-275943.257157</td>\n",
       "      <td>-306838.397873</td>\n",
       "      <td>-278783.656429</td>\n",
       "      <td>-301813.457437</td>\n",
       "      <td>-289485.379716</td>\n",
       "      <td>12494.706016</td>\n",
       "    </tr>\n",
       "    <tr>\n",
       "      <td>25</td>\n",
       "      <td>0.024007</td>\n",
       "      <td>0.000207</td>\n",
       "      <td>0.002938</td>\n",
       "      <td>0.000203</td>\n",
       "      <td>9</td>\n",
       "      <td>5</td>\n",
       "      <td>NaN</td>\n",
       "      <td>{'max_features': 9, 'n_estimators': 5}</td>\n",
       "      <td>-645447.997622</td>\n",
       "      <td>-775590.044278</td>\n",
       "      <td>...</td>\n",
       "      <td>-617717.034358</td>\n",
       "      <td>98722.564922</td>\n",
       "      <td>38</td>\n",
       "      <td>-302088.443706</td>\n",
       "      <td>-288415.932368</td>\n",
       "      <td>-332771.298708</td>\n",
       "      <td>-297259.098113</td>\n",
       "      <td>-320494.883171</td>\n",
       "      <td>-308205.931213</td>\n",
       "      <td>16145.441976</td>\n",
       "    </tr>\n",
       "    <tr>\n",
       "      <td>26</td>\n",
       "      <td>0.066749</td>\n",
       "      <td>0.001705</td>\n",
       "      <td>0.004829</td>\n",
       "      <td>0.000167</td>\n",
       "      <td>9</td>\n",
       "      <td>15</td>\n",
       "      <td>NaN</td>\n",
       "      <td>{'max_features': 9, 'n_estimators': 15}</td>\n",
       "      <td>-632941.800241</td>\n",
       "      <td>-801037.991815</td>\n",
       "      <td>...</td>\n",
       "      <td>-601699.908192</td>\n",
       "      <td>117245.434993</td>\n",
       "      <td>27</td>\n",
       "      <td>-289425.661273</td>\n",
       "      <td>-283774.971077</td>\n",
       "      <td>-320252.881876</td>\n",
       "      <td>-291263.212397</td>\n",
       "      <td>-319817.559165</td>\n",
       "      <td>-300906.857158</td>\n",
       "      <td>15812.669520</td>\n",
       "    </tr>\n",
       "    <tr>\n",
       "      <td>27</td>\n",
       "      <td>0.110031</td>\n",
       "      <td>0.001820</td>\n",
       "      <td>0.006652</td>\n",
       "      <td>0.000258</td>\n",
       "      <td>9</td>\n",
       "      <td>25</td>\n",
       "      <td>NaN</td>\n",
       "      <td>{'max_features': 9, 'n_estimators': 25}</td>\n",
       "      <td>-626237.918344</td>\n",
       "      <td>-811121.416258</td>\n",
       "      <td>...</td>\n",
       "      <td>-594714.069225</td>\n",
       "      <td>125432.795404</td>\n",
       "      <td>20</td>\n",
       "      <td>-286543.930564</td>\n",
       "      <td>-281313.904722</td>\n",
       "      <td>-312232.912542</td>\n",
       "      <td>-284064.201169</td>\n",
       "      <td>-307603.245210</td>\n",
       "      <td>-294351.638841</td>\n",
       "      <td>12900.536530</td>\n",
       "    </tr>\n",
       "    <tr>\n",
       "      <td>28</td>\n",
       "      <td>0.171881</td>\n",
       "      <td>0.001981</td>\n",
       "      <td>0.009323</td>\n",
       "      <td>0.000299</td>\n",
       "      <td>9</td>\n",
       "      <td>40</td>\n",
       "      <td>NaN</td>\n",
       "      <td>{'max_features': 9, 'n_estimators': 40}</td>\n",
       "      <td>-617491.204274</td>\n",
       "      <td>-799441.195593</td>\n",
       "      <td>...</td>\n",
       "      <td>-584408.460319</td>\n",
       "      <td>125928.640435</td>\n",
       "      <td>12</td>\n",
       "      <td>-285306.734135</td>\n",
       "      <td>-277420.312539</td>\n",
       "      <td>-307781.982385</td>\n",
       "      <td>-279554.805927</td>\n",
       "      <td>-305119.719983</td>\n",
       "      <td>-291036.710994</td>\n",
       "      <td>12874.846343</td>\n",
       "    </tr>\n",
       "    <tr>\n",
       "      <td>29</td>\n",
       "      <td>0.253589</td>\n",
       "      <td>0.003645</td>\n",
       "      <td>0.012980</td>\n",
       "      <td>0.000295</td>\n",
       "      <td>9</td>\n",
       "      <td>60</td>\n",
       "      <td>NaN</td>\n",
       "      <td>{'max_features': 9, 'n_estimators': 60}</td>\n",
       "      <td>-620598.232176</td>\n",
       "      <td>-805890.335657</td>\n",
       "      <td>...</td>\n",
       "      <td>-583820.383516</td>\n",
       "      <td>130529.651821</td>\n",
       "      <td>9</td>\n",
       "      <td>-285385.347072</td>\n",
       "      <td>-276496.969248</td>\n",
       "      <td>-307358.545082</td>\n",
       "      <td>-277918.898099</td>\n",
       "      <td>-302200.038648</td>\n",
       "      <td>-289871.959630</td>\n",
       "      <td>12646.406153</td>\n",
       "    </tr>\n",
       "    <tr>\n",
       "      <td>30</td>\n",
       "      <td>0.024879</td>\n",
       "      <td>0.000418</td>\n",
       "      <td>0.003316</td>\n",
       "      <td>0.000184</td>\n",
       "      <td>10</td>\n",
       "      <td>5</td>\n",
       "      <td>NaN</td>\n",
       "      <td>{'max_features': 10, 'n_estimators': 5}</td>\n",
       "      <td>-646365.079893</td>\n",
       "      <td>-766313.816944</td>\n",
       "      <td>...</td>\n",
       "      <td>-608323.745881</td>\n",
       "      <td>99022.640054</td>\n",
       "      <td>32</td>\n",
       "      <td>-304697.291872</td>\n",
       "      <td>-290028.327289</td>\n",
       "      <td>-331114.567677</td>\n",
       "      <td>-294501.733390</td>\n",
       "      <td>-319866.896857</td>\n",
       "      <td>-308041.763417</td>\n",
       "      <td>15434.959420</td>\n",
       "    </tr>\n",
       "    <tr>\n",
       "      <td>31</td>\n",
       "      <td>0.068017</td>\n",
       "      <td>0.000476</td>\n",
       "      <td>0.004890</td>\n",
       "      <td>0.000177</td>\n",
       "      <td>10</td>\n",
       "      <td>15</td>\n",
       "      <td>NaN</td>\n",
       "      <td>{'max_features': 10, 'n_estimators': 15}</td>\n",
       "      <td>-627235.539999</td>\n",
       "      <td>-773372.330057</td>\n",
       "      <td>...</td>\n",
       "      <td>-593044.814220</td>\n",
       "      <td>107956.062632</td>\n",
       "      <td>19</td>\n",
       "      <td>-291530.447572</td>\n",
       "      <td>-283678.881831</td>\n",
       "      <td>-318480.187718</td>\n",
       "      <td>-289408.628369</td>\n",
       "      <td>-318617.860388</td>\n",
       "      <td>-300343.201176</td>\n",
       "      <td>15085.373697</td>\n",
       "    </tr>\n",
       "    <tr>\n",
       "      <td>32</td>\n",
       "      <td>0.117315</td>\n",
       "      <td>0.001917</td>\n",
       "      <td>0.007040</td>\n",
       "      <td>0.000671</td>\n",
       "      <td>10</td>\n",
       "      <td>25</td>\n",
       "      <td>NaN</td>\n",
       "      <td>{'max_features': 10, 'n_estimators': 25}</td>\n",
       "      <td>-627342.618734</td>\n",
       "      <td>-798436.872225</td>\n",
       "      <td>...</td>\n",
       "      <td>-591516.757744</td>\n",
       "      <td>121062.720847</td>\n",
       "      <td>18</td>\n",
       "      <td>-287899.891964</td>\n",
       "      <td>-280869.906083</td>\n",
       "      <td>-312559.562579</td>\n",
       "      <td>-283878.866490</td>\n",
       "      <td>-307487.363767</td>\n",
       "      <td>-294539.118177</td>\n",
       "      <td>12938.014765</td>\n",
       "    </tr>\n",
       "    <tr>\n",
       "      <td>33</td>\n",
       "      <td>0.178242</td>\n",
       "      <td>0.003674</td>\n",
       "      <td>0.009603</td>\n",
       "      <td>0.000219</td>\n",
       "      <td>10</td>\n",
       "      <td>40</td>\n",
       "      <td>NaN</td>\n",
       "      <td>{'max_features': 10, 'n_estimators': 40}</td>\n",
       "      <td>-613424.775626</td>\n",
       "      <td>-787895.574393</td>\n",
       "      <td>...</td>\n",
       "      <td>-579816.415437</td>\n",
       "      <td>123027.621589</td>\n",
       "      <td>1</td>\n",
       "      <td>-286047.694985</td>\n",
       "      <td>-277156.794055</td>\n",
       "      <td>-308065.257239</td>\n",
       "      <td>-280870.970800</td>\n",
       "      <td>-305246.463635</td>\n",
       "      <td>-291477.436143</td>\n",
       "      <td>12742.071360</td>\n",
       "    </tr>\n",
       "    <tr>\n",
       "      <td>34</td>\n",
       "      <td>0.266550</td>\n",
       "      <td>0.007518</td>\n",
       "      <td>0.013468</td>\n",
       "      <td>0.000573</td>\n",
       "      <td>10</td>\n",
       "      <td>60</td>\n",
       "      <td>NaN</td>\n",
       "      <td>{'max_features': 10, 'n_estimators': 60}</td>\n",
       "      <td>-616843.409574</td>\n",
       "      <td>-796980.921355</td>\n",
       "      <td>...</td>\n",
       "      <td>-580369.655229</td>\n",
       "      <td>127830.620835</td>\n",
       "      <td>2</td>\n",
       "      <td>-285785.734087</td>\n",
       "      <td>-276402.275591</td>\n",
       "      <td>-308372.856665</td>\n",
       "      <td>-279461.811408</td>\n",
       "      <td>-302233.065521</td>\n",
       "      <td>-290451.148654</td>\n",
       "      <td>12648.348854</td>\n",
       "    </tr>\n",
       "    <tr>\n",
       "      <td>35</td>\n",
       "      <td>0.012681</td>\n",
       "      <td>0.000118</td>\n",
       "      <td>0.002415</td>\n",
       "      <td>0.000099</td>\n",
       "      <td>2</td>\n",
       "      <td>3</td>\n",
       "      <td>False</td>\n",
       "      <td>{'bootstrap': False, 'max_features': 2, 'n_est...</td>\n",
       "      <td>-692361.192428</td>\n",
       "      <td>-802227.412225</td>\n",
       "      <td>...</td>\n",
       "      <td>-630928.156312</td>\n",
       "      <td>102404.838073</td>\n",
       "      <td>41</td>\n",
       "      <td>-263300.316673</td>\n",
       "      <td>-258236.859475</td>\n",
       "      <td>-284401.849297</td>\n",
       "      <td>-257117.406809</td>\n",
       "      <td>-281184.428046</td>\n",
       "      <td>-268848.172060</td>\n",
       "      <td>11619.721123</td>\n",
       "    </tr>\n",
       "    <tr>\n",
       "      <td>36</td>\n",
       "      <td>0.034785</td>\n",
       "      <td>0.000473</td>\n",
       "      <td>0.003852</td>\n",
       "      <td>0.000137</td>\n",
       "      <td>2</td>\n",
       "      <td>10</td>\n",
       "      <td>False</td>\n",
       "      <td>{'bootstrap': False, 'max_features': 2, 'n_est...</td>\n",
       "      <td>-689084.919982</td>\n",
       "      <td>-761975.962250</td>\n",
       "      <td>...</td>\n",
       "      <td>-606967.266340</td>\n",
       "      <td>102436.149084</td>\n",
       "      <td>30</td>\n",
       "      <td>-263300.316673</td>\n",
       "      <td>-258236.859475</td>\n",
       "      <td>-284401.849297</td>\n",
       "      <td>-257117.406809</td>\n",
       "      <td>-281184.428046</td>\n",
       "      <td>-268848.172060</td>\n",
       "      <td>11619.721123</td>\n",
       "    </tr>\n",
       "    <tr>\n",
       "      <td>37</td>\n",
       "      <td>0.012947</td>\n",
       "      <td>0.000151</td>\n",
       "      <td>0.002490</td>\n",
       "      <td>0.000093</td>\n",
       "      <td>3</td>\n",
       "      <td>3</td>\n",
       "      <td>False</td>\n",
       "      <td>{'bootstrap': False, 'max_features': 3, 'n_est...</td>\n",
       "      <td>-668817.420897</td>\n",
       "      <td>-789951.356403</td>\n",
       "      <td>...</td>\n",
       "      <td>-612756.740843</td>\n",
       "      <td>104571.450255</td>\n",
       "      <td>36</td>\n",
       "      <td>-263300.316673</td>\n",
       "      <td>-258236.859475</td>\n",
       "      <td>-284401.849297</td>\n",
       "      <td>-257117.406809</td>\n",
       "      <td>-281184.428046</td>\n",
       "      <td>-268848.172060</td>\n",
       "      <td>11619.721123</td>\n",
       "    </tr>\n",
       "    <tr>\n",
       "      <td>38</td>\n",
       "      <td>0.035905</td>\n",
       "      <td>0.000126</td>\n",
       "      <td>0.003912</td>\n",
       "      <td>0.000103</td>\n",
       "      <td>3</td>\n",
       "      <td>10</td>\n",
       "      <td>False</td>\n",
       "      <td>{'bootstrap': False, 'max_features': 3, 'n_est...</td>\n",
       "      <td>-668163.017023</td>\n",
       "      <td>-788223.867019</td>\n",
       "      <td>...</td>\n",
       "      <td>-609205.921302</td>\n",
       "      <td>106907.674057</td>\n",
       "      <td>33</td>\n",
       "      <td>-263300.316673</td>\n",
       "      <td>-258236.859475</td>\n",
       "      <td>-284401.849297</td>\n",
       "      <td>-257117.406809</td>\n",
       "      <td>-281184.428046</td>\n",
       "      <td>-268848.172060</td>\n",
       "      <td>11619.721123</td>\n",
       "    </tr>\n",
       "    <tr>\n",
       "      <td>39</td>\n",
       "      <td>0.012961</td>\n",
       "      <td>0.000132</td>\n",
       "      <td>0.002379</td>\n",
       "      <td>0.000105</td>\n",
       "      <td>4</td>\n",
       "      <td>3</td>\n",
       "      <td>False</td>\n",
       "      <td>{'bootstrap': False, 'max_features': 4, 'n_est...</td>\n",
       "      <td>-672204.688636</td>\n",
       "      <td>-805251.328910</td>\n",
       "      <td>...</td>\n",
       "      <td>-616320.146990</td>\n",
       "      <td>110131.359779</td>\n",
       "      <td>37</td>\n",
       "      <td>-263300.316673</td>\n",
       "      <td>-258236.859475</td>\n",
       "      <td>-284401.849297</td>\n",
       "      <td>-257117.406809</td>\n",
       "      <td>-281184.428046</td>\n",
       "      <td>-268848.172060</td>\n",
       "      <td>11619.721123</td>\n",
       "    </tr>\n",
       "    <tr>\n",
       "      <td>40</td>\n",
       "      <td>0.038084</td>\n",
       "      <td>0.001381</td>\n",
       "      <td>0.004166</td>\n",
       "      <td>0.000407</td>\n",
       "      <td>4</td>\n",
       "      <td>10</td>\n",
       "      <td>False</td>\n",
       "      <td>{'bootstrap': False, 'max_features': 4, 'n_est...</td>\n",
       "      <td>-677343.390719</td>\n",
       "      <td>-785330.919548</td>\n",
       "      <td>...</td>\n",
       "      <td>-612514.682689</td>\n",
       "      <td>104804.733205</td>\n",
       "      <td>35</td>\n",
       "      <td>-263300.316673</td>\n",
       "      <td>-258236.859475</td>\n",
       "      <td>-284401.849297</td>\n",
       "      <td>-257117.406809</td>\n",
       "      <td>-281184.428046</td>\n",
       "      <td>-268848.172060</td>\n",
       "      <td>11619.721123</td>\n",
       "    </tr>\n",
       "  </tbody>\n",
       "</table>\n",
       "<p>41 rows × 23 columns</p>\n",
       "</div>"
      ],
      "text/plain": [
       "    mean_fit_time  std_fit_time  mean_score_time  std_score_time  \\\n",
       "0        0.022176      0.000429         0.002853        0.000162   \n",
       "1        0.058844      0.003463         0.005021        0.000411   \n",
       "2        0.094936      0.002341         0.007070        0.000668   \n",
       "3        0.164011      0.012613         0.010134        0.000554   \n",
       "4        0.231944      0.002308         0.013567        0.000366   \n",
       "5        0.022951      0.000570         0.003033        0.000210   \n",
       "6        0.062615      0.001721         0.005037        0.000335   \n",
       "7        0.099716      0.002850         0.006831        0.000319   \n",
       "8        0.155757      0.005027         0.009658        0.000729   \n",
       "9        0.227997      0.005414         0.014152        0.002576   \n",
       "10       0.025451      0.004110         0.002963        0.000342   \n",
       "11       0.064968      0.002953         0.004894        0.000389   \n",
       "12       0.103161      0.004274         0.006584        0.000165   \n",
       "13       0.156804      0.002588         0.009658        0.000155   \n",
       "14       0.234307      0.002355         0.013349        0.000468   \n",
       "15       0.023553      0.000542         0.003106        0.000318   \n",
       "16       0.066402      0.002166         0.005397        0.000638   \n",
       "17       0.106565      0.001679         0.006862        0.000426   \n",
       "18       0.169580      0.002019         0.010305        0.000166   \n",
       "19       0.266765      0.021349         0.014103        0.001626   \n",
       "20       0.027195      0.001704         0.003208        0.000205   \n",
       "21       0.077231      0.007482         0.006047        0.000905   \n",
       "22       0.114224      0.002645         0.006817        0.000279   \n",
       "23       0.171615      0.001336         0.009225        0.000288   \n",
       "24       0.256472      0.008224         0.013240        0.000467   \n",
       "25       0.024007      0.000207         0.002938        0.000203   \n",
       "26       0.066749      0.001705         0.004829        0.000167   \n",
       "27       0.110031      0.001820         0.006652        0.000258   \n",
       "28       0.171881      0.001981         0.009323        0.000299   \n",
       "29       0.253589      0.003645         0.012980        0.000295   \n",
       "30       0.024879      0.000418         0.003316        0.000184   \n",
       "31       0.068017      0.000476         0.004890        0.000177   \n",
       "32       0.117315      0.001917         0.007040        0.000671   \n",
       "33       0.178242      0.003674         0.009603        0.000219   \n",
       "34       0.266550      0.007518         0.013468        0.000573   \n",
       "35       0.012681      0.000118         0.002415        0.000099   \n",
       "36       0.034785      0.000473         0.003852        0.000137   \n",
       "37       0.012947      0.000151         0.002490        0.000093   \n",
       "38       0.035905      0.000126         0.003912        0.000103   \n",
       "39       0.012961      0.000132         0.002379        0.000105   \n",
       "40       0.038084      0.001381         0.004166        0.000407   \n",
       "\n",
       "   param_max_features param_n_estimators param_bootstrap  \\\n",
       "0                   2                  5             NaN   \n",
       "1                   2                 15             NaN   \n",
       "2                   2                 25             NaN   \n",
       "3                   2                 40             NaN   \n",
       "4                   2                 60             NaN   \n",
       "5                   3                  5             NaN   \n",
       "6                   3                 15             NaN   \n",
       "7                   3                 25             NaN   \n",
       "8                   3                 40             NaN   \n",
       "9                   3                 60             NaN   \n",
       "10                  4                  5             NaN   \n",
       "11                  4                 15             NaN   \n",
       "12                  4                 25             NaN   \n",
       "13                  4                 40             NaN   \n",
       "14                  4                 60             NaN   \n",
       "15                  6                  5             NaN   \n",
       "16                  6                 15             NaN   \n",
       "17                  6                 25             NaN   \n",
       "18                  6                 40             NaN   \n",
       "19                  6                 60             NaN   \n",
       "20                  8                  5             NaN   \n",
       "21                  8                 15             NaN   \n",
       "22                  8                 25             NaN   \n",
       "23                  8                 40             NaN   \n",
       "24                  8                 60             NaN   \n",
       "25                  9                  5             NaN   \n",
       "26                  9                 15             NaN   \n",
       "27                  9                 25             NaN   \n",
       "28                  9                 40             NaN   \n",
       "29                  9                 60             NaN   \n",
       "30                 10                  5             NaN   \n",
       "31                 10                 15             NaN   \n",
       "32                 10                 25             NaN   \n",
       "33                 10                 40             NaN   \n",
       "34                 10                 60             NaN   \n",
       "35                  2                  3           False   \n",
       "36                  2                 10           False   \n",
       "37                  3                  3           False   \n",
       "38                  3                 10           False   \n",
       "39                  4                  3           False   \n",
       "40                  4                 10           False   \n",
       "\n",
       "                                               params  split0_test_score  \\\n",
       "0              {'max_features': 2, 'n_estimators': 5}     -644238.649759   \n",
       "1             {'max_features': 2, 'n_estimators': 15}     -632807.649131   \n",
       "2             {'max_features': 2, 'n_estimators': 25}     -627133.797238   \n",
       "3             {'max_features': 2, 'n_estimators': 40}     -625478.340703   \n",
       "4             {'max_features': 2, 'n_estimators': 60}     -625784.587674   \n",
       "5              {'max_features': 3, 'n_estimators': 5}     -634585.497780   \n",
       "6             {'max_features': 3, 'n_estimators': 15}     -616942.421783   \n",
       "7             {'max_features': 3, 'n_estimators': 25}     -619608.301279   \n",
       "8             {'max_features': 3, 'n_estimators': 40}     -620271.071608   \n",
       "9             {'max_features': 3, 'n_estimators': 60}     -623866.099501   \n",
       "10             {'max_features': 4, 'n_estimators': 5}     -649866.198576   \n",
       "11            {'max_features': 4, 'n_estimators': 15}     -625310.577345   \n",
       "12            {'max_features': 4, 'n_estimators': 25}     -626665.658978   \n",
       "13            {'max_features': 4, 'n_estimators': 40}     -616369.190141   \n",
       "14            {'max_features': 4, 'n_estimators': 60}     -623877.139597   \n",
       "15             {'max_features': 6, 'n_estimators': 5}     -660666.529650   \n",
       "16            {'max_features': 6, 'n_estimators': 15}     -634240.565612   \n",
       "17            {'max_features': 6, 'n_estimators': 25}     -630224.761219   \n",
       "18            {'max_features': 6, 'n_estimators': 40}     -620533.831312   \n",
       "19            {'max_features': 6, 'n_estimators': 60}     -623076.053293   \n",
       "20             {'max_features': 8, 'n_estimators': 5}     -599397.010353   \n",
       "21            {'max_features': 8, 'n_estimators': 15}     -615486.362258   \n",
       "22            {'max_features': 8, 'n_estimators': 25}     -622657.998679   \n",
       "23            {'max_features': 8, 'n_estimators': 40}     -619316.407586   \n",
       "24            {'max_features': 8, 'n_estimators': 60}     -624201.378161   \n",
       "25             {'max_features': 9, 'n_estimators': 5}     -645447.997622   \n",
       "26            {'max_features': 9, 'n_estimators': 15}     -632941.800241   \n",
       "27            {'max_features': 9, 'n_estimators': 25}     -626237.918344   \n",
       "28            {'max_features': 9, 'n_estimators': 40}     -617491.204274   \n",
       "29            {'max_features': 9, 'n_estimators': 60}     -620598.232176   \n",
       "30            {'max_features': 10, 'n_estimators': 5}     -646365.079893   \n",
       "31           {'max_features': 10, 'n_estimators': 15}     -627235.539999   \n",
       "32           {'max_features': 10, 'n_estimators': 25}     -627342.618734   \n",
       "33           {'max_features': 10, 'n_estimators': 40}     -613424.775626   \n",
       "34           {'max_features': 10, 'n_estimators': 60}     -616843.409574   \n",
       "35  {'bootstrap': False, 'max_features': 2, 'n_est...     -692361.192428   \n",
       "36  {'bootstrap': False, 'max_features': 2, 'n_est...     -689084.919982   \n",
       "37  {'bootstrap': False, 'max_features': 3, 'n_est...     -668817.420897   \n",
       "38  {'bootstrap': False, 'max_features': 3, 'n_est...     -668163.017023   \n",
       "39  {'bootstrap': False, 'max_features': 4, 'n_est...     -672204.688636   \n",
       "40  {'bootstrap': False, 'max_features': 4, 'n_est...     -677343.390719   \n",
       "\n",
       "    split1_test_score  ...  mean_test_score  std_test_score  rank_test_score  \\\n",
       "0      -754625.778950  ...   -624551.922687    77155.177391               40   \n",
       "1      -805384.311598  ...   -610868.288877   115511.486475               34   \n",
       "2      -801112.952090  ...   -600085.567511   121143.219523               25   \n",
       "3      -794058.528085  ...   -589830.995753   124950.351729               14   \n",
       "4      -801808.662362  ...   -589623.993582   128083.764120               13   \n",
       "5      -776928.046986  ...   -604245.085802   110487.456020               28   \n",
       "6      -797915.029723  ...   -598664.240597   119047.218018               24   \n",
       "7      -791942.466082  ...   -590398.096831   121490.884297               16   \n",
       "8      -783106.296189  ...   -582995.269469   122413.060090                6   \n",
       "9      -793628.490305  ...   -583703.849131   127482.937839                8   \n",
       "10     -764663.231419  ...   -605013.838484   108342.146345               29   \n",
       "11     -801718.295462  ...   -598287.110031   120503.195448               23   \n",
       "12     -801455.805247  ...   -590239.064235   126764.602857               15   \n",
       "13     -785841.524055  ...   -582975.646551   121213.099620                5   \n",
       "14     -796594.080015  ...   -584148.803726   127163.116180               10   \n",
       "15     -778736.381038  ...   -618402.095127    96299.430366               39   \n",
       "16     -785969.815012  ...   -597849.157167   111009.413081               22   \n",
       "17     -797184.560838  ...   -590842.913613   121886.248322               17   \n",
       "18     -784069.617321  ...   -582779.606440   120451.127700                4   \n",
       "19     -789938.339709  ...   -583501.781781   123100.818338                7   \n",
       "20     -800315.462911  ...   -608065.224858   110737.721037               31   \n",
       "21     -800869.369361  ...   -600309.634063   116755.785506               26   \n",
       "22     -821386.419250  ...   -595900.229887   130332.480478               21   \n",
       "23     -794529.795101  ...   -581807.837413   127746.969802                3   \n",
       "24     -797464.722178  ...   -584338.146958   126986.195580               11   \n",
       "25     -775590.044278  ...   -617717.034358    98722.564922               38   \n",
       "26     -801037.991815  ...   -601699.908192   117245.434993               27   \n",
       "27     -811121.416258  ...   -594714.069225   125432.795404               20   \n",
       "28     -799441.195593  ...   -584408.460319   125928.640435               12   \n",
       "29     -805890.335657  ...   -583820.383516   130529.651821                9   \n",
       "30     -766313.816944  ...   -608323.745881    99022.640054               32   \n",
       "31     -773372.330057  ...   -593044.814220   107956.062632               19   \n",
       "32     -798436.872225  ...   -591516.757744   121062.720847               18   \n",
       "33     -787895.574393  ...   -579816.415437   123027.621589                1   \n",
       "34     -796980.921355  ...   -580369.655229   127830.620835                2   \n",
       "35     -802227.412225  ...   -630928.156312   102404.838073               41   \n",
       "36     -761975.962250  ...   -606967.266340   102436.149084               30   \n",
       "37     -789951.356403  ...   -612756.740843   104571.450255               36   \n",
       "38     -788223.867019  ...   -609205.921302   106907.674057               33   \n",
       "39     -805251.328910  ...   -616320.146990   110131.359779               37   \n",
       "40     -785330.919548  ...   -612514.682689   104804.733205               35   \n",
       "\n",
       "    split0_train_score  split1_train_score  split2_train_score  \\\n",
       "0       -303920.508366      -289323.122488      -326603.816261   \n",
       "1       -288087.366805      -282338.712821      -320230.372435   \n",
       "2       -286262.846273      -278773.093500      -311272.221166   \n",
       "3       -284921.963336      -275551.086980      -308318.862719   \n",
       "4       -283463.313355      -275335.358052      -306876.084759   \n",
       "5       -300494.138401      -291770.674452      -331691.436107   \n",
       "6       -286605.779540      -282918.124306      -318169.561708   \n",
       "7       -285450.319393      -279627.419711      -310600.905243   \n",
       "8       -284974.690244      -276105.523185      -307484.243714   \n",
       "9       -283104.324621      -275012.474796      -305966.310359   \n",
       "10      -310292.110862      -289712.626196      -327841.997196   \n",
       "11      -290857.761557      -283579.936078      -318059.324150   \n",
       "12      -286564.931796      -280855.294942      -310828.311774   \n",
       "13      -285206.530601      -276515.236633      -307393.822617   \n",
       "14      -283318.609079      -275416.127005      -306611.843697   \n",
       "15      -303412.800483      -297720.133165      -331659.837832   \n",
       "16      -286615.243853      -284984.886916      -318616.761338   \n",
       "17      -285504.257650      -280738.853330      -310581.201883   \n",
       "18      -284612.793560      -275843.324820      -306616.469660   \n",
       "19      -283192.473715      -275038.911542      -305599.565918   \n",
       "20      -302160.631492      -291479.767789      -328799.139424   \n",
       "21      -287269.242570      -283104.339849      -319235.278044   \n",
       "22      -285502.006372      -280851.762521      -311049.274994   \n",
       "23      -284570.315124      -276750.328503      -307110.325907   \n",
       "24      -284048.129683      -275943.257157      -306838.397873   \n",
       "25      -302088.443706      -288415.932368      -332771.298708   \n",
       "26      -289425.661273      -283774.971077      -320252.881876   \n",
       "27      -286543.930564      -281313.904722      -312232.912542   \n",
       "28      -285306.734135      -277420.312539      -307781.982385   \n",
       "29      -285385.347072      -276496.969248      -307358.545082   \n",
       "30      -304697.291872      -290028.327289      -331114.567677   \n",
       "31      -291530.447572      -283678.881831      -318480.187718   \n",
       "32      -287899.891964      -280869.906083      -312559.562579   \n",
       "33      -286047.694985      -277156.794055      -308065.257239   \n",
       "34      -285785.734087      -276402.275591      -308372.856665   \n",
       "35      -263300.316673      -258236.859475      -284401.849297   \n",
       "36      -263300.316673      -258236.859475      -284401.849297   \n",
       "37      -263300.316673      -258236.859475      -284401.849297   \n",
       "38      -263300.316673      -258236.859475      -284401.849297   \n",
       "39      -263300.316673      -258236.859475      -284401.849297   \n",
       "40      -263300.316673      -258236.859475      -284401.849297   \n",
       "\n",
       "    split3_train_score  split4_train_score  mean_train_score  std_train_score  \n",
       "0       -289255.649147      -316356.901151    -305091.999483     14768.047507  \n",
       "1       -294543.660941      -318300.665431    -300700.155686     15654.614429  \n",
       "2       -285791.833003      -307533.956278    -293926.790044     12965.855412  \n",
       "3       -280111.071181      -304724.360317    -290725.468907     13282.352573  \n",
       "4       -278423.352787      -301269.535382    -289073.528867     12643.667800  \n",
       "5       -293484.404285      -318162.160976    -307120.562844     15434.494465  \n",
       "6       -292890.377182      -316690.946444    -299454.957836     15026.494379  \n",
       "7       -284188.187376      -305931.993762    -293159.765097     12572.766809  \n",
       "8       -279748.883401      -303619.638506    -290386.595810     12758.069331  \n",
       "9       -277872.527266      -301185.429944    -288628.213397     12568.848497  \n",
       "10      -293989.752940      -316530.451992    -307673.387837     14155.627305  \n",
       "11      -293163.515894      -315649.877770    -300262.083090     13933.061136  \n",
       "12      -284864.694702      -305333.361601    -293689.318963     12022.244898  \n",
       "13      -279694.663310      -303103.016504    -290382.653933     12526.117857  \n",
       "14      -277931.282947      -300149.912165    -288685.554979     12436.394227  \n",
       "15      -289490.694092      -319372.747288    -308331.242572     15217.694738  \n",
       "16      -288743.030621      -316884.384033    -299168.861352     15228.505818  \n",
       "17      -283949.165676      -306105.630134    -293375.821735     12398.302013  \n",
       "18      -279343.016296      -304080.854673    -290099.291802     12785.405625  \n",
       "19      -277435.890042      -301185.753858    -288490.519015     12530.828568  \n",
       "20      -292361.649132      -318667.855246    -306693.808617     14761.104101  \n",
       "21      -293010.335794      -320201.386812    -300564.116614     15955.511494  \n",
       "22      -285464.802528      -307121.095589    -293997.788401     12496.259786  \n",
       "23      -280657.028602      -305072.159700    -290832.031567     12718.476758  \n",
       "24      -278783.656429      -301813.457437    -289485.379716     12494.706016  \n",
       "25      -297259.098113      -320494.883171    -308205.931213     16145.441976  \n",
       "26      -291263.212397      -319817.559165    -300906.857158     15812.669520  \n",
       "27      -284064.201169      -307603.245210    -294351.638841     12900.536530  \n",
       "28      -279554.805927      -305119.719983    -291036.710994     12874.846343  \n",
       "29      -277918.898099      -302200.038648    -289871.959630     12646.406153  \n",
       "30      -294501.733390      -319866.896857    -308041.763417     15434.959420  \n",
       "31      -289408.628369      -318617.860388    -300343.201176     15085.373697  \n",
       "32      -283878.866490      -307487.363767    -294539.118177     12938.014765  \n",
       "33      -280870.970800      -305246.463635    -291477.436143     12742.071360  \n",
       "34      -279461.811408      -302233.065521    -290451.148654     12648.348854  \n",
       "35      -257117.406809      -281184.428046    -268848.172060     11619.721123  \n",
       "36      -257117.406809      -281184.428046    -268848.172060     11619.721123  \n",
       "37      -257117.406809      -281184.428046    -268848.172060     11619.721123  \n",
       "38      -257117.406809      -281184.428046    -268848.172060     11619.721123  \n",
       "39      -257117.406809      -281184.428046    -268848.172060     11619.721123  \n",
       "40      -257117.406809      -281184.428046    -268848.172060     11619.721123  \n",
       "\n",
       "[41 rows x 23 columns]"
      ]
     },
     "execution_count": 638,
     "metadata": {},
     "output_type": "execute_result"
    }
   ],
   "source": [
    "pd.DataFrame(grid_search.cv_results_)"
   ]
  },
  {
   "cell_type": "code",
   "execution_count": 639,
   "metadata": {},
   "outputs": [
    {
     "name": "stderr",
     "output_type": "stream",
     "text": [
      "/home/adsum/.local/lib/python3.6/site-packages/sklearn/model_selection/_search.py:814: DeprecationWarning: The default of the `iid` parameter will change from True to False in version 0.22 and will be removed in 0.24. This will change numeric results when test-set sizes are unequal.\n",
      "  DeprecationWarning)\n"
     ]
    },
    {
     "data": {
      "text/plain": [
       "RandomizedSearchCV(cv=5, error_score='raise-deprecating',\n",
       "                   estimator=RandomForestRegressor(bootstrap=True,\n",
       "                                                   criterion='mse',\n",
       "                                                   max_depth=None,\n",
       "                                                   max_features='auto',\n",
       "                                                   max_leaf_nodes=None,\n",
       "                                                   min_impurity_decrease=0.0,\n",
       "                                                   min_impurity_split=None,\n",
       "                                                   min_samples_leaf=1,\n",
       "                                                   min_samples_split=2,\n",
       "                                                   min_weight_fraction_leaf=0.0,\n",
       "                                                   n_estimators='warn',\n",
       "                                                   n_jobs=None, oob_score=False,\n",
       "                                                   random_sta...\n",
       "                                                   warm_start=False),\n",
       "                   iid='warn', n_iter=10, n_jobs=None,\n",
       "                   param_distributions={'max_features': <scipy.stats._distn_infrastructure.rv_frozen object at 0x7fc7fdcc0048>,\n",
       "                                        'n_estimators': <scipy.stats._distn_infrastructure.rv_frozen object at 0x7fc7fdcc0c18>},\n",
       "                   pre_dispatch='2*n_jobs', random_state=42, refit=True,\n",
       "                   return_train_score=False, scoring='neg_mean_squared_error',\n",
       "                   verbose=0)"
      ]
     },
     "execution_count": 639,
     "metadata": {},
     "output_type": "execute_result"
    }
   ],
   "source": [
    "from sklearn.model_selection import RandomizedSearchCV\n",
    "from scipy.stats import randint\n",
    "\n",
    "param_distribs = {\n",
    "        'n_estimators': randint(low=1, high=200),\n",
    "        'max_features': randint(low=1, high=10),\n",
    "    }\n",
    "\n",
    "forest_reg = RandomForestRegressor(random_state=42)\n",
    "rnd_search = RandomizedSearchCV(forest_reg, param_distributions=param_distribs,\n",
    "                                n_iter=10, cv=5, scoring='neg_mean_squared_error', random_state=42)\n",
    "rnd_search.fit(df_prepared, df_labels)"
   ]
  },
  {
   "cell_type": "code",
   "execution_count": 640,
   "metadata": {},
   "outputs": [
    {
     "name": "stdout",
     "output_type": "stream",
     "text": [
      "759.984662531142 {'max_features': 7, 'n_estimators': 180}\n",
      "760.1665968475663 {'max_features': 8, 'n_estimators': 189}\n",
      "761.8458517860392 {'max_features': 5, 'n_estimators': 103}\n",
      "762.6516565181594 {'max_features': 3, 'n_estimators': 75}\n",
      "760.2251730011956 {'max_features': 8, 'n_estimators': 117}\n",
      "760.5403785355481 {'max_features': 4, 'n_estimators': 104}\n",
      "759.2346927201088 {'max_features': 8, 'n_estimators': 131}\n",
      "763.5523614304947 {'max_features': 6, 'n_estimators': 53}\n",
      "764.3515655579583 {'max_features': 2, 'n_estimators': 88}\n",
      "758.5565611264308 {'max_features': 6, 'n_estimators': 130}\n"
     ]
    }
   ],
   "source": [
    "cvres = rnd_search.cv_results_\n",
    "for mean_score, params in zip(cvres[\"mean_test_score\"], cvres[\"params\"]):\n",
    "    print(np.sqrt(-mean_score), params)"
   ]
  },
  {
   "cell_type": "code",
   "execution_count": 641,
   "metadata": {},
   "outputs": [
    {
     "data": {
      "text/plain": [
       "array([0.09718315, 0.45021985, 0.02636175, 0.00768275, 0.02518375,\n",
       "       0.05053167, 0.04793568, 0.01316687, 0.01062234, 0.27111218])"
      ]
     },
     "execution_count": 641,
     "metadata": {},
     "output_type": "execute_result"
    }
   ],
   "source": [
    "feature_importances = grid_search.best_estimator_.feature_importances_\n",
    "feature_importances"
   ]
  },
  {
   "cell_type": "code",
   "execution_count": 642,
   "metadata": {},
   "outputs": [],
   "source": [
    "final_model = grid_search.best_estimator_\n",
    "\n",
    "X_test = test_set.drop(\"price_m2\", axis=1)\n",
    "y_test = test_set[\"price_m2\"].copy()\n",
    "\n",
    "X_test_prepared = full_pipeline.transform(X_test)\n",
    "final_predictions = final_model.predict(X_test_prepared)\n",
    "\n",
    "final_mse = mean_squared_error(y_test, final_predictions)\n",
    "final_rmse = np.sqrt(final_mse)"
   ]
  },
  {
   "cell_type": "code",
   "execution_count": 643,
   "metadata": {},
   "outputs": [
    {
     "data": {
      "text/plain": [
       "712.0830274419701"
      ]
     },
     "execution_count": 643,
     "metadata": {},
     "output_type": "execute_result"
    }
   ],
   "source": [
    "final_rmse"
   ]
  },
  {
   "cell_type": "code",
   "execution_count": null,
   "metadata": {},
   "outputs": [],
   "source": []
  }
 ],
 "metadata": {
  "kernelspec": {
   "display_name": "Python 3",
   "language": "python",
   "name": "python3"
  },
  "language_info": {
   "codemirror_mode": {
    "name": "ipython",
    "version": 3
   },
   "file_extension": ".py",
   "mimetype": "text/x-python",
   "name": "python",
   "nbconvert_exporter": "python",
   "pygments_lexer": "ipython3",
   "version": "3.6.8"
  }
 },
 "nbformat": 4,
 "nbformat_minor": 2
}
