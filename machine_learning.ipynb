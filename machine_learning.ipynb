{
 "cells": [
  {
   "cell_type": "code",
   "execution_count": 1,
   "metadata": {},
   "outputs": [],
   "source": [
    "import matplotlib.pyplot as plt\n",
    "import numpy as np\n",
    "import pandas as pd\n",
    "from sklearn.model_selection import train_test_split\n",
    "plt.rcParams['axes.labelsize'] = 14\n",
    "plt.rcParams['xtick.labelsize'] = 12\n",
    "plt.rcParams['ytick.labelsize'] = 12"
   ]
  },
  {
   "cell_type": "markdown",
   "metadata": {},
   "source": [
    "# Chcemy przewidzieć cenę za m2\n",
    "## Interesują nas mieszkania:\n",
    "### - pokoje: maksymalnie 4\n",
    "### - metraż: poniżej 80m2\n",
    "### - cena: poniżej 850 tys.\n",
    "### - lokalizacja: LSM, Czuby, Bronowice, Felin, Wrotków, Węglinek, Śródmieście, Czechów"
   ]
  },
  {
   "cell_type": "code",
   "execution_count": 2,
   "metadata": {},
   "outputs": [],
   "source": [
    "df = pd.read_csv('data/results.csv', usecols=['meters', 'price', 'rooms', 'district'], na_values=['Zapytajocenę', 'EMPTY'])"
   ]
  },
  {
   "cell_type": "code",
   "execution_count": 3,
   "metadata": {},
   "outputs": [
    {
     "name": "stderr",
     "output_type": "stream",
     "text": [
      "/home/adsum/.local/lib/python3.6/site-packages/ipykernel_launcher.py:1: UserWarning: Boolean Series key will be reindexed to match DataFrame index.\n",
      "  \"\"\"Entry point for launching an IPython kernel.\n"
     ]
    }
   ],
   "source": [
    "df = df[df['meters'] < 80][df['rooms'] < 5][df['price'] < 850000]"
   ]
  },
  {
   "cell_type": "code",
   "execution_count": 4,
   "metadata": {},
   "outputs": [],
   "source": [
    "df = df[df['district'].isin(['LSM', 'Czuby', 'Bronowice', 'Felin', 'Wrotków', 'Węglinek', 'Śródmieście', 'Czechów']) ]\n",
    "#subsetDataFrame = dfObj[dfObj['Product'].isin(['Mangos', 'Grapes']) ]"
   ]
  },
  {
   "cell_type": "code",
   "execution_count": 5,
   "metadata": {},
   "outputs": [],
   "source": [
    "df['price'] = round(df['price'] / df['meters'])"
   ]
  },
  {
   "cell_type": "code",
   "execution_count": 6,
   "metadata": {
    "scrolled": true
   },
   "outputs": [],
   "source": [
    "df.rename(columns={'price': 'price_m2'}, inplace=True)"
   ]
  },
  {
   "cell_type": "code",
   "execution_count": 7,
   "metadata": {},
   "outputs": [
    {
     "data": {
      "text/plain": [
       "1486"
      ]
     },
     "execution_count": 7,
     "metadata": {},
     "output_type": "execute_result"
    }
   ],
   "source": [
    "len(df)"
   ]
  },
  {
   "cell_type": "markdown",
   "metadata": {},
   "source": [
    "# Struktura danych"
   ]
  },
  {
   "cell_type": "code",
   "execution_count": 8,
   "metadata": {},
   "outputs": [
    {
     "data": {
      "text/html": [
       "<div>\n",
       "<style scoped>\n",
       "    .dataframe tbody tr th:only-of-type {\n",
       "        vertical-align: middle;\n",
       "    }\n",
       "\n",
       "    .dataframe tbody tr th {\n",
       "        vertical-align: top;\n",
       "    }\n",
       "\n",
       "    .dataframe thead th {\n",
       "        text-align: right;\n",
       "    }\n",
       "</style>\n",
       "<table border=\"1\" class=\"dataframe\">\n",
       "  <thead>\n",
       "    <tr style=\"text-align: right;\">\n",
       "      <th></th>\n",
       "      <th>meters</th>\n",
       "      <th>price_m2</th>\n",
       "      <th>rooms</th>\n",
       "      <th>district</th>\n",
       "    </tr>\n",
       "  </thead>\n",
       "  <tbody>\n",
       "    <tr>\n",
       "      <td>1</td>\n",
       "      <td>59.48</td>\n",
       "      <td>5800.0</td>\n",
       "      <td>3.0</td>\n",
       "      <td>Czuby</td>\n",
       "    </tr>\n",
       "    <tr>\n",
       "      <td>2</td>\n",
       "      <td>53.41</td>\n",
       "      <td>6000.0</td>\n",
       "      <td>3.0</td>\n",
       "      <td>Czuby</td>\n",
       "    </tr>\n",
       "    <tr>\n",
       "      <td>3</td>\n",
       "      <td>70.00</td>\n",
       "      <td>9986.0</td>\n",
       "      <td>2.0</td>\n",
       "      <td>LSM</td>\n",
       "    </tr>\n",
       "    <tr>\n",
       "      <td>5</td>\n",
       "      <td>58.00</td>\n",
       "      <td>5431.0</td>\n",
       "      <td>2.0</td>\n",
       "      <td>LSM</td>\n",
       "    </tr>\n",
       "    <tr>\n",
       "      <td>6</td>\n",
       "      <td>63.00</td>\n",
       "      <td>6333.0</td>\n",
       "      <td>3.0</td>\n",
       "      <td>Czuby</td>\n",
       "    </tr>\n",
       "    <tr>\n",
       "      <td>...</td>\n",
       "      <td>...</td>\n",
       "      <td>...</td>\n",
       "      <td>...</td>\n",
       "      <td>...</td>\n",
       "    </tr>\n",
       "    <tr>\n",
       "      <td>2794</td>\n",
       "      <td>67.39</td>\n",
       "      <td>5701.0</td>\n",
       "      <td>3.0</td>\n",
       "      <td>Węglinek</td>\n",
       "    </tr>\n",
       "    <tr>\n",
       "      <td>2796</td>\n",
       "      <td>56.00</td>\n",
       "      <td>6232.0</td>\n",
       "      <td>2.0</td>\n",
       "      <td>Wrotków</td>\n",
       "    </tr>\n",
       "    <tr>\n",
       "      <td>2797</td>\n",
       "      <td>69.16</td>\n",
       "      <td>7519.0</td>\n",
       "      <td>3.0</td>\n",
       "      <td>Śródmieście</td>\n",
       "    </tr>\n",
       "    <tr>\n",
       "      <td>2798</td>\n",
       "      <td>68.50</td>\n",
       "      <td>5679.0</td>\n",
       "      <td>3.0</td>\n",
       "      <td>Czuby</td>\n",
       "    </tr>\n",
       "    <tr>\n",
       "      <td>2800</td>\n",
       "      <td>73.10</td>\n",
       "      <td>4692.0</td>\n",
       "      <td>4.0</td>\n",
       "      <td>Czuby</td>\n",
       "    </tr>\n",
       "  </tbody>\n",
       "</table>\n",
       "<p>1486 rows × 4 columns</p>\n",
       "</div>"
      ],
      "text/plain": [
       "      meters  price_m2  rooms     district\n",
       "1      59.48    5800.0    3.0        Czuby\n",
       "2      53.41    6000.0    3.0        Czuby\n",
       "3      70.00    9986.0    2.0          LSM\n",
       "5      58.00    5431.0    2.0          LSM\n",
       "6      63.00    6333.0    3.0        Czuby\n",
       "...      ...       ...    ...          ...\n",
       "2794   67.39    5701.0    3.0     Węglinek\n",
       "2796   56.00    6232.0    2.0      Wrotków\n",
       "2797   69.16    7519.0    3.0  Śródmieście\n",
       "2798   68.50    5679.0    3.0        Czuby\n",
       "2800   73.10    4692.0    4.0        Czuby\n",
       "\n",
       "[1486 rows x 4 columns]"
      ]
     },
     "execution_count": 8,
     "metadata": {},
     "output_type": "execute_result"
    }
   ],
   "source": [
    "df"
   ]
  },
  {
   "cell_type": "code",
   "execution_count": 9,
   "metadata": {
    "scrolled": true
   },
   "outputs": [
    {
     "name": "stdout",
     "output_type": "stream",
     "text": [
      "<class 'pandas.core.frame.DataFrame'>\n",
      "Int64Index: 1486 entries, 1 to 2800\n",
      "Data columns (total 4 columns):\n",
      "meters      1486 non-null float64\n",
      "price_m2    1486 non-null float64\n",
      "rooms       1486 non-null float64\n",
      "district    1486 non-null object\n",
      "dtypes: float64(3), object(1)\n",
      "memory usage: 58.0+ KB\n"
     ]
    }
   ],
   "source": [
    "df.info()"
   ]
  },
  {
   "cell_type": "code",
   "execution_count": 10,
   "metadata": {},
   "outputs": [
    {
     "ename": "AttributeError",
     "evalue": "'DataFrame' object has no attribute 'dealer'",
     "output_type": "error",
     "traceback": [
      "\u001b[0;31m---------------------------------------------------------------------------\u001b[0m",
      "\u001b[0;31mAttributeError\u001b[0m                            Traceback (most recent call last)",
      "\u001b[0;32m<ipython-input-10-5d10a629ea60>\u001b[0m in \u001b[0;36m<module>\u001b[0;34m\u001b[0m\n\u001b[0;32m----> 1\u001b[0;31m \u001b[0mdf\u001b[0m\u001b[0;34m.\u001b[0m\u001b[0mdealer\u001b[0m\u001b[0;34m.\u001b[0m\u001b[0mfillna\u001b[0m\u001b[0;34m(\u001b[0m\u001b[0;34m\"EMPTY\"\u001b[0m\u001b[0;34m,\u001b[0m \u001b[0minplace\u001b[0m\u001b[0;34m=\u001b[0m\u001b[0;32mTrue\u001b[0m\u001b[0;34m)\u001b[0m\u001b[0;34m\u001b[0m\u001b[0;34m\u001b[0m\u001b[0m\n\u001b[0m",
      "\u001b[0;32m~/.local/lib/python3.6/site-packages/pandas/core/generic.py\u001b[0m in \u001b[0;36m__getattr__\u001b[0;34m(self, name)\u001b[0m\n\u001b[1;32m   5177\u001b[0m             \u001b[0;32mif\u001b[0m \u001b[0mself\u001b[0m\u001b[0;34m.\u001b[0m\u001b[0m_info_axis\u001b[0m\u001b[0;34m.\u001b[0m\u001b[0m_can_hold_identifiers_and_holds_name\u001b[0m\u001b[0;34m(\u001b[0m\u001b[0mname\u001b[0m\u001b[0;34m)\u001b[0m\u001b[0;34m:\u001b[0m\u001b[0;34m\u001b[0m\u001b[0;34m\u001b[0m\u001b[0m\n\u001b[1;32m   5178\u001b[0m                 \u001b[0;32mreturn\u001b[0m \u001b[0mself\u001b[0m\u001b[0;34m[\u001b[0m\u001b[0mname\u001b[0m\u001b[0;34m]\u001b[0m\u001b[0;34m\u001b[0m\u001b[0;34m\u001b[0m\u001b[0m\n\u001b[0;32m-> 5179\u001b[0;31m             \u001b[0;32mreturn\u001b[0m \u001b[0mobject\u001b[0m\u001b[0;34m.\u001b[0m\u001b[0m__getattribute__\u001b[0m\u001b[0;34m(\u001b[0m\u001b[0mself\u001b[0m\u001b[0;34m,\u001b[0m \u001b[0mname\u001b[0m\u001b[0;34m)\u001b[0m\u001b[0;34m\u001b[0m\u001b[0;34m\u001b[0m\u001b[0m\n\u001b[0m\u001b[1;32m   5180\u001b[0m \u001b[0;34m\u001b[0m\u001b[0m\n\u001b[1;32m   5181\u001b[0m     \u001b[0;32mdef\u001b[0m \u001b[0m__setattr__\u001b[0m\u001b[0;34m(\u001b[0m\u001b[0mself\u001b[0m\u001b[0;34m,\u001b[0m \u001b[0mname\u001b[0m\u001b[0;34m,\u001b[0m \u001b[0mvalue\u001b[0m\u001b[0;34m)\u001b[0m\u001b[0;34m:\u001b[0m\u001b[0;34m\u001b[0m\u001b[0;34m\u001b[0m\u001b[0m\n",
      "\u001b[0;31mAttributeError\u001b[0m: 'DataFrame' object has no attribute 'dealer'"
     ]
    }
   ],
   "source": [
    "df.dealer.fillna(\"EMPTY\", inplace=True)"
   ]
  },
  {
   "cell_type": "code",
   "execution_count": 12,
   "metadata": {},
   "outputs": [],
   "source": [
    "#len(df[df.dealer == \"EMPTY\"])"
   ]
  },
  {
   "cell_type": "code",
   "execution_count": 13,
   "metadata": {},
   "outputs": [
    {
     "name": "stdout",
     "output_type": "stream",
     "text": [
      "<class 'pandas.core.frame.DataFrame'>\n",
      "Int64Index: 1486 entries, 1 to 2800\n",
      "Data columns (total 4 columns):\n",
      "meters      1486 non-null float64\n",
      "price_m2    1486 non-null float64\n",
      "rooms       1486 non-null float64\n",
      "district    1486 non-null object\n",
      "dtypes: float64(3), object(1)\n",
      "memory usage: 58.0+ KB\n"
     ]
    }
   ],
   "source": [
    "df.info()"
   ]
  },
  {
   "cell_type": "code",
   "execution_count": 17,
   "metadata": {},
   "outputs": [],
   "source": [
    "#df['dealer'].value_counts()"
   ]
  },
  {
   "cell_type": "code",
   "execution_count": 18,
   "metadata": {},
   "outputs": [],
   "source": [
    "#len(df['dealer'].value_counts())"
   ]
  },
  {
   "cell_type": "code",
   "execution_count": 19,
   "metadata": {},
   "outputs": [
    {
     "data": {
      "text/plain": [
       "Węglinek       290\n",
       "Czuby          278\n",
       "Wrotków        261\n",
       "Śródmieście    179\n",
       "Bronowice      166\n",
       "Felin          146\n",
       "LSM            113\n",
       "Czechów         53\n",
       "Name: district, dtype: int64"
      ]
     },
     "execution_count": 19,
     "metadata": {},
     "output_type": "execute_result"
    }
   ],
   "source": [
    "df['district'].value_counts()"
   ]
  },
  {
   "cell_type": "code",
   "execution_count": 20,
   "metadata": {},
   "outputs": [
    {
     "data": {
      "text/plain": [
       "8"
      ]
     },
     "execution_count": 20,
     "metadata": {},
     "output_type": "execute_result"
    }
   ],
   "source": [
    "len(df['district'].value_counts())"
   ]
  },
  {
   "cell_type": "code",
   "execution_count": 21,
   "metadata": {},
   "outputs": [
    {
     "data": {
      "text/html": [
       "<div>\n",
       "<style scoped>\n",
       "    .dataframe tbody tr th:only-of-type {\n",
       "        vertical-align: middle;\n",
       "    }\n",
       "\n",
       "    .dataframe tbody tr th {\n",
       "        vertical-align: top;\n",
       "    }\n",
       "\n",
       "    .dataframe thead th {\n",
       "        text-align: right;\n",
       "    }\n",
       "</style>\n",
       "<table border=\"1\" class=\"dataframe\">\n",
       "  <thead>\n",
       "    <tr style=\"text-align: right;\">\n",
       "      <th></th>\n",
       "      <th>meters</th>\n",
       "      <th>price_m2</th>\n",
       "      <th>rooms</th>\n",
       "    </tr>\n",
       "  </thead>\n",
       "  <tbody>\n",
       "    <tr>\n",
       "      <td>count</td>\n",
       "      <td>1486.000000</td>\n",
       "      <td>1486.000000</td>\n",
       "      <td>1486.000000</td>\n",
       "    </tr>\n",
       "    <tr>\n",
       "      <td>mean</td>\n",
       "      <td>53.661561</td>\n",
       "      <td>6137.897712</td>\n",
       "      <td>2.580081</td>\n",
       "    </tr>\n",
       "    <tr>\n",
       "      <td>std</td>\n",
       "      <td>12.964916</td>\n",
       "      <td>1058.993489</td>\n",
       "      <td>0.776754</td>\n",
       "    </tr>\n",
       "    <tr>\n",
       "      <td>min</td>\n",
       "      <td>14.620000</td>\n",
       "      <td>2133.000000</td>\n",
       "      <td>1.000000</td>\n",
       "    </tr>\n",
       "    <tr>\n",
       "      <td>25%</td>\n",
       "      <td>45.750000</td>\n",
       "      <td>5514.750000</td>\n",
       "      <td>2.000000</td>\n",
       "    </tr>\n",
       "    <tr>\n",
       "      <td>50%</td>\n",
       "      <td>53.690000</td>\n",
       "      <td>5900.000000</td>\n",
       "      <td>3.000000</td>\n",
       "    </tr>\n",
       "    <tr>\n",
       "      <td>75%</td>\n",
       "      <td>62.860000</td>\n",
       "      <td>6408.500000</td>\n",
       "      <td>3.000000</td>\n",
       "    </tr>\n",
       "    <tr>\n",
       "      <td>max</td>\n",
       "      <td>79.950000</td>\n",
       "      <td>12996.000000</td>\n",
       "      <td>4.000000</td>\n",
       "    </tr>\n",
       "  </tbody>\n",
       "</table>\n",
       "</div>"
      ],
      "text/plain": [
       "            meters      price_m2        rooms\n",
       "count  1486.000000   1486.000000  1486.000000\n",
       "mean     53.661561   6137.897712     2.580081\n",
       "std      12.964916   1058.993489     0.776754\n",
       "min      14.620000   2133.000000     1.000000\n",
       "25%      45.750000   5514.750000     2.000000\n",
       "50%      53.690000   5900.000000     3.000000\n",
       "75%      62.860000   6408.500000     3.000000\n",
       "max      79.950000  12996.000000     4.000000"
      ]
     },
     "execution_count": 21,
     "metadata": {},
     "output_type": "execute_result"
    }
   ],
   "source": [
    "df.describe()"
   ]
  },
  {
   "cell_type": "code",
   "execution_count": 22,
   "metadata": {},
   "outputs": [
    {
     "data": {
      "text/plain": [
       "array([[<matplotlib.axes._subplots.AxesSubplot object at 0x7f615df73a58>,\n",
       "        <matplotlib.axes._subplots.AxesSubplot object at 0x7f615ded5eb8>],\n",
       "       [<matplotlib.axes._subplots.AxesSubplot object at 0x7f615de904a8>,\n",
       "        <matplotlib.axes._subplots.AxesSubplot object at 0x7f615debe898>]],\n",
       "      dtype=object)"
      ]
     },
     "execution_count": 22,
     "metadata": {},
     "output_type": "execute_result"
    },
    {
     "data": {
      "image/png": "[encoded data removed]",
      "text/plain": [
       "<Figure size 1080x576 with 4 Axes>"
      ]
     },
     "metadata": {
      "needs_background": "light"
     },
     "output_type": "display_data"
    }
   ],
   "source": [
    "df.hist(bins=50, figsize=(15, 8))"
   ]
  },
  {
   "cell_type": "markdown",
   "metadata": {},
   "source": [
    "# Zbiór testowy"
   ]
  },
  {
   "cell_type": "code",
   "execution_count": 23,
   "metadata": {},
   "outputs": [
    {
     "name": "stdout",
     "output_type": "stream",
     "text": [
      "Uczące 1188 , testowe 298\n"
     ]
    }
   ],
   "source": [
    "train_set, test_set = train_test_split(df, test_size=0.2, random_state=42)\n",
    "print(\"Uczące\", len(train_set), \", testowe\", len(test_set))"
   ]
  },
  {
   "cell_type": "markdown",
   "metadata": {},
   "source": [
    "### Atrybuty kategorii"
   ]
  },
  {
   "cell_type": "code",
   "execution_count": 24,
   "metadata": {},
   "outputs": [],
   "source": [
    "df['meters_cat'] = np.ceil(df['meters'] / 1.5)\n",
    "df['meters_cat'].where(df['meters_cat'] > 16, 16.0, inplace=True)\n",
    "df['meters_cat'].where(df['meters_cat'] < 52, 52.0, inplace=True)"
   ]
  },
  {
   "cell_type": "code",
   "execution_count": 25,
   "metadata": {},
   "outputs": [
    {
     "data": {
      "text/plain": [
       "array([[<matplotlib.axes._subplots.AxesSubplot object at 0x7f615d9d7b00>,\n",
       "        <matplotlib.axes._subplots.AxesSubplot object at 0x7f615dc51390>],\n",
       "       [<matplotlib.axes._subplots.AxesSubplot object at 0x7f615dc7a898>,\n",
       "        <matplotlib.axes._subplots.AxesSubplot object at 0x7f615dc2be48>]],\n",
       "      dtype=object)"
      ]
     },
     "execution_count": 25,
     "metadata": {},
     "output_type": "execute_result"
    },
    {
     "data": {
      "image/png": "[encoded data removed]",
      "text/plain": [
       "<Figure size 1080x576 with 4 Axes>"
      ]
     },
     "metadata": {
      "needs_background": "light"
     },
     "output_type": "display_data"
    }
   ],
   "source": [
    "df.hist(bins=50, figsize=(15, 8))"
   ]
  },
  {
   "cell_type": "code",
   "execution_count": 26,
   "metadata": {},
   "outputs": [
    {
     "name": "stderr",
     "output_type": "stream",
     "text": [
      "/home/adsum/.local/lib/python3.6/site-packages/ipykernel_launcher.py:5: FutureWarning: \n",
      "Passing list-likes to .loc or [] with any missing label will raise\n",
      "KeyError in the future, you can use .reindex() as an alternative.\n",
      "\n",
      "See the documentation here:\n",
      "https://pandas.pydata.org/pandas-docs/stable/user_guide/indexing.html#deprecate-loc-reindex-listlike\n",
      "  \"\"\"\n",
      "/home/adsum/.local/lib/python3.6/site-packages/ipykernel_launcher.py:6: FutureWarning: \n",
      "Passing list-likes to .loc or [] with any missing label will raise\n",
      "KeyError in the future, you can use .reindex() as an alternative.\n",
      "\n",
      "See the documentation here:\n",
      "https://pandas.pydata.org/pandas-docs/stable/user_guide/indexing.html#deprecate-loc-reindex-listlike\n",
      "  \n"
     ]
    }
   ],
   "source": [
    "from sklearn.model_selection import StratifiedShuffleSplit\n",
    "\n",
    "split = StratifiedShuffleSplit(n_splits=1, test_size=0.2, random_state=42)\n",
    "for train_index, test_index in split.split(df, df[\"meters_cat\"]):\n",
    "    strat_train_set = df.loc[train_index]\n",
    "    strat_test_set = df.loc[test_index]"
   ]
  },
  {
   "cell_type": "code",
   "execution_count": 27,
   "metadata": {},
   "outputs": [
    {
     "data": {
      "text/plain": [
       "42.0    0.422819\n",
       "33.0    0.399329\n",
       "32.0    0.322148\n",
       "40.0    0.234899\n",
       "36.0    0.208054\n",
       "45.0    0.204698\n",
       "35.0    0.177852\n",
       "31.0    0.164430\n",
       "46.0    0.161074\n",
       "41.0    0.157718\n",
       "47.0    0.154362\n",
       "44.0    0.151007\n",
       "37.0    0.144295\n",
       "34.0    0.144295\n",
       "39.0    0.144295\n",
       "22.0    0.137584\n",
       "30.0    0.127517\n",
       "26.0    0.117450\n",
       "24.0    0.117450\n",
       "25.0    0.117450\n",
       "38.0    0.117450\n",
       "48.0    0.107383\n",
       "49.0    0.104027\n",
       "52.0    0.100671\n",
       "28.0    0.087248\n",
       "50.0    0.087248\n",
       "27.0    0.077181\n",
       "43.0    0.070470\n",
       "21.0    0.063758\n",
       "51.0    0.063758\n",
       "23.0    0.057047\n",
       "29.0    0.053691\n",
       "19.0    0.050336\n",
       "16.0    0.043624\n",
       "18.0    0.040268\n",
       "20.0    0.033557\n",
       "17.0    0.020134\n",
       "Name: meters_cat, dtype: float64"
      ]
     },
     "execution_count": 27,
     "metadata": {},
     "output_type": "execute_result"
    }
   ],
   "source": [
    "df['meters_cat'].value_counts() / len(strat_test_set)"
   ]
  },
  {
   "cell_type": "code",
   "execution_count": 28,
   "metadata": {},
   "outputs": [
    {
     "data": {
      "text/plain": [
       "42.0    0.084791\n",
       "33.0    0.080081\n",
       "32.0    0.064603\n",
       "40.0    0.047106\n",
       "36.0    0.041723\n",
       "45.0    0.041050\n",
       "35.0    0.035666\n",
       "31.0    0.032974\n",
       "46.0    0.032301\n",
       "41.0    0.031629\n",
       "47.0    0.030956\n",
       "44.0    0.030283\n",
       "37.0    0.028937\n",
       "34.0    0.028937\n",
       "39.0    0.028937\n",
       "22.0    0.027591\n",
       "30.0    0.025572\n",
       "26.0    0.023553\n",
       "24.0    0.023553\n",
       "25.0    0.023553\n",
       "38.0    0.023553\n",
       "48.0    0.021534\n",
       "49.0    0.020861\n",
       "52.0    0.020188\n",
       "28.0    0.017497\n",
       "50.0    0.017497\n",
       "27.0    0.015478\n",
       "43.0    0.014132\n",
       "21.0    0.012786\n",
       "51.0    0.012786\n",
       "23.0    0.011440\n",
       "29.0    0.010767\n",
       "19.0    0.010094\n",
       "16.0    0.008748\n",
       "18.0    0.008075\n",
       "20.0    0.006729\n",
       "17.0    0.004038\n",
       "Name: meters_cat, dtype: float64"
      ]
     },
     "execution_count": 28,
     "metadata": {},
     "output_type": "execute_result"
    }
   ],
   "source": [
    "df['meters_cat'].value_counts() / len(df)"
   ]
  },
  {
   "cell_type": "code",
   "execution_count": 29,
   "metadata": {},
   "outputs": [],
   "source": [
    "def income_cat_proportions(data):\n",
    "    return data[\"meters_cat\"].value_counts() / len(data)\n",
    "\n",
    "train_set, test_set = train_test_split(df, test_size=0.2, random_state=42)\n",
    "\n",
    "compare_props = pd.DataFrame({\n",
    "    \"Łącznie\": income_cat_proportions(df),\n",
    "    \"L. warstwowe\": income_cat_proportions(strat_test_set),\n",
    "    \"Losowe\": income_cat_proportions(test_set),\n",
    "}).sort_index()\n",
    "compare_props[\"Błąd - losowe (%)\"] = 100 * compare_props[\"Losowe\"] / compare_props[\"Łącznie\"] - 100\n",
    "compare_props[\"Błąd - l. warstwowe (%)\"] = 100 * compare_props[\"L. warstwowe\"] / compare_props[\"Łącznie\"] - 100"
   ]
  },
  {
   "cell_type": "code",
   "execution_count": 30,
   "metadata": {},
   "outputs": [
    {
     "data": {
      "text/html": [
       "<div>\n",
       "<style scoped>\n",
       "    .dataframe tbody tr th:only-of-type {\n",
       "        vertical-align: middle;\n",
       "    }\n",
       "\n",
       "    .dataframe tbody tr th {\n",
       "        vertical-align: top;\n",
       "    }\n",
       "\n",
       "    .dataframe thead th {\n",
       "        text-align: right;\n",
       "    }\n",
       "</style>\n",
       "<table border=\"1\" class=\"dataframe\">\n",
       "  <thead>\n",
       "    <tr style=\"text-align: right;\">\n",
       "      <th></th>\n",
       "      <th>Łącznie</th>\n",
       "      <th>L. warstwowe</th>\n",
       "      <th>Losowe</th>\n",
       "      <th>Błąd - losowe (%)</th>\n",
       "      <th>Błąd - l. warstwowe (%)</th>\n",
       "    </tr>\n",
       "  </thead>\n",
       "  <tbody>\n",
       "    <tr>\n",
       "      <td>16.0</td>\n",
       "      <td>0.008748</td>\n",
       "      <td>0.006711</td>\n",
       "      <td>0.016779</td>\n",
       "      <td>91.791430</td>\n",
       "      <td>-23.283428</td>\n",
       "    </tr>\n",
       "    <tr>\n",
       "      <td>17.0</td>\n",
       "      <td>0.004038</td>\n",
       "      <td>NaN</td>\n",
       "      <td>NaN</td>\n",
       "      <td>NaN</td>\n",
       "      <td>NaN</td>\n",
       "    </tr>\n",
       "    <tr>\n",
       "      <td>18.0</td>\n",
       "      <td>0.008075</td>\n",
       "      <td>0.003356</td>\n",
       "      <td>0.013423</td>\n",
       "      <td>66.219239</td>\n",
       "      <td>-58.445190</td>\n",
       "    </tr>\n",
       "    <tr>\n",
       "      <td>19.0</td>\n",
       "      <td>0.010094</td>\n",
       "      <td>NaN</td>\n",
       "      <td>0.013423</td>\n",
       "      <td>32.975391</td>\n",
       "      <td>NaN</td>\n",
       "    </tr>\n",
       "    <tr>\n",
       "      <td>20.0</td>\n",
       "      <td>0.006729</td>\n",
       "      <td>NaN</td>\n",
       "      <td>0.016779</td>\n",
       "      <td>149.328859</td>\n",
       "      <td>NaN</td>\n",
       "    </tr>\n",
       "    <tr>\n",
       "      <td>21.0</td>\n",
       "      <td>0.012786</td>\n",
       "      <td>0.003356</td>\n",
       "      <td>0.003356</td>\n",
       "      <td>-73.754857</td>\n",
       "      <td>-73.754857</td>\n",
       "    </tr>\n",
       "    <tr>\n",
       "      <td>22.0</td>\n",
       "      <td>0.027591</td>\n",
       "      <td>0.006711</td>\n",
       "      <td>0.036913</td>\n",
       "      <td>33.786217</td>\n",
       "      <td>-75.675233</td>\n",
       "    </tr>\n",
       "    <tr>\n",
       "      <td>23.0</td>\n",
       "      <td>0.011440</td>\n",
       "      <td>0.010067</td>\n",
       "      <td>0.003356</td>\n",
       "      <td>-70.667193</td>\n",
       "      <td>-12.001579</td>\n",
       "    </tr>\n",
       "    <tr>\n",
       "      <td>24.0</td>\n",
       "      <td>0.023553</td>\n",
       "      <td>0.020134</td>\n",
       "      <td>0.023490</td>\n",
       "      <td>-0.268456</td>\n",
       "      <td>-14.515820</td>\n",
       "    </tr>\n",
       "    <tr>\n",
       "      <td>25.0</td>\n",
       "      <td>0.023553</td>\n",
       "      <td>0.013423</td>\n",
       "      <td>0.026846</td>\n",
       "      <td>13.978907</td>\n",
       "      <td>-43.010547</td>\n",
       "    </tr>\n",
       "    <tr>\n",
       "      <td>26.0</td>\n",
       "      <td>0.023553</td>\n",
       "      <td>0.006711</td>\n",
       "      <td>0.003356</td>\n",
       "      <td>-85.752637</td>\n",
       "      <td>-71.505273</td>\n",
       "    </tr>\n",
       "    <tr>\n",
       "      <td>27.0</td>\n",
       "      <td>0.015478</td>\n",
       "      <td>0.010067</td>\n",
       "      <td>0.006711</td>\n",
       "      <td>-56.638459</td>\n",
       "      <td>-34.957689</td>\n",
       "    </tr>\n",
       "    <tr>\n",
       "      <td>28.0</td>\n",
       "      <td>0.017497</td>\n",
       "      <td>0.020134</td>\n",
       "      <td>0.023490</td>\n",
       "      <td>34.254001</td>\n",
       "      <td>15.074858</td>\n",
       "    </tr>\n",
       "    <tr>\n",
       "      <td>29.0</td>\n",
       "      <td>0.010767</td>\n",
       "      <td>0.010067</td>\n",
       "      <td>0.013423</td>\n",
       "      <td>24.664430</td>\n",
       "      <td>-6.501678</td>\n",
       "    </tr>\n",
       "    <tr>\n",
       "      <td>30.0</td>\n",
       "      <td>0.025572</td>\n",
       "      <td>0.013423</td>\n",
       "      <td>0.036913</td>\n",
       "      <td>44.348287</td>\n",
       "      <td>-47.509714</td>\n",
       "    </tr>\n",
       "    <tr>\n",
       "      <td>31.0</td>\n",
       "      <td>0.032974</td>\n",
       "      <td>0.016779</td>\n",
       "      <td>0.023490</td>\n",
       "      <td>-28.763183</td>\n",
       "      <td>-49.116559</td>\n",
       "    </tr>\n",
       "    <tr>\n",
       "      <td>32.0</td>\n",
       "      <td>0.064603</td>\n",
       "      <td>0.070470</td>\n",
       "      <td>0.067114</td>\n",
       "      <td>3.887025</td>\n",
       "      <td>9.081376</td>\n",
       "    </tr>\n",
       "    <tr>\n",
       "      <td>33.0</td>\n",
       "      <td>0.080081</td>\n",
       "      <td>0.050336</td>\n",
       "      <td>0.080537</td>\n",
       "      <td>0.569624</td>\n",
       "      <td>-37.143985</td>\n",
       "    </tr>\n",
       "    <tr>\n",
       "      <td>34.0</td>\n",
       "      <td>0.028937</td>\n",
       "      <td>0.013423</td>\n",
       "      <td>0.030201</td>\n",
       "      <td>4.370220</td>\n",
       "      <td>-53.613236</td>\n",
       "    </tr>\n",
       "    <tr>\n",
       "      <td>35.0</td>\n",
       "      <td>0.035666</td>\n",
       "      <td>0.026846</td>\n",
       "      <td>0.030201</td>\n",
       "      <td>-15.322274</td>\n",
       "      <td>-24.730910</td>\n",
       "    </tr>\n",
       "    <tr>\n",
       "      <td>36.0</td>\n",
       "      <td>0.041723</td>\n",
       "      <td>0.030201</td>\n",
       "      <td>0.060403</td>\n",
       "      <td>44.771596</td>\n",
       "      <td>-27.614202</td>\n",
       "    </tr>\n",
       "    <tr>\n",
       "      <td>37.0</td>\n",
       "      <td>0.028937</td>\n",
       "      <td>0.016779</td>\n",
       "      <td>0.040268</td>\n",
       "      <td>39.160293</td>\n",
       "      <td>-42.016544</td>\n",
       "    </tr>\n",
       "    <tr>\n",
       "      <td>38.0</td>\n",
       "      <td>0.023553</td>\n",
       "      <td>0.020134</td>\n",
       "      <td>0.013423</td>\n",
       "      <td>-43.010547</td>\n",
       "      <td>-14.515820</td>\n",
       "    </tr>\n",
       "    <tr>\n",
       "      <td>39.0</td>\n",
       "      <td>0.028937</td>\n",
       "      <td>0.020134</td>\n",
       "      <td>0.023490</td>\n",
       "      <td>-18.823162</td>\n",
       "      <td>-30.419853</td>\n",
       "    </tr>\n",
       "    <tr>\n",
       "      <td>40.0</td>\n",
       "      <td>0.047106</td>\n",
       "      <td>0.023490</td>\n",
       "      <td>0.026846</td>\n",
       "      <td>-43.010547</td>\n",
       "      <td>-50.134228</td>\n",
       "    </tr>\n",
       "    <tr>\n",
       "      <td>41.0</td>\n",
       "      <td>0.031629</td>\n",
       "      <td>0.003356</td>\n",
       "      <td>0.026846</td>\n",
       "      <td>-15.122091</td>\n",
       "      <td>-89.390261</td>\n",
       "    </tr>\n",
       "    <tr>\n",
       "      <td>42.0</td>\n",
       "      <td>0.084791</td>\n",
       "      <td>0.040268</td>\n",
       "      <td>0.073826</td>\n",
       "      <td>-12.932779</td>\n",
       "      <td>-52.508789</td>\n",
       "    </tr>\n",
       "    <tr>\n",
       "      <td>43.0</td>\n",
       "      <td>0.014132</td>\n",
       "      <td>0.003356</td>\n",
       "      <td>0.020134</td>\n",
       "      <td>42.473634</td>\n",
       "      <td>-76.254394</td>\n",
       "    </tr>\n",
       "    <tr>\n",
       "      <td>44.0</td>\n",
       "      <td>0.030283</td>\n",
       "      <td>0.016779</td>\n",
       "      <td>0.026846</td>\n",
       "      <td>-11.349739</td>\n",
       "      <td>-44.593587</td>\n",
       "    </tr>\n",
       "    <tr>\n",
       "      <td>45.0</td>\n",
       "      <td>0.041050</td>\n",
       "      <td>0.030201</td>\n",
       "      <td>0.043624</td>\n",
       "      <td>6.271317</td>\n",
       "      <td>-26.427550</td>\n",
       "    </tr>\n",
       "    <tr>\n",
       "      <td>46.0</td>\n",
       "      <td>0.032301</td>\n",
       "      <td>0.020134</td>\n",
       "      <td>0.036913</td>\n",
       "      <td>14.275727</td>\n",
       "      <td>-37.667785</td>\n",
       "    </tr>\n",
       "    <tr>\n",
       "      <td>47.0</td>\n",
       "      <td>0.030956</td>\n",
       "      <td>0.016779</td>\n",
       "      <td>0.023490</td>\n",
       "      <td>-24.117304</td>\n",
       "      <td>-45.798074</td>\n",
       "    </tr>\n",
       "    <tr>\n",
       "      <td>48.0</td>\n",
       "      <td>0.021534</td>\n",
       "      <td>NaN</td>\n",
       "      <td>0.023490</td>\n",
       "      <td>9.081376</td>\n",
       "      <td>NaN</td>\n",
       "    </tr>\n",
       "    <tr>\n",
       "      <td>49.0</td>\n",
       "      <td>0.020861</td>\n",
       "      <td>0.010067</td>\n",
       "      <td>0.030201</td>\n",
       "      <td>44.771596</td>\n",
       "      <td>-51.742801</td>\n",
       "    </tr>\n",
       "    <tr>\n",
       "      <td>50.0</td>\n",
       "      <td>0.017497</td>\n",
       "      <td>0.016779</td>\n",
       "      <td>0.026846</td>\n",
       "      <td>53.433144</td>\n",
       "      <td>-4.104285</td>\n",
       "    </tr>\n",
       "    <tr>\n",
       "      <td>51.0</td>\n",
       "      <td>0.012786</td>\n",
       "      <td>0.010067</td>\n",
       "      <td>0.013423</td>\n",
       "      <td>4.980572</td>\n",
       "      <td>-21.264571</td>\n",
       "    </tr>\n",
       "    <tr>\n",
       "      <td>52.0</td>\n",
       "      <td>0.020188</td>\n",
       "      <td>0.003356</td>\n",
       "      <td>0.020134</td>\n",
       "      <td>-0.268456</td>\n",
       "      <td>-83.378076</td>\n",
       "    </tr>\n",
       "  </tbody>\n",
       "</table>\n",
       "</div>"
      ],
      "text/plain": [
       "       Łącznie  L. warstwowe    Losowe  Błąd - losowe (%)  \\\n",
       "16.0  0.008748      0.006711  0.016779          91.791430   \n",
       "17.0  0.004038           NaN       NaN                NaN   \n",
       "18.0  0.008075      0.003356  0.013423          66.219239   \n",
       "19.0  0.010094           NaN  0.013423          32.975391   \n",
       "20.0  0.006729           NaN  0.016779         149.328859   \n",
       "21.0  0.012786      0.003356  0.003356         -73.754857   \n",
       "22.0  0.027591      0.006711  0.036913          33.786217   \n",
       "23.0  0.011440      0.010067  0.003356         -70.667193   \n",
       "24.0  0.023553      0.020134  0.023490          -0.268456   \n",
       "25.0  0.023553      0.013423  0.026846          13.978907   \n",
       "26.0  0.023553      0.006711  0.003356         -85.752637   \n",
       "27.0  0.015478      0.010067  0.006711         -56.638459   \n",
       "28.0  0.017497      0.020134  0.023490          34.254001   \n",
       "29.0  0.010767      0.010067  0.013423          24.664430   \n",
       "30.0  0.025572      0.013423  0.036913          44.348287   \n",
       "31.0  0.032974      0.016779  0.023490         -28.763183   \n",
       "32.0  0.064603      0.070470  0.067114           3.887025   \n",
       "33.0  0.080081      0.050336  0.080537           0.569624   \n",
       "34.0  0.028937      0.013423  0.030201           4.370220   \n",
       "35.0  0.035666      0.026846  0.030201         -15.322274   \n",
       "36.0  0.041723      0.030201  0.060403          44.771596   \n",
       "37.0  0.028937      0.016779  0.040268          39.160293   \n",
       "38.0  0.023553      0.020134  0.013423         -43.010547   \n",
       "39.0  0.028937      0.020134  0.023490         -18.823162   \n",
       "40.0  0.047106      0.023490  0.026846         -43.010547   \n",
       "41.0  0.031629      0.003356  0.026846         -15.122091   \n",
       "42.0  0.084791      0.040268  0.073826         -12.932779   \n",
       "43.0  0.014132      0.003356  0.020134          42.473634   \n",
       "44.0  0.030283      0.016779  0.026846         -11.349739   \n",
       "45.0  0.041050      0.030201  0.043624           6.271317   \n",
       "46.0  0.032301      0.020134  0.036913          14.275727   \n",
       "47.0  0.030956      0.016779  0.023490         -24.117304   \n",
       "48.0  0.021534           NaN  0.023490           9.081376   \n",
       "49.0  0.020861      0.010067  0.030201          44.771596   \n",
       "50.0  0.017497      0.016779  0.026846          53.433144   \n",
       "51.0  0.012786      0.010067  0.013423           4.980572   \n",
       "52.0  0.020188      0.003356  0.020134          -0.268456   \n",
       "\n",
       "      Błąd - l. warstwowe (%)  \n",
       "16.0               -23.283428  \n",
       "17.0                      NaN  \n",
       "18.0               -58.445190  \n",
       "19.0                      NaN  \n",
       "20.0                      NaN  \n",
       "21.0               -73.754857  \n",
       "22.0               -75.675233  \n",
       "23.0               -12.001579  \n",
       "24.0               -14.515820  \n",
       "25.0               -43.010547  \n",
       "26.0               -71.505273  \n",
       "27.0               -34.957689  \n",
       "28.0                15.074858  \n",
       "29.0                -6.501678  \n",
       "30.0               -47.509714  \n",
       "31.0               -49.116559  \n",
       "32.0                 9.081376  \n",
       "33.0               -37.143985  \n",
       "34.0               -53.613236  \n",
       "35.0               -24.730910  \n",
       "36.0               -27.614202  \n",
       "37.0               -42.016544  \n",
       "38.0               -14.515820  \n",
       "39.0               -30.419853  \n",
       "40.0               -50.134228  \n",
       "41.0               -89.390261  \n",
       "42.0               -52.508789  \n",
       "43.0               -76.254394  \n",
       "44.0               -44.593587  \n",
       "45.0               -26.427550  \n",
       "46.0               -37.667785  \n",
       "47.0               -45.798074  \n",
       "48.0                      NaN  \n",
       "49.0               -51.742801  \n",
       "50.0                -4.104285  \n",
       "51.0               -21.264571  \n",
       "52.0               -83.378076  "
      ]
     },
     "execution_count": 30,
     "metadata": {},
     "output_type": "execute_result"
    }
   ],
   "source": [
    "compare_props"
   ]
  },
  {
   "cell_type": "code",
   "execution_count": 31,
   "metadata": {
    "scrolled": true
   },
   "outputs": [
    {
     "data": {
      "text/html": [
       "<div>\n",
       "<style scoped>\n",
       "    .dataframe tbody tr th:only-of-type {\n",
       "        vertical-align: middle;\n",
       "    }\n",
       "\n",
       "    .dataframe tbody tr th {\n",
       "        vertical-align: top;\n",
       "    }\n",
       "\n",
       "    .dataframe thead th {\n",
       "        text-align: right;\n",
       "    }\n",
       "</style>\n",
       "<table border=\"1\" class=\"dataframe\">\n",
       "  <thead>\n",
       "    <tr style=\"text-align: right;\">\n",
       "      <th></th>\n",
       "      <th>meters</th>\n",
       "      <th>price_m2</th>\n",
       "      <th>rooms</th>\n",
       "      <th>district</th>\n",
       "      <th>meters_cat</th>\n",
       "    </tr>\n",
       "  </thead>\n",
       "  <tbody>\n",
       "    <tr>\n",
       "      <td>1</td>\n",
       "      <td>59.48</td>\n",
       "      <td>5800.0</td>\n",
       "      <td>3.0</td>\n",
       "      <td>Czuby</td>\n",
       "      <td>40.0</td>\n",
       "    </tr>\n",
       "    <tr>\n",
       "      <td>2</td>\n",
       "      <td>53.41</td>\n",
       "      <td>6000.0</td>\n",
       "      <td>3.0</td>\n",
       "      <td>Czuby</td>\n",
       "      <td>36.0</td>\n",
       "    </tr>\n",
       "    <tr>\n",
       "      <td>3</td>\n",
       "      <td>70.00</td>\n",
       "      <td>9986.0</td>\n",
       "      <td>2.0</td>\n",
       "      <td>LSM</td>\n",
       "      <td>47.0</td>\n",
       "    </tr>\n",
       "    <tr>\n",
       "      <td>5</td>\n",
       "      <td>58.00</td>\n",
       "      <td>5431.0</td>\n",
       "      <td>2.0</td>\n",
       "      <td>LSM</td>\n",
       "      <td>39.0</td>\n",
       "    </tr>\n",
       "    <tr>\n",
       "      <td>6</td>\n",
       "      <td>63.00</td>\n",
       "      <td>6333.0</td>\n",
       "      <td>3.0</td>\n",
       "      <td>Czuby</td>\n",
       "      <td>42.0</td>\n",
       "    </tr>\n",
       "    <tr>\n",
       "      <td>...</td>\n",
       "      <td>...</td>\n",
       "      <td>...</td>\n",
       "      <td>...</td>\n",
       "      <td>...</td>\n",
       "      <td>...</td>\n",
       "    </tr>\n",
       "    <tr>\n",
       "      <td>2794</td>\n",
       "      <td>67.39</td>\n",
       "      <td>5701.0</td>\n",
       "      <td>3.0</td>\n",
       "      <td>Węglinek</td>\n",
       "      <td>45.0</td>\n",
       "    </tr>\n",
       "    <tr>\n",
       "      <td>2796</td>\n",
       "      <td>56.00</td>\n",
       "      <td>6232.0</td>\n",
       "      <td>2.0</td>\n",
       "      <td>Wrotków</td>\n",
       "      <td>38.0</td>\n",
       "    </tr>\n",
       "    <tr>\n",
       "      <td>2797</td>\n",
       "      <td>69.16</td>\n",
       "      <td>7519.0</td>\n",
       "      <td>3.0</td>\n",
       "      <td>Śródmieście</td>\n",
       "      <td>47.0</td>\n",
       "    </tr>\n",
       "    <tr>\n",
       "      <td>2798</td>\n",
       "      <td>68.50</td>\n",
       "      <td>5679.0</td>\n",
       "      <td>3.0</td>\n",
       "      <td>Czuby</td>\n",
       "      <td>46.0</td>\n",
       "    </tr>\n",
       "    <tr>\n",
       "      <td>2800</td>\n",
       "      <td>73.10</td>\n",
       "      <td>4692.0</td>\n",
       "      <td>4.0</td>\n",
       "      <td>Czuby</td>\n",
       "      <td>49.0</td>\n",
       "    </tr>\n",
       "  </tbody>\n",
       "</table>\n",
       "<p>1486 rows × 5 columns</p>\n",
       "</div>"
      ],
      "text/plain": [
       "      meters  price_m2  rooms     district  meters_cat\n",
       "1      59.48    5800.0    3.0        Czuby        40.0\n",
       "2      53.41    6000.0    3.0        Czuby        36.0\n",
       "3      70.00    9986.0    2.0          LSM        47.0\n",
       "5      58.00    5431.0    2.0          LSM        39.0\n",
       "6      63.00    6333.0    3.0        Czuby        42.0\n",
       "...      ...       ...    ...          ...         ...\n",
       "2794   67.39    5701.0    3.0     Węglinek        45.0\n",
       "2796   56.00    6232.0    2.0      Wrotków        38.0\n",
       "2797   69.16    7519.0    3.0  Śródmieście        47.0\n",
       "2798   68.50    5679.0    3.0        Czuby        46.0\n",
       "2800   73.10    4692.0    4.0        Czuby        49.0\n",
       "\n",
       "[1486 rows x 5 columns]"
      ]
     },
     "execution_count": 31,
     "metadata": {},
     "output_type": "execute_result"
    }
   ],
   "source": [
    "df.rename(columns={'price': 'price_m2'})"
   ]
  },
  {
   "cell_type": "code",
   "execution_count": 32,
   "metadata": {},
   "outputs": [],
   "source": [
    "for set_ in strat_train_set, strat_test_set:\n",
    "    set_.drop(\"meters_cat\", axis=1, inplace=True)"
   ]
  },
  {
   "cell_type": "code",
   "execution_count": 33,
   "metadata": {},
   "outputs": [
    {
     "data": {
      "text/html": [
       "<div>\n",
       "<style scoped>\n",
       "    .dataframe tbody tr th:only-of-type {\n",
       "        vertical-align: middle;\n",
       "    }\n",
       "\n",
       "    .dataframe tbody tr th {\n",
       "        vertical-align: top;\n",
       "    }\n",
       "\n",
       "    .dataframe thead th {\n",
       "        text-align: right;\n",
       "    }\n",
       "</style>\n",
       "<table border=\"1\" class=\"dataframe\">\n",
       "  <thead>\n",
       "    <tr style=\"text-align: right;\">\n",
       "      <th></th>\n",
       "      <th>meters</th>\n",
       "      <th>price_m2</th>\n",
       "      <th>rooms</th>\n",
       "      <th>district</th>\n",
       "    </tr>\n",
       "  </thead>\n",
       "  <tbody>\n",
       "    <tr>\n",
       "      <td>137</td>\n",
       "      <td>61.30</td>\n",
       "      <td>5150.0</td>\n",
       "      <td>3.0</td>\n",
       "      <td>Felin</td>\n",
       "    </tr>\n",
       "    <tr>\n",
       "      <td>755</td>\n",
       "      <td>NaN</td>\n",
       "      <td>NaN</td>\n",
       "      <td>NaN</td>\n",
       "      <td>NaN</td>\n",
       "    </tr>\n",
       "    <tr>\n",
       "      <td>505</td>\n",
       "      <td>NaN</td>\n",
       "      <td>NaN</td>\n",
       "      <td>NaN</td>\n",
       "      <td>NaN</td>\n",
       "    </tr>\n",
       "    <tr>\n",
       "      <td>1136</td>\n",
       "      <td>NaN</td>\n",
       "      <td>NaN</td>\n",
       "      <td>NaN</td>\n",
       "      <td>NaN</td>\n",
       "    </tr>\n",
       "    <tr>\n",
       "      <td>1436</td>\n",
       "      <td>39.93</td>\n",
       "      <td>5550.0</td>\n",
       "      <td>2.0</td>\n",
       "      <td>Czuby</td>\n",
       "    </tr>\n",
       "    <tr>\n",
       "      <td>...</td>\n",
       "      <td>...</td>\n",
       "      <td>...</td>\n",
       "      <td>...</td>\n",
       "      <td>...</td>\n",
       "    </tr>\n",
       "    <tr>\n",
       "      <td>1483</td>\n",
       "      <td>37.72</td>\n",
       "      <td>6050.0</td>\n",
       "      <td>2.0</td>\n",
       "      <td>Węglinek</td>\n",
       "    </tr>\n",
       "    <tr>\n",
       "      <td>715</td>\n",
       "      <td>52.40</td>\n",
       "      <td>7595.0</td>\n",
       "      <td>2.0</td>\n",
       "      <td>Czuby</td>\n",
       "    </tr>\n",
       "    <tr>\n",
       "      <td>1225</td>\n",
       "      <td>NaN</td>\n",
       "      <td>NaN</td>\n",
       "      <td>NaN</td>\n",
       "      <td>NaN</td>\n",
       "    </tr>\n",
       "    <tr>\n",
       "      <td>1029</td>\n",
       "      <td>NaN</td>\n",
       "      <td>NaN</td>\n",
       "      <td>NaN</td>\n",
       "      <td>NaN</td>\n",
       "    </tr>\n",
       "    <tr>\n",
       "      <td>215</td>\n",
       "      <td>NaN</td>\n",
       "      <td>NaN</td>\n",
       "      <td>NaN</td>\n",
       "      <td>NaN</td>\n",
       "    </tr>\n",
       "  </tbody>\n",
       "</table>\n",
       "<p>1188 rows × 4 columns</p>\n",
       "</div>"
      ],
      "text/plain": [
       "      meters  price_m2  rooms  district\n",
       "137    61.30    5150.0    3.0     Felin\n",
       "755      NaN       NaN    NaN       NaN\n",
       "505      NaN       NaN    NaN       NaN\n",
       "1136     NaN       NaN    NaN       NaN\n",
       "1436   39.93    5550.0    2.0     Czuby\n",
       "...      ...       ...    ...       ...\n",
       "1483   37.72    6050.0    2.0  Węglinek\n",
       "715    52.40    7595.0    2.0     Czuby\n",
       "1225     NaN       NaN    NaN       NaN\n",
       "1029     NaN       NaN    NaN       NaN\n",
       "215      NaN       NaN    NaN       NaN\n",
       "\n",
       "[1188 rows x 4 columns]"
      ]
     },
     "execution_count": 33,
     "metadata": {},
     "output_type": "execute_result"
    }
   ],
   "source": [
    "strat_train_set"
   ]
  },
  {
   "cell_type": "code",
   "execution_count": 34,
   "metadata": {},
   "outputs": [
    {
     "data": {
      "text/html": [
       "<div>\n",
       "<style scoped>\n",
       "    .dataframe tbody tr th:only-of-type {\n",
       "        vertical-align: middle;\n",
       "    }\n",
       "\n",
       "    .dataframe tbody tr th {\n",
       "        vertical-align: top;\n",
       "    }\n",
       "\n",
       "    .dataframe thead th {\n",
       "        text-align: right;\n",
       "    }\n",
       "</style>\n",
       "<table border=\"1\" class=\"dataframe\">\n",
       "  <thead>\n",
       "    <tr style=\"text-align: right;\">\n",
       "      <th></th>\n",
       "      <th>meters</th>\n",
       "      <th>price_m2</th>\n",
       "      <th>rooms</th>\n",
       "      <th>district</th>\n",
       "      <th>meters_cat</th>\n",
       "    </tr>\n",
       "  </thead>\n",
       "  <tbody>\n",
       "    <tr>\n",
       "      <td>1</td>\n",
       "      <td>59.48</td>\n",
       "      <td>5800.0</td>\n",
       "      <td>3.0</td>\n",
       "      <td>Czuby</td>\n",
       "      <td>40.0</td>\n",
       "    </tr>\n",
       "    <tr>\n",
       "      <td>2</td>\n",
       "      <td>53.41</td>\n",
       "      <td>6000.0</td>\n",
       "      <td>3.0</td>\n",
       "      <td>Czuby</td>\n",
       "      <td>36.0</td>\n",
       "    </tr>\n",
       "    <tr>\n",
       "      <td>3</td>\n",
       "      <td>70.00</td>\n",
       "      <td>9986.0</td>\n",
       "      <td>2.0</td>\n",
       "      <td>LSM</td>\n",
       "      <td>47.0</td>\n",
       "    </tr>\n",
       "    <tr>\n",
       "      <td>5</td>\n",
       "      <td>58.00</td>\n",
       "      <td>5431.0</td>\n",
       "      <td>2.0</td>\n",
       "      <td>LSM</td>\n",
       "      <td>39.0</td>\n",
       "    </tr>\n",
       "    <tr>\n",
       "      <td>6</td>\n",
       "      <td>63.00</td>\n",
       "      <td>6333.0</td>\n",
       "      <td>3.0</td>\n",
       "      <td>Czuby</td>\n",
       "      <td>42.0</td>\n",
       "    </tr>\n",
       "  </tbody>\n",
       "</table>\n",
       "</div>"
      ],
      "text/plain": [
       "   meters  price_m2  rooms district  meters_cat\n",
       "1   59.48    5800.0    3.0    Czuby        40.0\n",
       "2   53.41    6000.0    3.0    Czuby        36.0\n",
       "3   70.00    9986.0    2.0      LSM        47.0\n",
       "5   58.00    5431.0    2.0      LSM        39.0\n",
       "6   63.00    6333.0    3.0    Czuby        42.0"
      ]
     },
     "execution_count": 34,
     "metadata": {},
     "output_type": "execute_result"
    }
   ],
   "source": [
    "df.head()"
   ]
  },
  {
   "cell_type": "markdown",
   "metadata": {},
   "source": [
    "# Wizualizacja"
   ]
  },
  {
   "cell_type": "code",
   "execution_count": 35,
   "metadata": {},
   "outputs": [
    {
     "data": {
      "text/plain": [
       "<matplotlib.axes._subplots.AxesSubplot at 0x7f615d044780>"
      ]
     },
     "execution_count": 35,
     "metadata": {},
     "output_type": "execute_result"
    },
    {
     "data": {
      "image/png": "[encoded data removed]",
      "text/plain": [
       "<Figure size 432x288 with 2 Axes>"
      ]
     },
     "metadata": {
      "needs_background": "light"
     },
     "output_type": "display_data"
    }
   ],
   "source": [
    "df.plot(kind=\"scatter\", x=\"meters\", y=\"price_m2\", alpha=1,\n",
    "       c=\"rooms\", cmap=plt.get_cmap(\"plasma\"), colorbar=True,  sharex=False)"
   ]
  },
  {
   "cell_type": "markdown",
   "metadata": {},
   "source": [
    "# Korelacja"
   ]
  },
  {
   "cell_type": "code",
   "execution_count": 36,
   "metadata": {},
   "outputs": [],
   "source": [
    "corr_df = df.corr()"
   ]
  },
  {
   "cell_type": "code",
   "execution_count": 37,
   "metadata": {},
   "outputs": [
    {
     "data": {
      "text/plain": [
       "price_m2      1.000000\n",
       "rooms        -0.286705\n",
       "meters_cat   -0.294614\n",
       "meters       -0.297179\n",
       "Name: price_m2, dtype: float64"
      ]
     },
     "execution_count": 37,
     "metadata": {},
     "output_type": "execute_result"
    }
   ],
   "source": [
    "corr_df[\"price_m2\"].sort_values(ascending=False)"
   ]
  },
  {
   "cell_type": "code",
   "execution_count": 38,
   "metadata": {},
   "outputs": [
    {
     "data": {
      "text/plain": [
       "array([[<matplotlib.axes._subplots.AxesSubplot object at 0x7f6159718630>,\n",
       "        <matplotlib.axes._subplots.AxesSubplot object at 0x7f615973af60>,\n",
       "        <matplotlib.axes._subplots.AxesSubplot object at 0x7f61596f5550>],\n",
       "       [<matplotlib.axes._subplots.AxesSubplot object at 0x7f61596a7b00>,\n",
       "        <matplotlib.axes._subplots.AxesSubplot object at 0x7f61596630f0>,\n",
       "        <matplotlib.axes._subplots.AxesSubplot object at 0x7f61596966a0>],\n",
       "       [<matplotlib.axes._subplots.AxesSubplot object at 0x7f6159647c50>,\n",
       "        <matplotlib.axes._subplots.AxesSubplot object at 0x7f6159606278>,\n",
       "        <matplotlib.axes._subplots.AxesSubplot object at 0x7f61596062b0>]],\n",
       "      dtype=object)"
      ]
     },
     "execution_count": 38,
     "metadata": {},
     "output_type": "execute_result"
    },
    {
     "data": {
      "image/png": "[encoded data removed]",
      "text/plain": [
       "<Figure size 864x576 with 9 Axes>"
      ]
     },
     "metadata": {
      "needs_background": "light"
     },
     "output_type": "display_data"
    }
   ],
   "source": [
    "from pandas.plotting import scatter_matrix\n",
    "\n",
    "attributes = [\"price_m2\", \"rooms\", \"meters\"]\n",
    "scatter_matrix(df[attributes], figsize=(12, 8))"
   ]
  },
  {
   "cell_type": "markdown",
   "metadata": {},
   "source": [
    "# Kombinacje atrybutów"
   ]
  },
  {
   "cell_type": "code",
   "execution_count": 39,
   "metadata": {},
   "outputs": [],
   "source": [
    "df['meters_by_rooms'] = df['meters'] / df['rooms']\n",
    "df['rooms_by_meter'] = df['rooms'] / df['meters']"
   ]
  },
  {
   "cell_type": "code",
   "execution_count": 40,
   "metadata": {},
   "outputs": [
    {
     "data": {
      "text/plain": [
       "price_m2           1.000000\n",
       "meters_by_rooms    0.119593\n",
       "rooms_by_meter    -0.065290\n",
       "rooms             -0.286705\n",
       "meters_cat        -0.294614\n",
       "meters            -0.297179\n",
       "Name: price_m2, dtype: float64"
      ]
     },
     "execution_count": 40,
     "metadata": {},
     "output_type": "execute_result"
    }
   ],
   "source": [
    "corr_df = df.corr()\n",
    "corr_df[\"price_m2\"].sort_values(ascending=False)"
   ]
  },
  {
   "cell_type": "markdown",
   "metadata": {},
   "source": [
    "# Przygotowanie danych pod algorytmy"
   ]
  },
  {
   "cell_type": "code",
   "execution_count": 43,
   "metadata": {},
   "outputs": [],
   "source": [
    "#df = strat_train_set.drop(\"price_m2\", axis=1)\n",
    "#df_labels = strat_train_set[\"price_m2\"].copy()\n",
    "df = train_set.drop(\"price_m2\", axis=1)\n",
    "df_labels = train_set[\"price_m2\"].copy()"
   ]
  },
  {
   "cell_type": "code",
   "execution_count": 47,
   "metadata": {},
   "outputs": [],
   "source": [
    "#df_num = df.select_dtypes(include=[np.number]\n",
    "df_num = df.drop(['district', 'meters'], axis=1)"
   ]
  },
  {
   "cell_type": "code",
   "execution_count": 48,
   "metadata": {},
   "outputs": [
    {
     "data": {
      "text/html": [
       "<div>\n",
       "<style scoped>\n",
       "    .dataframe tbody tr th:only-of-type {\n",
       "        vertical-align: middle;\n",
       "    }\n",
       "\n",
       "    .dataframe tbody tr th {\n",
       "        vertical-align: top;\n",
       "    }\n",
       "\n",
       "    .dataframe thead th {\n",
       "        text-align: right;\n",
       "    }\n",
       "</style>\n",
       "<table border=\"1\" class=\"dataframe\">\n",
       "  <thead>\n",
       "    <tr style=\"text-align: right;\">\n",
       "      <th></th>\n",
       "      <th>rooms</th>\n",
       "      <th>meters_cat</th>\n",
       "    </tr>\n",
       "  </thead>\n",
       "  <tbody>\n",
       "    <tr>\n",
       "      <td>2326</td>\n",
       "      <td>3.0</td>\n",
       "      <td>42.0</td>\n",
       "    </tr>\n",
       "    <tr>\n",
       "      <td>2599</td>\n",
       "      <td>2.0</td>\n",
       "      <td>35.0</td>\n",
       "    </tr>\n",
       "    <tr>\n",
       "      <td>1792</td>\n",
       "      <td>3.0</td>\n",
       "      <td>42.0</td>\n",
       "    </tr>\n",
       "    <tr>\n",
       "      <td>779</td>\n",
       "      <td>4.0</td>\n",
       "      <td>52.0</td>\n",
       "    </tr>\n",
       "    <tr>\n",
       "      <td>1177</td>\n",
       "      <td>2.0</td>\n",
       "      <td>28.0</td>\n",
       "    </tr>\n",
       "    <tr>\n",
       "      <td>...</td>\n",
       "      <td>...</td>\n",
       "      <td>...</td>\n",
       "    </tr>\n",
       "    <tr>\n",
       "      <td>2133</td>\n",
       "      <td>2.0</td>\n",
       "      <td>33.0</td>\n",
       "    </tr>\n",
       "    <tr>\n",
       "      <td>2466</td>\n",
       "      <td>3.0</td>\n",
       "      <td>34.0</td>\n",
       "    </tr>\n",
       "    <tr>\n",
       "      <td>1603</td>\n",
       "      <td>2.0</td>\n",
       "      <td>26.0</td>\n",
       "    </tr>\n",
       "    <tr>\n",
       "      <td>2762</td>\n",
       "      <td>3.0</td>\n",
       "      <td>42.0</td>\n",
       "    </tr>\n",
       "    <tr>\n",
       "      <td>2126</td>\n",
       "      <td>4.0</td>\n",
       "      <td>46.0</td>\n",
       "    </tr>\n",
       "  </tbody>\n",
       "</table>\n",
       "<p>1188 rows × 2 columns</p>\n",
       "</div>"
      ],
      "text/plain": [
       "      rooms  meters_cat\n",
       "2326    3.0        42.0\n",
       "2599    2.0        35.0\n",
       "1792    3.0        42.0\n",
       "779     4.0        52.0\n",
       "1177    2.0        28.0\n",
       "...     ...         ...\n",
       "2133    2.0        33.0\n",
       "2466    3.0        34.0\n",
       "1603    2.0        26.0\n",
       "2762    3.0        42.0\n",
       "2126    4.0        46.0\n",
       "\n",
       "[1188 rows x 2 columns]"
      ]
     },
     "execution_count": 48,
     "metadata": {},
     "output_type": "execute_result"
    }
   ],
   "source": [
    "df_num"
   ]
  },
  {
   "cell_type": "markdown",
   "metadata": {},
   "source": [
    "# Atrybuty kategorialne dla tekstu"
   ]
  },
  {
   "cell_type": "code",
   "execution_count": 50,
   "metadata": {},
   "outputs": [],
   "source": [
    "from sklearn.preprocessing import OneHotEncoder"
   ]
  },
  {
   "cell_type": "code",
   "execution_count": 51,
   "metadata": {},
   "outputs": [],
   "source": [
    "#dealer_cat = df['dealer']"
   ]
  },
  {
   "cell_type": "code",
   "execution_count": 52,
   "metadata": {},
   "outputs": [],
   "source": [
    "#dealer_cat_encoded, dealer_categories = dealer_cat.factorize()\n",
    "#dealer_cat_encoded[:10]"
   ]
  },
  {
   "cell_type": "code",
   "execution_count": 53,
   "metadata": {},
   "outputs": [],
   "source": [
    "#dealer_categories"
   ]
  },
  {
   "cell_type": "code",
   "execution_count": 54,
   "metadata": {},
   "outputs": [],
   "source": [
    "# encoder1 = OneHotEncoder(categories='auto')\n",
    "# dealer_cat_1hot = encoder1.fit_transform(dealer_cat_encoded.reshape(-1,1))\n",
    "# dealer_cat_1hot"
   ]
  },
  {
   "cell_type": "code",
   "execution_count": 55,
   "metadata": {},
   "outputs": [],
   "source": [
    "#dealer_cat_1hot.toarray()"
   ]
  },
  {
   "cell_type": "code",
   "execution_count": 56,
   "metadata": {},
   "outputs": [],
   "source": [
    "district_cat = df['district']"
   ]
  },
  {
   "cell_type": "code",
   "execution_count": 57,
   "metadata": {},
   "outputs": [
    {
     "data": {
      "text/plain": [
       "array([0, 1, 1, 2, 0, 3, 1, 3, 1, 4])"
      ]
     },
     "execution_count": 57,
     "metadata": {},
     "output_type": "execute_result"
    }
   ],
   "source": [
    "district_cat_encoded, district_categories = district_cat.factorize()\n",
    "district_cat_encoded[:10]"
   ]
  },
  {
   "cell_type": "code",
   "execution_count": 58,
   "metadata": {},
   "outputs": [
    {
     "data": {
      "text/plain": [
       "Index(['Węglinek', 'Bronowice', 'Felin', 'Wrotków', 'Czuby', 'Śródmieście',\n",
       "       'LSM', 'Czechów'],\n",
       "      dtype='object')"
      ]
     },
     "execution_count": 58,
     "metadata": {},
     "output_type": "execute_result"
    }
   ],
   "source": [
    "district_categories"
   ]
  },
  {
   "cell_type": "code",
   "execution_count": 59,
   "metadata": {},
   "outputs": [
    {
     "data": {
      "text/plain": [
       "<1188x8 sparse matrix of type '<class 'numpy.float64'>'\n",
       "\twith 1188 stored elements in Compressed Sparse Row format>"
      ]
     },
     "execution_count": 59,
     "metadata": {},
     "output_type": "execute_result"
    }
   ],
   "source": [
    "encoder2 = OneHotEncoder(categories='auto')\n",
    "district_cat_1hot = encoder2.fit_transform(district_cat_encoded.reshape(-1,1))\n",
    "district_cat_1hot"
   ]
  },
  {
   "cell_type": "code",
   "execution_count": 60,
   "metadata": {},
   "outputs": [
    {
     "data": {
      "text/plain": [
       "array([[1., 0., 0., ..., 0., 0., 0.],\n",
       "       [0., 1., 0., ..., 0., 0., 0.],\n",
       "       [0., 1., 0., ..., 0., 0., 0.],\n",
       "       ...,\n",
       "       [0., 1., 0., ..., 0., 0., 0.],\n",
       "       [0., 0., 0., ..., 0., 0., 0.],\n",
       "       [0., 0., 0., ..., 0., 0., 0.]])"
      ]
     },
     "execution_count": 60,
     "metadata": {},
     "output_type": "execute_result"
    }
   ],
   "source": [
    "district_cat_1hot.toarray()"
   ]
  },
  {
   "cell_type": "code",
   "execution_count": 61,
   "metadata": {},
   "outputs": [],
   "source": [
    "from sklearn.base import BaseEstimator, TransformerMixin\n",
    "from sklearn.utils import check_array\n",
    "from sklearn.preprocessing import LabelEncoder\n",
    "from scipy import sparse\n",
    "\n",
    "class CategoricalEncoder(BaseEstimator, TransformerMixin):\n",
    "  \n",
    "\n",
    "    def __init__(self, encoding='onehot', categories='auto', dtype=np.float64,\n",
    "                 handle_unknown='error'):\n",
    "        self.encoding = encoding\n",
    "        self.categories = categories\n",
    "        self.dtype = dtype\n",
    "        self.handle_unknown = handle_unknown\n",
    "\n",
    "    def fit(self, X, y=None):\n",
    "\n",
    "        if self.encoding not in ['onehot', 'onehot-dense', 'ordinal']:\n",
    "            template = (\"Należy wybrać jedno z następujących kodowań: 'onehot', 'onehot-dense' \"\n",
    "                        \"lub 'ordinal', wybrano %s\")\n",
    "            raise ValueError(template % self.handle_unknown)\n",
    "\n",
    "        if self.handle_unknown not in ['error', 'ignore']:\n",
    "            template = (\"Należy wybrać jedną z następujących wartości parametru handle_unknown: 'error' lub \"\n",
    "                        \"'ignore', wybrano %s\")\n",
    "            raise ValueError(template % self.handle_unknown)\n",
    "\n",
    "        if self.encoding == 'ordinal' and self.handle_unknown == 'ignore':\n",
    "            raise ValueError(\"Wartość handle_unknown='ignore' nie jest obsługiwana przez parametr\"\n",
    "                             \" encoding='ordinal'\")\n",
    "\n",
    "        X = check_array(X, dtype=np.object, accept_sparse='csc', copy=True)\n",
    "        n_samples, n_features = X.shape\n",
    "\n",
    "        self._label_encoders_ = [LabelEncoder() for _ in range(n_features)]\n",
    "\n",
    "        for i in range(n_features):\n",
    "            le = self._label_encoders_[i]\n",
    "            Xi = X[:, i]\n",
    "            if self.categories == 'auto':\n",
    "                le.fit(Xi)\n",
    "            else:\n",
    "                valid_mask = np.in1d(Xi, self.categories[i])\n",
    "                if not np.all(valid_mask):\n",
    "                    if self.handle_unknown == 'error':\n",
    "                        diff = np.unique(Xi[~valid_mask])\n",
    "                        msg = (\"Znaleziono nieznane kategorie {0} w kolumnie {1}\"\n",
    "                               \" podczas dopasowywania\".format(diff, i))\n",
    "                        raise ValueError(msg)\n",
    "                le.classes_ = np.array(np.sort(self.categories[i]))\n",
    "\n",
    "        self.categories_ = [le.classes_ for le in self._label_encoders_]\n",
    "\n",
    "        return self\n",
    "\n",
    "    def transform(self, X):\n",
    "\n",
    "        X = check_array(X, accept_sparse='csc', dtype=np.object, copy=True)\n",
    "        n_samples, n_features = X.shape\n",
    "        X_int = np.zeros_like(X, dtype=np.int)\n",
    "        X_mask = np.ones_like(X, dtype=np.bool)\n",
    "\n",
    "        for i in range(n_features):\n",
    "            valid_mask = np.in1d(X[:, i], self.categories_[i])\n",
    "\n",
    "            if not np.all(valid_mask):\n",
    "                if self.handle_unknown == 'error':\n",
    "                    diff = np.unique(X[~valid_mask, i])\n",
    "                    msg = (\"Znaleziono nieznane kategorie {0} w kolumnie {1}\"\n",
    "                           \" podczas przekształcania\".format(diff, i))\n",
    "                    raise ValueError(msg)\n",
    "                else:\n",
    "                    X_mask[:, i] = valid_mask\n",
    "                    X[:, i][~valid_mask] = self.categories_[i][0]\n",
    "            X_int[:, i] = self._label_encoders_[i].transform(X[:, i])\n",
    "\n",
    "        if self.encoding == 'ordinal':\n",
    "            return X_int.astype(self.dtype, copy=False)\n",
    "\n",
    "        mask = X_mask.ravel()\n",
    "        n_values = [cats.shape[0] for cats in self.categories_]\n",
    "        n_values = np.array([0] + n_values)\n",
    "        indices = np.cumsum(n_values)\n",
    "\n",
    "        column_indices = (X_int + indices[:-1]).ravel()[mask]\n",
    "        row_indices = np.repeat(np.arange(n_samples, dtype=np.int32),\n",
    "                                n_features)[mask]\n",
    "        data = np.ones(n_samples * n_features)[mask]\n",
    "\n",
    "        out = sparse.csc_matrix((data, (row_indices, column_indices)),\n",
    "                                shape=(n_samples, indices[-1]),\n",
    "                                dtype=self.dtype).tocsr()\n",
    "        if self.encoding == 'onehot-dense':\n",
    "            return out.toarray()\n",
    "        else:\n",
    "            return out"
   ]
  },
  {
   "cell_type": "code",
   "execution_count": 62,
   "metadata": {},
   "outputs": [],
   "source": [
    "# encoder1 = CategoricalEncoder()\n",
    "# dealer_cat_reshaped = dealer_cat.values.reshape(-1, 1)\n",
    "# housing_cat_1hot = encoder1.fit_transform(dealer_cat_reshaped)\n",
    "# housing_cat_1hot"
   ]
  },
  {
   "cell_type": "code",
   "execution_count": 65,
   "metadata": {},
   "outputs": [
    {
     "data": {
      "text/plain": [
       "<1188x8 sparse matrix of type '<class 'numpy.float64'>'\n",
       "\twith 1188 stored elements in Compressed Sparse Row format>"
      ]
     },
     "execution_count": 65,
     "metadata": {},
     "output_type": "execute_result"
    }
   ],
   "source": [
    "encoder2 = CategoricalEncoder()\n",
    "district_cat_reshaped = district_cat.values.reshape(-1, 1)\n",
    "district_cat_1hot = encoder2.fit_transform(district_cat_reshaped)\n",
    "district_cat_1hot"
   ]
  },
  {
   "cell_type": "code",
   "execution_count": 66,
   "metadata": {
    "scrolled": true
   },
   "outputs": [
    {
     "data": {
      "text/html": [
       "<div>\n",
       "<style scoped>\n",
       "    .dataframe tbody tr th:only-of-type {\n",
       "        vertical-align: middle;\n",
       "    }\n",
       "\n",
       "    .dataframe tbody tr th {\n",
       "        vertical-align: top;\n",
       "    }\n",
       "\n",
       "    .dataframe thead th {\n",
       "        text-align: right;\n",
       "    }\n",
       "</style>\n",
       "<table border=\"1\" class=\"dataframe\">\n",
       "  <thead>\n",
       "    <tr style=\"text-align: right;\">\n",
       "      <th></th>\n",
       "      <th>rooms</th>\n",
       "      <th>meters_cat</th>\n",
       "    </tr>\n",
       "  </thead>\n",
       "  <tbody>\n",
       "    <tr>\n",
       "      <td>2326</td>\n",
       "      <td>3.0</td>\n",
       "      <td>42.0</td>\n",
       "    </tr>\n",
       "    <tr>\n",
       "      <td>2599</td>\n",
       "      <td>2.0</td>\n",
       "      <td>35.0</td>\n",
       "    </tr>\n",
       "    <tr>\n",
       "      <td>1792</td>\n",
       "      <td>3.0</td>\n",
       "      <td>42.0</td>\n",
       "    </tr>\n",
       "    <tr>\n",
       "      <td>779</td>\n",
       "      <td>4.0</td>\n",
       "      <td>52.0</td>\n",
       "    </tr>\n",
       "    <tr>\n",
       "      <td>1177</td>\n",
       "      <td>2.0</td>\n",
       "      <td>28.0</td>\n",
       "    </tr>\n",
       "    <tr>\n",
       "      <td>...</td>\n",
       "      <td>...</td>\n",
       "      <td>...</td>\n",
       "    </tr>\n",
       "    <tr>\n",
       "      <td>2133</td>\n",
       "      <td>2.0</td>\n",
       "      <td>33.0</td>\n",
       "    </tr>\n",
       "    <tr>\n",
       "      <td>2466</td>\n",
       "      <td>3.0</td>\n",
       "      <td>34.0</td>\n",
       "    </tr>\n",
       "    <tr>\n",
       "      <td>1603</td>\n",
       "      <td>2.0</td>\n",
       "      <td>26.0</td>\n",
       "    </tr>\n",
       "    <tr>\n",
       "      <td>2762</td>\n",
       "      <td>3.0</td>\n",
       "      <td>42.0</td>\n",
       "    </tr>\n",
       "    <tr>\n",
       "      <td>2126</td>\n",
       "      <td>4.0</td>\n",
       "      <td>46.0</td>\n",
       "    </tr>\n",
       "  </tbody>\n",
       "</table>\n",
       "<p>1188 rows × 2 columns</p>\n",
       "</div>"
      ],
      "text/plain": [
       "      rooms  meters_cat\n",
       "2326    3.0        42.0\n",
       "2599    2.0        35.0\n",
       "1792    3.0        42.0\n",
       "779     4.0        52.0\n",
       "1177    2.0        28.0\n",
       "...     ...         ...\n",
       "2133    2.0        33.0\n",
       "2466    3.0        34.0\n",
       "1603    2.0        26.0\n",
       "2762    3.0        42.0\n",
       "2126    4.0        46.0\n",
       "\n",
       "[1188 rows x 2 columns]"
      ]
     },
     "execution_count": 66,
     "metadata": {},
     "output_type": "execute_result"
    }
   ],
   "source": [
    "df_num"
   ]
  },
  {
   "cell_type": "code",
   "execution_count": 67,
   "metadata": {},
   "outputs": [],
   "source": [
    "from sklearn.pipeline import Pipeline\n",
    "from sklearn.preprocessing import StandardScaler\n",
    "\n",
    "num_pipeline = Pipeline([\n",
    "        ('std_scaler', StandardScaler()),\n",
    "    ])\n",
    "\n",
    "df_num_tr = num_pipeline.fit_transform(df_num)"
   ]
  },
  {
   "cell_type": "code",
   "execution_count": 68,
   "metadata": {},
   "outputs": [
    {
     "data": {
      "text/plain": [
       "array([[ 0.53588634,  0.67849811],\n",
       "       [-0.75545844, -0.1470162 ],\n",
       "       [ 0.53588634,  0.67849811],\n",
       "       ...,\n",
       "       [-0.75545844, -1.20839173],\n",
       "       [ 0.53588634,  0.67849811],\n",
       "       [ 1.82723112,  1.15022057]])"
      ]
     },
     "execution_count": 68,
     "metadata": {},
     "output_type": "execute_result"
    }
   ],
   "source": [
    "df_num_tr"
   ]
  },
  {
   "cell_type": "code",
   "execution_count": 69,
   "metadata": {},
   "outputs": [],
   "source": [
    "from sklearn.base import BaseEstimator, TransformerMixin\n",
    "\n",
    "class DataFrameSelector(BaseEstimator, TransformerMixin):\n",
    "    def __init__(self, attribute_names):\n",
    "        self.attribute_names = attribute_names\n",
    "    def fit(self, X, y=None):\n",
    "        return self\n",
    "    def transform(self, X):\n",
    "        return X[self.attribute_names].values"
   ]
  },
  {
   "cell_type": "code",
   "execution_count": 75,
   "metadata": {},
   "outputs": [],
   "source": [
    "num_attribs = list(df_num)\n",
    "cat_attribs = [\"district\"]\n",
    "\n",
    "num_pipeline = Pipeline([\n",
    "        ('selector', DataFrameSelector(num_attribs)),\n",
    "        ('std_scaler', StandardScaler()),\n",
    "    ])\n",
    "\n",
    "cat_pipeline = Pipeline([\n",
    "        ('selector', DataFrameSelector(cat_attribs)),\n",
    "        ('encoder2', CategoricalEncoder(encoding=\"onehot-dense\"))\n",
    "    ])"
   ]
  },
  {
   "cell_type": "code",
   "execution_count": 76,
   "metadata": {},
   "outputs": [],
   "source": [
    "from sklearn.pipeline import FeatureUnion\n",
    "\n",
    "full_pipeline = FeatureUnion(transformer_list=[\n",
    "        (\"num_pipeline\", num_pipeline),\n",
    "        (\"cat_pipeline\", cat_pipeline),\n",
    "    ])"
   ]
  },
  {
   "cell_type": "code",
   "execution_count": 77,
   "metadata": {},
   "outputs": [
    {
     "data": {
      "text/plain": [
       "array([[ 0.53588634,  0.67849811,  0.        , ...,  0.        ,\n",
       "         1.        ,  0.        ],\n",
       "       [-0.75545844, -0.1470162 ,  1.        , ...,  0.        ,\n",
       "         0.        ,  0.        ],\n",
       "       [ 0.53588634,  0.67849811,  1.        , ...,  0.        ,\n",
       "         0.        ,  0.        ],\n",
       "       ...,\n",
       "       [-0.75545844, -1.20839173,  1.        , ...,  0.        ,\n",
       "         0.        ,  0.        ],\n",
       "       [ 0.53588634,  0.67849811,  0.        , ...,  1.        ,\n",
       "         0.        ,  0.        ],\n",
       "       [ 1.82723112,  1.15022057,  0.        , ...,  1.        ,\n",
       "         0.        ,  0.        ]])"
      ]
     },
     "execution_count": 77,
     "metadata": {},
     "output_type": "execute_result"
    }
   ],
   "source": [
    "df_prepared = full_pipeline.fit_transform(df)\n",
    "df_prepared"
   ]
  },
  {
   "cell_type": "code",
   "execution_count": 78,
   "metadata": {},
   "outputs": [
    {
     "data": {
      "text/plain": [
       "(1188, 10)"
      ]
     },
     "execution_count": 78,
     "metadata": {},
     "output_type": "execute_result"
    }
   ],
   "source": [
    "df_prepared.shape"
   ]
  },
  {
   "cell_type": "markdown",
   "metadata": {},
   "source": [
    "# Uczenie modelu"
   ]
  },
  {
   "cell_type": "code",
   "execution_count": 79,
   "metadata": {},
   "outputs": [
    {
     "data": {
      "text/plain": [
       "LinearRegression(copy_X=True, fit_intercept=True, n_jobs=None, normalize=False)"
      ]
     },
     "execution_count": 79,
     "metadata": {},
     "output_type": "execute_result"
    }
   ],
   "source": [
    "from sklearn.linear_model import LinearRegression\n",
    "\n",
    "lin_reg = LinearRegression()\n",
    "lin_reg.fit(df_prepared, df_labels)"
   ]
  },
  {
   "cell_type": "code",
   "execution_count": 80,
   "metadata": {},
   "outputs": [
    {
     "name": "stdout",
     "output_type": "stream",
     "text": [
      "Prognozy: [5845.39573874 5602.57179117 5317.93139648 4772.50785349 6309.17216521]\n"
     ]
    }
   ],
   "source": [
    "# Przetestujmy pełen potok na kilku próbkach uczących\n",
    "some_data = df.iloc[:5]\n",
    "some_labels = df_labels.iloc[:5]\n",
    "some_data_prepared = full_pipeline.transform(some_data)\n",
    "\n",
    "print(\"Prognozy:\", lin_reg.predict(some_data_prepared))"
   ]
  },
  {
   "cell_type": "markdown",
   "metadata": {},
   "source": [
    "### Porównanie wyników z rzeczywistymi wartościami"
   ]
  },
  {
   "cell_type": "code",
   "execution_count": 81,
   "metadata": {},
   "outputs": [
    {
     "name": "stdout",
     "output_type": "stream",
     "text": [
      "Etykiety: [6100.0, 5534.0, 5450.0, 4900.0, 6050.0]\n"
     ]
    }
   ],
   "source": [
    "print(\"Etykiety:\", list(some_labels))"
   ]
  },
  {
   "cell_type": "code",
   "execution_count": 82,
   "metadata": {},
   "outputs": [
    {
     "data": {
      "text/plain": [
       "array([[ 0.53588634,  0.67849811,  0.        ,  0.        ,  0.        ,\n",
       "         0.        ,  0.        ,  0.        ,  1.        ,  0.        ],\n",
       "       [-0.75545844, -0.1470162 ,  1.        ,  0.        ,  0.        ,\n",
       "         0.        ,  0.        ,  0.        ,  0.        ,  0.        ],\n",
       "       [ 0.53588634,  0.67849811,  1.        ,  0.        ,  0.        ,\n",
       "         0.        ,  0.        ,  0.        ,  0.        ,  0.        ],\n",
       "       [ 1.82723112,  1.85780426,  0.        ,  0.        ,  0.        ,\n",
       "         1.        ,  0.        ,  0.        ,  0.        ,  0.        ],\n",
       "       [-0.75545844, -0.9725305 ,  0.        ,  0.        ,  0.        ,\n",
       "         0.        ,  0.        ,  0.        ,  1.        ,  0.        ]])"
      ]
     },
     "execution_count": 82,
     "metadata": {},
     "output_type": "execute_result"
    }
   ],
   "source": [
    "some_data_prepared"
   ]
  },
  {
   "cell_type": "code",
   "execution_count": 83,
   "metadata": {},
   "outputs": [
    {
     "data": {
      "text/plain": [
       "816.4553528353712"
      ]
     },
     "execution_count": 83,
     "metadata": {},
     "output_type": "execute_result"
    }
   ],
   "source": [
    "from sklearn.metrics import mean_squared_error\n",
    "\n",
    "df_predictions = lin_reg.predict(df_prepared)\n",
    "lin_mse = mean_squared_error(df_labels, df_predictions)\n",
    "lin_rmse = np.sqrt(lin_mse)\n",
    "lin_rmse"
   ]
  },
  {
   "cell_type": "code",
   "execution_count": 84,
   "metadata": {},
   "outputs": [
    {
     "data": {
      "text/plain": [
       "528.0607587499796"
      ]
     },
     "execution_count": 84,
     "metadata": {},
     "output_type": "execute_result"
    }
   ],
   "source": [
    "from sklearn.metrics import mean_absolute_error\n",
    "\n",
    "lin_mae = mean_absolute_error(df_labels, df_predictions)\n",
    "lin_mae"
   ]
  },
  {
   "cell_type": "code",
   "execution_count": 85,
   "metadata": {},
   "outputs": [
    {
     "data": {
      "text/plain": [
       "DecisionTreeRegressor(criterion='mse', max_depth=None, max_features=None,\n",
       "                      max_leaf_nodes=None, min_impurity_decrease=0.0,\n",
       "                      min_impurity_split=None, min_samples_leaf=1,\n",
       "                      min_samples_split=2, min_weight_fraction_leaf=0.0,\n",
       "                      presort=False, random_state=42, splitter='best')"
      ]
     },
     "execution_count": 85,
     "metadata": {},
     "output_type": "execute_result"
    }
   ],
   "source": [
    "from sklearn.tree import DecisionTreeRegressor\n",
    "\n",
    "tree_reg = DecisionTreeRegressor(random_state=42)\n",
    "tree_reg.fit(df_prepared, df_labels)"
   ]
  },
  {
   "cell_type": "code",
   "execution_count": 86,
   "metadata": {},
   "outputs": [
    {
     "data": {
      "text/plain": [
       "DecisionTreeRegressor(criterion='mse', max_depth=None, max_features=None,\n",
       "                      max_leaf_nodes=None, min_impurity_decrease=0.0,\n",
       "                      min_impurity_split=1e-07, min_samples_leaf=1,\n",
       "                      min_samples_split=2, min_weight_fraction_leaf=0.0,\n",
       "                      presort=False, random_state=42, splitter='best')"
      ]
     },
     "execution_count": 86,
     "metadata": {},
     "output_type": "execute_result"
    }
   ],
   "source": [
    "DecisionTreeRegressor(criterion='mse', max_depth=None, max_features=None,\n",
    "           max_leaf_nodes=None, min_impurity_split=1e-07,\n",
    "           min_samples_leaf=1, min_samples_split=2,\n",
    "           min_weight_fraction_leaf=0.0, presort=False, random_state=42,\n",
    "           splitter='best')"
   ]
  },
  {
   "cell_type": "code",
   "execution_count": 87,
   "metadata": {},
   "outputs": [
    {
     "data": {
      "text/plain": [
       "494.4244246468303"
      ]
     },
     "execution_count": 87,
     "metadata": {},
     "output_type": "execute_result"
    }
   ],
   "source": [
    "df_predictions = tree_reg.predict(df_prepared)\n",
    "tree_mse = mean_squared_error(df_labels, df_predictions)\n",
    "tree_rmse = np.sqrt(tree_mse)\n",
    "tree_rmse"
   ]
  },
  {
   "cell_type": "code",
   "execution_count": 88,
   "metadata": {},
   "outputs": [
    {
     "data": {
      "text/plain": [
       "264.84142013707736"
      ]
     },
     "execution_count": 88,
     "metadata": {},
     "output_type": "execute_result"
    }
   ],
   "source": [
    "tre_mae = mean_absolute_error(df_labels, df_predictions)\n",
    "tre_mae"
   ]
  },
  {
   "cell_type": "markdown",
   "metadata": {},
   "source": [
    "# Regulowanie modelu"
   ]
  },
  {
   "cell_type": "markdown",
   "metadata": {},
   "source": [
    "### Sprawdzian krzyżowy"
   ]
  },
  {
   "cell_type": "code",
   "execution_count": 89,
   "metadata": {},
   "outputs": [],
   "source": [
    "from sklearn.model_selection import cross_val_score\n",
    "\n",
    "scores = cross_val_score(tree_reg, df_prepared, df_labels,\n",
    "                         scoring=\"neg_mean_squared_error\", cv=10)\n",
    "tree_rmse_scores = np.sqrt(-scores)"
   ]
  },
  {
   "cell_type": "code",
   "execution_count": 90,
   "metadata": {},
   "outputs": [
    {
     "name": "stdout",
     "output_type": "stream",
     "text": [
      "Wyniki: [ 791.61276786 1003.14885227  950.19040916  858.68231743  689.1428367\n",
      "  693.64244988  816.89215707  763.5857323   707.73506421  729.12879746]\n",
      "Średnia: 800.3761384332954\n",
      "Odchylenie standardowe: 102.9986840380911\n"
     ]
    }
   ],
   "source": [
    "def display_scores(scores):\n",
    "    print(\"Wyniki:\", scores)\n",
    "    print(\"Średnia:\", scores.mean())\n",
    "    print(\"Odchylenie standardowe:\", scores.std())\n",
    "\n",
    "display_scores(tree_rmse_scores)"
   ]
  },
  {
   "cell_type": "code",
   "execution_count": 91,
   "metadata": {},
   "outputs": [
    {
     "name": "stdout",
     "output_type": "stream",
     "text": [
      "Wyniki: [820.27912855 925.35079897 861.95109377 949.23982996 765.82647291\n",
      " 687.55360921 958.72392917 749.84991401 827.32301823 669.49926587]\n",
      "Średnia: 821.5597060667076\n",
      "Odchylenie standardowe: 98.42949150086984\n"
     ]
    }
   ],
   "source": [
    "lin_scores = cross_val_score(lin_reg, df_prepared, df_labels,\n",
    "                             scoring=\"neg_mean_squared_error\", cv=10)\n",
    "lin_rmse_scores = np.sqrt(-lin_scores)\n",
    "display_scores(lin_rmse_scores)"
   ]
  },
  {
   "cell_type": "code",
   "execution_count": 92,
   "metadata": {},
   "outputs": [
    {
     "name": "stderr",
     "output_type": "stream",
     "text": [
      "/home/adsum/.local/lib/python3.6/site-packages/sklearn/ensemble/forest.py:245: FutureWarning: The default value of n_estimators will change from 10 in version 0.20 to 100 in 0.22.\n",
      "  \"10 in version 0.20 to 100 in 0.22.\", FutureWarning)\n"
     ]
    },
    {
     "data": {
      "text/plain": [
       "RandomForestRegressor(bootstrap=True, criterion='mse', max_depth=None,\n",
       "                      max_features='auto', max_leaf_nodes=None,\n",
       "                      min_impurity_decrease=0.0, min_impurity_split=None,\n",
       "                      min_samples_leaf=1, min_samples_split=2,\n",
       "                      min_weight_fraction_leaf=0.0, n_estimators=10,\n",
       "                      n_jobs=None, oob_score=False, random_state=42, verbose=0,\n",
       "                      warm_start=False)"
      ]
     },
     "execution_count": 92,
     "metadata": {},
     "output_type": "execute_result"
    }
   ],
   "source": [
    "from sklearn.ensemble import RandomForestRegressor\n",
    "\n",
    "forest_reg = RandomForestRegressor(random_state=42)\n",
    "forest_reg.fit(df_prepared, df_labels)"
   ]
  },
  {
   "cell_type": "code",
   "execution_count": 93,
   "metadata": {},
   "outputs": [
    {
     "data": {
      "text/plain": [
       "531.5559532230435"
      ]
     },
     "execution_count": 93,
     "metadata": {},
     "output_type": "execute_result"
    }
   ],
   "source": [
    "df_predictions = forest_reg.predict(df_prepared)\n",
    "forest_mse = mean_squared_error(df_labels, df_predictions)\n",
    "forest_rmse = np.sqrt(forest_mse)\n",
    "forest_rmse"
   ]
  },
  {
   "cell_type": "code",
   "execution_count": 94,
   "metadata": {},
   "outputs": [
    {
     "name": "stdout",
     "output_type": "stream",
     "text": [
      "Wyniki: [741.26756037 975.32921901 859.62592304 837.9043327  569.47789053\n",
      " 566.14067915 852.98741942 658.58119729 704.41332285 745.68198974]\n",
      "Średnia: 751.1409534091615\n",
      "Odchylenie standardowe: 125.71180838223492\n"
     ]
    }
   ],
   "source": [
    "from sklearn.model_selection import cross_val_score\n",
    "\n",
    "forest_scores = cross_val_score(forest_reg, df_prepared, df_labels,\n",
    "                                scoring=\"neg_mean_squared_error\", cv=10)\n",
    "forest_rmse_scores = np.sqrt(-forest_scores)\n",
    "display_scores(forest_rmse_scores)"
   ]
  },
  {
   "cell_type": "code",
   "execution_count": 95,
   "metadata": {
    "scrolled": true
   },
   "outputs": [
    {
     "data": {
      "text/plain": [
       "count     10.000000\n",
       "mean     821.559706\n",
       "std      103.753794\n",
       "min      669.499266\n",
       "25%      753.844054\n",
       "50%      823.801073\n",
       "75%      909.500873\n",
       "max      958.723929\n",
       "dtype: float64"
      ]
     },
     "execution_count": 95,
     "metadata": {},
     "output_type": "execute_result"
    }
   ],
   "source": [
    "scores = cross_val_score(lin_reg, df_prepared, df_labels, scoring=\"neg_mean_squared_error\", cv=10)\n",
    "pd.Series(np.sqrt(-scores)).describe()"
   ]
  },
  {
   "cell_type": "code",
   "execution_count": 96,
   "metadata": {},
   "outputs": [
    {
     "data": {
      "text/plain": [
       "1026.03728856283"
      ]
     },
     "execution_count": 96,
     "metadata": {},
     "output_type": "execute_result"
    }
   ],
   "source": [
    "from sklearn.svm import SVR\n",
    "\n",
    "svm_reg = SVR(kernel=\"linear\")\n",
    "svm_reg.fit(df_prepared, df_labels)\n",
    "df_predictions = svm_reg.predict(df_prepared)\n",
    "svm_mse = mean_squared_error(df_labels, df_predictions)\n",
    "svm_rmse = np.sqrt(svm_mse)\n",
    "svm_rmse"
   ]
  },
  {
   "cell_type": "markdown",
   "metadata": {},
   "source": [
    "### Metoda przeszukiwania siatki"
   ]
  },
  {
   "cell_type": "code",
   "execution_count": 98,
   "metadata": {},
   "outputs": [
    {
     "name": "stderr",
     "output_type": "stream",
     "text": [
      "/home/adsum/.local/lib/python3.6/site-packages/sklearn/model_selection/_search.py:814: DeprecationWarning: The default of the `iid` parameter will change from True to False in version 0.22 and will be removed in 0.24. This will change numeric results when test-set sizes are unequal.\n",
      "  DeprecationWarning)\n"
     ]
    },
    {
     "data": {
      "text/plain": [
       "GridSearchCV(cv=5, error_score='raise-deprecating',\n",
       "             estimator=RandomForestRegressor(bootstrap=True, criterion='mse',\n",
       "                                             max_depth=None,\n",
       "                                             max_features='auto',\n",
       "                                             max_leaf_nodes=None,\n",
       "                                             min_impurity_decrease=0.0,\n",
       "                                             min_impurity_split=None,\n",
       "                                             min_samples_leaf=1,\n",
       "                                             min_samples_split=2,\n",
       "                                             min_weight_fraction_leaf=0.0,\n",
       "                                             n_estimators='warn', n_jobs=None,\n",
       "                                             oob_score=False, random_state=42,\n",
       "                                             verbose=0, warm_start=False),\n",
       "             iid='warn', n_jobs=None,\n",
       "             param_grid=[{'max_features': [2, 3, 4, 6, 8, 9, 10],\n",
       "                          'n_estimators': [5, 15, 25, 40, 60]},\n",
       "                         {'bootstrap': [False], 'max_features': [2, 3, 4],\n",
       "                          'n_estimators': [3, 10]}],\n",
       "             pre_dispatch='2*n_jobs', refit=True, return_train_score=True,\n",
       "             scoring='neg_mean_squared_error', verbose=0)"
      ]
     },
     "execution_count": 98,
     "metadata": {},
     "output_type": "execute_result"
    }
   ],
   "source": [
    "from sklearn.model_selection import GridSearchCV\n",
    "\n",
    "param_grid = [\n",
    "    {'n_estimators': [5, 15, 25, 40, 60], 'max_features': [2, 3, 4, 6, 8, 9, 10]},\n",
    "    {'bootstrap': [False], 'n_estimators': [3, 10], 'max_features': [2, 3, 4]},\n",
    "  ]\n",
    "\n",
    "forest_reg = RandomForestRegressor(random_state=42)\n",
    "grid_search = GridSearchCV(forest_reg, param_grid, cv=5,\n",
    "                           scoring='neg_mean_squared_error', return_train_score=True)\n",
    "grid_search.fit(df_prepared, df_labels)"
   ]
  },
  {
   "cell_type": "code",
   "execution_count": 99,
   "metadata": {},
   "outputs": [
    {
     "data": {
      "text/plain": [
       "{'max_features': 6, 'n_estimators': 60}"
      ]
     },
     "execution_count": 99,
     "metadata": {},
     "output_type": "execute_result"
    }
   ],
   "source": [
    "grid_search.best_params_"
   ]
  },
  {
   "cell_type": "code",
   "execution_count": 100,
   "metadata": {},
   "outputs": [
    {
     "data": {
      "text/plain": [
       "RandomForestRegressor(bootstrap=True, criterion='mse', max_depth=None,\n",
       "                      max_features=6, max_leaf_nodes=None,\n",
       "                      min_impurity_decrease=0.0, min_impurity_split=None,\n",
       "                      min_samples_leaf=1, min_samples_split=2,\n",
       "                      min_weight_fraction_leaf=0.0, n_estimators=60,\n",
       "                      n_jobs=None, oob_score=False, random_state=42, verbose=0,\n",
       "                      warm_start=False)"
      ]
     },
     "execution_count": 100,
     "metadata": {},
     "output_type": "execute_result"
    }
   ],
   "source": [
    "grid_search.best_estimator_"
   ]
  },
  {
   "cell_type": "code",
   "execution_count": 101,
   "metadata": {},
   "outputs": [
    {
     "name": "stdout",
     "output_type": "stream",
     "text": [
      "787.233707405257 {'max_features': 2, 'n_estimators': 5}\n",
      "782.5029205418655 {'max_features': 2, 'n_estimators': 15}\n",
      "776.6943845846799 {'max_features': 2, 'n_estimators': 25}\n",
      "774.6909154717682 {'max_features': 2, 'n_estimators': 40}\n",
      "772.9628391486407 {'max_features': 2, 'n_estimators': 60}\n",
      "793.0278839230915 {'max_features': 3, 'n_estimators': 5}\n",
      "781.1733245691657 {'max_features': 3, 'n_estimators': 15}\n",
      "776.2956955642387 {'max_features': 3, 'n_estimators': 25}\n",
      "775.0843468111201 {'max_features': 3, 'n_estimators': 40}\n",
      "774.0570836702078 {'max_features': 3, 'n_estimators': 60}\n",
      "791.7320677627945 {'max_features': 4, 'n_estimators': 5}\n",
      "785.3884842521962 {'max_features': 4, 'n_estimators': 15}\n",
      "779.0289510790104 {'max_features': 4, 'n_estimators': 25}\n",
      "775.8342084337527 {'max_features': 4, 'n_estimators': 40}\n",
      "774.1179068623428 {'max_features': 4, 'n_estimators': 60}\n",
      "794.3023079363188 {'max_features': 6, 'n_estimators': 5}\n",
      "785.4242750731107 {'max_features': 6, 'n_estimators': 15}\n",
      "776.1301522777322 {'max_features': 6, 'n_estimators': 25}\n",
      "772.5484329992195 {'max_features': 6, 'n_estimators': 40}\n",
      "771.7921156161459 {'max_features': 6, 'n_estimators': 60}\n",
      "791.6965908855207 {'max_features': 8, 'n_estimators': 5}\n",
      "781.0240460211647 {'max_features': 8, 'n_estimators': 15}\n",
      "777.0909816914643 {'max_features': 8, 'n_estimators': 25}\n",
      "772.7445308018239 {'max_features': 8, 'n_estimators': 40}\n",
      "775.0893577759741 {'max_features': 8, 'n_estimators': 60}\n",
      "788.0008618204669 {'max_features': 9, 'n_estimators': 5}\n",
      "780.9774320650743 {'max_features': 9, 'n_estimators': 15}\n",
      "776.5123531066754 {'max_features': 9, 'n_estimators': 25}\n",
      "773.786713865446 {'max_features': 9, 'n_estimators': 40}\n",
      "773.7879836524395 {'max_features': 9, 'n_estimators': 60}\n",
      "785.5245593040861 {'max_features': 10, 'n_estimators': 5}\n",
      "782.496555367376 {'max_features': 10, 'n_estimators': 15}\n",
      "777.9968654581648 {'max_features': 10, 'n_estimators': 25}\n",
      "775.7021520769507 {'max_features': 10, 'n_estimators': 40}\n",
      "776.331556057258 {'max_features': 10, 'n_estimators': 60}\n",
      "795.6143413135164 {'bootstrap': False, 'max_features': 2, 'n_estimators': 3}\n",
      "797.2000891538552 {'bootstrap': False, 'max_features': 2, 'n_estimators': 10}\n",
      "804.085545940631 {'bootstrap': False, 'max_features': 3, 'n_estimators': 3}\n",
      "800.469635148155 {'bootstrap': False, 'max_features': 3, 'n_estimators': 10}\n",
      "796.2832348380377 {'bootstrap': False, 'max_features': 4, 'n_estimators': 3}\n",
      "795.9083045439125 {'bootstrap': False, 'max_features': 4, 'n_estimators': 10}\n"
     ]
    }
   ],
   "source": [
    "cvres = grid_search.cv_results_\n",
    "for mean_score, params in zip(cvres[\"mean_test_score\"], cvres[\"params\"]):\n",
    "    print(np.sqrt(-mean_score), params)"
   ]
  },
  {
   "cell_type": "code",
   "execution_count": 102,
   "metadata": {},
   "outputs": [
    {
     "data": {
      "text/html": [
       "<div>\n",
       "<style scoped>\n",
       "    .dataframe tbody tr th:only-of-type {\n",
       "        vertical-align: middle;\n",
       "    }\n",
       "\n",
       "    .dataframe tbody tr th {\n",
       "        vertical-align: top;\n",
       "    }\n",
       "\n",
       "    .dataframe thead th {\n",
       "        text-align: right;\n",
       "    }\n",
       "</style>\n",
       "<table border=\"1\" class=\"dataframe\">\n",
       "  <thead>\n",
       "    <tr style=\"text-align: right;\">\n",
       "      <th></th>\n",
       "      <th>mean_fit_time</th>\n",
       "      <th>std_fit_time</th>\n",
       "      <th>mean_score_time</th>\n",
       "      <th>std_score_time</th>\n",
       "      <th>param_max_features</th>\n",
       "      <th>param_n_estimators</th>\n",
       "      <th>param_bootstrap</th>\n",
       "      <th>params</th>\n",
       "      <th>split0_test_score</th>\n",
       "      <th>split1_test_score</th>\n",
       "      <th>...</th>\n",
       "      <th>mean_test_score</th>\n",
       "      <th>std_test_score</th>\n",
       "      <th>rank_test_score</th>\n",
       "      <th>split0_train_score</th>\n",
       "      <th>split1_train_score</th>\n",
       "      <th>split2_train_score</th>\n",
       "      <th>split3_train_score</th>\n",
       "      <th>split4_train_score</th>\n",
       "      <th>mean_train_score</th>\n",
       "      <th>std_train_score</th>\n",
       "    </tr>\n",
       "  </thead>\n",
       "  <tbody>\n",
       "    <tr>\n",
       "      <td>0</td>\n",
       "      <td>0.021290</td>\n",
       "      <td>0.000928</td>\n",
       "      <td>0.002926</td>\n",
       "      <td>0.000474</td>\n",
       "      <td>2</td>\n",
       "      <td>5</td>\n",
       "      <td>NaN</td>\n",
       "      <td>{'max_features': 2, 'n_estimators': 5}</td>\n",
       "      <td>-757685.953537</td>\n",
       "      <td>-743654.296283</td>\n",
       "      <td>...</td>\n",
       "      <td>-619736.910075</td>\n",
       "      <td>126270.371969</td>\n",
       "      <td>30</td>\n",
       "      <td>-272923.910734</td>\n",
       "      <td>-276636.056754</td>\n",
       "      <td>-312046.526506</td>\n",
       "      <td>-263124.885409</td>\n",
       "      <td>-291319.298109</td>\n",
       "      <td>-283210.135503</td>\n",
       "      <td>17027.848760</td>\n",
       "    </tr>\n",
       "    <tr>\n",
       "      <td>1</td>\n",
       "      <td>0.054851</td>\n",
       "      <td>0.003187</td>\n",
       "      <td>0.004220</td>\n",
       "      <td>0.000649</td>\n",
       "      <td>2</td>\n",
       "      <td>15</td>\n",
       "      <td>NaN</td>\n",
       "      <td>{'max_features': 2, 'n_estimators': 15}</td>\n",
       "      <td>-765465.194831</td>\n",
       "      <td>-783287.425189</td>\n",
       "      <td>...</td>\n",
       "      <td>-612310.820657</td>\n",
       "      <td>149852.540904</td>\n",
       "      <td>26</td>\n",
       "      <td>-256382.569749</td>\n",
       "      <td>-259178.102258</td>\n",
       "      <td>-300295.816628</td>\n",
       "      <td>-258458.586300</td>\n",
       "      <td>-285904.743627</td>\n",
       "      <td>-272043.963712</td>\n",
       "      <td>17808.203415</td>\n",
       "    </tr>\n",
       "    <tr>\n",
       "      <td>2</td>\n",
       "      <td>0.086484</td>\n",
       "      <td>0.000276</td>\n",
       "      <td>0.005573</td>\n",
       "      <td>0.000071</td>\n",
       "      <td>2</td>\n",
       "      <td>25</td>\n",
       "      <td>NaN</td>\n",
       "      <td>{'max_features': 2, 'n_estimators': 25}</td>\n",
       "      <td>-743953.542260</td>\n",
       "      <td>-786156.946723</td>\n",
       "      <td>...</td>\n",
       "      <td>-603254.167045</td>\n",
       "      <td>150545.219485</td>\n",
       "      <td>18</td>\n",
       "      <td>-253487.111276</td>\n",
       "      <td>-251878.530447</td>\n",
       "      <td>-289992.836632</td>\n",
       "      <td>-247723.561473</td>\n",
       "      <td>-272659.704975</td>\n",
       "      <td>-263148.348960</td>\n",
       "      <td>15933.391375</td>\n",
       "    </tr>\n",
       "    <tr>\n",
       "      <td>3</td>\n",
       "      <td>0.145107</td>\n",
       "      <td>0.011535</td>\n",
       "      <td>0.008448</td>\n",
       "      <td>0.000352</td>\n",
       "      <td>2</td>\n",
       "      <td>40</td>\n",
       "      <td>NaN</td>\n",
       "      <td>{'max_features': 2, 'n_estimators': 40}</td>\n",
       "      <td>-728687.658308</td>\n",
       "      <td>-779514.894636</td>\n",
       "      <td>...</td>\n",
       "      <td>-600146.014514</td>\n",
       "      <td>146073.372059</td>\n",
       "      <td>9</td>\n",
       "      <td>-251816.058662</td>\n",
       "      <td>-243398.493126</td>\n",
       "      <td>-282288.113615</td>\n",
       "      <td>-241509.910467</td>\n",
       "      <td>-268966.352359</td>\n",
       "      <td>-257595.785646</td>\n",
       "      <td>15701.748865</td>\n",
       "    </tr>\n",
       "    <tr>\n",
       "      <td>4</td>\n",
       "      <td>0.207785</td>\n",
       "      <td>0.001168</td>\n",
       "      <td>0.011535</td>\n",
       "      <td>0.000139</td>\n",
       "      <td>2</td>\n",
       "      <td>60</td>\n",
       "      <td>NaN</td>\n",
       "      <td>{'max_features': 2, 'n_estimators': 60}</td>\n",
       "      <td>-724763.804338</td>\n",
       "      <td>-777381.388038</td>\n",
       "      <td>...</td>\n",
       "      <td>-597471.550705</td>\n",
       "      <td>147181.065329</td>\n",
       "      <td>4</td>\n",
       "      <td>-251843.048607</td>\n",
       "      <td>-241633.938407</td>\n",
       "      <td>-280592.636546</td>\n",
       "      <td>-238670.699476</td>\n",
       "      <td>-264622.266437</td>\n",
       "      <td>-255472.517894</td>\n",
       "      <td>15503.023519</td>\n",
       "    </tr>\n",
       "    <tr>\n",
       "      <td>5</td>\n",
       "      <td>0.019657</td>\n",
       "      <td>0.000123</td>\n",
       "      <td>0.002297</td>\n",
       "      <td>0.000052</td>\n",
       "      <td>3</td>\n",
       "      <td>5</td>\n",
       "      <td>NaN</td>\n",
       "      <td>{'max_features': 3, 'n_estimators': 5}</td>\n",
       "      <td>-747218.376928</td>\n",
       "      <td>-733046.509210</td>\n",
       "      <td>...</td>\n",
       "      <td>-628893.224680</td>\n",
       "      <td>110961.286465</td>\n",
       "      <td>34</td>\n",
       "      <td>-270990.073748</td>\n",
       "      <td>-276051.850250</td>\n",
       "      <td>-314764.281423</td>\n",
       "      <td>-262278.912336</td>\n",
       "      <td>-298427.331206</td>\n",
       "      <td>-284502.489792</td>\n",
       "      <td>19274.663847</td>\n",
       "    </tr>\n",
       "    <tr>\n",
       "      <td>6</td>\n",
       "      <td>0.054067</td>\n",
       "      <td>0.000256</td>\n",
       "      <td>0.003869</td>\n",
       "      <td>0.000040</td>\n",
       "      <td>3</td>\n",
       "      <td>15</td>\n",
       "      <td>NaN</td>\n",
       "      <td>{'max_features': 3, 'n_estimators': 15}</td>\n",
       "      <td>-742859.368278</td>\n",
       "      <td>-777297.890178</td>\n",
       "      <td>...</td>\n",
       "      <td>-610231.763018</td>\n",
       "      <td>138734.219023</td>\n",
       "      <td>24</td>\n",
       "      <td>-254684.902333</td>\n",
       "      <td>-259603.813936</td>\n",
       "      <td>-299639.782820</td>\n",
       "      <td>-254993.884663</td>\n",
       "      <td>-284362.752982</td>\n",
       "      <td>-270657.027347</td>\n",
       "      <td>18168.452730</td>\n",
       "    </tr>\n",
       "    <tr>\n",
       "      <td>7</td>\n",
       "      <td>0.089669</td>\n",
       "      <td>0.002334</td>\n",
       "      <td>0.005689</td>\n",
       "      <td>0.000254</td>\n",
       "      <td>3</td>\n",
       "      <td>25</td>\n",
       "      <td>NaN</td>\n",
       "      <td>{'max_features': 3, 'n_estimators': 25}</td>\n",
       "      <td>-732688.028600</td>\n",
       "      <td>-783551.691938</td>\n",
       "      <td>...</td>\n",
       "      <td>-602635.006952</td>\n",
       "      <td>144715.020311</td>\n",
       "      <td>15</td>\n",
       "      <td>-254148.367962</td>\n",
       "      <td>-252010.230817</td>\n",
       "      <td>-289417.056437</td>\n",
       "      <td>-246027.699318</td>\n",
       "      <td>-271765.666431</td>\n",
       "      <td>-262673.804193</td>\n",
       "      <td>15883.017139</td>\n",
       "    </tr>\n",
       "    <tr>\n",
       "      <td>8</td>\n",
       "      <td>0.139959</td>\n",
       "      <td>0.000160</td>\n",
       "      <td>0.008047</td>\n",
       "      <td>0.000194</td>\n",
       "      <td>3</td>\n",
       "      <td>40</td>\n",
       "      <td>NaN</td>\n",
       "      <td>{'max_features': 3, 'n_estimators': 40}</td>\n",
       "      <td>-716416.578052</td>\n",
       "      <td>-779473.150931</td>\n",
       "      <td>...</td>\n",
       "      <td>-600755.744672</td>\n",
       "      <td>139741.405228</td>\n",
       "      <td>10</td>\n",
       "      <td>-252489.928648</td>\n",
       "      <td>-244409.456000</td>\n",
       "      <td>-282177.460997</td>\n",
       "      <td>-240325.040278</td>\n",
       "      <td>-268602.131719</td>\n",
       "      <td>-257600.803529</td>\n",
       "      <td>15643.695227</td>\n",
       "    </tr>\n",
       "    <tr>\n",
       "      <td>9</td>\n",
       "      <td>0.209185</td>\n",
       "      <td>0.001097</td>\n",
       "      <td>0.011317</td>\n",
       "      <td>0.000104</td>\n",
       "      <td>3</td>\n",
       "      <td>60</td>\n",
       "      <td>NaN</td>\n",
       "      <td>{'max_features': 3, 'n_estimators': 60}</td>\n",
       "      <td>-712326.535242</td>\n",
       "      <td>-782786.027362</td>\n",
       "      <td>...</td>\n",
       "      <td>-599164.368780</td>\n",
       "      <td>142427.000384</td>\n",
       "      <td>7</td>\n",
       "      <td>-251729.135674</td>\n",
       "      <td>-242429.440586</td>\n",
       "      <td>-280501.227327</td>\n",
       "      <td>-237678.739386</td>\n",
       "      <td>-264880.673504</td>\n",
       "      <td>-255443.843295</td>\n",
       "      <td>15592.940110</td>\n",
       "    </tr>\n",
       "    <tr>\n",
       "      <td>10</td>\n",
       "      <td>0.019749</td>\n",
       "      <td>0.000134</td>\n",
       "      <td>0.002224</td>\n",
       "      <td>0.000025</td>\n",
       "      <td>4</td>\n",
       "      <td>5</td>\n",
       "      <td>NaN</td>\n",
       "      <td>{'max_features': 4, 'n_estimators': 5}</td>\n",
       "      <td>-753704.107413</td>\n",
       "      <td>-716848.350340</td>\n",
       "      <td>...</td>\n",
       "      <td>-626839.667124</td>\n",
       "      <td>102844.730968</td>\n",
       "      <td>33</td>\n",
       "      <td>-275955.331450</td>\n",
       "      <td>-275222.836431</td>\n",
       "      <td>-312915.738160</td>\n",
       "      <td>-262707.658861</td>\n",
       "      <td>-296154.137486</td>\n",
       "      <td>-284591.140478</td>\n",
       "      <td>17760.714060</td>\n",
       "    </tr>\n",
       "    <tr>\n",
       "      <td>11</td>\n",
       "      <td>0.055205</td>\n",
       "      <td>0.000135</td>\n",
       "      <td>0.003889</td>\n",
       "      <td>0.000048</td>\n",
       "      <td>4</td>\n",
       "      <td>15</td>\n",
       "      <td>NaN</td>\n",
       "      <td>{'max_features': 4, 'n_estimators': 15}</td>\n",
       "      <td>-731391.138297</td>\n",
       "      <td>-792566.478303</td>\n",
       "      <td>...</td>\n",
       "      <td>-616835.071196</td>\n",
       "      <td>134257.837647</td>\n",
       "      <td>27</td>\n",
       "      <td>-255357.610328</td>\n",
       "      <td>-260839.795649</td>\n",
       "      <td>-300093.941721</td>\n",
       "      <td>-256014.718257</td>\n",
       "      <td>-284799.712160</td>\n",
       "      <td>-271421.155623</td>\n",
       "      <td>17935.860260</td>\n",
       "    </tr>\n",
       "    <tr>\n",
       "      <td>12</td>\n",
       "      <td>0.090194</td>\n",
       "      <td>0.000275</td>\n",
       "      <td>0.005557</td>\n",
       "      <td>0.000110</td>\n",
       "      <td>4</td>\n",
       "      <td>25</td>\n",
       "      <td>NaN</td>\n",
       "      <td>{'max_features': 4, 'n_estimators': 25}</td>\n",
       "      <td>-719057.114730</td>\n",
       "      <td>-791277.590491</td>\n",
       "      <td>...</td>\n",
       "      <td>-606886.106619</td>\n",
       "      <td>139493.276110</td>\n",
       "      <td>21</td>\n",
       "      <td>-253699.456623</td>\n",
       "      <td>-252099.103427</td>\n",
       "      <td>-288775.146989</td>\n",
       "      <td>-247490.639707</td>\n",
       "      <td>-272631.379063</td>\n",
       "      <td>-262939.145162</td>\n",
       "      <td>15511.112522</td>\n",
       "    </tr>\n",
       "    <tr>\n",
       "      <td>13</td>\n",
       "      <td>0.142923</td>\n",
       "      <td>0.000272</td>\n",
       "      <td>0.007958</td>\n",
       "      <td>0.000063</td>\n",
       "      <td>4</td>\n",
       "      <td>40</td>\n",
       "      <td>NaN</td>\n",
       "      <td>{'max_features': 4, 'n_estimators': 40}</td>\n",
       "      <td>-716104.563943</td>\n",
       "      <td>-784819.153647</td>\n",
       "      <td>...</td>\n",
       "      <td>-601918.718976</td>\n",
       "      <td>143566.168795</td>\n",
       "      <td>13</td>\n",
       "      <td>-252495.397200</td>\n",
       "      <td>-244564.077248</td>\n",
       "      <td>-281631.349513</td>\n",
       "      <td>-241576.732218</td>\n",
       "      <td>-268712.639561</td>\n",
       "      <td>-257796.039148</td>\n",
       "      <td>15189.086364</td>\n",
       "    </tr>\n",
       "    <tr>\n",
       "      <td>14</td>\n",
       "      <td>0.213345</td>\n",
       "      <td>0.000877</td>\n",
       "      <td>0.011296</td>\n",
       "      <td>0.000084</td>\n",
       "      <td>4</td>\n",
       "      <td>60</td>\n",
       "      <td>NaN</td>\n",
       "      <td>{'max_features': 4, 'n_estimators': 60}</td>\n",
       "      <td>-715810.899162</td>\n",
       "      <td>-780846.728556</td>\n",
       "      <td>...</td>\n",
       "      <td>-599258.533725</td>\n",
       "      <td>144209.283426</td>\n",
       "      <td>8</td>\n",
       "      <td>-252169.297593</td>\n",
       "      <td>-242084.421042</td>\n",
       "      <td>-279843.853509</td>\n",
       "      <td>-238953.390814</td>\n",
       "      <td>-264535.639936</td>\n",
       "      <td>-255517.320579</td>\n",
       "      <td>15093.880254</td>\n",
       "    </tr>\n",
       "    <tr>\n",
       "      <td>15</td>\n",
       "      <td>0.020655</td>\n",
       "      <td>0.000139</td>\n",
       "      <td>0.002227</td>\n",
       "      <td>0.000025</td>\n",
       "      <td>6</td>\n",
       "      <td>5</td>\n",
       "      <td>NaN</td>\n",
       "      <td>{'max_features': 6, 'n_estimators': 5}</td>\n",
       "      <td>-767506.640228</td>\n",
       "      <td>-720515.760363</td>\n",
       "      <td>...</td>\n",
       "      <td>-630916.156393</td>\n",
       "      <td>116678.775349</td>\n",
       "      <td>35</td>\n",
       "      <td>-272197.514998</td>\n",
       "      <td>-278151.630557</td>\n",
       "      <td>-312609.992031</td>\n",
       "      <td>-265633.624010</td>\n",
       "      <td>-299459.932669</td>\n",
       "      <td>-285610.538853</td>\n",
       "      <td>17637.447829</td>\n",
       "    </tr>\n",
       "    <tr>\n",
       "      <td>16</td>\n",
       "      <td>0.057630</td>\n",
       "      <td>0.000304</td>\n",
       "      <td>0.003844</td>\n",
       "      <td>0.000019</td>\n",
       "      <td>6</td>\n",
       "      <td>15</td>\n",
       "      <td>NaN</td>\n",
       "      <td>{'max_features': 6, 'n_estimators': 15}</td>\n",
       "      <td>-754253.425150</td>\n",
       "      <td>-768709.677108</td>\n",
       "      <td>...</td>\n",
       "      <td>-616891.291874</td>\n",
       "      <td>133918.421365</td>\n",
       "      <td>28</td>\n",
       "      <td>-254320.811935</td>\n",
       "      <td>-260110.714816</td>\n",
       "      <td>-301699.139900</td>\n",
       "      <td>-258856.401185</td>\n",
       "      <td>-285023.141574</td>\n",
       "      <td>-272002.041882</td>\n",
       "      <td>18321.048491</td>\n",
       "    </tr>\n",
       "    <tr>\n",
       "      <td>17</td>\n",
       "      <td>0.094440</td>\n",
       "      <td>0.000522</td>\n",
       "      <td>0.005629</td>\n",
       "      <td>0.000199</td>\n",
       "      <td>6</td>\n",
       "      <td>25</td>\n",
       "      <td>NaN</td>\n",
       "      <td>{'max_features': 6, 'n_estimators': 25}</td>\n",
       "      <td>-726559.681612</td>\n",
       "      <td>-776789.335626</td>\n",
       "      <td>...</td>\n",
       "      <td>-602378.013275</td>\n",
       "      <td>139906.301191</td>\n",
       "      <td>14</td>\n",
       "      <td>-253536.949890</td>\n",
       "      <td>-252557.575735</td>\n",
       "      <td>-290249.875923</td>\n",
       "      <td>-247241.787377</td>\n",
       "      <td>-271763.973203</td>\n",
       "      <td>-263070.032425</td>\n",
       "      <td>15913.850875</td>\n",
       "    </tr>\n",
       "    <tr>\n",
       "      <td>18</td>\n",
       "      <td>0.149642</td>\n",
       "      <td>0.000643</td>\n",
       "      <td>0.008001</td>\n",
       "      <td>0.000094</td>\n",
       "      <td>6</td>\n",
       "      <td>40</td>\n",
       "      <td>NaN</td>\n",
       "      <td>{'max_features': 6, 'n_estimators': 40}</td>\n",
       "      <td>-717189.386039</td>\n",
       "      <td>-772706.336605</td>\n",
       "      <td>...</td>\n",
       "      <td>-596831.081330</td>\n",
       "      <td>142429.857237</td>\n",
       "      <td>2</td>\n",
       "      <td>-251888.708971</td>\n",
       "      <td>-243803.663665</td>\n",
       "      <td>-282983.892716</td>\n",
       "      <td>-241125.021711</td>\n",
       "      <td>-269129.101408</td>\n",
       "      <td>-257786.077694</td>\n",
       "      <td>15946.609140</td>\n",
       "    </tr>\n",
       "    <tr>\n",
       "      <td>19</td>\n",
       "      <td>0.223039</td>\n",
       "      <td>0.000814</td>\n",
       "      <td>0.011489</td>\n",
       "      <td>0.000100</td>\n",
       "      <td>6</td>\n",
       "      <td>60</td>\n",
       "      <td>NaN</td>\n",
       "      <td>{'max_features': 6, 'n_estimators': 60}</td>\n",
       "      <td>-712649.693377</td>\n",
       "      <td>-768959.789436</td>\n",
       "      <td>...</td>\n",
       "      <td>-595663.069727</td>\n",
       "      <td>140104.181258</td>\n",
       "      <td>1</td>\n",
       "      <td>-251894.676091</td>\n",
       "      <td>-241649.486330</td>\n",
       "      <td>-280773.262175</td>\n",
       "      <td>-238251.561383</td>\n",
       "      <td>-265276.496309</td>\n",
       "      <td>-255569.096457</td>\n",
       "      <td>15726.649443</td>\n",
       "    </tr>\n",
       "    <tr>\n",
       "      <td>20</td>\n",
       "      <td>0.022341</td>\n",
       "      <td>0.000874</td>\n",
       "      <td>0.002388</td>\n",
       "      <td>0.000145</td>\n",
       "      <td>8</td>\n",
       "      <td>5</td>\n",
       "      <td>NaN</td>\n",
       "      <td>{'max_features': 8, 'n_estimators': 5}</td>\n",
       "      <td>-751421.557812</td>\n",
       "      <td>-716601.300876</td>\n",
       "      <td>...</td>\n",
       "      <td>-626783.492020</td>\n",
       "      <td>108904.193190</td>\n",
       "      <td>32</td>\n",
       "      <td>-269112.484221</td>\n",
       "      <td>-271601.001280</td>\n",
       "      <td>-316569.856593</td>\n",
       "      <td>-260563.233315</td>\n",
       "      <td>-303390.707608</td>\n",
       "      <td>-284247.456604</td>\n",
       "      <td>21730.827201</td>\n",
       "    </tr>\n",
       "    <tr>\n",
       "      <td>21</td>\n",
       "      <td>0.060416</td>\n",
       "      <td>0.000262</td>\n",
       "      <td>0.003893</td>\n",
       "      <td>0.000037</td>\n",
       "      <td>8</td>\n",
       "      <td>15</td>\n",
       "      <td>NaN</td>\n",
       "      <td>{'max_features': 8, 'n_estimators': 15}</td>\n",
       "      <td>-743936.905130</td>\n",
       "      <td>-774347.841744</td>\n",
       "      <td>...</td>\n",
       "      <td>-609998.560463</td>\n",
       "      <td>138549.493275</td>\n",
       "      <td>23</td>\n",
       "      <td>-253853.680239</td>\n",
       "      <td>-257748.928653</td>\n",
       "      <td>-298808.935289</td>\n",
       "      <td>-255256.311915</td>\n",
       "      <td>-286845.510758</td>\n",
       "      <td>-270502.673371</td>\n",
       "      <td>18658.141986</td>\n",
       "    </tr>\n",
       "    <tr>\n",
       "      <td>22</td>\n",
       "      <td>0.099979</td>\n",
       "      <td>0.002640</td>\n",
       "      <td>0.005640</td>\n",
       "      <td>0.000261</td>\n",
       "      <td>8</td>\n",
       "      <td>25</td>\n",
       "      <td>NaN</td>\n",
       "      <td>{'max_features': 8, 'n_estimators': 25}</td>\n",
       "      <td>-726988.469217</td>\n",
       "      <td>-797957.326519</td>\n",
       "      <td>...</td>\n",
       "      <td>-603870.393826</td>\n",
       "      <td>146039.825200</td>\n",
       "      <td>19</td>\n",
       "      <td>-252922.880483</td>\n",
       "      <td>-251242.509455</td>\n",
       "      <td>-288828.471059</td>\n",
       "      <td>-247081.053503</td>\n",
       "      <td>-272051.201127</td>\n",
       "      <td>-262425.223125</td>\n",
       "      <td>15751.711628</td>\n",
       "    </tr>\n",
       "    <tr>\n",
       "      <td>23</td>\n",
       "      <td>0.161152</td>\n",
       "      <td>0.008130</td>\n",
       "      <td>0.008530</td>\n",
       "      <td>0.000687</td>\n",
       "      <td>8</td>\n",
       "      <td>40</td>\n",
       "      <td>NaN</td>\n",
       "      <td>{'max_features': 8, 'n_estimators': 40}</td>\n",
       "      <td>-721166.662464</td>\n",
       "      <td>-777615.437519</td>\n",
       "      <td>...</td>\n",
       "      <td>-597134.109884</td>\n",
       "      <td>143150.289320</td>\n",
       "      <td>3</td>\n",
       "      <td>-251310.753465</td>\n",
       "      <td>-243486.703546</td>\n",
       "      <td>-281448.753840</td>\n",
       "      <td>-240337.052644</td>\n",
       "      <td>-268875.966507</td>\n",
       "      <td>-257091.846001</td>\n",
       "      <td>15693.109878</td>\n",
       "    </tr>\n",
       "    <tr>\n",
       "      <td>24</td>\n",
       "      <td>0.233247</td>\n",
       "      <td>0.000536</td>\n",
       "      <td>0.011417</td>\n",
       "      <td>0.000169</td>\n",
       "      <td>8</td>\n",
       "      <td>60</td>\n",
       "      <td>NaN</td>\n",
       "      <td>{'max_features': 8, 'n_estimators': 60}</td>\n",
       "      <td>-720110.061985</td>\n",
       "      <td>-784692.865677</td>\n",
       "      <td>...</td>\n",
       "      <td>-600763.512538</td>\n",
       "      <td>142804.270149</td>\n",
       "      <td>11</td>\n",
       "      <td>-252473.351232</td>\n",
       "      <td>-241301.154987</td>\n",
       "      <td>-280273.559845</td>\n",
       "      <td>-237738.435330</td>\n",
       "      <td>-265059.064791</td>\n",
       "      <td>-255369.113237</td>\n",
       "      <td>15692.420542</td>\n",
       "    </tr>\n",
       "    <tr>\n",
       "      <td>25</td>\n",
       "      <td>0.025261</td>\n",
       "      <td>0.002337</td>\n",
       "      <td>0.002752</td>\n",
       "      <td>0.000352</td>\n",
       "      <td>9</td>\n",
       "      <td>5</td>\n",
       "      <td>NaN</td>\n",
       "      <td>{'max_features': 9, 'n_estimators': 5}</td>\n",
       "      <td>-741745.906060</td>\n",
       "      <td>-729902.935513</td>\n",
       "      <td>...</td>\n",
       "      <td>-620945.358230</td>\n",
       "      <td>115347.377433</td>\n",
       "      <td>31</td>\n",
       "      <td>-274026.330249</td>\n",
       "      <td>-272507.269727</td>\n",
       "      <td>-316660.400265</td>\n",
       "      <td>-259092.702094</td>\n",
       "      <td>-306160.770862</td>\n",
       "      <td>-285689.494639</td>\n",
       "      <td>21888.170213</td>\n",
       "    </tr>\n",
       "    <tr>\n",
       "      <td>26</td>\n",
       "      <td>0.062175</td>\n",
       "      <td>0.000553</td>\n",
       "      <td>0.003968</td>\n",
       "      <td>0.000140</td>\n",
       "      <td>9</td>\n",
       "      <td>15</td>\n",
       "      <td>NaN</td>\n",
       "      <td>{'max_features': 9, 'n_estimators': 15}</td>\n",
       "      <td>-740642.988110</td>\n",
       "      <td>-784064.256377</td>\n",
       "      <td>...</td>\n",
       "      <td>-609925.749395</td>\n",
       "      <td>141359.892852</td>\n",
       "      <td>22</td>\n",
       "      <td>-254056.608719</td>\n",
       "      <td>-257266.558878</td>\n",
       "      <td>-300566.753416</td>\n",
       "      <td>-258340.861345</td>\n",
       "      <td>-289102.057178</td>\n",
       "      <td>-271866.567907</td>\n",
       "      <td>19152.349133</td>\n",
       "    </tr>\n",
       "    <tr>\n",
       "      <td>27</td>\n",
       "      <td>0.100936</td>\n",
       "      <td>0.000486</td>\n",
       "      <td>0.005530</td>\n",
       "      <td>0.000077</td>\n",
       "      <td>9</td>\n",
       "      <td>25</td>\n",
       "      <td>NaN</td>\n",
       "      <td>{'max_features': 9, 'n_estimators': 25}</td>\n",
       "      <td>-725291.533813</td>\n",
       "      <td>-799878.744438</td>\n",
       "      <td>...</td>\n",
       "      <td>-602971.434527</td>\n",
       "      <td>147541.229664</td>\n",
       "      <td>17</td>\n",
       "      <td>-253024.673198</td>\n",
       "      <td>-250577.105033</td>\n",
       "      <td>-290543.000735</td>\n",
       "      <td>-247572.689829</td>\n",
       "      <td>-274417.397692</td>\n",
       "      <td>-263226.973297</td>\n",
       "      <td>16616.579903</td>\n",
       "    </tr>\n",
       "    <tr>\n",
       "      <td>28</td>\n",
       "      <td>0.160658</td>\n",
       "      <td>0.000837</td>\n",
       "      <td>0.008221</td>\n",
       "      <td>0.000370</td>\n",
       "      <td>9</td>\n",
       "      <td>40</td>\n",
       "      <td>NaN</td>\n",
       "      <td>{'max_features': 9, 'n_estimators': 40}</td>\n",
       "      <td>-714526.533716</td>\n",
       "      <td>-785506.653672</td>\n",
       "      <td>...</td>\n",
       "      <td>-598745.878555</td>\n",
       "      <td>144797.949414</td>\n",
       "      <td>5</td>\n",
       "      <td>-251870.524100</td>\n",
       "      <td>-243512.653789</td>\n",
       "      <td>-283163.379597</td>\n",
       "      <td>-241680.511731</td>\n",
       "      <td>-270318.553818</td>\n",
       "      <td>-258109.124607</td>\n",
       "      <td>16116.217127</td>\n",
       "    </tr>\n",
       "    <tr>\n",
       "      <td>29</td>\n",
       "      <td>0.240104</td>\n",
       "      <td>0.002332</td>\n",
       "      <td>0.011679</td>\n",
       "      <td>0.000416</td>\n",
       "      <td>9</td>\n",
       "      <td>60</td>\n",
       "      <td>NaN</td>\n",
       "      <td>{'max_features': 9, 'n_estimators': 60}</td>\n",
       "      <td>-710206.152623</td>\n",
       "      <td>-791862.080638</td>\n",
       "      <td>...</td>\n",
       "      <td>-598747.843645</td>\n",
       "      <td>144667.750104</td>\n",
       "      <td>6</td>\n",
       "      <td>-252290.918511</td>\n",
       "      <td>-241033.599637</td>\n",
       "      <td>-281379.319818</td>\n",
       "      <td>-238855.506846</td>\n",
       "      <td>-266504.637043</td>\n",
       "      <td>-256012.796371</td>\n",
       "      <td>16038.332369</td>\n",
       "    </tr>\n",
       "    <tr>\n",
       "      <td>30</td>\n",
       "      <td>0.022613</td>\n",
       "      <td>0.000335</td>\n",
       "      <td>0.002248</td>\n",
       "      <td>0.000028</td>\n",
       "      <td>10</td>\n",
       "      <td>5</td>\n",
       "      <td>NaN</td>\n",
       "      <td>{'max_features': 10, 'n_estimators': 5}</td>\n",
       "      <td>-747493.912412</td>\n",
       "      <td>-749976.542335</td>\n",
       "      <td>...</td>\n",
       "      <td>-617048.833270</td>\n",
       "      <td>121832.978614</td>\n",
       "      <td>29</td>\n",
       "      <td>-273094.023124</td>\n",
       "      <td>-271264.156976</td>\n",
       "      <td>-322320.580401</td>\n",
       "      <td>-265020.898143</td>\n",
       "      <td>-297515.043743</td>\n",
       "      <td>-285842.940478</td>\n",
       "      <td>21333.023593</td>\n",
       "    </tr>\n",
       "    <tr>\n",
       "      <td>31</td>\n",
       "      <td>0.063433</td>\n",
       "      <td>0.000554</td>\n",
       "      <td>0.003924</td>\n",
       "      <td>0.000031</td>\n",
       "      <td>10</td>\n",
       "      <td>15</td>\n",
       "      <td>NaN</td>\n",
       "      <td>{'max_features': 10, 'n_estimators': 15}</td>\n",
       "      <td>-758798.773050</td>\n",
       "      <td>-788372.632396</td>\n",
       "      <td>...</td>\n",
       "      <td>-612300.859162</td>\n",
       "      <td>146614.705812</td>\n",
       "      <td>25</td>\n",
       "      <td>-254287.509375</td>\n",
       "      <td>-257860.663925</td>\n",
       "      <td>-301556.241427</td>\n",
       "      <td>-259962.799663</td>\n",
       "      <td>-289367.771005</td>\n",
       "      <td>-272606.997079</td>\n",
       "      <td>19141.138892</td>\n",
       "    </tr>\n",
       "    <tr>\n",
       "      <td>32</td>\n",
       "      <td>0.103767</td>\n",
       "      <td>0.000598</td>\n",
       "      <td>0.005560</td>\n",
       "      <td>0.000054</td>\n",
       "      <td>10</td>\n",
       "      <td>25</td>\n",
       "      <td>NaN</td>\n",
       "      <td>{'max_features': 10, 'n_estimators': 25}</td>\n",
       "      <td>-733383.052100</td>\n",
       "      <td>-811831.686064</td>\n",
       "      <td>...</td>\n",
       "      <td>-605279.122663</td>\n",
       "      <td>151470.751560</td>\n",
       "      <td>20</td>\n",
       "      <td>-253050.504081</td>\n",
       "      <td>-250551.089103</td>\n",
       "      <td>-291503.183519</td>\n",
       "      <td>-249270.036833</td>\n",
       "      <td>-275083.375346</td>\n",
       "      <td>-263891.637777</td>\n",
       "      <td>16714.927945</td>\n",
       "    </tr>\n",
       "    <tr>\n",
       "      <td>33</td>\n",
       "      <td>0.164462</td>\n",
       "      <td>0.000607</td>\n",
       "      <td>0.007958</td>\n",
       "      <td>0.000103</td>\n",
       "      <td>10</td>\n",
       "      <td>40</td>\n",
       "      <td>NaN</td>\n",
       "      <td>{'max_features': 10, 'n_estimators': 40}</td>\n",
       "      <td>-723640.253341</td>\n",
       "      <td>-805666.821003</td>\n",
       "      <td>...</td>\n",
       "      <td>-601713.828737</td>\n",
       "      <td>151621.818749</td>\n",
       "      <td>12</td>\n",
       "      <td>-251289.635770</td>\n",
       "      <td>-243006.179888</td>\n",
       "      <td>-284269.154122</td>\n",
       "      <td>-242194.006791</td>\n",
       "      <td>-270811.364542</td>\n",
       "      <td>-258314.068223</td>\n",
       "      <td>16573.348343</td>\n",
       "    </tr>\n",
       "    <tr>\n",
       "      <td>34</td>\n",
       "      <td>0.246104</td>\n",
       "      <td>0.001038</td>\n",
       "      <td>0.011462</td>\n",
       "      <td>0.000176</td>\n",
       "      <td>10</td>\n",
       "      <td>60</td>\n",
       "      <td>NaN</td>\n",
       "      <td>{'max_features': 10, 'n_estimators': 60}</td>\n",
       "      <td>-726902.060146</td>\n",
       "      <td>-806793.453114</td>\n",
       "      <td>...</td>\n",
       "      <td>-602690.684930</td>\n",
       "      <td>151140.743676</td>\n",
       "      <td>16</td>\n",
       "      <td>-252287.238027</td>\n",
       "      <td>-240787.175399</td>\n",
       "      <td>-282773.679024</td>\n",
       "      <td>-239245.690751</td>\n",
       "      <td>-266788.419809</td>\n",
       "      <td>-256376.440602</td>\n",
       "      <td>16482.917612</td>\n",
       "    </tr>\n",
       "    <tr>\n",
       "      <td>35</td>\n",
       "      <td>0.011436</td>\n",
       "      <td>0.000107</td>\n",
       "      <td>0.002007</td>\n",
       "      <td>0.000096</td>\n",
       "      <td>2</td>\n",
       "      <td>3</td>\n",
       "      <td>False</td>\n",
       "      <td>{'bootstrap': False, 'max_features': 2, 'n_est...</td>\n",
       "      <td>-773284.375483</td>\n",
       "      <td>-804677.894524</td>\n",
       "      <td>...</td>\n",
       "      <td>-633002.180104</td>\n",
       "      <td>149824.936637</td>\n",
       "      <td>36</td>\n",
       "      <td>-231533.927858</td>\n",
       "      <td>-210125.626307</td>\n",
       "      <td>-245118.295197</td>\n",
       "      <td>-202964.894782</td>\n",
       "      <td>-233936.259935</td>\n",
       "      <td>-224735.800816</td>\n",
       "      <td>15708.205532</td>\n",
       "    </tr>\n",
       "    <tr>\n",
       "      <td>36</td>\n",
       "      <td>0.032877</td>\n",
       "      <td>0.000243</td>\n",
       "      <td>0.003163</td>\n",
       "      <td>0.000125</td>\n",
       "      <td>2</td>\n",
       "      <td>10</td>\n",
       "      <td>False</td>\n",
       "      <td>{'bootstrap': False, 'max_features': 2, 'n_est...</td>\n",
       "      <td>-777446.455791</td>\n",
       "      <td>-796904.884400</td>\n",
       "      <td>...</td>\n",
       "      <td>-635527.982147</td>\n",
       "      <td>143793.779813</td>\n",
       "      <td>39</td>\n",
       "      <td>-231533.927858</td>\n",
       "      <td>-210125.626307</td>\n",
       "      <td>-245118.295197</td>\n",
       "      <td>-202964.894782</td>\n",
       "      <td>-233936.259935</td>\n",
       "      <td>-224735.800816</td>\n",
       "      <td>15708.205532</td>\n",
       "    </tr>\n",
       "    <tr>\n",
       "      <td>37</td>\n",
       "      <td>0.011677</td>\n",
       "      <td>0.000027</td>\n",
       "      <td>0.001875</td>\n",
       "      <td>0.000017</td>\n",
       "      <td>3</td>\n",
       "      <td>3</td>\n",
       "      <td>False</td>\n",
       "      <td>{'bootstrap': False, 'max_features': 3, 'n_est...</td>\n",
       "      <td>-777950.118933</td>\n",
       "      <td>-823758.700572</td>\n",
       "      <td>...</td>\n",
       "      <td>-646553.565191</td>\n",
       "      <td>141856.361094</td>\n",
       "      <td>41</td>\n",
       "      <td>-231533.927858</td>\n",
       "      <td>-210125.626307</td>\n",
       "      <td>-245118.295197</td>\n",
       "      <td>-202964.894782</td>\n",
       "      <td>-233936.259935</td>\n",
       "      <td>-224735.800816</td>\n",
       "      <td>15708.205532</td>\n",
       "    </tr>\n",
       "    <tr>\n",
       "      <td>38</td>\n",
       "      <td>0.033892</td>\n",
       "      <td>0.000215</td>\n",
       "      <td>0.003117</td>\n",
       "      <td>0.000045</td>\n",
       "      <td>3</td>\n",
       "      <td>10</td>\n",
       "      <td>False</td>\n",
       "      <td>{'bootstrap': False, 'max_features': 3, 'n_est...</td>\n",
       "      <td>-770297.819072</td>\n",
       "      <td>-814724.811728</td>\n",
       "      <td>...</td>\n",
       "      <td>-640751.636794</td>\n",
       "      <td>142559.072989</td>\n",
       "      <td>40</td>\n",
       "      <td>-231533.927858</td>\n",
       "      <td>-210125.626307</td>\n",
       "      <td>-245118.295197</td>\n",
       "      <td>-202964.894782</td>\n",
       "      <td>-233936.259935</td>\n",
       "      <td>-224735.800816</td>\n",
       "      <td>15708.205532</td>\n",
       "    </tr>\n",
       "    <tr>\n",
       "      <td>39</td>\n",
       "      <td>0.011826</td>\n",
       "      <td>0.000034</td>\n",
       "      <td>0.001889</td>\n",
       "      <td>0.000004</td>\n",
       "      <td>4</td>\n",
       "      <td>3</td>\n",
       "      <td>False</td>\n",
       "      <td>{'bootstrap': False, 'max_features': 4, 'n_est...</td>\n",
       "      <td>-782716.911441</td>\n",
       "      <td>-823074.231051</td>\n",
       "      <td>...</td>\n",
       "      <td>-634066.990084</td>\n",
       "      <td>155552.279946</td>\n",
       "      <td>38</td>\n",
       "      <td>-231533.927858</td>\n",
       "      <td>-210125.626307</td>\n",
       "      <td>-245118.295197</td>\n",
       "      <td>-202964.894782</td>\n",
       "      <td>-233936.259935</td>\n",
       "      <td>-224735.800816</td>\n",
       "      <td>15708.205532</td>\n",
       "    </tr>\n",
       "    <tr>\n",
       "      <td>40</td>\n",
       "      <td>0.034815</td>\n",
       "      <td>0.000212</td>\n",
       "      <td>0.003136</td>\n",
       "      <td>0.000050</td>\n",
       "      <td>4</td>\n",
       "      <td>10</td>\n",
       "      <td>False</td>\n",
       "      <td>{'bootstrap': False, 'max_features': 4, 'n_est...</td>\n",
       "      <td>-775719.070166</td>\n",
       "      <td>-821369.522607</td>\n",
       "      <td>...</td>\n",
       "      <td>-633470.029242</td>\n",
       "      <td>154838.197541</td>\n",
       "      <td>37</td>\n",
       "      <td>-231533.927858</td>\n",
       "      <td>-210125.626307</td>\n",
       "      <td>-245118.295197</td>\n",
       "      <td>-202964.894782</td>\n",
       "      <td>-233936.259935</td>\n",
       "      <td>-224735.800816</td>\n",
       "      <td>15708.205532</td>\n",
       "    </tr>\n",
       "  </tbody>\n",
       "</table>\n",
       "<p>41 rows × 23 columns</p>\n",
       "</div>"
      ],
      "text/plain": [
       "    mean_fit_time  std_fit_time  mean_score_time  std_score_time  \\\n",
       "0        0.021290      0.000928         0.002926        0.000474   \n",
       "1        0.054851      0.003187         0.004220        0.000649   \n",
       "2        0.086484      0.000276         0.005573        0.000071   \n",
       "3        0.145107      0.011535         0.008448        0.000352   \n",
       "4        0.207785      0.001168         0.011535        0.000139   \n",
       "5        0.019657      0.000123         0.002297        0.000052   \n",
       "6        0.054067      0.000256         0.003869        0.000040   \n",
       "7        0.089669      0.002334         0.005689        0.000254   \n",
       "8        0.139959      0.000160         0.008047        0.000194   \n",
       "9        0.209185      0.001097         0.011317        0.000104   \n",
       "10       0.019749      0.000134         0.002224        0.000025   \n",
       "11       0.055205      0.000135         0.003889        0.000048   \n",
       "12       0.090194      0.000275         0.005557        0.000110   \n",
       "13       0.142923      0.000272         0.007958        0.000063   \n",
       "14       0.213345      0.000877         0.011296        0.000084   \n",
       "15       0.020655      0.000139         0.002227        0.000025   \n",
       "16       0.057630      0.000304         0.003844        0.000019   \n",
       "17       0.094440      0.000522         0.005629        0.000199   \n",
       "18       0.149642      0.000643         0.008001        0.000094   \n",
       "19       0.223039      0.000814         0.011489        0.000100   \n",
       "20       0.022341      0.000874         0.002388        0.000145   \n",
       "21       0.060416      0.000262         0.003893        0.000037   \n",
       "22       0.099979      0.002640         0.005640        0.000261   \n",
       "23       0.161152      0.008130         0.008530        0.000687   \n",
       "24       0.233247      0.000536         0.011417        0.000169   \n",
       "25       0.025261      0.002337         0.002752        0.000352   \n",
       "26       0.062175      0.000553         0.003968        0.000140   \n",
       "27       0.100936      0.000486         0.005530        0.000077   \n",
       "28       0.160658      0.000837         0.008221        0.000370   \n",
       "29       0.240104      0.002332         0.011679        0.000416   \n",
       "30       0.022613      0.000335         0.002248        0.000028   \n",
       "31       0.063433      0.000554         0.003924        0.000031   \n",
       "32       0.103767      0.000598         0.005560        0.000054   \n",
       "33       0.164462      0.000607         0.007958        0.000103   \n",
       "34       0.246104      0.001038         0.011462        0.000176   \n",
       "35       0.011436      0.000107         0.002007        0.000096   \n",
       "36       0.032877      0.000243         0.003163        0.000125   \n",
       "37       0.011677      0.000027         0.001875        0.000017   \n",
       "38       0.033892      0.000215         0.003117        0.000045   \n",
       "39       0.011826      0.000034         0.001889        0.000004   \n",
       "40       0.034815      0.000212         0.003136        0.000050   \n",
       "\n",
       "   param_max_features param_n_estimators param_bootstrap  \\\n",
       "0                   2                  5             NaN   \n",
       "1                   2                 15             NaN   \n",
       "2                   2                 25             NaN   \n",
       "3                   2                 40             NaN   \n",
       "4                   2                 60             NaN   \n",
       "5                   3                  5             NaN   \n",
       "6                   3                 15             NaN   \n",
       "7                   3                 25             NaN   \n",
       "8                   3                 40             NaN   \n",
       "9                   3                 60             NaN   \n",
       "10                  4                  5             NaN   \n",
       "11                  4                 15             NaN   \n",
       "12                  4                 25             NaN   \n",
       "13                  4                 40             NaN   \n",
       "14                  4                 60             NaN   \n",
       "15                  6                  5             NaN   \n",
       "16                  6                 15             NaN   \n",
       "17                  6                 25             NaN   \n",
       "18                  6                 40             NaN   \n",
       "19                  6                 60             NaN   \n",
       "20                  8                  5             NaN   \n",
       "21                  8                 15             NaN   \n",
       "22                  8                 25             NaN   \n",
       "23                  8                 40             NaN   \n",
       "24                  8                 60             NaN   \n",
       "25                  9                  5             NaN   \n",
       "26                  9                 15             NaN   \n",
       "27                  9                 25             NaN   \n",
       "28                  9                 40             NaN   \n",
       "29                  9                 60             NaN   \n",
       "30                 10                  5             NaN   \n",
       "31                 10                 15             NaN   \n",
       "32                 10                 25             NaN   \n",
       "33                 10                 40             NaN   \n",
       "34                 10                 60             NaN   \n",
       "35                  2                  3           False   \n",
       "36                  2                 10           False   \n",
       "37                  3                  3           False   \n",
       "38                  3                 10           False   \n",
       "39                  4                  3           False   \n",
       "40                  4                 10           False   \n",
       "\n",
       "                                               params  split0_test_score  \\\n",
       "0              {'max_features': 2, 'n_estimators': 5}     -757685.953537   \n",
       "1             {'max_features': 2, 'n_estimators': 15}     -765465.194831   \n",
       "2             {'max_features': 2, 'n_estimators': 25}     -743953.542260   \n",
       "3             {'max_features': 2, 'n_estimators': 40}     -728687.658308   \n",
       "4             {'max_features': 2, 'n_estimators': 60}     -724763.804338   \n",
       "5              {'max_features': 3, 'n_estimators': 5}     -747218.376928   \n",
       "6             {'max_features': 3, 'n_estimators': 15}     -742859.368278   \n",
       "7             {'max_features': 3, 'n_estimators': 25}     -732688.028600   \n",
       "8             {'max_features': 3, 'n_estimators': 40}     -716416.578052   \n",
       "9             {'max_features': 3, 'n_estimators': 60}     -712326.535242   \n",
       "10             {'max_features': 4, 'n_estimators': 5}     -753704.107413   \n",
       "11            {'max_features': 4, 'n_estimators': 15}     -731391.138297   \n",
       "12            {'max_features': 4, 'n_estimators': 25}     -719057.114730   \n",
       "13            {'max_features': 4, 'n_estimators': 40}     -716104.563943   \n",
       "14            {'max_features': 4, 'n_estimators': 60}     -715810.899162   \n",
       "15             {'max_features': 6, 'n_estimators': 5}     -767506.640228   \n",
       "16            {'max_features': 6, 'n_estimators': 15}     -754253.425150   \n",
       "17            {'max_features': 6, 'n_estimators': 25}     -726559.681612   \n",
       "18            {'max_features': 6, 'n_estimators': 40}     -717189.386039   \n",
       "19            {'max_features': 6, 'n_estimators': 60}     -712649.693377   \n",
       "20             {'max_features': 8, 'n_estimators': 5}     -751421.557812   \n",
       "21            {'max_features': 8, 'n_estimators': 15}     -743936.905130   \n",
       "22            {'max_features': 8, 'n_estimators': 25}     -726988.469217   \n",
       "23            {'max_features': 8, 'n_estimators': 40}     -721166.662464   \n",
       "24            {'max_features': 8, 'n_estimators': 60}     -720110.061985   \n",
       "25             {'max_features': 9, 'n_estimators': 5}     -741745.906060   \n",
       "26            {'max_features': 9, 'n_estimators': 15}     -740642.988110   \n",
       "27            {'max_features': 9, 'n_estimators': 25}     -725291.533813   \n",
       "28            {'max_features': 9, 'n_estimators': 40}     -714526.533716   \n",
       "29            {'max_features': 9, 'n_estimators': 60}     -710206.152623   \n",
       "30            {'max_features': 10, 'n_estimators': 5}     -747493.912412   \n",
       "31           {'max_features': 10, 'n_estimators': 15}     -758798.773050   \n",
       "32           {'max_features': 10, 'n_estimators': 25}     -733383.052100   \n",
       "33           {'max_features': 10, 'n_estimators': 40}     -723640.253341   \n",
       "34           {'max_features': 10, 'n_estimators': 60}     -726902.060146   \n",
       "35  {'bootstrap': False, 'max_features': 2, 'n_est...     -773284.375483   \n",
       "36  {'bootstrap': False, 'max_features': 2, 'n_est...     -777446.455791   \n",
       "37  {'bootstrap': False, 'max_features': 3, 'n_est...     -777950.118933   \n",
       "38  {'bootstrap': False, 'max_features': 3, 'n_est...     -770297.819072   \n",
       "39  {'bootstrap': False, 'max_features': 4, 'n_est...     -782716.911441   \n",
       "40  {'bootstrap': False, 'max_features': 4, 'n_est...     -775719.070166   \n",
       "\n",
       "    split1_test_score  ...  mean_test_score  std_test_score  rank_test_score  \\\n",
       "0      -743654.296283  ...   -619736.910075   126270.371969               30   \n",
       "1      -783287.425189  ...   -612310.820657   149852.540904               26   \n",
       "2      -786156.946723  ...   -603254.167045   150545.219485               18   \n",
       "3      -779514.894636  ...   -600146.014514   146073.372059                9   \n",
       "4      -777381.388038  ...   -597471.550705   147181.065329                4   \n",
       "5      -733046.509210  ...   -628893.224680   110961.286465               34   \n",
       "6      -777297.890178  ...   -610231.763018   138734.219023               24   \n",
       "7      -783551.691938  ...   -602635.006952   144715.020311               15   \n",
       "8      -779473.150931  ...   -600755.744672   139741.405228               10   \n",
       "9      -782786.027362  ...   -599164.368780   142427.000384                7   \n",
       "10     -716848.350340  ...   -626839.667124   102844.730968               33   \n",
       "11     -792566.478303  ...   -616835.071196   134257.837647               27   \n",
       "12     -791277.590491  ...   -606886.106619   139493.276110               21   \n",
       "13     -784819.153647  ...   -601918.718976   143566.168795               13   \n",
       "14     -780846.728556  ...   -599258.533725   144209.283426                8   \n",
       "15     -720515.760363  ...   -630916.156393   116678.775349               35   \n",
       "16     -768709.677108  ...   -616891.291874   133918.421365               28   \n",
       "17     -776789.335626  ...   -602378.013275   139906.301191               14   \n",
       "18     -772706.336605  ...   -596831.081330   142429.857237                2   \n",
       "19     -768959.789436  ...   -595663.069727   140104.181258                1   \n",
       "20     -716601.300876  ...   -626783.492020   108904.193190               32   \n",
       "21     -774347.841744  ...   -609998.560463   138549.493275               23   \n",
       "22     -797957.326519  ...   -603870.393826   146039.825200               19   \n",
       "23     -777615.437519  ...   -597134.109884   143150.289320                3   \n",
       "24     -784692.865677  ...   -600763.512538   142804.270149               11   \n",
       "25     -729902.935513  ...   -620945.358230   115347.377433               31   \n",
       "26     -784064.256377  ...   -609925.749395   141359.892852               22   \n",
       "27     -799878.744438  ...   -602971.434527   147541.229664               17   \n",
       "28     -785506.653672  ...   -598745.878555   144797.949414                5   \n",
       "29     -791862.080638  ...   -598747.843645   144667.750104                6   \n",
       "30     -749976.542335  ...   -617048.833270   121832.978614               29   \n",
       "31     -788372.632396  ...   -612300.859162   146614.705812               25   \n",
       "32     -811831.686064  ...   -605279.122663   151470.751560               20   \n",
       "33     -805666.821003  ...   -601713.828737   151621.818749               12   \n",
       "34     -806793.453114  ...   -602690.684930   151140.743676               16   \n",
       "35     -804677.894524  ...   -633002.180104   149824.936637               36   \n",
       "36     -796904.884400  ...   -635527.982147   143793.779813               39   \n",
       "37     -823758.700572  ...   -646553.565191   141856.361094               41   \n",
       "38     -814724.811728  ...   -640751.636794   142559.072989               40   \n",
       "39     -823074.231051  ...   -634066.990084   155552.279946               38   \n",
       "40     -821369.522607  ...   -633470.029242   154838.197541               37   \n",
       "\n",
       "    split0_train_score  split1_train_score  split2_train_score  \\\n",
       "0       -272923.910734      -276636.056754      -312046.526506   \n",
       "1       -256382.569749      -259178.102258      -300295.816628   \n",
       "2       -253487.111276      -251878.530447      -289992.836632   \n",
       "3       -251816.058662      -243398.493126      -282288.113615   \n",
       "4       -251843.048607      -241633.938407      -280592.636546   \n",
       "5       -270990.073748      -276051.850250      -314764.281423   \n",
       "6       -254684.902333      -259603.813936      -299639.782820   \n",
       "7       -254148.367962      -252010.230817      -289417.056437   \n",
       "8       -252489.928648      -244409.456000      -282177.460997   \n",
       "9       -251729.135674      -242429.440586      -280501.227327   \n",
       "10      -275955.331450      -275222.836431      -312915.738160   \n",
       "11      -255357.610328      -260839.795649      -300093.941721   \n",
       "12      -253699.456623      -252099.103427      -288775.146989   \n",
       "13      -252495.397200      -244564.077248      -281631.349513   \n",
       "14      -252169.297593      -242084.421042      -279843.853509   \n",
       "15      -272197.514998      -278151.630557      -312609.992031   \n",
       "16      -254320.811935      -260110.714816      -301699.139900   \n",
       "17      -253536.949890      -252557.575735      -290249.875923   \n",
       "18      -251888.708971      -243803.663665      -282983.892716   \n",
       "19      -251894.676091      -241649.486330      -280773.262175   \n",
       "20      -269112.484221      -271601.001280      -316569.856593   \n",
       "21      -253853.680239      -257748.928653      -298808.935289   \n",
       "22      -252922.880483      -251242.509455      -288828.471059   \n",
       "23      -251310.753465      -243486.703546      -281448.753840   \n",
       "24      -252473.351232      -241301.154987      -280273.559845   \n",
       "25      -274026.330249      -272507.269727      -316660.400265   \n",
       "26      -254056.608719      -257266.558878      -300566.753416   \n",
       "27      -253024.673198      -250577.105033      -290543.000735   \n",
       "28      -251870.524100      -243512.653789      -283163.379597   \n",
       "29      -252290.918511      -241033.599637      -281379.319818   \n",
       "30      -273094.023124      -271264.156976      -322320.580401   \n",
       "31      -254287.509375      -257860.663925      -301556.241427   \n",
       "32      -253050.504081      -250551.089103      -291503.183519   \n",
       "33      -251289.635770      -243006.179888      -284269.154122   \n",
       "34      -252287.238027      -240787.175399      -282773.679024   \n",
       "35      -231533.927858      -210125.626307      -245118.295197   \n",
       "36      -231533.927858      -210125.626307      -245118.295197   \n",
       "37      -231533.927858      -210125.626307      -245118.295197   \n",
       "38      -231533.927858      -210125.626307      -245118.295197   \n",
       "39      -231533.927858      -210125.626307      -245118.295197   \n",
       "40      -231533.927858      -210125.626307      -245118.295197   \n",
       "\n",
       "    split3_train_score  split4_train_score  mean_train_score  std_train_score  \n",
       "0       -263124.885409      -291319.298109    -283210.135503     17027.848760  \n",
       "1       -258458.586300      -285904.743627    -272043.963712     17808.203415  \n",
       "2       -247723.561473      -272659.704975    -263148.348960     15933.391375  \n",
       "3       -241509.910467      -268966.352359    -257595.785646     15701.748865  \n",
       "4       -238670.699476      -264622.266437    -255472.517894     15503.023519  \n",
       "5       -262278.912336      -298427.331206    -284502.489792     19274.663847  \n",
       "6       -254993.884663      -284362.752982    -270657.027347     18168.452730  \n",
       "7       -246027.699318      -271765.666431    -262673.804193     15883.017139  \n",
       "8       -240325.040278      -268602.131719    -257600.803529     15643.695227  \n",
       "9       -237678.739386      -264880.673504    -255443.843295     15592.940110  \n",
       "10      -262707.658861      -296154.137486    -284591.140478     17760.714060  \n",
       "11      -256014.718257      -284799.712160    -271421.155623     17935.860260  \n",
       "12      -247490.639707      -272631.379063    -262939.145162     15511.112522  \n",
       "13      -241576.732218      -268712.639561    -257796.039148     15189.086364  \n",
       "14      -238953.390814      -264535.639936    -255517.320579     15093.880254  \n",
       "15      -265633.624010      -299459.932669    -285610.538853     17637.447829  \n",
       "16      -258856.401185      -285023.141574    -272002.041882     18321.048491  \n",
       "17      -247241.787377      -271763.973203    -263070.032425     15913.850875  \n",
       "18      -241125.021711      -269129.101408    -257786.077694     15946.609140  \n",
       "19      -238251.561383      -265276.496309    -255569.096457     15726.649443  \n",
       "20      -260563.233315      -303390.707608    -284247.456604     21730.827201  \n",
       "21      -255256.311915      -286845.510758    -270502.673371     18658.141986  \n",
       "22      -247081.053503      -272051.201127    -262425.223125     15751.711628  \n",
       "23      -240337.052644      -268875.966507    -257091.846001     15693.109878  \n",
       "24      -237738.435330      -265059.064791    -255369.113237     15692.420542  \n",
       "25      -259092.702094      -306160.770862    -285689.494639     21888.170213  \n",
       "26      -258340.861345      -289102.057178    -271866.567907     19152.349133  \n",
       "27      -247572.689829      -274417.397692    -263226.973297     16616.579903  \n",
       "28      -241680.511731      -270318.553818    -258109.124607     16116.217127  \n",
       "29      -238855.506846      -266504.637043    -256012.796371     16038.332369  \n",
       "30      -265020.898143      -297515.043743    -285842.940478     21333.023593  \n",
       "31      -259962.799663      -289367.771005    -272606.997079     19141.138892  \n",
       "32      -249270.036833      -275083.375346    -263891.637777     16714.927945  \n",
       "33      -242194.006791      -270811.364542    -258314.068223     16573.348343  \n",
       "34      -239245.690751      -266788.419809    -256376.440602     16482.917612  \n",
       "35      -202964.894782      -233936.259935    -224735.800816     15708.205532  \n",
       "36      -202964.894782      -233936.259935    -224735.800816     15708.205532  \n",
       "37      -202964.894782      -233936.259935    -224735.800816     15708.205532  \n",
       "38      -202964.894782      -233936.259935    -224735.800816     15708.205532  \n",
       "39      -202964.894782      -233936.259935    -224735.800816     15708.205532  \n",
       "40      -202964.894782      -233936.259935    -224735.800816     15708.205532  \n",
       "\n",
       "[41 rows x 23 columns]"
      ]
     },
     "execution_count": 102,
     "metadata": {},
     "output_type": "execute_result"
    }
   ],
   "source": [
    "pd.DataFrame(grid_search.cv_results_)"
   ]
  },
  {
   "cell_type": "code",
   "execution_count": 108,
   "metadata": {},
   "outputs": [
    {
     "name": "stderr",
     "output_type": "stream",
     "text": [
      "/home/adsum/.local/lib/python3.6/site-packages/sklearn/model_selection/_search.py:814: DeprecationWarning: The default of the `iid` parameter will change from True to False in version 0.22 and will be removed in 0.24. This will change numeric results when test-set sizes are unequal.\n",
      "  DeprecationWarning)\n"
     ]
    },
    {
     "data": {
      "text/plain": [
       "RandomizedSearchCV(cv=5, error_score='raise-deprecating',\n",
       "                   estimator=RandomForestRegressor(bootstrap=True,\n",
       "                                                   criterion='mse',\n",
       "                                                   max_depth=None,\n",
       "                                                   max_features='auto',\n",
       "                                                   max_leaf_nodes=None,\n",
       "                                                   min_impurity_decrease=0.0,\n",
       "                                                   min_impurity_split=None,\n",
       "                                                   min_samples_leaf=1,\n",
       "                                                   min_samples_split=2,\n",
       "                                                   min_weight_fraction_leaf=0.0,\n",
       "                                                   n_estimators='warn',\n",
       "                                                   n_jobs=None, oob_score=False,\n",
       "                                                   random_sta...\n",
       "                                                   warm_start=False),\n",
       "                   iid='warn', n_iter=10, n_jobs=None,\n",
       "                   param_distributions={'max_features': <scipy.stats._distn_infrastructure.rv_frozen object at 0x7f615090a3c8>,\n",
       "                                        'n_estimators': <scipy.stats._distn_infrastructure.rv_frozen object at 0x7f615090a160>},\n",
       "                   pre_dispatch='2*n_jobs', random_state=42, refit=True,\n",
       "                   return_train_score=False, scoring='neg_mean_squared_error',\n",
       "                   verbose=0)"
      ]
     },
     "execution_count": 108,
     "metadata": {},
     "output_type": "execute_result"
    }
   ],
   "source": [
    "from sklearn.model_selection import RandomizedSearchCV\n",
    "from scipy.stats import randint\n",
    "\n",
    "param_distribs = {\n",
    "        'n_estimators': randint(low=1, high=200),\n",
    "        'max_features': randint(low=1, high=10),\n",
    "    }\n",
    "\n",
    "forest_reg = RandomForestRegressor(random_state=42)\n",
    "rnd_search = RandomizedSearchCV(forest_reg, param_distributions=param_distribs,\n",
    "                                n_iter=10, cv=5, scoring='neg_mean_squared_error', random_state=42)\n",
    "rnd_search.fit(df_prepared, df_labels)"
   ]
  },
  {
   "cell_type": "code",
   "execution_count": 109,
   "metadata": {},
   "outputs": [
    {
     "name": "stdout",
     "output_type": "stream",
     "text": [
      "768.0686847935979 {'max_features': 7, 'n_estimators': 180}\n",
      "769.2798596602752 {'max_features': 8, 'n_estimators': 189}\n",
      "766.354784198574 {'max_features': 5, 'n_estimators': 103}\n",
      "771.2789231685879 {'max_features': 3, 'n_estimators': 75}\n",
      "767.704250283334 {'max_features': 8, 'n_estimators': 117}\n",
      "769.1566483482527 {'max_features': 4, 'n_estimators': 104}\n",
      "767.4634812491306 {'max_features': 8, 'n_estimators': 131}\n",
      "771.9872673292579 {'max_features': 6, 'n_estimators': 53}\n",
      "769.0520155831921 {'max_features': 2, 'n_estimators': 88}\n",
      "767.4885238363686 {'max_features': 6, 'n_estimators': 130}\n"
     ]
    }
   ],
   "source": [
    "cvres = rnd_search.cv_results_\n",
    "for mean_score, params in zip(cvres[\"mean_test_score\"], cvres[\"params\"]):\n",
    "    print(np.sqrt(-mean_score), params)"
   ]
  },
  {
   "cell_type": "code",
   "execution_count": 110,
   "metadata": {},
   "outputs": [
    {
     "data": {
      "text/plain": [
       "array([0.09572693, 0.49363791, 0.03303192, 0.00576048, 0.0227326 ,\n",
       "       0.05301331, 0.04108814, 0.01178661, 0.01139488, 0.23182722])"
      ]
     },
     "execution_count": 110,
     "metadata": {},
     "output_type": "execute_result"
    }
   ],
   "source": [
    "feature_importances = grid_search.best_estimator_.feature_importances_\n",
    "feature_importances"
   ]
  },
  {
   "cell_type": "code",
   "execution_count": 111,
   "metadata": {},
   "outputs": [],
   "source": [
    "final_model = grid_search.best_estimator_\n",
    "\n",
    "X_test = test_set.drop(\"price_m2\", axis=1)\n",
    "y_test = test_set[\"price_m2\"].copy()\n",
    "\n",
    "X_test_prepared = full_pipeline.transform(X_test)\n",
    "final_predictions = final_model.predict(X_test_prepared)\n",
    "\n",
    "final_mse = mean_squared_error(y_test, final_predictions)\n",
    "final_rmse = np.sqrt(final_mse)"
   ]
  },
  {
   "cell_type": "code",
   "execution_count": 112,
   "metadata": {},
   "outputs": [
    {
     "data": {
      "text/plain": [
       "717.68293868343"
      ]
     },
     "execution_count": 112,
     "metadata": {},
     "output_type": "execute_result"
    }
   ],
   "source": [
    "final_rmse"
   ]
  },
  {
   "cell_type": "code",
   "execution_count": null,
   "metadata": {},
   "outputs": [],
   "source": []
  }
 ],
 "metadata": {
  "kernelspec": {
   "display_name": "Python 3",
   "language": "python",
   "name": "python3"
  },
  "language_info": {
   "codemirror_mode": {
    "name": "ipython",
    "version": 3
   },
   "file_extension": ".py",
   "mimetype": "text/x-python",
   "name": "python",
   "nbconvert_exporter": "python",
   "pygments_lexer": "ipython3",
   "version": "3.6.8"
  }
 },
 "nbformat": 4,
 "nbformat_minor": 2
}
