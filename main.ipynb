{
 "cells": [
  {
   "cell_type": "code",
   "execution_count": 434,
   "metadata": {},
   "outputs": [],
   "source": [
    "import numpy as np\n",
    "import pandas as pd\n",
    "import matplotlib.pyplot as plt\n",
    "import scipy as sp\n",
    "import scipy.stats as sps\n",
    "from statsmodels.distributions.empirical_distribution import ECDF\n",
    "import seaborn as sns\n",
    "import sklearn.linear_model as slm\n",
    "import sklearn"
   ]
  },
  {
   "cell_type": "code",
   "execution_count": 435,
   "metadata": {},
   "outputs": [],
   "source": [
    "df = pd.read_csv('data/results.csv', usecols=['meters', 'price'], na_values=['Zapytajocenę'])"
   ]
  },
  {
   "cell_type": "code",
   "execution_count": 436,
   "metadata": {},
   "outputs": [
    {
     "data": {
      "text/html": [
       "<div>\n",
       "<style scoped>\n",
       "    .dataframe tbody tr th:only-of-type {\n",
       "        vertical-align: middle;\n",
       "    }\n",
       "\n",
       "    .dataframe tbody tr th {\n",
       "        vertical-align: top;\n",
       "    }\n",
       "\n",
       "    .dataframe thead th {\n",
       "        text-align: right;\n",
       "    }\n",
       "</style>\n",
       "<table border=\"1\" class=\"dataframe\">\n",
       "  <thead>\n",
       "    <tr style=\"text-align: right;\">\n",
       "      <th></th>\n",
       "      <th>meters</th>\n",
       "      <th>price</th>\n",
       "    </tr>\n",
       "  </thead>\n",
       "  <tbody>\n",
       "    <tr>\n",
       "      <td>0</td>\n",
       "      <td>70.0</td>\n",
       "      <td>699000.0</td>\n",
       "    </tr>\n",
       "    <tr>\n",
       "      <td>1</td>\n",
       "      <td>72.0</td>\n",
       "      <td>340000.0</td>\n",
       "    </tr>\n",
       "    <tr>\n",
       "      <td>2</td>\n",
       "      <td>30.8</td>\n",
       "      <td>219000.0</td>\n",
       "    </tr>\n",
       "  </tbody>\n",
       "</table>\n",
       "</div>"
      ],
      "text/plain": [
       "   meters     price\n",
       "0    70.0  699000.0\n",
       "1    72.0  340000.0\n",
       "2    30.8  219000.0"
      ]
     },
     "execution_count": 436,
     "metadata": {},
     "output_type": "execute_result"
    }
   ],
   "source": [
    "df.head(3)"
   ]
  },
  {
   "cell_type": "code",
   "execution_count": 437,
   "metadata": {},
   "outputs": [
    {
     "name": "stdout",
     "output_type": "stream",
     "text": [
      "<class 'pandas.core.frame.DataFrame'>\n",
      "RangeIndex: 2745 entries, 0 to 2744\n",
      "Data columns (total 2 columns):\n",
      "meters    2745 non-null float64\n",
      "price     2587 non-null float64\n",
      "dtypes: float64(2)\n",
      "memory usage: 43.0 KB\n"
     ]
    }
   ],
   "source": [
    "df.info()"
   ]
  },
  {
   "cell_type": "code",
   "execution_count": 438,
   "metadata": {},
   "outputs": [
    {
     "data": {
      "text/plain": [
       "(259733.333, 357600.0]        0.358834\n",
       "(357600.0, 455466.667]        0.226594\n",
       "(161866.667, 259733.333]      0.184335\n",
       "(455466.667, 553333.333]      0.081603\n",
       "(553333.333, 651200.0]        0.037523\n",
       "(651200.0, 749066.667]        0.019308\n",
       "(61063.999, 161866.667]       0.012750\n",
       "(749066.667, 846933.333]      0.012750\n",
       "(1042666.667, 1140533.333]    0.002914\n",
       "Name: price, dtype: float64"
      ]
     },
     "execution_count": 438,
     "metadata": {},
     "output_type": "execute_result"
    }
   ],
   "source": [
    "vc = df.price.value_counts(bins=30) / len(df.price)\n",
    "vc = vc[0:9]\n",
    "vc"
   ]
  },
  {
   "cell_type": "code",
   "execution_count": null,
   "metadata": {},
   "outputs": [],
   "source": []
  },
  {
   "cell_type": "code",
   "execution_count": 439,
   "metadata": {},
   "outputs": [
    {
     "data": {
      "text/plain": [
       "(46.35, 78.2]                  0.587978\n",
       "(13.543000000000001, 46.35]    0.259381\n",
       "(78.2, 110.05]                 0.111475\n",
       "(110.05, 141.9]                0.030237\n",
       "(141.9, 173.75]                0.008015\n",
       "(173.75, 205.6]                0.001821\n",
       "(269.3, 301.15]                0.000364\n",
       "(938.15, 970.0]                0.000364\n",
       "(747.05, 778.9]                0.000364\n",
       "Name: meters, dtype: float64"
      ]
     },
     "execution_count": 439,
     "metadata": {},
     "output_type": "execute_result"
    }
   ],
   "source": [
    "vc2 = df.meters.value_counts(bins=30) / len(df.price)\n",
    "vc2[0:9]"
   ]
  },
  {
   "cell_type": "code",
   "execution_count": 440,
   "metadata": {},
   "outputs": [],
   "source": [
    "df = df.dropna()"
   ]
  },
  {
   "cell_type": "code",
   "execution_count": 441,
   "metadata": {},
   "outputs": [
    {
     "data": {
      "text/html": [
       "<div>\n",
       "<style scoped>\n",
       "    .dataframe tbody tr th:only-of-type {\n",
       "        vertical-align: middle;\n",
       "    }\n",
       "\n",
       "    .dataframe tbody tr th {\n",
       "        vertical-align: top;\n",
       "    }\n",
       "\n",
       "    .dataframe thead th {\n",
       "        text-align: right;\n",
       "    }\n",
       "</style>\n",
       "<table border=\"1\" class=\"dataframe\">\n",
       "  <thead>\n",
       "    <tr style=\"text-align: right;\">\n",
       "      <th></th>\n",
       "      <th>meters</th>\n",
       "      <th>price</th>\n",
       "    </tr>\n",
       "  </thead>\n",
       "  <tbody>\n",
       "    <tr>\n",
       "      <td>count</td>\n",
       "      <td>2587.000000</td>\n",
       "      <td>2.587000e+03</td>\n",
       "    </tr>\n",
       "    <tr>\n",
       "      <td>mean</td>\n",
       "      <td>61.446107</td>\n",
       "      <td>3.619132e+05</td>\n",
       "    </tr>\n",
       "    <tr>\n",
       "      <td>std</td>\n",
       "      <td>32.667806</td>\n",
       "      <td>1.544157e+05</td>\n",
       "    </tr>\n",
       "    <tr>\n",
       "      <td>min</td>\n",
       "      <td>14.500000</td>\n",
       "      <td>6.400000e+04</td>\n",
       "    </tr>\n",
       "    <tr>\n",
       "      <td>25%</td>\n",
       "      <td>46.770000</td>\n",
       "      <td>2.700000e+05</td>\n",
       "    </tr>\n",
       "    <tr>\n",
       "      <td>50%</td>\n",
       "      <td>57.150000</td>\n",
       "      <td>3.382100e+05</td>\n",
       "    </tr>\n",
       "    <tr>\n",
       "      <td>75%</td>\n",
       "      <td>69.670000</td>\n",
       "      <td>4.000000e+05</td>\n",
       "    </tr>\n",
       "    <tr>\n",
       "      <td>max</td>\n",
       "      <td>970.000000</td>\n",
       "      <td>3.000000e+06</td>\n",
       "    </tr>\n",
       "  </tbody>\n",
       "</table>\n",
       "</div>"
      ],
      "text/plain": [
       "            meters         price\n",
       "count  2587.000000  2.587000e+03\n",
       "mean     61.446107  3.619132e+05\n",
       "std      32.667806  1.544157e+05\n",
       "min      14.500000  6.400000e+04\n",
       "25%      46.770000  2.700000e+05\n",
       "50%      57.150000  3.382100e+05\n",
       "75%      69.670000  4.000000e+05\n",
       "max     970.000000  3.000000e+06"
      ]
     },
     "execution_count": 441,
     "metadata": {},
     "output_type": "execute_result"
    }
   ],
   "source": [
    "df.describe()"
   ]
  },
  {
   "cell_type": "code",
   "execution_count": 442,
   "metadata": {},
   "outputs": [],
   "source": [
    "q = df[\"meters\"].quantile(0.99)"
   ]
  },
  {
   "cell_type": "code",
   "execution_count": 443,
   "metadata": {},
   "outputs": [],
   "source": [
    "df = df[df[\"meters\"] < q]"
   ]
  },
  {
   "cell_type": "code",
   "execution_count": 444,
   "metadata": {},
   "outputs": [],
   "source": [
    "q = df[\"price\"].quantile(0.99)"
   ]
  },
  {
   "cell_type": "code",
   "execution_count": 445,
   "metadata": {},
   "outputs": [],
   "source": [
    "df = df[df[\"price\"] < q]"
   ]
  },
  {
   "cell_type": "code",
   "execution_count": 446,
   "metadata": {},
   "outputs": [
    {
     "data": {
      "text/html": [
       "<div>\n",
       "<style scoped>\n",
       "    .dataframe tbody tr th:only-of-type {\n",
       "        vertical-align: middle;\n",
       "    }\n",
       "\n",
       "    .dataframe tbody tr th {\n",
       "        vertical-align: top;\n",
       "    }\n",
       "\n",
       "    .dataframe thead th {\n",
       "        text-align: right;\n",
       "    }\n",
       "</style>\n",
       "<table border=\"1\" class=\"dataframe\">\n",
       "  <thead>\n",
       "    <tr style=\"text-align: right;\">\n",
       "      <th></th>\n",
       "      <th>meters</th>\n",
       "      <th>price</th>\n",
       "    </tr>\n",
       "  </thead>\n",
       "  <tbody>\n",
       "    <tr>\n",
       "      <td>count</td>\n",
       "      <td>2532.000000</td>\n",
       "      <td>2532.000000</td>\n",
       "    </tr>\n",
       "    <tr>\n",
       "      <td>mean</td>\n",
       "      <td>59.276003</td>\n",
       "      <td>350134.076679</td>\n",
       "    </tr>\n",
       "    <tr>\n",
       "      <td>std</td>\n",
       "      <td>20.753949</td>\n",
       "      <td>117955.367759</td>\n",
       "    </tr>\n",
       "    <tr>\n",
       "      <td>min</td>\n",
       "      <td>14.500000</td>\n",
       "      <td>64000.000000</td>\n",
       "    </tr>\n",
       "    <tr>\n",
       "      <td>25%</td>\n",
       "      <td>46.510000</td>\n",
       "      <td>269000.000000</td>\n",
       "    </tr>\n",
       "    <tr>\n",
       "      <td>50%</td>\n",
       "      <td>56.780000</td>\n",
       "      <td>337000.000000</td>\n",
       "    </tr>\n",
       "    <tr>\n",
       "      <td>75%</td>\n",
       "      <td>69.000000</td>\n",
       "      <td>398000.000000</td>\n",
       "    </tr>\n",
       "    <tr>\n",
       "      <td>max</td>\n",
       "      <td>145.010000</td>\n",
       "      <td>790000.000000</td>\n",
       "    </tr>\n",
       "  </tbody>\n",
       "</table>\n",
       "</div>"
      ],
      "text/plain": [
       "            meters          price\n",
       "count  2532.000000    2532.000000\n",
       "mean     59.276003  350134.076679\n",
       "std      20.753949  117955.367759\n",
       "min      14.500000   64000.000000\n",
       "25%      46.510000  269000.000000\n",
       "50%      56.780000  337000.000000\n",
       "75%      69.000000  398000.000000\n",
       "max     145.010000  790000.000000"
      ]
     },
     "execution_count": 446,
     "metadata": {},
     "output_type": "execute_result"
    }
   ],
   "source": [
    "df.describe()"
   ]
  },
  {
   "cell_type": "code",
   "execution_count": 447,
   "metadata": {},
   "outputs": [
    {
     "data": {
      "text/plain": [
       "<Figure size 432x288 with 0 Axes>"
      ]
     },
     "metadata": {},
     "output_type": "display_data"
    },
    {
     "data": {
      "image/png": "[encoded data removed]",
      "text/plain": [
       "<Figure size 432x288 with 2 Axes>"
      ]
     },
     "metadata": {
      "needs_background": "light"
     },
     "output_type": "display_data"
    }
   ],
   "source": [
    "fig = plt.figure()\n",
    "df.hist(bins=50)\n",
    "plt.show()\n",
    "#fig.savefig('distribution.pdf')"
   ]
  },
  {
   "cell_type": "code",
   "execution_count": 448,
   "metadata": {},
   "outputs": [],
   "source": [
    "def shapiro_test(data):\n",
    "    test = sps.shapiro(data)\n",
    "    st, pv = test\n",
    "    print(\"{} : Test Shapiro-Wilka. H0: kurtoza = 3 i skosnosc = 0, H1: kurtoza != 3 lub/i skosnosc !=0\\n\"\n",
    "          \"P-value wynosi:{}\".format(data.name,round(pv, 5)))\n",
    "    if pv > 0.05:\n",
    "        return \"Nie ma podstaw do odrzucenia hipotezy 0\"\n",
    "    if pv < 0.05:\n",
    "        return \"Odrzucono hipoteze 0 na rzecz hipotezy 1\""
   ]
  },
  {
   "cell_type": "code",
   "execution_count": 472,
   "metadata": {},
   "outputs": [],
   "source": [
    "def plot_test(data, i=0):\n",
    "    fig = plt.figure(i)\n",
    "    m, s = sp.stats.norm.fit(data)\n",
    "    plt.subplot(131)\n",
    "    plt.axis([0, 150, 0, 1])\n",
    "    ecdf = ECDF(data)\n",
    "    plt.step(ecdf.x, ecdf.y, 'r-', label=r'$\\hat{F}_n(x)$')\n",
    "\n",
    "    t1 = np.linspace(0, 150, 100)\n",
    "    t2 = sp.stats.norm.cdf(t1, loc=m, scale=s)\n",
    "    t3 = sp.stats.norm.pdf(t1, loc=m, scale=s)\n",
    "    plt.plot(t1, t2, 'b--', label=r'$\\mathrm{N}(%.2f, %.2f)$' % (m, s))\n",
    "    plt.legend(loc='best')\n",
    "\n",
    "    plt.subplot(132)\n",
    "    sns.distplot(data, bins=8, color='k')\n",
    "    plt.plot(t1, t3, 'g--')\n",
    "\n",
    "    plt.subplot(133)\n",
    "    sp.stats.probplot(data, dist=sp.stats.norm, plot=plt)\n",
    "    plt.show()\n",
    "    fig.savefig('normal_distribution_test.pdf')"
   ]
  },
  {
   "cell_type": "code",
   "execution_count": 473,
   "metadata": {},
   "outputs": [
    {
     "name": "stdout",
     "output_type": "stream",
     "text": [
      "meters : Test Shapiro-Wilka. H0: kurtoza = 3 i skosnosc = 0, H1: kurtoza != 3 lub/i skosnosc !=0\n",
      "P-value wynosi:0.0\n"
     ]
    },
    {
     "data": {
      "text/plain": [
       "'Odrzucono hipoteze 0 na rzecz hipotezy 1'"
      ]
     },
     "execution_count": 473,
     "metadata": {},
     "output_type": "execute_result"
    }
   ],
   "source": [
    "shapiro_test(df.meters)"
   ]
  },
  {
   "cell_type": "code",
   "execution_count": 474,
   "metadata": {},
   "outputs": [
    {
     "data": {
      "image/png": "[encoded data removed]",
      "text/plain": [
       "<Figure size 432x288 with 3 Axes>"
      ]
     },
     "metadata": {
      "needs_background": "light"
     },
     "output_type": "display_data"
    }
   ],
   "source": [
    "plot_test(df.meters)"
   ]
  },
  {
   "cell_type": "code",
   "execution_count": 452,
   "metadata": {},
   "outputs": [
    {
     "name": "stdout",
     "output_type": "stream",
     "text": [
      "price : Test Shapiro-Wilka. H0: kurtoza = 3 i skosnosc = 0, H1: kurtoza != 3 lub/i skosnosc !=0\n",
      "P-value wynosi:0.0\n"
     ]
    },
    {
     "data": {
      "text/plain": [
       "'Odrzucono hipoteze 0 na rzecz hipotezy 1'"
      ]
     },
     "execution_count": 452,
     "metadata": {},
     "output_type": "execute_result"
    }
   ],
   "source": [
    "shapiro_test(df.price)"
   ]
  },
  {
   "cell_type": "code",
   "execution_count": 467,
   "metadata": {},
   "outputs": [],
   "source": [
    "def plot_test(data, i=0):\n",
    "    fig = plt.figure(i)\n",
    "    m, s = sp.stats.norm.fit(data)\n",
    "    plt.subplot(131)\n",
    "    plt.axis([0, 1200000, 0, 1])\n",
    "    ecdf = ECDF(data)\n",
    "    plt.step(ecdf.x, ecdf.y, 'r-', label=r'$\\hat{F}_n(x)$')\n",
    "\n",
    "    t1 = np.linspace(0, 1200000, 10000)\n",
    "    t2 = sp.stats.norm.cdf(t1, loc=m, scale=s)\n",
    "    t3 = sp.stats.norm.pdf(t1, loc=m, scale=s)\n",
    "    plt.plot(t1, t2, 'b--', label=r'$\\mathrm{N}(%.2f, %.2f)$' % (m, s))\n",
    "    plt.legend(loc='best')\n",
    "\n",
    "    plt.subplot(132)\n",
    "    sns.distplot(data, bins=8, color='k')\n",
    "    plt.plot(t1, t3, 'g--')\n",
    "\n",
    "    plt.subplot(133)\n",
    "    sp.stats.probplot(data, dist=sp.stats.norm, plot=plt)\n",
    "    plt.show()\n",
    "    fig.savefig('normal_distribution_test.pdf')"
   ]
  },
  {
   "cell_type": "code",
   "execution_count": 468,
   "metadata": {},
   "outputs": [
    {
     "data": {
      "image/png": "[encoded data removed]",
      "text/plain": [
       "<Figure size 432x288 with 3 Axes>"
      ]
     },
     "metadata": {
      "needs_background": "light"
     },
     "output_type": "display_data"
    }
   ],
   "source": [
    "plot_test(df.price)"
   ]
  },
  {
   "cell_type": "code",
   "execution_count": 455,
   "metadata": {},
   "outputs": [
    {
     "name": "stdout",
     "output_type": "stream",
     "text": [
      "Wyraz wolny jest równy: 7.763265904047543\n",
      "Współczynnik kierunkowy wynosi: [0.00014712]\n",
      "Współczynnik dopasowania wynosi: 0.699188766724465\n"
     ]
    }
   ],
   "source": [
    "x_axis = np.array([df.price]).reshape(-1, 1)\n",
    "y_axis = np.array(df.meters.tolist())\n",
    "\n",
    "\n",
    "regresja = slm.LinearRegression()\n",
    "\n",
    "regresja.fit(x_axis, y_axis)\n",
    "\n",
    "regresja = slm.LinearRegression()\n",
    "\n",
    "regresja.fit(x_axis, y_axis)\n",
    "print('Wyraz wolny jest równy: %s' % np.round(regresja.intercept_, 30))\n",
    "print('Współczynnik kierunkowy wynosi: %s' % np.round(regresja.coef_, 30))\n",
    "print('Współczynnik dopasowania wynosi: %s' % np.round(regresja.score(x_axis, y_axis),30))\n",
    "\n"
   ]
  },
  {
   "cell_type": "code",
   "execution_count": 456,
   "metadata": {},
   "outputs": [
    {
     "data": {
      "image/png": "[encoded data removed]",
      "text/plain": [
       "<Figure size 432x288 with 1 Axes>"
      ]
     },
     "metadata": {
      "needs_background": "light"
     },
     "output_type": "display_data"
    }
   ],
   "source": [
    "P = np.array([0.0001447 * x + 8.360059306962654 for x in np.linspace(1, 900000, 10000)])\n",
    "\n",
    "fig = plt.figure()\n",
    "plt.scatter(x_axis, y_axis, c='r', s=0.2)\n",
    "plt.plot(np.linspace(1, 900000, 10000), P)\n",
    "plt.xlabel('price')\n",
    "plt.ylabel('meters')\n",
    "plt.title('Współczynnik dopasowania wynosi: 0.699')\n",
    "fig.savefig('linear_regression.pdf')\n",
    "plt.show()"
   ]
  },
  {
   "cell_type": "code",
   "execution_count": 457,
   "metadata": {},
   "outputs": [],
   "source": [
    "X_new = [[800000]]"
   ]
  },
  {
   "cell_type": "code",
   "execution_count": 458,
   "metadata": {},
   "outputs": [
    {
     "name": "stdout",
     "output_type": "stream",
     "text": [
      "Za kwotę 800000 mieszkanie ma 125.46 m2\n"
     ]
    }
   ],
   "source": [
    "model = regresja.predict(X_new)\n",
    "print(\"Za kwotę {} mieszkanie ma {} m2\".format(X_new[0][0], round(model[0], 2)))"
   ]
  },
  {
   "cell_type": "code",
   "execution_count": null,
   "metadata": {},
   "outputs": [],
   "source": []
  },
  {
   "cell_type": "code",
   "execution_count": null,
   "metadata": {},
   "outputs": [],
   "source": []
  }
 ],
 "metadata": {
  "kernelspec": {
   "display_name": "Python 3",
   "language": "python",
   "name": "python3"
  },
  "language_info": {
   "codemirror_mode": {
    "name": "ipython",
    "version": 3
   },
   "file_extension": ".py",
   "mimetype": "text/x-python",
   "name": "python",
   "nbconvert_exporter": "python",
   "pygments_lexer": "ipython3",
   "version": "3.6.8"
  }
 },
 "nbformat": 4,
 "nbformat_minor": 2
}
