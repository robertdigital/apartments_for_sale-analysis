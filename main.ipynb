{
 "cells": [
  {
   "cell_type": "code",
   "execution_count": 201,
   "metadata": {},
   "outputs": [],
   "source": [
    "import numpy as np\n",
    "import pandas as pd\n",
    "import matplotlib.pyplot as plt\n",
    "import scipy as sp\n",
    "import scipy.stats as sps\n",
    "from statsmodels.distributions.empirical_distribution import ECDF\n",
    "import seaborn as sns\n",
    "import sklearn.linear_model as slm"
   ]
  },
  {
   "cell_type": "code",
   "execution_count": 202,
   "metadata": {},
   "outputs": [],
   "source": [
    "df = pd.read_csv('data/results.csv', usecols=['meters', 'price'], na_values=['Zapytajocenę'])"
   ]
  },
  {
   "cell_type": "code",
   "execution_count": 203,
   "metadata": {},
   "outputs": [
    {
     "data": {
      "text/html": [
       "<div>\n",
       "<style scoped>\n",
       "    .dataframe tbody tr th:only-of-type {\n",
       "        vertical-align: middle;\n",
       "    }\n",
       "\n",
       "    .dataframe tbody tr th {\n",
       "        vertical-align: top;\n",
       "    }\n",
       "\n",
       "    .dataframe thead th {\n",
       "        text-align: right;\n",
       "    }\n",
       "</style>\n",
       "<table border=\"1\" class=\"dataframe\">\n",
       "  <thead>\n",
       "    <tr style=\"text-align: right;\">\n",
       "      <th></th>\n",
       "      <th>meters</th>\n",
       "      <th>price</th>\n",
       "    </tr>\n",
       "  </thead>\n",
       "  <tbody>\n",
       "    <tr>\n",
       "      <td>0</td>\n",
       "      <td>70.00</td>\n",
       "      <td>699000.0</td>\n",
       "    </tr>\n",
       "    <tr>\n",
       "      <td>1</td>\n",
       "      <td>72.00</td>\n",
       "      <td>340000.0</td>\n",
       "    </tr>\n",
       "    <tr>\n",
       "      <td>2</td>\n",
       "      <td>30.80</td>\n",
       "      <td>219000.0</td>\n",
       "    </tr>\n",
       "    <tr>\n",
       "      <td>3</td>\n",
       "      <td>64.65</td>\n",
       "      <td>569000.0</td>\n",
       "    </tr>\n",
       "    <tr>\n",
       "      <td>4</td>\n",
       "      <td>73.30</td>\n",
       "      <td>409000.0</td>\n",
       "    </tr>\n",
       "  </tbody>\n",
       "</table>\n",
       "</div>"
      ],
      "text/plain": [
       "   meters     price\n",
       "0   70.00  699000.0\n",
       "1   72.00  340000.0\n",
       "2   30.80  219000.0\n",
       "3   64.65  569000.0\n",
       "4   73.30  409000.0"
      ]
     },
     "execution_count": 203,
     "metadata": {},
     "output_type": "execute_result"
    }
   ],
   "source": [
    "df.head()"
   ]
  },
  {
   "cell_type": "code",
   "execution_count": 204,
   "metadata": {},
   "outputs": [
    {
     "name": "stdout",
     "output_type": "stream",
     "text": [
      "<class 'pandas.core.frame.DataFrame'>\n",
      "RangeIndex: 2745 entries, 0 to 2744\n",
      "Data columns (total 2 columns):\n",
      "meters    2745 non-null float64\n",
      "price     2587 non-null float64\n",
      "dtypes: float64(2)\n",
      "memory usage: 43.0 KB\n"
     ]
    }
   ],
   "source": [
    "df.info()"
   ]
  },
  {
   "cell_type": "code",
   "execution_count": 205,
   "metadata": {},
   "outputs": [
    {
     "data": {
      "text/plain": [
       "(259733.333, 357600.0]        985\n",
       "(357600.0, 455466.667]        622\n",
       "(161866.667, 259733.333]      506\n",
       "(455466.667, 553333.333]      224\n",
       "(553333.333, 651200.0]        103\n",
       "(651200.0, 749066.667]         53\n",
       "(61063.999, 161866.667]        35\n",
       "(749066.667, 846933.333]       35\n",
       "(1042666.667, 1140533.333]      8\n",
       "(846933.333, 944800.0]          7\n",
       "(944800.0, 1042666.667]         3\n",
       "(1238400.0, 1336266.667]        2\n",
       "(1923466.667, 2021333.333]      2\n",
       "(2902133.333, 3000000.0]        1\n",
       "(1434133.333, 1532000.0]        1\n",
       "(1532000.0, 1629866.667]        0\n",
       "(2804266.667, 2902133.333]      0\n",
       "(1336266.667, 1434133.333]      0\n",
       "(1629866.667, 1727733.333]      0\n",
       "(1140533.333, 1238400.0]        0\n",
       "(1727733.333, 1825600.0]        0\n",
       "(1825600.0, 1923466.667]        0\n",
       "(2021333.333, 2119200.0]        0\n",
       "(2119200.0, 2217066.667]        0\n",
       "(2217066.667, 2314933.333]      0\n",
       "(2314933.333, 2412800.0]        0\n",
       "(2412800.0, 2510666.667]        0\n",
       "(2510666.667, 2608533.333]      0\n",
       "(2608533.333, 2706400.0]        0\n",
       "(2706400.0, 2804266.667]        0\n",
       "Name: price, dtype: int64"
      ]
     },
     "execution_count": 205,
     "metadata": {},
     "output_type": "execute_result"
    }
   ],
   "source": [
    "df.price.value_counts(bins=30)"
   ]
  },
  {
   "cell_type": "code",
   "execution_count": 206,
   "metadata": {},
   "outputs": [
    {
     "data": {
      "text/plain": [
       "(46.35, 78.2]                  1614\n",
       "(13.543000000000001, 46.35]     712\n",
       "(78.2, 110.05]                  306\n",
       "(110.05, 141.9]                  83\n",
       "(141.9, 173.75]                  22\n",
       "(173.75, 205.6]                   5\n",
       "(269.3, 301.15]                   1\n",
       "(938.15, 970.0]                   1\n",
       "(747.05, 778.9]                   1\n",
       "(683.35, 715.2]                   0\n",
       "(651.5, 683.35]                   0\n",
       "(874.45, 906.3]                   0\n",
       "(842.6, 874.45]                   0\n",
       "(810.75, 842.6]                   0\n",
       "(778.9, 810.75]                   0\n",
       "(205.6, 237.45]                   0\n",
       "(237.45, 269.3]                   0\n",
       "(715.2, 747.05]                   0\n",
       "(301.15, 333.0]                   0\n",
       "(333.0, 364.85]                   0\n",
       "(364.85, 396.7]                   0\n",
       "(396.7, 428.55]                   0\n",
       "(428.55, 460.4]                   0\n",
       "(906.3, 938.15]                   0\n",
       "(492.25, 524.1]                   0\n",
       "(524.1, 555.95]                   0\n",
       "(555.95, 587.8]                   0\n",
       "(587.8, 619.65]                   0\n",
       "(619.65, 651.5]                   0\n",
       "(460.4, 492.25]                   0\n",
       "Name: meters, dtype: int64"
      ]
     },
     "execution_count": 206,
     "metadata": {},
     "output_type": "execute_result"
    }
   ],
   "source": [
    "df.meters.value_counts(bins=30)"
   ]
  },
  {
   "cell_type": "code",
   "execution_count": 207,
   "metadata": {},
   "outputs": [],
   "source": [
    "df = df.dropna()"
   ]
  },
  {
   "cell_type": "code",
   "execution_count": 208,
   "metadata": {},
   "outputs": [
    {
     "data": {
      "text/html": [
       "<div>\n",
       "<style scoped>\n",
       "    .dataframe tbody tr th:only-of-type {\n",
       "        vertical-align: middle;\n",
       "    }\n",
       "\n",
       "    .dataframe tbody tr th {\n",
       "        vertical-align: top;\n",
       "    }\n",
       "\n",
       "    .dataframe thead th {\n",
       "        text-align: right;\n",
       "    }\n",
       "</style>\n",
       "<table border=\"1\" class=\"dataframe\">\n",
       "  <thead>\n",
       "    <tr style=\"text-align: right;\">\n",
       "      <th></th>\n",
       "      <th>meters</th>\n",
       "      <th>price</th>\n",
       "    </tr>\n",
       "  </thead>\n",
       "  <tbody>\n",
       "    <tr>\n",
       "      <td>count</td>\n",
       "      <td>2587.000000</td>\n",
       "      <td>2.587000e+03</td>\n",
       "    </tr>\n",
       "    <tr>\n",
       "      <td>mean</td>\n",
       "      <td>61.446107</td>\n",
       "      <td>3.619132e+05</td>\n",
       "    </tr>\n",
       "    <tr>\n",
       "      <td>std</td>\n",
       "      <td>32.667806</td>\n",
       "      <td>1.544157e+05</td>\n",
       "    </tr>\n",
       "    <tr>\n",
       "      <td>min</td>\n",
       "      <td>14.500000</td>\n",
       "      <td>6.400000e+04</td>\n",
       "    </tr>\n",
       "    <tr>\n",
       "      <td>25%</td>\n",
       "      <td>46.770000</td>\n",
       "      <td>2.700000e+05</td>\n",
       "    </tr>\n",
       "    <tr>\n",
       "      <td>50%</td>\n",
       "      <td>57.150000</td>\n",
       "      <td>3.382100e+05</td>\n",
       "    </tr>\n",
       "    <tr>\n",
       "      <td>75%</td>\n",
       "      <td>69.670000</td>\n",
       "      <td>4.000000e+05</td>\n",
       "    </tr>\n",
       "    <tr>\n",
       "      <td>max</td>\n",
       "      <td>970.000000</td>\n",
       "      <td>3.000000e+06</td>\n",
       "    </tr>\n",
       "  </tbody>\n",
       "</table>\n",
       "</div>"
      ],
      "text/plain": [
       "            meters         price\n",
       "count  2587.000000  2.587000e+03\n",
       "mean     61.446107  3.619132e+05\n",
       "std      32.667806  1.544157e+05\n",
       "min      14.500000  6.400000e+04\n",
       "25%      46.770000  2.700000e+05\n",
       "50%      57.150000  3.382100e+05\n",
       "75%      69.670000  4.000000e+05\n",
       "max     970.000000  3.000000e+06"
      ]
     },
     "execution_count": 208,
     "metadata": {},
     "output_type": "execute_result"
    }
   ],
   "source": [
    "df.describe()"
   ]
  },
  {
   "cell_type": "code",
   "execution_count": 209,
   "metadata": {},
   "outputs": [
    {
     "data": {
      "image/png": "[encoded data removed]",
      "text/plain": [
       "<Figure size 432x288 with 2 Axes>"
      ]
     },
     "metadata": {
      "needs_background": "light"
     },
     "output_type": "display_data"
    }
   ],
   "source": [
    "df.hist(bins=50)\n",
    "plt.show()"
   ]
  },
  {
   "cell_type": "code",
   "execution_count": 210,
   "metadata": {},
   "outputs": [],
   "source": [
    "def shapiro_test(data):\n",
    "    test = sps.shapiro(data)\n",
    "    st, pv = test\n",
    "    print(\"{} : Test Shapiro-Wilka. H0: kurtoza = 3 i skosnosc = 0, H1: kurtoza != 3 lub/i skosnosc !=0\\n\"\n",
    "          \"P-value wynosi:{}\".format(data.name, round(pv, 2)))\n",
    "    if pv > 0.05:\n",
    "        return \"Nie ma podstaw do odrzucenia hipotezy 0\"\n",
    "    if pv < 0.05:\n",
    "        return \"Orzucono hipoteze 0 na rzecz hipotezy 1\""
   ]
  },
  {
   "cell_type": "code",
   "execution_count": 211,
   "metadata": {},
   "outputs": [
    {
     "name": "stdout",
     "output_type": "stream",
     "text": [
      "meters : Test Shapiro-Wilka. H0: kurtoza = 3 i skosnosc = 0, H1: kurtoza != 3 lub/i skosnosc !=0\n",
      "P-value wynosi:0.0\n"
     ]
    },
    {
     "data": {
      "text/plain": [
       "'Orzucono hipoteze 0 na rzecz hipotezy 1'"
      ]
     },
     "execution_count": 211,
     "metadata": {},
     "output_type": "execute_result"
    }
   ],
   "source": [
    "shapiro_test(df.meters)"
   ]
  },
  {
   "cell_type": "code",
   "execution_count": 212,
   "metadata": {},
   "outputs": [],
   "source": [
    "def plot_test(data, i=0):\n",
    "    plt.figure(i)\n",
    "    m, s = sp.stats.norm.fit(data)\n",
    "    plt.subplot(131)\n",
    "    plt.axis([0, 150, 0, 1])\n",
    "    ecdf = ECDF(data)\n",
    "    plt.step(ecdf.x, ecdf.y, 'r-', label=r'$\\hat{F}_n(x)$')\n",
    "\n",
    "    t1 = np.linspace(0, 300, 100)\n",
    "    t2 = sp.stats.norm.cdf(t1, loc=m, scale=s)\n",
    "    t3 = sp.stats.norm.pdf(t1, loc=m, scale=s)\n",
    "    plt.plot(t1, t2, 'b--', label=r'$\\mathrm{N}(%.2f, %.2f)$' % (m, s))\n",
    "    plt.legend(loc='best')\n",
    "\n",
    "    plt.subplot(132)\n",
    "    sns.distplot(data, bins=8, color='k')\n",
    "    plt.plot(t1, t3, 'g--')\n",
    "\n",
    "    plt.subplot(133)\n",
    "    sp.stats.probplot(data, dist=sp.stats.norm, plot=plt)\n",
    "    plt.show()"
   ]
  },
  {
   "cell_type": "code",
   "execution_count": 213,
   "metadata": {},
   "outputs": [
    {
     "data": {
      "image/png": "[encoded data removed]",
      "text/plain": [
       "<Figure size 432x288 with 3 Axes>"
      ]
     },
     "metadata": {
      "needs_background": "light"
     },
     "output_type": "display_data"
    }
   ],
   "source": [
    "plot_test(df.meters)"
   ]
  },
  {
   "cell_type": "code",
   "execution_count": 232,
   "metadata": {},
   "outputs": [
    {
     "name": "stdout",
     "output_type": "stream",
     "text": [
      "Wyraz wolny jest równy: 5.335921120175102\n",
      "Współczynnik kierunkowy wynosi: [0.00015504]\n",
      "Współczynnik dopasowania wynosi: 0.5370533600289469\n"
     ]
    },
    {
     "data": {
      "image/png": "[encoded data removed]",
      "text/plain": [
       "<Figure size 432x288 with 1 Axes>"
      ]
     },
     "metadata": {
      "needs_background": "light"
     },
     "output_type": "display_data"
    }
   ],
   "source": [
    "x_axis = np.array([df.price]).reshape(-1, 1)\n",
    "y_axis = np.array(df.meters.tolist())\n",
    "\n",
    "\n",
    "regresja = slm.LinearRegression()\n",
    "\n",
    "regresja.fit(x_axis, y_axis)\n",
    "\n",
    "regresja = slm.LinearRegression()\n",
    "\n",
    "regresja.fit(x_axis, y_axis)\n",
    "print('Wyraz wolny jest równy: %s' % np.round(regresja.intercept_, 30))\n",
    "print('Współczynnik kierunkowy wynosi: %s' % np.round(regresja.coef_, 30))\n",
    "print('Współczynnik dopasowania wynosi: %s' % np.round(regresja.score(x_axis, y_axis),30))\n",
    "\n",
    "P = np.array([0.1 * x + 5.33 for x in np.linspace(1, 1500, 1000)])\n",
    "\n",
    "plt.figure(2)\n",
    "plt.scatter(x_axis, y_axis, c='r', s=1.5)\n",
    "plt.plot(np.linspace(1, 15000, 1000), P)\n",
    "plt.xlabel('price')\n",
    "plt.ylabel('meters')\n",
    "plt.title('Współczynnik dopasowania wynosi: 0.537')\n",
    "plt.show()"
   ]
  },
  {
   "cell_type": "code",
   "execution_count": null,
   "metadata": {},
   "outputs": [],
   "source": []
  },
  {
   "cell_type": "code",
   "execution_count": null,
   "metadata": {},
   "outputs": [],
   "source": []
  },
  {
   "cell_type": "code",
   "execution_count": null,
   "metadata": {},
   "outputs": [],
   "source": []
  },
  {
   "cell_type": "code",
   "execution_count": null,
   "metadata": {},
   "outputs": [],
   "source": []
  },
  {
   "cell_type": "code",
   "execution_count": null,
   "metadata": {},
   "outputs": [],
   "source": []
  }
 ],
 "metadata": {
  "kernelspec": {
   "display_name": "Python 3",
   "language": "python",
   "name": "python3"
  },
  "language_info": {
   "codemirror_mode": {
    "name": "ipython",
    "version": 3
   },
   "file_extension": ".py",
   "mimetype": "text/x-python",
   "name": "python",
   "nbconvert_exporter": "python",
   "pygments_lexer": "ipython3",
   "version": "3.6.8"
  }
 },
 "nbformat": 4,
 "nbformat_minor": 2
}
