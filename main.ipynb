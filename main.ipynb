{
 "cells": [
  {
   "cell_type": "code",
   "execution_count": 82,
   "metadata": {},
   "outputs": [],
   "source": [
    "import matplotlib.pyplot as plt\n",
    "import pandas as pd\n",
    "%matplotlib inline"
   ]
  },
  {
   "cell_type": "code",
   "execution_count": 83,
   "metadata": {},
   "outputs": [],
   "source": [
    "df = pd.read_csv('data/results.csv', usecols=['meters', 'price', 'rooms', 'dealer', 'district'], na_values=['Zapytajocenę'])"
   ]
  },
  {
   "cell_type": "code",
   "execution_count": 84,
   "metadata": {},
   "outputs": [
    {
     "data": {
      "text/html": [
       "<div>\n",
       "<style scoped>\n",
       "    .dataframe tbody tr th:only-of-type {\n",
       "        vertical-align: middle;\n",
       "    }\n",
       "\n",
       "    .dataframe tbody tr th {\n",
       "        vertical-align: top;\n",
       "    }\n",
       "\n",
       "    .dataframe thead th {\n",
       "        text-align: right;\n",
       "    }\n",
       "</style>\n",
       "<table border=\"1\" class=\"dataframe\">\n",
       "  <thead>\n",
       "    <tr style=\"text-align: right;\">\n",
       "      <th></th>\n",
       "      <th>meters</th>\n",
       "      <th>price</th>\n",
       "      <th>rooms</th>\n",
       "      <th>dealer</th>\n",
       "      <th>district</th>\n",
       "    </tr>\n",
       "  </thead>\n",
       "  <tbody>\n",
       "    <tr>\n",
       "      <td>0</td>\n",
       "      <td>61.8</td>\n",
       "      <td>369000.0</td>\n",
       "      <td>4</td>\n",
       "      <td>Ofertaprywatna</td>\n",
       "      <td>LSM</td>\n",
       "    </tr>\n",
       "    <tr>\n",
       "      <td>1</td>\n",
       "      <td>79.0</td>\n",
       "      <td>489000.0</td>\n",
       "      <td>3</td>\n",
       "      <td>PółnocNieruchomościFranczyza</td>\n",
       "      <td>LSM</td>\n",
       "    </tr>\n",
       "    <tr>\n",
       "      <td>2</td>\n",
       "      <td>60.0</td>\n",
       "      <td>375000.0</td>\n",
       "      <td>3</td>\n",
       "      <td>PrestigeBroker</td>\n",
       "      <td>Węglin</td>\n",
       "    </tr>\n",
       "  </tbody>\n",
       "</table>\n",
       "</div>"
      ],
      "text/plain": [
       "   meters     price  rooms                        dealer district\n",
       "0    61.8  369000.0      4                Ofertaprywatna      LSM\n",
       "1    79.0  489000.0      3  PółnocNieruchomościFranczyza      LSM\n",
       "2    60.0  375000.0      3                PrestigeBroker   Węglin"
      ]
     },
     "execution_count": 84,
     "metadata": {},
     "output_type": "execute_result"
    }
   ],
   "source": [
    "df.head(3)"
   ]
  },
  {
   "cell_type": "code",
   "execution_count": 85,
   "metadata": {},
   "outputs": [
    {
     "name": "stdout",
     "output_type": "stream",
     "text": [
      "<class 'pandas.core.frame.DataFrame'>\n",
      "RangeIndex: 2695 entries, 0 to 2694\n",
      "Data columns (total 5 columns):\n",
      "meters      2695 non-null float64\n",
      "price       2537 non-null float64\n",
      "rooms       2695 non-null int64\n",
      "dealer      2619 non-null object\n",
      "district    2695 non-null object\n",
      "dtypes: float64(2), int64(1), object(2)\n",
      "memory usage: 105.4+ KB\n"
     ]
    }
   ],
   "source": [
    "df.info()"
   ]
  },
  {
   "cell_type": "code",
   "execution_count": 87,
   "metadata": {},
   "outputs": [
    {
     "data": {
      "text/plain": [
       "3KLUCZEs.c.                               319\n",
       "CLIVUSNieruchomości                       217\n",
       "FRANCZEWSKANieruchomościs.c.              154\n",
       "4tepiętro                                 147\n",
       "Arena                                     118\n",
       "Ofertaprywatna                            101\n",
       "LUKsp.zo.o.SKA                             98\n",
       "BiuroNieruchomościKWADRAT                  96\n",
       "HomeBrokerS.A.                             86\n",
       "BIGCITYBROKER                              77\n",
       "LubelskieMieszkania                        68\n",
       "Lokum                                      66\n",
       "LUKJacekWysokiński                         62\n",
       "HERMESHOUSE                                59\n",
       "WMNieruchomości                            59\n",
       "ŻagielDomSp.zo.o.                          58\n",
       "NieruchomościLalakPropertiesSpzo.o.SKA     48\n",
       "Alfahouse                                  43\n",
       "InvestorNieruchomościFranchise             41\n",
       "ExpressHouse                               40\n",
       "StrefaM                                    36\n",
       "PółnocNieruchomościFranczyza               35\n",
       "BESTHOUSENieruchomości                     32\n",
       "Login-HouseNieruchomości                   29\n",
       "SzymanekNieruchomościSp.zo.o.              28\n",
       "PrestigeBroker                             23\n",
       "M-HOUSENieruchomości                       22\n",
       "geoDOMNieruchomości                        22\n",
       "MetrohouseLublin                           19\n",
       "WGNBiuroNieruchomościLublin                19\n",
       "dtype: int64"
      ]
     },
     "execution_count": 87,
     "metadata": {},
     "output_type": "execute_result"
    }
   ],
   "source": [
    "pd.value_counts(df['dealer'].values)[0:30]\n"
   ]
  },
  {
   "cell_type": "code",
   "execution_count": 88,
   "metadata": {},
   "outputs": [
    {
     "data": {
      "text/plain": [
       "Wrotków            345\n",
       "Czuby              299\n",
       "Węglinek           294\n",
       "Śródmieście        198\n",
       "Czechów            171\n",
       "Bronowice          158\n",
       "LSM                151\n",
       "Felin              141\n",
       "Dziesiąta          124\n",
       "Centrum             97\n",
       "lubelskie           87\n",
       "Sławin              69\n",
       "Wieniawa            67\n",
       "Kośminek            59\n",
       "Sławinek            56\n",
       "Kalinowszczyzna     56\n",
       "Ponikwoda           50\n",
       "Szerokie            36\n",
       "Zana                27\n",
       "Bazylianówka        26\n",
       "Name: district, dtype: int64"
      ]
     },
     "execution_count": 88,
     "metadata": {},
     "output_type": "execute_result"
    }
   ],
   "source": [
    "df[\"district\"].value_counts()[0:20]"
   ]
  },
  {
   "cell_type": "code",
   "execution_count": 70,
   "metadata": {},
   "outputs": [],
   "source": []
  }
 ],
 "metadata": {
  "kernelspec": {
   "display_name": "Python 3",
   "language": "python",
   "name": "python3"
  },
  "language_info": {
   "codemirror_mode": {
    "name": "ipython",
    "version": 3
   },
   "file_extension": ".py",
   "mimetype": "text/x-python",
   "name": "python",
   "nbconvert_exporter": "python",
   "pygments_lexer": "ipython3",
   "version": "3.6.8"
  }
 },
 "nbformat": 4,
 "nbformat_minor": 2
}
