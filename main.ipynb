{
 "cells": [
  {
   "cell_type": "code",
   "execution_count": 64,
   "metadata": {},
   "outputs": [],
   "source": [
    "import matplotlib.pyplot as plt\n",
    "import numpy as np\n",
    "import pandas as pd\n",
    "%matplotlib inline"
   ]
  },
  {
   "cell_type": "code",
   "execution_count": 65,
   "metadata": {},
   "outputs": [],
   "source": [
    "df = pd.read_csv('data/results.csv', usecols=['meters', 'price', 'rooms', 'dealer', 'district'], na_values=['Zapytajocenę'])"
   ]
  },
  {
   "cell_type": "code",
   "execution_count": 66,
   "metadata": {},
   "outputs": [
    {
     "data": {
      "text/html": [
       "<div>\n",
       "<style scoped>\n",
       "    .dataframe tbody tr th:only-of-type {\n",
       "        vertical-align: middle;\n",
       "    }\n",
       "\n",
       "    .dataframe tbody tr th {\n",
       "        vertical-align: top;\n",
       "    }\n",
       "\n",
       "    .dataframe thead th {\n",
       "        text-align: right;\n",
       "    }\n",
       "</style>\n",
       "<table border=\"1\" class=\"dataframe\">\n",
       "  <thead>\n",
       "    <tr style=\"text-align: right;\">\n",
       "      <th></th>\n",
       "      <th>meters</th>\n",
       "      <th>price</th>\n",
       "      <th>rooms</th>\n",
       "      <th>dealer</th>\n",
       "      <th>district</th>\n",
       "    </tr>\n",
       "  </thead>\n",
       "  <tbody>\n",
       "    <tr>\n",
       "      <td>0</td>\n",
       "      <td>61.8</td>\n",
       "      <td>369000.0</td>\n",
       "      <td>4</td>\n",
       "      <td>Ofertaprywatna</td>\n",
       "      <td>LSM</td>\n",
       "    </tr>\n",
       "    <tr>\n",
       "      <td>1</td>\n",
       "      <td>79.0</td>\n",
       "      <td>489000.0</td>\n",
       "      <td>3</td>\n",
       "      <td>PółnocNieruchomościFranczyza</td>\n",
       "      <td>LSM</td>\n",
       "    </tr>\n",
       "    <tr>\n",
       "      <td>2</td>\n",
       "      <td>60.0</td>\n",
       "      <td>375000.0</td>\n",
       "      <td>3</td>\n",
       "      <td>PrestigeBroker</td>\n",
       "      <td>Węglin</td>\n",
       "    </tr>\n",
       "  </tbody>\n",
       "</table>\n",
       "</div>"
      ],
      "text/plain": [
       "   meters     price  rooms                        dealer district\n",
       "0    61.8  369000.0      4                Ofertaprywatna      LSM\n",
       "1    79.0  489000.0      3  PółnocNieruchomościFranczyza      LSM\n",
       "2    60.0  375000.0      3                PrestigeBroker   Węglin"
      ]
     },
     "execution_count": 66,
     "metadata": {},
     "output_type": "execute_result"
    }
   ],
   "source": [
    "df.head(3)"
   ]
  },
  {
   "cell_type": "code",
   "execution_count": 67,
   "metadata": {},
   "outputs": [
    {
     "name": "stdout",
     "output_type": "stream",
     "text": [
      "<class 'pandas.core.frame.DataFrame'>\n",
      "RangeIndex: 2695 entries, 0 to 2694\n",
      "Data columns (total 5 columns):\n",
      "meters      2695 non-null float64\n",
      "price       2537 non-null float64\n",
      "rooms       2695 non-null int64\n",
      "dealer      2619 non-null object\n",
      "district    2695 non-null object\n",
      "dtypes: float64(2), int64(1), object(2)\n",
      "memory usage: 105.4+ KB\n"
     ]
    }
   ],
   "source": [
    "df.info()"
   ]
  },
  {
   "cell_type": "code",
   "execution_count": 72,
   "metadata": {},
   "outputs": [
    {
     "data": {
      "text/plain": [
       "3KLUCZEs.c.                               317\n",
       "CLIVUSNieruchomości                       215\n",
       "FRANCZEWSKANieruchomościs.c.              153\n",
       "4tepiętro                                 144\n",
       "Arena                                     117\n",
       "Ofertaprywatna                             98\n",
       "LUKsp.zo.o.SKA                             98\n",
       "BiuroNieruchomościKWADRAT                  95\n",
       "HomeBrokerS.A.                             86\n",
       "BIGCITYBROKER                              76\n",
       "LubelskieMieszkania                        68\n",
       "Lokum                                      64\n",
       "LUKJacekWysokiński                         62\n",
       "WMNieruchomości                            59\n",
       "HERMESHOUSE                                59\n",
       "ŻagielDomSp.zo.o.                          58\n",
       "NieruchomościLalakPropertiesSpzo.o.SKA     48\n",
       "Alfahouse                                  42\n",
       "InvestorNieruchomościFranchise             41\n",
       "ExpressHouse                               39\n",
       "StrefaM                                    35\n",
       "PółnocNieruchomościFranczyza               35\n",
       "BESTHOUSENieruchomości                     32\n",
       "Login-HouseNieruchomości                   29\n",
       "SzymanekNieruchomościSp.zo.o.              28\n",
       "PrestigeBroker                             22\n",
       "M-HOUSENieruchomości                       22\n",
       "geoDOMNieruchomości                        21\n",
       "MetrohouseLublin                           19\n",
       "WGNBiuroNieruchomościLublin                19\n",
       "dtype: int64"
      ]
     },
     "execution_count": 72,
     "metadata": {},
     "output_type": "execute_result"
    }
   ],
   "source": [
    "top_dealers = pd.value_counts(df['dealer'].values)[0:30]\n",
    "top_dealers"
   ]
  },
  {
   "cell_type": "code",
   "execution_count": 73,
   "metadata": {},
   "outputs": [
    {
     "data": {
      "text/plain": [
       "Wrotków            344\n",
       "Czuby              297\n",
       "Węglinek           292\n",
       "Śródmieście        198\n",
       "Czechów            171\n",
       "Bronowice          157\n",
       "LSM                150\n",
       "Felin              141\n",
       "Dziesiąta          122\n",
       "Centrum             94\n",
       "lubelskie           85\n",
       "Wieniawa            67\n",
       "Sławin              66\n",
       "Kośminek            58\n",
       "Sławinek            56\n",
       "Kalinowszczyzna     56\n",
       "Ponikwoda           49\n",
       "Szerokie            36\n",
       "Bazylianówka        26\n",
       "Zana                25\n",
       "Name: district, dtype: int64"
      ]
     },
     "execution_count": 73,
     "metadata": {},
     "output_type": "execute_result"
    }
   ],
   "source": [
    "df[\"district\"].value_counts()[0:20]"
   ]
  },
  {
   "cell_type": "code",
   "execution_count": 74,
   "metadata": {},
   "outputs": [],
   "source": [
    "q = df[\"meters\"].quantile(0.99)\n",
    "df = df[df[\"meters\"] < q]"
   ]
  },
  {
   "cell_type": "code",
   "execution_count": 75,
   "metadata": {},
   "outputs": [
    {
     "data": {
      "text/html": [
       "<div>\n",
       "<style scoped>\n",
       "    .dataframe tbody tr th:only-of-type {\n",
       "        vertical-align: middle;\n",
       "    }\n",
       "\n",
       "    .dataframe tbody tr th {\n",
       "        vertical-align: top;\n",
       "    }\n",
       "\n",
       "    .dataframe thead th {\n",
       "        text-align: right;\n",
       "    }\n",
       "</style>\n",
       "<table border=\"1\" class=\"dataframe\">\n",
       "  <thead>\n",
       "    <tr style=\"text-align: right;\">\n",
       "      <th></th>\n",
       "      <th>meters</th>\n",
       "      <th>price</th>\n",
       "      <th>rooms</th>\n",
       "      <th>dealer</th>\n",
       "      <th>district</th>\n",
       "      <th>price_m2</th>\n",
       "    </tr>\n",
       "  </thead>\n",
       "  <tbody>\n",
       "    <tr>\n",
       "      <td>0</td>\n",
       "      <td>61.8</td>\n",
       "      <td>369000.0</td>\n",
       "      <td>4</td>\n",
       "      <td>Ofertaprywatna</td>\n",
       "      <td>LSM</td>\n",
       "      <td>5971.0</td>\n",
       "    </tr>\n",
       "    <tr>\n",
       "      <td>1</td>\n",
       "      <td>79.0</td>\n",
       "      <td>489000.0</td>\n",
       "      <td>3</td>\n",
       "      <td>PółnocNieruchomościFranczyza</td>\n",
       "      <td>LSM</td>\n",
       "      <td>6190.0</td>\n",
       "    </tr>\n",
       "    <tr>\n",
       "      <td>2</td>\n",
       "      <td>60.0</td>\n",
       "      <td>375000.0</td>\n",
       "      <td>3</td>\n",
       "      <td>PrestigeBroker</td>\n",
       "      <td>Węglin</td>\n",
       "      <td>6250.0</td>\n",
       "    </tr>\n",
       "    <tr>\n",
       "      <td>3</td>\n",
       "      <td>58.5</td>\n",
       "      <td>389000.0</td>\n",
       "      <td>2</td>\n",
       "      <td>HomeBrokerS.A.</td>\n",
       "      <td>Ponikwoda</td>\n",
       "      <td>6650.0</td>\n",
       "    </tr>\n",
       "    <tr>\n",
       "      <td>4</td>\n",
       "      <td>56.0</td>\n",
       "      <td>379500.0</td>\n",
       "      <td>2</td>\n",
       "      <td>HomeBrokerS.A.</td>\n",
       "      <td>Czuby</td>\n",
       "      <td>6777.0</td>\n",
       "    </tr>\n",
       "  </tbody>\n",
       "</table>\n",
       "</div>"
      ],
      "text/plain": [
       "   meters     price  rooms                        dealer   district  price_m2\n",
       "0    61.8  369000.0      4                Ofertaprywatna        LSM    5971.0\n",
       "1    79.0  489000.0      3  PółnocNieruchomościFranczyza        LSM    6190.0\n",
       "2    60.0  375000.0      3                PrestigeBroker     Węglin    6250.0\n",
       "3    58.5  389000.0      2                HomeBrokerS.A.  Ponikwoda    6650.0\n",
       "4    56.0  379500.0      2                HomeBrokerS.A.      Czuby    6777.0"
      ]
     },
     "execution_count": 75,
     "metadata": {},
     "output_type": "execute_result"
    }
   ],
   "source": [
    "df[\"price_m2\"] = round(df[\"price\"] / df[\"meters\"])\n",
    "df.head()"
   ]
  },
  {
   "cell_type": "code",
   "execution_count": 76,
   "metadata": {
    "scrolled": true
   },
   "outputs": [
    {
     "data": {
      "image/png": "[encoded data removed]",
      "text/plain": [
       "<Figure size 432x288 with 1 Axes>"
      ]
     },
     "metadata": {
      "needs_background": "light"
     },
     "output_type": "display_data"
    }
   ],
   "source": [
    "fig = plt.figure(1)\n",
    "plt.title(\"Średnia cena za m2 w zależności od ilości pokoi\")\n",
    "plt.grid()\n",
    "plt.ylabel(\"Cena za m2\")\n",
    "df[\"price_m2\"].groupby(df[\"rooms\"]).agg(np.mean).plot(color = (0.9,0.7,0.2))\n",
    "plt.grid(True)\n",
    "fig.savefig('avg_price_m2_rooms.pdf')"
   ]
  },
  {
   "cell_type": "code",
   "execution_count": 77,
   "metadata": {},
   "outputs": [
    {
     "data": {
      "image/png": "[encoded data removed]",
      "text/plain": [
       "<Figure size 432x288 with 1 Axes>"
      ]
     },
     "metadata": {
      "needs_background": "light"
     },
     "output_type": "display_data"
    }
   ],
   "source": [
    "fig = plt.figure(2)\n",
    "plt.title(\"Średnia cena mieszkania w zależności od ilości pokoi\")\n",
    "plt.ylabel(\"Cena mieszkania\")\n",
    "df[\"price\"].groupby(df[\"rooms\"]).agg(np.mean).plot(color = (0.9,0.7,0.2))\n",
    "plt.grid(True)\n",
    "fig.savefig('avg_price_rooms.pdf')"
   ]
  },
  {
   "cell_type": "code",
   "execution_count": null,
   "metadata": {},
   "outputs": [],
   "source": []
  },
  {
   "cell_type": "code",
   "execution_count": null,
   "metadata": {},
   "outputs": [],
   "source": []
  }
 ],
 "metadata": {
  "kernelspec": {
   "display_name": "Python 3",
   "language": "python",
   "name": "python3"
  },
  "language_info": {
   "codemirror_mode": {
    "name": "ipython",
    "version": 3
   },
   "file_extension": ".py",
   "mimetype": "text/x-python",
   "name": "python",
   "nbconvert_exporter": "python",
   "pygments_lexer": "ipython3",
   "version": "3.6.8"
  }
 },
 "nbformat": 4,
 "nbformat_minor": 2
}
